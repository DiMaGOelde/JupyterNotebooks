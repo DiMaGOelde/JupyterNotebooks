{
 "cells": [
  {
   "cell_type": "markdown",
   "id": "b9dab70b",
   "metadata": {},
   "source": [
    "Hier soll ein Foto (jpg) in ein Graustufenbild der Größe 28x29 umgewandelt werden!"
   ]
  },
  {
   "cell_type": "code",
   "execution_count": null,
   "id": "e8c71442",
   "metadata": {},
   "outputs": [],
   "source": [
    "from skimage import color\n",
    "from skimage import io\n",
    "from skimage.transform import resize\n",
    "\n",
    "import matplotlib.image as mpimg\n",
    "import matplotlib.pyplot as plt"
   ]
  },
  {
   "cell_type": "code",
   "execution_count": null,
   "id": "5c181f62",
   "metadata": {},
   "outputs": [],
   "source": [
    "img = mpimg.imread('Meine_Fotos/nochNeAcht.jpg')"
   ]
  },
  {
   "cell_type": "code",
   "execution_count": null,
   "id": "13f2d1c8",
   "metadata": {},
   "outputs": [],
   "source": [
    "plt.imshow(img)\n",
    "plt.show()"
   ]
  },
  {
   "cell_type": "code",
   "execution_count": null,
   "id": "b398bf2b",
   "metadata": {
    "scrolled": true
   },
   "outputs": [],
   "source": [
    "R, G, B = img[:,:,0], img[:,:,1], img[:,:,2]\n",
    "imgGray_1 = 0.2989 * R + 0.5870 * G + 0.1140 * B\n",
    "plt.imshow(imgGray_1)\n",
    "plt.show()"
   ]
  },
  {
   "cell_type": "code",
   "execution_count": null,
   "id": "bfa9b1c5",
   "metadata": {},
   "outputs": [],
   "source": [
    "imgGray_2 = color.rgb2gray(img)\n",
    "imgplot = plt.imshow(imgGray_2)\n",
    "plt.show()"
   ]
  },
  {
   "cell_type": "code",
   "execution_count": null,
   "id": "98f37454",
   "metadata": {},
   "outputs": [],
   "source": [
    "imgGrayPlot = plt.imshow(imgGray_1 , cmap='gray')\n",
    "plt.show"
   ]
  },
  {
   "cell_type": "code",
   "execution_count": null,
   "id": "6b5be5ce",
   "metadata": {},
   "outputs": [],
   "source": [
    "res = resize(imgGray_1, (28, 28))\n",
    "imgResPlot = plt.imshow(res, cmap='gray')"
   ]
  },
  {
   "cell_type": "code",
   "execution_count": null,
   "id": "7685b831",
   "metadata": {},
   "outputs": [],
   "source": [
    "m = 0\n",
    "for z in range (28):\n",
    "    for s in range (28):\n",
    "        t = res[z][s]\n",
    "        if  t > m:\n",
    "            m = t\n",
    "print(t)\n"
   ]
  },
  {
   "cell_type": "code",
   "execution_count": null,
   "id": "cb58563e",
   "metadata": {},
   "outputs": [],
   "source": [
    "plt.imsave('Meine_Fotos/2828_bov_6.png', res, cmap='gray')"
   ]
  },
  {
   "cell_type": "code",
   "execution_count": null,
   "id": "cca16dfe",
   "metadata": {},
   "outputs": [],
   "source": []
  }
 ],
 "metadata": {
  "hide_input": false,
  "kernelspec": {
   "display_name": "Python 3 (ipykernel)",
   "language": "python",
   "name": "python3"
  },
  "language_info": {
   "codemirror_mode": {
    "name": "ipython",
    "version": 3
   },
   "file_extension": ".py",
   "mimetype": "text/x-python",
   "name": "python",
   "nbconvert_exporter": "python",
   "pygments_lexer": "ipython3",
   "version": "3.10.4"
  },
  "latex_envs": {
   "LaTeX_envs_menu_present": true,
   "autoclose": false,
   "autocomplete": true,
   "bibliofile": "biblio.bib",
   "cite_by": "apalike",
   "current_citInitial": 1,
   "eqLabelWithNumbers": true,
   "eqNumInitial": 1,
   "hotkeys": {
    "equation": "Ctrl-E",
    "itemize": "Ctrl-I"
   },
   "labels_anchors": false,
   "latex_user_defs": false,
   "report_style_numbering": false,
   "user_envs_cfg": false
  },
  "toc": {
   "base_numbering": 1,
   "nav_menu": {},
   "number_sections": true,
   "sideBar": true,
   "skip_h1_title": true,
   "title_cell": "Inhalt",
   "title_sidebar": "Inhalt",
   "toc_cell": false,
   "toc_position": {
    "height": "calc(100% - 180px)",
    "left": "10px",
    "top": "150px",
    "width": "165px"
   },
   "toc_section_display": true,
   "toc_window_display": true
  },
  "varInspector": {
   "cols": {
    "lenName": 16,
    "lenType": 16,
    "lenVar": 40
   },
   "kernels_config": {
    "python": {
     "delete_cmd_postfix": "",
     "delete_cmd_prefix": "del ",
     "library": "var_list.py",
     "varRefreshCmd": "print(var_dic_list())"
    },
    "r": {
     "delete_cmd_postfix": ") ",
     "delete_cmd_prefix": "rm(",
     "library": "var_list.r",
     "varRefreshCmd": "cat(var_dic_list()) "
    }
   },
   "types_to_exclude": [
    "module",
    "function",
    "builtin_function_or_method",
    "instance",
    "_Feature"
   ],
   "window_display": false
  }
 },
 "nbformat": 4,
 "nbformat_minor": 5
}
