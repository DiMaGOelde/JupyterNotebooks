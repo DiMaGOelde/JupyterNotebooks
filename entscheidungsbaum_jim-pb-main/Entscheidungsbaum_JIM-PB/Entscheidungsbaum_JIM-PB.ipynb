{
 "cells": [
  {
   "cell_type": "markdown",
   "metadata": {
    "hide_input": false
   },
   "source": [
    "# Daten und Bibliotheken importieren"
   ]
  },
  {
   "cell_type": "markdown",
   "metadata": {},
   "source": [
    "<div class=\"panel panel-success\">\n",
    "    <div class=\"panel-heading\">\n",
    "        <b> Info zum Datensatz</b>\n",
    "    </div>\n",
    "    <div class=\"panel-body\">\n",
    "\n",
    "In diesem Notebook soll mit Hilfe der JIM-PB Daten ein Entscheidungsbaum erstellt werden, der anhand einiger persönlicher Daten vorhersagen kann, ob eine Person häufig oder selten Onlinespiele spielt.\n",
    "        \n",
    "Dafür werden zunächst die Daten und einige Python Bibliotheken eingelesen."
   ]
  },
  {
   "cell_type": "code",
   "execution_count": 14,
   "metadata": {
    "hide_input": false
   },
   "outputs": [
    {
     "data": {
      "text/html": [
       "        <script type=\"text/javascript\">\n",
       "        window.PlotlyConfig = {MathJaxConfig: 'local'};\n",
       "        if (window.MathJax && window.MathJax.Hub && window.MathJax.Hub.Config) {window.MathJax.Hub.Config({SVG: {font: \"STIX-Web\"}});}\n",
       "        if (typeof require !== 'undefined') {\n",
       "        require.undef(\"plotly\");\n",
       "        requirejs.config({\n",
       "            paths: {\n",
       "                'plotly': ['https://cdn.plot.ly/plotly-2.12.1.min']\n",
       "            }\n",
       "        });\n",
       "        require(['plotly'], function(Plotly) {\n",
       "            window._Plotly = Plotly;\n",
       "        });\n",
       "        }\n",
       "        </script>\n",
       "        "
      ]
     },
     "metadata": {},
     "output_type": "display_data"
    }
   ],
   "source": [
    "# eine für diaktische Zwecke erstellte Bibliothek für das Estellen von Entscheidungsbäumen\n",
    "from PyTree import ClassificationTree as ct\n",
    "\n",
    "#Bibliotheken für die Datenverarbeitung\n",
    "import pandas as pd\n",
    "import numpy as np\n",
    "\n",
    "#Bilbiotheken für die Datenvisualisierung\n",
    "import plotly as py\n",
    "from plotly.offline import iplot\n",
    "import cufflinks as cf\n",
    "cf.go_offline()"
   ]
  },
  {
   "cell_type": "code",
   "execution_count": 54,
   "metadata": {
    "code_folding": [],
    "hide_input": false,
    "scrolled": false
   },
   "outputs": [
    {
     "data": {
      "text/html": [
       "<div>\n",
       "<style scoped>\n",
       "    .dataframe tbody tr th:only-of-type {\n",
       "        vertical-align: middle;\n",
       "    }\n",
       "\n",
       "    .dataframe tbody tr th {\n",
       "        vertical-align: top;\n",
       "    }\n",
       "\n",
       "    .dataframe thead th {\n",
       "        text-align: right;\n",
       "    }\n",
       "</style>\n",
       "<table border=\"1\" class=\"dataframe\">\n",
       "  <thead>\n",
       "    <tr style=\"text-align: right;\">\n",
       "      <th></th>\n",
       "      <th>Spielen_OnlineSpiele</th>\n",
       "      <th>Geschlecht</th>\n",
       "      <th>Nutzen_Twitter</th>\n",
       "      <th>Nutzen_Snapchat</th>\n",
       "      <th>Nutzen_Instagram</th>\n",
       "      <th>Youtube_Musikvideos</th>\n",
       "      <th>Youtube_LetsPlay</th>\n",
       "      <th>Youtube_LustigeClips</th>\n",
       "      <th>Youtube_Sportvideos</th>\n",
       "      <th>Youtube_ModeBeauty</th>\n",
       "      <th>Tablet_Besitz</th>\n",
       "      <th>Computer_Besitz</th>\n",
       "      <th>FesteKonsole_Besitz</th>\n",
       "      <th>Smartphone_Besitz</th>\n",
       "      <th>E_Reader_Besitz</th>\n",
       "    </tr>\n",
       "  </thead>\n",
       "  <tbody>\n",
       "    <tr>\n",
       "      <th>0</th>\n",
       "      <td>Häufig</td>\n",
       "      <td>männlich</td>\n",
       "      <td>Selten</td>\n",
       "      <td>Häufig</td>\n",
       "      <td>Häufig</td>\n",
       "      <td>Häufig</td>\n",
       "      <td>Häufig</td>\n",
       "      <td>Häufig</td>\n",
       "      <td>Selten</td>\n",
       "      <td>Selten</td>\n",
       "      <td>False</td>\n",
       "      <td>False</td>\n",
       "      <td>True</td>\n",
       "      <td>True</td>\n",
       "      <td>False</td>\n",
       "    </tr>\n",
       "    <tr>\n",
       "      <th>1</th>\n",
       "      <td>Häufig</td>\n",
       "      <td>männlich</td>\n",
       "      <td>Selten</td>\n",
       "      <td>Selten</td>\n",
       "      <td>Häufig</td>\n",
       "      <td>Häufig</td>\n",
       "      <td>Häufig</td>\n",
       "      <td>Selten</td>\n",
       "      <td>Selten</td>\n",
       "      <td>Selten</td>\n",
       "      <td>True</td>\n",
       "      <td>False</td>\n",
       "      <td>True</td>\n",
       "      <td>True</td>\n",
       "      <td>False</td>\n",
       "    </tr>\n",
       "    <tr>\n",
       "      <th>2</th>\n",
       "      <td>Selten</td>\n",
       "      <td>weiblich</td>\n",
       "      <td>Selten</td>\n",
       "      <td>Selten</td>\n",
       "      <td>Häufig</td>\n",
       "      <td>Selten</td>\n",
       "      <td>Selten</td>\n",
       "      <td>Selten</td>\n",
       "      <td>Selten</td>\n",
       "      <td>Selten</td>\n",
       "      <td>False</td>\n",
       "      <td>False</td>\n",
       "      <td>False</td>\n",
       "      <td>True</td>\n",
       "      <td>False</td>\n",
       "    </tr>\n",
       "    <tr>\n",
       "      <th>3</th>\n",
       "      <td>Häufig</td>\n",
       "      <td>männlich</td>\n",
       "      <td>Selten</td>\n",
       "      <td>Selten</td>\n",
       "      <td>Selten</td>\n",
       "      <td>Häufig</td>\n",
       "      <td>Häufig</td>\n",
       "      <td>Selten</td>\n",
       "      <td>Selten</td>\n",
       "      <td>Selten</td>\n",
       "      <td>False</td>\n",
       "      <td>False</td>\n",
       "      <td>False</td>\n",
       "      <td>True</td>\n",
       "      <td>False</td>\n",
       "    </tr>\n",
       "    <tr>\n",
       "      <th>4</th>\n",
       "      <td>Häufig</td>\n",
       "      <td>männlich</td>\n",
       "      <td>Selten</td>\n",
       "      <td>Häufig</td>\n",
       "      <td>Häufig</td>\n",
       "      <td>Häufig</td>\n",
       "      <td>Häufig</td>\n",
       "      <td>Häufig</td>\n",
       "      <td>Häufig</td>\n",
       "      <td>Selten</td>\n",
       "      <td>False</td>\n",
       "      <td>True</td>\n",
       "      <td>False</td>\n",
       "      <td>True</td>\n",
       "      <td>False</td>\n",
       "    </tr>\n",
       "    <tr>\n",
       "      <th>...</th>\n",
       "      <td>...</td>\n",
       "      <td>...</td>\n",
       "      <td>...</td>\n",
       "      <td>...</td>\n",
       "      <td>...</td>\n",
       "      <td>...</td>\n",
       "      <td>...</td>\n",
       "      <td>...</td>\n",
       "      <td>...</td>\n",
       "      <td>...</td>\n",
       "      <td>...</td>\n",
       "      <td>...</td>\n",
       "      <td>...</td>\n",
       "      <td>...</td>\n",
       "      <td>...</td>\n",
       "    </tr>\n",
       "    <tr>\n",
       "      <th>145</th>\n",
       "      <td>Häufig</td>\n",
       "      <td>männlich</td>\n",
       "      <td>Häufig</td>\n",
       "      <td>Selten</td>\n",
       "      <td>Häufig</td>\n",
       "      <td>Selten</td>\n",
       "      <td>Selten</td>\n",
       "      <td>Selten</td>\n",
       "      <td>Selten</td>\n",
       "      <td>Selten</td>\n",
       "      <td>True</td>\n",
       "      <td>True</td>\n",
       "      <td>True</td>\n",
       "      <td>True</td>\n",
       "      <td>False</td>\n",
       "    </tr>\n",
       "    <tr>\n",
       "      <th>146</th>\n",
       "      <td>Selten</td>\n",
       "      <td>weiblich</td>\n",
       "      <td>Selten</td>\n",
       "      <td>Selten</td>\n",
       "      <td>Selten</td>\n",
       "      <td>Häufig</td>\n",
       "      <td>Selten</td>\n",
       "      <td>Häufig</td>\n",
       "      <td>Selten</td>\n",
       "      <td>Selten</td>\n",
       "      <td>False</td>\n",
       "      <td>True</td>\n",
       "      <td>False</td>\n",
       "      <td>False</td>\n",
       "      <td>False</td>\n",
       "    </tr>\n",
       "    <tr>\n",
       "      <th>147</th>\n",
       "      <td>Häufig</td>\n",
       "      <td>männlich</td>\n",
       "      <td>Häufig</td>\n",
       "      <td>Häufig</td>\n",
       "      <td>Häufig</td>\n",
       "      <td>Häufig</td>\n",
       "      <td>Häufig</td>\n",
       "      <td>Selten</td>\n",
       "      <td>Selten</td>\n",
       "      <td>Selten</td>\n",
       "      <td>False</td>\n",
       "      <td>False</td>\n",
       "      <td>True</td>\n",
       "      <td>True</td>\n",
       "      <td>False</td>\n",
       "    </tr>\n",
       "    <tr>\n",
       "      <th>148</th>\n",
       "      <td>Häufig</td>\n",
       "      <td>männlich</td>\n",
       "      <td>Häufig</td>\n",
       "      <td>Häufig</td>\n",
       "      <td>Häufig</td>\n",
       "      <td>Häufig</td>\n",
       "      <td>Häufig</td>\n",
       "      <td>Häufig</td>\n",
       "      <td>Häufig</td>\n",
       "      <td>Selten</td>\n",
       "      <td>False</td>\n",
       "      <td>True</td>\n",
       "      <td>True</td>\n",
       "      <td>True</td>\n",
       "      <td>False</td>\n",
       "    </tr>\n",
       "    <tr>\n",
       "      <th>149</th>\n",
       "      <td>Häufig</td>\n",
       "      <td>männlich</td>\n",
       "      <td>Selten</td>\n",
       "      <td>Selten</td>\n",
       "      <td>Häufig</td>\n",
       "      <td>Selten</td>\n",
       "      <td>Häufig</td>\n",
       "      <td>Selten</td>\n",
       "      <td>Häufig</td>\n",
       "      <td>Selten</td>\n",
       "      <td>False</td>\n",
       "      <td>False</td>\n",
       "      <td>True</td>\n",
       "      <td>True</td>\n",
       "      <td>False</td>\n",
       "    </tr>\n",
       "  </tbody>\n",
       "</table>\n",
       "<p>150 rows × 15 columns</p>\n",
       "</div>"
      ],
      "text/plain": [
       "    Spielen_OnlineSpiele Geschlecht Nutzen_Twitter Nutzen_Snapchat  \\\n",
       "0                 Häufig   männlich         Selten          Häufig   \n",
       "1                 Häufig   männlich         Selten          Selten   \n",
       "2                 Selten   weiblich         Selten          Selten   \n",
       "3                 Häufig   männlich         Selten          Selten   \n",
       "4                 Häufig   männlich         Selten          Häufig   \n",
       "..                   ...        ...            ...             ...   \n",
       "145               Häufig   männlich         Häufig          Selten   \n",
       "146               Selten   weiblich         Selten          Selten   \n",
       "147               Häufig   männlich         Häufig          Häufig   \n",
       "148               Häufig   männlich         Häufig          Häufig   \n",
       "149               Häufig   männlich         Selten          Selten   \n",
       "\n",
       "    Nutzen_Instagram Youtube_Musikvideos Youtube_LetsPlay  \\\n",
       "0             Häufig              Häufig           Häufig   \n",
       "1             Häufig              Häufig           Häufig   \n",
       "2             Häufig              Selten           Selten   \n",
       "3             Selten              Häufig           Häufig   \n",
       "4             Häufig              Häufig           Häufig   \n",
       "..               ...                 ...              ...   \n",
       "145           Häufig              Selten           Selten   \n",
       "146           Selten              Häufig           Selten   \n",
       "147           Häufig              Häufig           Häufig   \n",
       "148           Häufig              Häufig           Häufig   \n",
       "149           Häufig              Selten           Häufig   \n",
       "\n",
       "    Youtube_LustigeClips Youtube_Sportvideos Youtube_ModeBeauty  \\\n",
       "0                 Häufig              Selten             Selten   \n",
       "1                 Selten              Selten             Selten   \n",
       "2                 Selten              Selten             Selten   \n",
       "3                 Selten              Selten             Selten   \n",
       "4                 Häufig              Häufig             Selten   \n",
       "..                   ...                 ...                ...   \n",
       "145               Selten              Selten             Selten   \n",
       "146               Häufig              Selten             Selten   \n",
       "147               Selten              Selten             Selten   \n",
       "148               Häufig              Häufig             Selten   \n",
       "149               Selten              Häufig             Selten   \n",
       "\n",
       "     Tablet_Besitz  Computer_Besitz  FesteKonsole_Besitz  Smartphone_Besitz  \\\n",
       "0            False            False                 True               True   \n",
       "1             True            False                 True               True   \n",
       "2            False            False                False               True   \n",
       "3            False            False                False               True   \n",
       "4            False             True                False               True   \n",
       "..             ...              ...                  ...                ...   \n",
       "145           True             True                 True               True   \n",
       "146          False             True                False              False   \n",
       "147          False            False                 True               True   \n",
       "148          False             True                 True               True   \n",
       "149          False            False                 True               True   \n",
       "\n",
       "     E_Reader_Besitz  \n",
       "0              False  \n",
       "1              False  \n",
       "2              False  \n",
       "3              False  \n",
       "4              False  \n",
       "..               ...  \n",
       "145            False  \n",
       "146            False  \n",
       "147            False  \n",
       "148            False  \n",
       "149            False  \n",
       "\n",
       "[150 rows x 15 columns]"
      ]
     },
     "execution_count": 54,
     "metadata": {},
     "output_type": "execute_result"
    }
   ],
   "source": [
    "#Einlesen einer Datenstichprobe aus dem sogenannten JIM-PB Datensatz\n",
    "df_jim_bin = pd.read_csv('Daten/Training/jim_binaer.csv', sep = ';')\n",
    "\n",
    "df_jim_bin"
   ]
  },
  {
   "cell_type": "markdown",
   "metadata": {},
   "source": [
    "<div class=\"panel panel-success\">\n",
    "    <div class=\"panel-heading\">\n",
    "        <b> Info zum Datensatz</b>\n",
    "    </div>\n",
    "    <div class=\"panel-body\">\n",
    "\n",
    "Die JIM-PB Daten stammen aus einer Umfrage aus dem Jahr 2021 mit Jugendlichen an Paderborner Schulen. Es handelt sich um eine Umfrage zum Medienverhalten der Jugendlichen, die an den Fragenkatalog der JIM-Studie angelehnt ist. Neben Persönlichen Daten werden dabei beispielsweise der Zugang zu digitalen Geräten, das Youtube Nutzerverhalten und der Gebrauch sozialer Medien abgefragt.\n",
    "\n",
    "Viele Variablen (z. B. Nutzen_Instagram) wurde mit einer siebenstufigen Skala abgefragt. Die Werte geben die Häufigkeit der Nutzung:\n",
    "\n",
    "    7: täglich\n",
    "    6: mehrmals pro Woche\n",
    "    5: einmal pro Woche\n",
    "    4: einmal in 14 Tagen\n",
    "    3: einmal im Monat \n",
    "    2: seltener\n",
    "    1: nie\n",
    "        \n",
    "Diese Werte wurden für den vorliegenden Datensatz aber noch binäre umcodiert, um den Datensatz zu vereinfachen:\n",
    "    \n",
    "    5-7: Häufig\n",
    "    1-4: Selten\n",
    "\n",
    "Eine weitere binäre Skala (z.B. bei Computer_Besitz) gibt einfach an, ob etwas zutrifft oder nicht.\n",
    "\n",
    "    True: trifft zu\n",
    "    False: trifft nicht zu\n",
    "\n",
    "Die weiteren Skalen (z.B. für Alter, Geschlecht, ...) sind selbsterklärend.\n",
    "       "
   ]
  },
  {
   "cell_type": "markdown",
   "metadata": {},
   "source": [
    "# Daten visualisieren"
   ]
  },
  {
   "cell_type": "code",
   "execution_count": 23,
   "metadata": {},
   "outputs": [
    {
     "data": {
      "text/plain": [
       "Index(['Spielen_OnlineSpiele', 'Geschlecht', 'Nutzen_Twitter',\n",
       "       'Nutzen_Snapchat', 'Nutzen_Instagram', 'Youtube_Musikvideos',\n",
       "       'Youtube_LetsPlay', 'Youtube_LustigeClips', 'Youtube_Sportvideos',\n",
       "       'Youtube_ModeBeauty', 'Tablet_Besitz', 'Computer_Besitz',\n",
       "       'FesteKonsole_Besitz', 'Smartphone_Besitz', 'E_Reader_Besitz'],\n",
       "      dtype='object')"
      ]
     },
     "execution_count": 23,
     "metadata": {},
     "output_type": "execute_result"
    }
   ],
   "source": [
    "#Ausgabe der Spaltenüberschriften, d. h. der abgefragten Merkmale\n",
    "df_jim_bin.columns"
   ]
  },
  {
   "cell_type": "markdown",
   "metadata": {},
   "source": [
    "<div class=\"panel panel-success\">\n",
    "    <div class=\"panel-heading\">\n",
    "        <b> Erklärung - Einfache Visualisierungen</b>\n",
    "    </div>\n",
    "    <div class=\"panel-body\">\n",
    "\n",
    "In diesem Abschnitt erhältst du die Möglichkeit einfache Visualsierungen für die Daten zu erstellen.\n",
    "        \n",
    "Du findest Befehle für:\n",
    "        \n",
    "* Ein **Histogramm**, dass die Häufigkeitsverteilung für ein Merkmal visualsiert \n",
    "        \n",
    "        \n",
    "* Eine **Kreuztabelle/ Kontingenztabelle**, die die absoluten Häufigkeiten von Kombinationen bestimmter Merkmalsausprägungen von zwei unterschiedlichen Merkmalen enthält.\n",
    "        \n"
   ]
  },
  {
   "cell_type": "markdown",
   "metadata": {},
   "source": [
    "## Histogramm"
   ]
  },
  {
   "cell_type": "code",
   "execution_count": 22,
   "metadata": {
    "scrolled": false
   },
   "outputs": [
    {
     "data": {
      "application/vnd.plotly.v1+json": {
       "config": {
        "linkText": "Export to plot.ly",
        "plotlyServerURL": "https://plot.ly",
        "showLink": true
       },
       "data": [
        {
         "histfunc": "count",
         "histnorm": "",
         "marker": {
          "color": "rgba(255, 153, 51, 1.0)",
          "line": {
           "color": "#4D5663",
           "width": 1.3
          }
         },
         "name": "Spielen_OnlineSpiele",
         "opacity": 0.8,
         "orientation": "v",
         "type": "histogram",
         "x": [
          "Häufig",
          "Häufig",
          "Selten",
          "Häufig",
          "Häufig",
          "Häufig",
          "Selten",
          "Selten",
          "Häufig",
          "Häufig",
          "Selten",
          "Selten",
          "Selten",
          "Selten",
          "Häufig",
          "Selten",
          "Selten",
          "Selten",
          "Selten",
          "Selten",
          "Selten",
          "Selten",
          "Häufig",
          "Selten",
          "Häufig",
          "Häufig",
          "Selten",
          "Selten",
          "Häufig",
          "Häufig",
          "Häufig",
          "Häufig",
          "Selten",
          "Häufig",
          "Selten",
          "Selten",
          "Selten",
          "Selten",
          "Selten",
          "Selten",
          "Selten",
          "Selten",
          "Selten",
          "Selten",
          "Selten",
          "Häufig",
          "Selten",
          "Häufig",
          "Selten",
          "Häufig",
          "Selten",
          "Selten",
          "Selten",
          "Selten",
          "Häufig",
          "Häufig",
          "Selten",
          "Selten",
          "Selten",
          "Selten",
          "Häufig",
          "Selten",
          "Selten",
          "Häufig",
          "Häufig",
          "Häufig",
          "Häufig",
          "Häufig",
          "Häufig",
          "Selten",
          "Häufig",
          "Selten",
          "Häufig",
          "Häufig",
          "Selten",
          "Häufig",
          "Häufig",
          "Häufig",
          "Häufig",
          "Häufig",
          "Häufig",
          "Selten",
          "Selten",
          "Selten",
          "Häufig",
          "Häufig",
          "Selten",
          "Selten",
          "Selten",
          "Selten",
          "Häufig",
          "Häufig",
          "Häufig",
          "Häufig",
          "Selten",
          "Häufig",
          "Selten",
          "Häufig",
          "Häufig",
          "Häufig",
          "Häufig",
          "Selten",
          "Selten",
          "Häufig",
          "Selten",
          "Selten",
          "Selten",
          "Häufig",
          "Häufig",
          "Selten",
          "Häufig",
          "Selten",
          "Häufig",
          "Selten",
          "Selten",
          "Häufig",
          "Häufig",
          "Selten",
          "Selten",
          "Häufig",
          "Häufig",
          "Selten",
          "Selten",
          "Häufig",
          "Häufig",
          "Selten",
          "Selten",
          "Selten",
          "Häufig",
          "Häufig",
          "Häufig",
          "Selten",
          "Selten",
          "Häufig",
          "Selten",
          "Selten",
          "Häufig",
          "Selten",
          "Häufig",
          "Selten",
          "Selten",
          "Häufig",
          "Häufig",
          "Häufig",
          "Häufig",
          "Häufig",
          "Selten",
          "Häufig",
          "Häufig",
          "Häufig"
         ]
        }
       ],
       "layout": {
        "barmode": "overlay",
        "legend": {
         "bgcolor": "#FFFFFF",
         "font": {
          "color": "#4D5663"
         }
        },
        "paper_bgcolor": "#FFFFFF",
        "plot_bgcolor": "#FFFFFF",
        "template": {
         "data": {
          "bar": [
           {
            "error_x": {
             "color": "#2a3f5f"
            },
            "error_y": {
             "color": "#2a3f5f"
            },
            "marker": {
             "line": {
              "color": "#E5ECF6",
              "width": 0.5
             },
             "pattern": {
              "fillmode": "overlay",
              "size": 10,
              "solidity": 0.2
             }
            },
            "type": "bar"
           }
          ],
          "barpolar": [
           {
            "marker": {
             "line": {
              "color": "#E5ECF6",
              "width": 0.5
             },
             "pattern": {
              "fillmode": "overlay",
              "size": 10,
              "solidity": 0.2
             }
            },
            "type": "barpolar"
           }
          ],
          "carpet": [
           {
            "aaxis": {
             "endlinecolor": "#2a3f5f",
             "gridcolor": "white",
             "linecolor": "white",
             "minorgridcolor": "white",
             "startlinecolor": "#2a3f5f"
            },
            "baxis": {
             "endlinecolor": "#2a3f5f",
             "gridcolor": "white",
             "linecolor": "white",
             "minorgridcolor": "white",
             "startlinecolor": "#2a3f5f"
            },
            "type": "carpet"
           }
          ],
          "choropleth": [
           {
            "colorbar": {
             "outlinewidth": 0,
             "ticks": ""
            },
            "type": "choropleth"
           }
          ],
          "contour": [
           {
            "colorbar": {
             "outlinewidth": 0,
             "ticks": ""
            },
            "colorscale": [
             [
              0,
              "#0d0887"
             ],
             [
              0.1111111111111111,
              "#46039f"
             ],
             [
              0.2222222222222222,
              "#7201a8"
             ],
             [
              0.3333333333333333,
              "#9c179e"
             ],
             [
              0.4444444444444444,
              "#bd3786"
             ],
             [
              0.5555555555555556,
              "#d8576b"
             ],
             [
              0.6666666666666666,
              "#ed7953"
             ],
             [
              0.7777777777777778,
              "#fb9f3a"
             ],
             [
              0.8888888888888888,
              "#fdca26"
             ],
             [
              1,
              "#f0f921"
             ]
            ],
            "type": "contour"
           }
          ],
          "contourcarpet": [
           {
            "colorbar": {
             "outlinewidth": 0,
             "ticks": ""
            },
            "type": "contourcarpet"
           }
          ],
          "heatmap": [
           {
            "colorbar": {
             "outlinewidth": 0,
             "ticks": ""
            },
            "colorscale": [
             [
              0,
              "#0d0887"
             ],
             [
              0.1111111111111111,
              "#46039f"
             ],
             [
              0.2222222222222222,
              "#7201a8"
             ],
             [
              0.3333333333333333,
              "#9c179e"
             ],
             [
              0.4444444444444444,
              "#bd3786"
             ],
             [
              0.5555555555555556,
              "#d8576b"
             ],
             [
              0.6666666666666666,
              "#ed7953"
             ],
             [
              0.7777777777777778,
              "#fb9f3a"
             ],
             [
              0.8888888888888888,
              "#fdca26"
             ],
             [
              1,
              "#f0f921"
             ]
            ],
            "type": "heatmap"
           }
          ],
          "heatmapgl": [
           {
            "colorbar": {
             "outlinewidth": 0,
             "ticks": ""
            },
            "colorscale": [
             [
              0,
              "#0d0887"
             ],
             [
              0.1111111111111111,
              "#46039f"
             ],
             [
              0.2222222222222222,
              "#7201a8"
             ],
             [
              0.3333333333333333,
              "#9c179e"
             ],
             [
              0.4444444444444444,
              "#bd3786"
             ],
             [
              0.5555555555555556,
              "#d8576b"
             ],
             [
              0.6666666666666666,
              "#ed7953"
             ],
             [
              0.7777777777777778,
              "#fb9f3a"
             ],
             [
              0.8888888888888888,
              "#fdca26"
             ],
             [
              1,
              "#f0f921"
             ]
            ],
            "type": "heatmapgl"
           }
          ],
          "histogram": [
           {
            "marker": {
             "pattern": {
              "fillmode": "overlay",
              "size": 10,
              "solidity": 0.2
             }
            },
            "type": "histogram"
           }
          ],
          "histogram2d": [
           {
            "colorbar": {
             "outlinewidth": 0,
             "ticks": ""
            },
            "colorscale": [
             [
              0,
              "#0d0887"
             ],
             [
              0.1111111111111111,
              "#46039f"
             ],
             [
              0.2222222222222222,
              "#7201a8"
             ],
             [
              0.3333333333333333,
              "#9c179e"
             ],
             [
              0.4444444444444444,
              "#bd3786"
             ],
             [
              0.5555555555555556,
              "#d8576b"
             ],
             [
              0.6666666666666666,
              "#ed7953"
             ],
             [
              0.7777777777777778,
              "#fb9f3a"
             ],
             [
              0.8888888888888888,
              "#fdca26"
             ],
             [
              1,
              "#f0f921"
             ]
            ],
            "type": "histogram2d"
           }
          ],
          "histogram2dcontour": [
           {
            "colorbar": {
             "outlinewidth": 0,
             "ticks": ""
            },
            "colorscale": [
             [
              0,
              "#0d0887"
             ],
             [
              0.1111111111111111,
              "#46039f"
             ],
             [
              0.2222222222222222,
              "#7201a8"
             ],
             [
              0.3333333333333333,
              "#9c179e"
             ],
             [
              0.4444444444444444,
              "#bd3786"
             ],
             [
              0.5555555555555556,
              "#d8576b"
             ],
             [
              0.6666666666666666,
              "#ed7953"
             ],
             [
              0.7777777777777778,
              "#fb9f3a"
             ],
             [
              0.8888888888888888,
              "#fdca26"
             ],
             [
              1,
              "#f0f921"
             ]
            ],
            "type": "histogram2dcontour"
           }
          ],
          "mesh3d": [
           {
            "colorbar": {
             "outlinewidth": 0,
             "ticks": ""
            },
            "type": "mesh3d"
           }
          ],
          "parcoords": [
           {
            "line": {
             "colorbar": {
              "outlinewidth": 0,
              "ticks": ""
             }
            },
            "type": "parcoords"
           }
          ],
          "pie": [
           {
            "automargin": true,
            "type": "pie"
           }
          ],
          "scatter": [
           {
            "fillpattern": {
             "fillmode": "overlay",
             "size": 10,
             "solidity": 0.2
            },
            "type": "scatter"
           }
          ],
          "scatter3d": [
           {
            "line": {
             "colorbar": {
              "outlinewidth": 0,
              "ticks": ""
             }
            },
            "marker": {
             "colorbar": {
              "outlinewidth": 0,
              "ticks": ""
             }
            },
            "type": "scatter3d"
           }
          ],
          "scattercarpet": [
           {
            "marker": {
             "colorbar": {
              "outlinewidth": 0,
              "ticks": ""
             }
            },
            "type": "scattercarpet"
           }
          ],
          "scattergeo": [
           {
            "marker": {
             "colorbar": {
              "outlinewidth": 0,
              "ticks": ""
             }
            },
            "type": "scattergeo"
           }
          ],
          "scattergl": [
           {
            "marker": {
             "colorbar": {
              "outlinewidth": 0,
              "ticks": ""
             }
            },
            "type": "scattergl"
           }
          ],
          "scattermapbox": [
           {
            "marker": {
             "colorbar": {
              "outlinewidth": 0,
              "ticks": ""
             }
            },
            "type": "scattermapbox"
           }
          ],
          "scatterpolar": [
           {
            "marker": {
             "colorbar": {
              "outlinewidth": 0,
              "ticks": ""
             }
            },
            "type": "scatterpolar"
           }
          ],
          "scatterpolargl": [
           {
            "marker": {
             "colorbar": {
              "outlinewidth": 0,
              "ticks": ""
             }
            },
            "type": "scatterpolargl"
           }
          ],
          "scatterternary": [
           {
            "marker": {
             "colorbar": {
              "outlinewidth": 0,
              "ticks": ""
             }
            },
            "type": "scatterternary"
           }
          ],
          "surface": [
           {
            "colorbar": {
             "outlinewidth": 0,
             "ticks": ""
            },
            "colorscale": [
             [
              0,
              "#0d0887"
             ],
             [
              0.1111111111111111,
              "#46039f"
             ],
             [
              0.2222222222222222,
              "#7201a8"
             ],
             [
              0.3333333333333333,
              "#9c179e"
             ],
             [
              0.4444444444444444,
              "#bd3786"
             ],
             [
              0.5555555555555556,
              "#d8576b"
             ],
             [
              0.6666666666666666,
              "#ed7953"
             ],
             [
              0.7777777777777778,
              "#fb9f3a"
             ],
             [
              0.8888888888888888,
              "#fdca26"
             ],
             [
              1,
              "#f0f921"
             ]
            ],
            "type": "surface"
           }
          ],
          "table": [
           {
            "cells": {
             "fill": {
              "color": "#EBF0F8"
             },
             "line": {
              "color": "white"
             }
            },
            "header": {
             "fill": {
              "color": "#C8D4E3"
             },
             "line": {
              "color": "white"
             }
            },
            "type": "table"
           }
          ]
         },
         "layout": {
          "annotationdefaults": {
           "arrowcolor": "#2a3f5f",
           "arrowhead": 0,
           "arrowwidth": 1
          },
          "autotypenumbers": "strict",
          "coloraxis": {
           "colorbar": {
            "outlinewidth": 0,
            "ticks": ""
           }
          },
          "colorscale": {
           "diverging": [
            [
             0,
             "#8e0152"
            ],
            [
             0.1,
             "#c51b7d"
            ],
            [
             0.2,
             "#de77ae"
            ],
            [
             0.3,
             "#f1b6da"
            ],
            [
             0.4,
             "#fde0ef"
            ],
            [
             0.5,
             "#f7f7f7"
            ],
            [
             0.6,
             "#e6f5d0"
            ],
            [
             0.7,
             "#b8e186"
            ],
            [
             0.8,
             "#7fbc41"
            ],
            [
             0.9,
             "#4d9221"
            ],
            [
             1,
             "#276419"
            ]
           ],
           "sequential": [
            [
             0,
             "#0d0887"
            ],
            [
             0.1111111111111111,
             "#46039f"
            ],
            [
             0.2222222222222222,
             "#7201a8"
            ],
            [
             0.3333333333333333,
             "#9c179e"
            ],
            [
             0.4444444444444444,
             "#bd3786"
            ],
            [
             0.5555555555555556,
             "#d8576b"
            ],
            [
             0.6666666666666666,
             "#ed7953"
            ],
            [
             0.7777777777777778,
             "#fb9f3a"
            ],
            [
             0.8888888888888888,
             "#fdca26"
            ],
            [
             1,
             "#f0f921"
            ]
           ],
           "sequentialminus": [
            [
             0,
             "#0d0887"
            ],
            [
             0.1111111111111111,
             "#46039f"
            ],
            [
             0.2222222222222222,
             "#7201a8"
            ],
            [
             0.3333333333333333,
             "#9c179e"
            ],
            [
             0.4444444444444444,
             "#bd3786"
            ],
            [
             0.5555555555555556,
             "#d8576b"
            ],
            [
             0.6666666666666666,
             "#ed7953"
            ],
            [
             0.7777777777777778,
             "#fb9f3a"
            ],
            [
             0.8888888888888888,
             "#fdca26"
            ],
            [
             1,
             "#f0f921"
            ]
           ]
          },
          "colorway": [
           "#636efa",
           "#EF553B",
           "#00cc96",
           "#ab63fa",
           "#FFA15A",
           "#19d3f3",
           "#FF6692",
           "#B6E880",
           "#FF97FF",
           "#FECB52"
          ],
          "font": {
           "color": "#2a3f5f"
          },
          "geo": {
           "bgcolor": "white",
           "lakecolor": "white",
           "landcolor": "#E5ECF6",
           "showlakes": true,
           "showland": true,
           "subunitcolor": "white"
          },
          "hoverlabel": {
           "align": "left"
          },
          "hovermode": "closest",
          "mapbox": {
           "style": "light"
          },
          "paper_bgcolor": "white",
          "plot_bgcolor": "#E5ECF6",
          "polar": {
           "angularaxis": {
            "gridcolor": "white",
            "linecolor": "white",
            "ticks": ""
           },
           "bgcolor": "#E5ECF6",
           "radialaxis": {
            "gridcolor": "white",
            "linecolor": "white",
            "ticks": ""
           }
          },
          "scene": {
           "xaxis": {
            "backgroundcolor": "#E5ECF6",
            "gridcolor": "white",
            "gridwidth": 2,
            "linecolor": "white",
            "showbackground": true,
            "ticks": "",
            "zerolinecolor": "white"
           },
           "yaxis": {
            "backgroundcolor": "#E5ECF6",
            "gridcolor": "white",
            "gridwidth": 2,
            "linecolor": "white",
            "showbackground": true,
            "ticks": "",
            "zerolinecolor": "white"
           },
           "zaxis": {
            "backgroundcolor": "#E5ECF6",
            "gridcolor": "white",
            "gridwidth": 2,
            "linecolor": "white",
            "showbackground": true,
            "ticks": "",
            "zerolinecolor": "white"
           }
          },
          "shapedefaults": {
           "line": {
            "color": "#2a3f5f"
           }
          },
          "ternary": {
           "aaxis": {
            "gridcolor": "white",
            "linecolor": "white",
            "ticks": ""
           },
           "baxis": {
            "gridcolor": "white",
            "linecolor": "white",
            "ticks": ""
           },
           "bgcolor": "#E5ECF6",
           "caxis": {
            "gridcolor": "white",
            "linecolor": "white",
            "ticks": ""
           }
          },
          "title": {
           "x": 0.05
          },
          "xaxis": {
           "automargin": true,
           "gridcolor": "white",
           "linecolor": "white",
           "ticks": "",
           "title": {
            "standoff": 15
           },
           "zerolinecolor": "white",
           "zerolinewidth": 2
          },
          "yaxis": {
           "automargin": true,
           "gridcolor": "white",
           "linecolor": "white",
           "ticks": "",
           "title": {
            "standoff": 15
           },
           "zerolinecolor": "white",
           "zerolinewidth": 2
          }
         }
        },
        "title": {
         "font": {
          "color": "#4D5663"
         }
        },
        "xaxis": {
         "gridcolor": "#E1E5ED",
         "showgrid": true,
         "tickfont": {
          "color": "#4D5663"
         },
         "title": {
          "font": {
           "color": "#4D5663"
          },
          "text": ""
         },
         "zerolinecolor": "#E1E5ED"
        },
        "yaxis": {
         "gridcolor": "#E1E5ED",
         "showgrid": true,
         "tickfont": {
          "color": "#4D5663"
         },
         "title": {
          "font": {
           "color": "#4D5663"
          },
          "text": ""
         },
         "zerolinecolor": "#E1E5ED"
        }
       }
      },
      "text/html": [
       "<div>                            <div id=\"1244cdd9-a83f-49f7-80a2-76f615f84300\" class=\"plotly-graph-div\" style=\"height:525px; width:100%;\"></div>            <script type=\"text/javascript\">                require([\"plotly\"], function(Plotly) {                    window.PLOTLYENV=window.PLOTLYENV || {};\n",
       "                    window.PLOTLYENV.BASE_URL='https://plot.ly';                                    if (document.getElementById(\"1244cdd9-a83f-49f7-80a2-76f615f84300\")) {                    Plotly.newPlot(                        \"1244cdd9-a83f-49f7-80a2-76f615f84300\",                        [{\"histfunc\":\"count\",\"histnorm\":\"\",\"marker\":{\"color\":\"rgba(255, 153, 51, 1.0)\",\"line\":{\"color\":\"#4D5663\",\"width\":1.3}},\"name\":\"Spielen_OnlineSpiele\",\"opacity\":0.8,\"orientation\":\"v\",\"x\":[\"H\\u00e4ufig\",\"H\\u00e4ufig\",\"Selten\",\"H\\u00e4ufig\",\"H\\u00e4ufig\",\"H\\u00e4ufig\",\"Selten\",\"Selten\",\"H\\u00e4ufig\",\"H\\u00e4ufig\",\"Selten\",\"Selten\",\"Selten\",\"Selten\",\"H\\u00e4ufig\",\"Selten\",\"Selten\",\"Selten\",\"Selten\",\"Selten\",\"Selten\",\"Selten\",\"H\\u00e4ufig\",\"Selten\",\"H\\u00e4ufig\",\"H\\u00e4ufig\",\"Selten\",\"Selten\",\"H\\u00e4ufig\",\"H\\u00e4ufig\",\"H\\u00e4ufig\",\"H\\u00e4ufig\",\"Selten\",\"H\\u00e4ufig\",\"Selten\",\"Selten\",\"Selten\",\"Selten\",\"Selten\",\"Selten\",\"Selten\",\"Selten\",\"Selten\",\"Selten\",\"Selten\",\"H\\u00e4ufig\",\"Selten\",\"H\\u00e4ufig\",\"Selten\",\"H\\u00e4ufig\",\"Selten\",\"Selten\",\"Selten\",\"Selten\",\"H\\u00e4ufig\",\"H\\u00e4ufig\",\"Selten\",\"Selten\",\"Selten\",\"Selten\",\"H\\u00e4ufig\",\"Selten\",\"Selten\",\"H\\u00e4ufig\",\"H\\u00e4ufig\",\"H\\u00e4ufig\",\"H\\u00e4ufig\",\"H\\u00e4ufig\",\"H\\u00e4ufig\",\"Selten\",\"H\\u00e4ufig\",\"Selten\",\"H\\u00e4ufig\",\"H\\u00e4ufig\",\"Selten\",\"H\\u00e4ufig\",\"H\\u00e4ufig\",\"H\\u00e4ufig\",\"H\\u00e4ufig\",\"H\\u00e4ufig\",\"H\\u00e4ufig\",\"Selten\",\"Selten\",\"Selten\",\"H\\u00e4ufig\",\"H\\u00e4ufig\",\"Selten\",\"Selten\",\"Selten\",\"Selten\",\"H\\u00e4ufig\",\"H\\u00e4ufig\",\"H\\u00e4ufig\",\"H\\u00e4ufig\",\"Selten\",\"H\\u00e4ufig\",\"Selten\",\"H\\u00e4ufig\",\"H\\u00e4ufig\",\"H\\u00e4ufig\",\"H\\u00e4ufig\",\"Selten\",\"Selten\",\"H\\u00e4ufig\",\"Selten\",\"Selten\",\"Selten\",\"H\\u00e4ufig\",\"H\\u00e4ufig\",\"Selten\",\"H\\u00e4ufig\",\"Selten\",\"H\\u00e4ufig\",\"Selten\",\"Selten\",\"H\\u00e4ufig\",\"H\\u00e4ufig\",\"Selten\",\"Selten\",\"H\\u00e4ufig\",\"H\\u00e4ufig\",\"Selten\",\"Selten\",\"H\\u00e4ufig\",\"H\\u00e4ufig\",\"Selten\",\"Selten\",\"Selten\",\"H\\u00e4ufig\",\"H\\u00e4ufig\",\"H\\u00e4ufig\",\"Selten\",\"Selten\",\"H\\u00e4ufig\",\"Selten\",\"Selten\",\"H\\u00e4ufig\",\"Selten\",\"H\\u00e4ufig\",\"Selten\",\"Selten\",\"H\\u00e4ufig\",\"H\\u00e4ufig\",\"H\\u00e4ufig\",\"H\\u00e4ufig\",\"H\\u00e4ufig\",\"Selten\",\"H\\u00e4ufig\",\"H\\u00e4ufig\",\"H\\u00e4ufig\"],\"type\":\"histogram\"}],                        {\"barmode\":\"overlay\",\"legend\":{\"bgcolor\":\"#FFFFFF\",\"font\":{\"color\":\"#4D5663\"}},\"paper_bgcolor\":\"#FFFFFF\",\"plot_bgcolor\":\"#FFFFFF\",\"template\":{\"data\":{\"barpolar\":[{\"marker\":{\"line\":{\"color\":\"#E5ECF6\",\"width\":0.5},\"pattern\":{\"fillmode\":\"overlay\",\"size\":10,\"solidity\":0.2}},\"type\":\"barpolar\"}],\"bar\":[{\"error_x\":{\"color\":\"#2a3f5f\"},\"error_y\":{\"color\":\"#2a3f5f\"},\"marker\":{\"line\":{\"color\":\"#E5ECF6\",\"width\":0.5},\"pattern\":{\"fillmode\":\"overlay\",\"size\":10,\"solidity\":0.2}},\"type\":\"bar\"}],\"carpet\":[{\"aaxis\":{\"endlinecolor\":\"#2a3f5f\",\"gridcolor\":\"white\",\"linecolor\":\"white\",\"minorgridcolor\":\"white\",\"startlinecolor\":\"#2a3f5f\"},\"baxis\":{\"endlinecolor\":\"#2a3f5f\",\"gridcolor\":\"white\",\"linecolor\":\"white\",\"minorgridcolor\":\"white\",\"startlinecolor\":\"#2a3f5f\"},\"type\":\"carpet\"}],\"choropleth\":[{\"colorbar\":{\"outlinewidth\":0,\"ticks\":\"\"},\"type\":\"choropleth\"}],\"contourcarpet\":[{\"colorbar\":{\"outlinewidth\":0,\"ticks\":\"\"},\"type\":\"contourcarpet\"}],\"contour\":[{\"colorbar\":{\"outlinewidth\":0,\"ticks\":\"\"},\"colorscale\":[[0.0,\"#0d0887\"],[0.1111111111111111,\"#46039f\"],[0.2222222222222222,\"#7201a8\"],[0.3333333333333333,\"#9c179e\"],[0.4444444444444444,\"#bd3786\"],[0.5555555555555556,\"#d8576b\"],[0.6666666666666666,\"#ed7953\"],[0.7777777777777778,\"#fb9f3a\"],[0.8888888888888888,\"#fdca26\"],[1.0,\"#f0f921\"]],\"type\":\"contour\"}],\"heatmapgl\":[{\"colorbar\":{\"outlinewidth\":0,\"ticks\":\"\"},\"colorscale\":[[0.0,\"#0d0887\"],[0.1111111111111111,\"#46039f\"],[0.2222222222222222,\"#7201a8\"],[0.3333333333333333,\"#9c179e\"],[0.4444444444444444,\"#bd3786\"],[0.5555555555555556,\"#d8576b\"],[0.6666666666666666,\"#ed7953\"],[0.7777777777777778,\"#fb9f3a\"],[0.8888888888888888,\"#fdca26\"],[1.0,\"#f0f921\"]],\"type\":\"heatmapgl\"}],\"heatmap\":[{\"colorbar\":{\"outlinewidth\":0,\"ticks\":\"\"},\"colorscale\":[[0.0,\"#0d0887\"],[0.1111111111111111,\"#46039f\"],[0.2222222222222222,\"#7201a8\"],[0.3333333333333333,\"#9c179e\"],[0.4444444444444444,\"#bd3786\"],[0.5555555555555556,\"#d8576b\"],[0.6666666666666666,\"#ed7953\"],[0.7777777777777778,\"#fb9f3a\"],[0.8888888888888888,\"#fdca26\"],[1.0,\"#f0f921\"]],\"type\":\"heatmap\"}],\"histogram2dcontour\":[{\"colorbar\":{\"outlinewidth\":0,\"ticks\":\"\"},\"colorscale\":[[0.0,\"#0d0887\"],[0.1111111111111111,\"#46039f\"],[0.2222222222222222,\"#7201a8\"],[0.3333333333333333,\"#9c179e\"],[0.4444444444444444,\"#bd3786\"],[0.5555555555555556,\"#d8576b\"],[0.6666666666666666,\"#ed7953\"],[0.7777777777777778,\"#fb9f3a\"],[0.8888888888888888,\"#fdca26\"],[1.0,\"#f0f921\"]],\"type\":\"histogram2dcontour\"}],\"histogram2d\":[{\"colorbar\":{\"outlinewidth\":0,\"ticks\":\"\"},\"colorscale\":[[0.0,\"#0d0887\"],[0.1111111111111111,\"#46039f\"],[0.2222222222222222,\"#7201a8\"],[0.3333333333333333,\"#9c179e\"],[0.4444444444444444,\"#bd3786\"],[0.5555555555555556,\"#d8576b\"],[0.6666666666666666,\"#ed7953\"],[0.7777777777777778,\"#fb9f3a\"],[0.8888888888888888,\"#fdca26\"],[1.0,\"#f0f921\"]],\"type\":\"histogram2d\"}],\"histogram\":[{\"marker\":{\"pattern\":{\"fillmode\":\"overlay\",\"size\":10,\"solidity\":0.2}},\"type\":\"histogram\"}],\"mesh3d\":[{\"colorbar\":{\"outlinewidth\":0,\"ticks\":\"\"},\"type\":\"mesh3d\"}],\"parcoords\":[{\"line\":{\"colorbar\":{\"outlinewidth\":0,\"ticks\":\"\"}},\"type\":\"parcoords\"}],\"pie\":[{\"automargin\":true,\"type\":\"pie\"}],\"scatter3d\":[{\"line\":{\"colorbar\":{\"outlinewidth\":0,\"ticks\":\"\"}},\"marker\":{\"colorbar\":{\"outlinewidth\":0,\"ticks\":\"\"}},\"type\":\"scatter3d\"}],\"scattercarpet\":[{\"marker\":{\"colorbar\":{\"outlinewidth\":0,\"ticks\":\"\"}},\"type\":\"scattercarpet\"}],\"scattergeo\":[{\"marker\":{\"colorbar\":{\"outlinewidth\":0,\"ticks\":\"\"}},\"type\":\"scattergeo\"}],\"scattergl\":[{\"marker\":{\"colorbar\":{\"outlinewidth\":0,\"ticks\":\"\"}},\"type\":\"scattergl\"}],\"scattermapbox\":[{\"marker\":{\"colorbar\":{\"outlinewidth\":0,\"ticks\":\"\"}},\"type\":\"scattermapbox\"}],\"scatterpolargl\":[{\"marker\":{\"colorbar\":{\"outlinewidth\":0,\"ticks\":\"\"}},\"type\":\"scatterpolargl\"}],\"scatterpolar\":[{\"marker\":{\"colorbar\":{\"outlinewidth\":0,\"ticks\":\"\"}},\"type\":\"scatterpolar\"}],\"scatter\":[{\"fillpattern\":{\"fillmode\":\"overlay\",\"size\":10,\"solidity\":0.2},\"type\":\"scatter\"}],\"scatterternary\":[{\"marker\":{\"colorbar\":{\"outlinewidth\":0,\"ticks\":\"\"}},\"type\":\"scatterternary\"}],\"surface\":[{\"colorbar\":{\"outlinewidth\":0,\"ticks\":\"\"},\"colorscale\":[[0.0,\"#0d0887\"],[0.1111111111111111,\"#46039f\"],[0.2222222222222222,\"#7201a8\"],[0.3333333333333333,\"#9c179e\"],[0.4444444444444444,\"#bd3786\"],[0.5555555555555556,\"#d8576b\"],[0.6666666666666666,\"#ed7953\"],[0.7777777777777778,\"#fb9f3a\"],[0.8888888888888888,\"#fdca26\"],[1.0,\"#f0f921\"]],\"type\":\"surface\"}],\"table\":[{\"cells\":{\"fill\":{\"color\":\"#EBF0F8\"},\"line\":{\"color\":\"white\"}},\"header\":{\"fill\":{\"color\":\"#C8D4E3\"},\"line\":{\"color\":\"white\"}},\"type\":\"table\"}]},\"layout\":{\"annotationdefaults\":{\"arrowcolor\":\"#2a3f5f\",\"arrowhead\":0,\"arrowwidth\":1},\"autotypenumbers\":\"strict\",\"coloraxis\":{\"colorbar\":{\"outlinewidth\":0,\"ticks\":\"\"}},\"colorscale\":{\"diverging\":[[0,\"#8e0152\"],[0.1,\"#c51b7d\"],[0.2,\"#de77ae\"],[0.3,\"#f1b6da\"],[0.4,\"#fde0ef\"],[0.5,\"#f7f7f7\"],[0.6,\"#e6f5d0\"],[0.7,\"#b8e186\"],[0.8,\"#7fbc41\"],[0.9,\"#4d9221\"],[1,\"#276419\"]],\"sequential\":[[0.0,\"#0d0887\"],[0.1111111111111111,\"#46039f\"],[0.2222222222222222,\"#7201a8\"],[0.3333333333333333,\"#9c179e\"],[0.4444444444444444,\"#bd3786\"],[0.5555555555555556,\"#d8576b\"],[0.6666666666666666,\"#ed7953\"],[0.7777777777777778,\"#fb9f3a\"],[0.8888888888888888,\"#fdca26\"],[1.0,\"#f0f921\"]],\"sequentialminus\":[[0.0,\"#0d0887\"],[0.1111111111111111,\"#46039f\"],[0.2222222222222222,\"#7201a8\"],[0.3333333333333333,\"#9c179e\"],[0.4444444444444444,\"#bd3786\"],[0.5555555555555556,\"#d8576b\"],[0.6666666666666666,\"#ed7953\"],[0.7777777777777778,\"#fb9f3a\"],[0.8888888888888888,\"#fdca26\"],[1.0,\"#f0f921\"]]},\"colorway\":[\"#636efa\",\"#EF553B\",\"#00cc96\",\"#ab63fa\",\"#FFA15A\",\"#19d3f3\",\"#FF6692\",\"#B6E880\",\"#FF97FF\",\"#FECB52\"],\"font\":{\"color\":\"#2a3f5f\"},\"geo\":{\"bgcolor\":\"white\",\"lakecolor\":\"white\",\"landcolor\":\"#E5ECF6\",\"showlakes\":true,\"showland\":true,\"subunitcolor\":\"white\"},\"hoverlabel\":{\"align\":\"left\"},\"hovermode\":\"closest\",\"mapbox\":{\"style\":\"light\"},\"paper_bgcolor\":\"white\",\"plot_bgcolor\":\"#E5ECF6\",\"polar\":{\"angularaxis\":{\"gridcolor\":\"white\",\"linecolor\":\"white\",\"ticks\":\"\"},\"bgcolor\":\"#E5ECF6\",\"radialaxis\":{\"gridcolor\":\"white\",\"linecolor\":\"white\",\"ticks\":\"\"}},\"scene\":{\"xaxis\":{\"backgroundcolor\":\"#E5ECF6\",\"gridcolor\":\"white\",\"gridwidth\":2,\"linecolor\":\"white\",\"showbackground\":true,\"ticks\":\"\",\"zerolinecolor\":\"white\"},\"yaxis\":{\"backgroundcolor\":\"#E5ECF6\",\"gridcolor\":\"white\",\"gridwidth\":2,\"linecolor\":\"white\",\"showbackground\":true,\"ticks\":\"\",\"zerolinecolor\":\"white\"},\"zaxis\":{\"backgroundcolor\":\"#E5ECF6\",\"gridcolor\":\"white\",\"gridwidth\":2,\"linecolor\":\"white\",\"showbackground\":true,\"ticks\":\"\",\"zerolinecolor\":\"white\"}},\"shapedefaults\":{\"line\":{\"color\":\"#2a3f5f\"}},\"ternary\":{\"aaxis\":{\"gridcolor\":\"white\",\"linecolor\":\"white\",\"ticks\":\"\"},\"baxis\":{\"gridcolor\":\"white\",\"linecolor\":\"white\",\"ticks\":\"\"},\"bgcolor\":\"#E5ECF6\",\"caxis\":{\"gridcolor\":\"white\",\"linecolor\":\"white\",\"ticks\":\"\"}},\"title\":{\"x\":0.05},\"xaxis\":{\"automargin\":true,\"gridcolor\":\"white\",\"linecolor\":\"white\",\"ticks\":\"\",\"title\":{\"standoff\":15},\"zerolinecolor\":\"white\",\"zerolinewidth\":2},\"yaxis\":{\"automargin\":true,\"gridcolor\":\"white\",\"linecolor\":\"white\",\"ticks\":\"\",\"title\":{\"standoff\":15},\"zerolinecolor\":\"white\",\"zerolinewidth\":2}}},\"title\":{\"font\":{\"color\":\"#4D5663\"}},\"xaxis\":{\"gridcolor\":\"#E1E5ED\",\"showgrid\":true,\"tickfont\":{\"color\":\"#4D5663\"},\"title\":{\"font\":{\"color\":\"#4D5663\"},\"text\":\"\"},\"zerolinecolor\":\"#E1E5ED\"},\"yaxis\":{\"gridcolor\":\"#E1E5ED\",\"showgrid\":true,\"tickfont\":{\"color\":\"#4D5663\"},\"title\":{\"font\":{\"color\":\"#4D5663\"},\"text\":\"\"},\"zerolinecolor\":\"#E1E5ED\"}},                        {\"showLink\": true, \"linkText\": \"Export to plot.ly\", \"plotlyServerURL\": \"https://plot.ly\", \"responsive\": true}                    ).then(function(){\n",
       "                            \n",
       "var gd = document.getElementById('1244cdd9-a83f-49f7-80a2-76f615f84300');\n",
       "var x = new MutationObserver(function (mutations, observer) {{\n",
       "        var display = window.getComputedStyle(gd).display;\n",
       "        if (!display || display === 'none') {{\n",
       "            console.log([gd, 'removed!']);\n",
       "            Plotly.purge(gd);\n",
       "            observer.disconnect();\n",
       "        }}\n",
       "}});\n",
       "\n",
       "// Listen for the removal of the full notebook cells\n",
       "var notebookContainer = gd.closest('#notebook-container');\n",
       "if (notebookContainer) {{\n",
       "    x.observe(notebookContainer, {childList: true});\n",
       "}}\n",
       "\n",
       "// Listen for the clearing of the current output cell\n",
       "var outputEl = gd.closest('.output');\n",
       "if (outputEl) {{\n",
       "    x.observe(outputEl, {childList: true});\n",
       "}}\n",
       "\n",
       "                        })                };                });            </script>        </div>"
      ]
     },
     "metadata": {},
     "output_type": "display_data"
    }
   ],
   "source": [
    "#Ein Histogramm erstellen, um die Häufigkeitsverteilung für ein Merkmal zu visualisieren\n",
    "df_jim_bin['Spielen_OnlineSpiele'].iplot(kind='histogram')"
   ]
  },
  {
   "cell_type": "markdown",
   "metadata": {},
   "source": [
    "<div class=\"panel panel-success\">\n",
    "    <div class=\"panel-heading\">\n",
    "        <b> Erklärung - Histogramm</b>\n",
    "    </div>\n",
    "    <div class=\"panel-body\">\n",
    "\n",
    "In diesem Histogramm sehen wir, dass **77 Personen** aus dem Datensatz **selten** und **73 Personen** **häufig** Onlinespiele spielen.\n",
    "        \n",
    "Die Merkmalsbezeichnung kann im Code einfach geändert werden, um eine andere Häufigkeitsverteilung zu visualisieren."
   ]
  },
  {
   "cell_type": "markdown",
   "metadata": {},
   "source": [
    "## Kreuztabelle"
   ]
  },
  {
   "cell_type": "code",
   "execution_count": 30,
   "metadata": {},
   "outputs": [
    {
     "data": {
      "text/html": [
       "<div>\n",
       "<style scoped>\n",
       "    .dataframe tbody tr th:only-of-type {\n",
       "        vertical-align: middle;\n",
       "    }\n",
       "\n",
       "    .dataframe tbody tr th {\n",
       "        vertical-align: top;\n",
       "    }\n",
       "\n",
       "    .dataframe thead th {\n",
       "        text-align: right;\n",
       "    }\n",
       "</style>\n",
       "<table border=\"1\" class=\"dataframe\">\n",
       "  <thead>\n",
       "    <tr style=\"text-align: right;\">\n",
       "      <th>Computer_Besitz</th>\n",
       "      <th>False</th>\n",
       "      <th>True</th>\n",
       "    </tr>\n",
       "    <tr>\n",
       "      <th>Spielen_OnlineSpiele</th>\n",
       "      <th></th>\n",
       "      <th></th>\n",
       "    </tr>\n",
       "  </thead>\n",
       "  <tbody>\n",
       "    <tr>\n",
       "      <th>Häufig</th>\n",
       "      <td>33</td>\n",
       "      <td>40</td>\n",
       "    </tr>\n",
       "    <tr>\n",
       "      <th>Selten</th>\n",
       "      <td>57</td>\n",
       "      <td>20</td>\n",
       "    </tr>\n",
       "  </tbody>\n",
       "</table>\n",
       "</div>"
      ],
      "text/plain": [
       "Computer_Besitz       False  True\n",
       "Spielen_OnlineSpiele             \n",
       "Häufig                   33    40\n",
       "Selten                   57    20"
      ]
     },
     "execution_count": 30,
     "metadata": {},
     "output_type": "execute_result"
    }
   ],
   "source": [
    "# Erstellen einer Kreuztabelle für zei Merkmale\n",
    "pd.crosstab(df_jim_bin['Spielen_OnlineSpiele'], df_jim_bin['Computer_Besitz'])"
   ]
  },
  {
   "cell_type": "markdown",
   "metadata": {},
   "source": [
    "<div class=\"panel panel-success\">\n",
    "    <div class=\"panel-heading\">\n",
    "        <b> Erklärung - Kreuztabelle</b>\n",
    "    </div>\n",
    "    <div class=\"panel-body\">\n",
    "\n",
    "In diese Kreuztabelle sehen wir z. B., dass von den 77 Personen, die selten Onlinespiele spielen 20 Personen einen Computer besitzen und 57 nicht. Unter den 73 Befragten die häufig Onlinespiele spielen sind die Mehrheitsverhältnisse anders. Von diesen Personen besitzen 40 einen Computer und 33 nicht.  \n",
    "        \n",
    "Die Merkmalsbezeichnungen können im Code einfach geändert werden, um eine andere Kreuztabelle zu visualisieren."
   ]
  },
  {
   "cell_type": "markdown",
   "metadata": {},
   "source": [
    "# Entscheidungsbaum manuell erstellen"
   ]
  },
  {
   "cell_type": "markdown",
   "metadata": {},
   "source": [
    "## Entscheidungsbaum initialisieren"
   ]
  },
  {
   "cell_type": "code",
   "execution_count": 44,
   "metadata": {},
   "outputs": [],
   "source": [
    "#Entscheidungsbaum initialisieren \n",
    "tree = ct.DecisionTree(data = df_jim_bin, target = 'Spielen_OnlineSpiele', crit = 'misclassification_error')"
   ]
  },
  {
   "cell_type": "code",
   "execution_count": 37,
   "metadata": {},
   "outputs": [
    {
     "data": {
      "image/svg+xml": [
       "<?xml version=\"1.0\" encoding=\"UTF-8\" standalone=\"no\"?>\r\n",
       "<!DOCTYPE svg PUBLIC \"-//W3C//DTD SVG 1.1//EN\"\r\n",
       " \"http://www.w3.org/Graphics/SVG/1.1/DTD/svg11.dtd\">\r\n",
       "<!-- Generated by graphviz version 2.50.0 (0)\r\n",
       " -->\r\n",
       "<!-- Pages: 1 -->\r\n",
       "<svg width=\"154pt\" height=\"112pt\"\r\n",
       " viewBox=\"0.00 0.00 154.00 112.00\" xmlns=\"http://www.w3.org/2000/svg\" xmlns:xlink=\"http://www.w3.org/1999/xlink\">\r\n",
       "<g id=\"graph0\" class=\"graph\" transform=\"scale(1 1) rotate(0) translate(4 108)\">\r\n",
       "<polygon fill=\"white\" stroke=\"transparent\" points=\"-4,4 -4,-108 150,-108 150,4 -4,4\"/>\r\n",
       "<polygon fill=\"lightblue\" stroke=\"transparent\" points=\"8,-56 8,-100 138,-100 138,-56 8,-56\"/>\r\n",
       "<polygon fill=\"none\" stroke=\"black\" points=\"11,-78 11,-97 135,-97 135,-78 11,-78\"/>\r\n",
       "<text text-anchor=\"start\" x=\"14\" y=\"-84.4\" font-family=\"Times New Roman,serif\" font-size=\"12.00\">Spielen_OnlineSpiele? &#160;&#160;</text>\r\n",
       "<polygon fill=\"none\" stroke=\"black\" points=\"11,-59 11,-76 135,-76 135,-59 11,-59\"/>\r\n",
       "<text text-anchor=\"start\" x=\"37.5\" y=\"-65\" font-family=\"Times New Roman,serif\" font-size=\"10.00\" fill=\"dimgrey\">[&#39;Häufig&#39;, &#39;Selten&#39;]</text>\r\n",
       "<polygon fill=\"none\" stroke=\"black\" points=\"8,-56 8,-100 138,-100 138,-56 8,-56\"/>\r\n",
       "<!-- 1 -->\r\n",
       "<g id=\"node1\" class=\"node\">\r\n",
       "<title>1</title>\r\n",
       "<polygon fill=\"yellow\" stroke=\"yellow\" points=\"46,-0.5 46,-51.5 100,-51.5 100,-0.5 46,-0.5\"/>\r\n",
       "<text text-anchor=\"start\" x=\"57\" y=\"-38\" font-family=\"Times New Roman,serif\" font-size=\"10.00\" fill=\"dimgrey\">[73, 77]</text>\r\n",
       "<text text-anchor=\"start\" x=\"56\" y=\"-21.8\" font-family=\"Times New Roman,serif\" font-size=\"14.00\">Selten</text>\r\n",
       "<text text-anchor=\"start\" x=\"71\" y=\"-8\" font-family=\"Times New Roman,serif\" font-size=\"10.00\" fill=\"dimgrey\">Nr.1</text>\r\n",
       "</g>\r\n",
       "</g>\r\n",
       "</svg>\r\n"
      ],
      "text/plain": [
       "<graphviz.dot.Digraph at 0x17d58916288>"
      ]
     },
     "execution_count": 37,
     "metadata": {},
     "output_type": "execute_result"
    }
   ],
   "source": [
    "#Eintscheidungsbaum visualisieren\n",
    "tree.print_tree()"
   ]
  },
  {
   "cell_type": "markdown",
   "metadata": {},
   "source": [
    "<div class=\"panel panel-success\">\n",
    "    <div class=\"panel-heading\">\n",
    "        <b> Erklärung - Ein \"leerer\" Entscheidungsbaum</b>\n",
    "    </div>\n",
    "    <div class=\"panel-body\">\n",
    "        \n",
    "Der Entscheidungsbaum wird initialisiert, indem ein Datenatz (data), eine Zielvariable (target) und ein Entscheidungskriterium (crit) für das Auswählen von Entscheidungsregeln übergeben werden. \n",
    "        \n",
    "Der Entscheidungsbaum enthält noch keine Entscheidungsregeln und daher wird nur ein Knoten (gelb) angezeigt, der die Häufigkeitsverteilung der Zielvariable im gesamten Datensatz anzeigt und damit eine Mehrheitsentscheidung (Selten) trifft.\n",
    "        \n",
    "Blau hinterlegt werden die Zielvariable und ihre möglichen Ausprägungen angezeigt."
   ]
  },
  {
   "cell_type": "markdown",
   "metadata": {},
   "source": [
    "## Entscheidungsregel manuell hinzufügen"
   ]
  },
  {
   "cell_type": "code",
   "execution_count": 38,
   "metadata": {},
   "outputs": [
    {
     "data": {
      "image/svg+xml": [
       "<?xml version=\"1.0\" encoding=\"UTF-8\" standalone=\"no\"?>\r\n",
       "<!DOCTYPE svg PUBLIC \"-//W3C//DTD SVG 1.1//EN\"\r\n",
       " \"http://www.w3.org/Graphics/SVG/1.1/DTD/svg11.dtd\">\r\n",
       "<!-- Generated by graphviz version 2.50.0 (0)\r\n",
       " -->\r\n",
       "<!-- Pages: 1 -->\r\n",
       "<svg width=\"154pt\" height=\"209pt\"\r\n",
       " viewBox=\"0.00 0.00 154.00 209.00\" xmlns=\"http://www.w3.org/2000/svg\" xmlns:xlink=\"http://www.w3.org/1999/xlink\">\r\n",
       "<g id=\"graph0\" class=\"graph\" transform=\"scale(1 1) rotate(0) translate(4 205)\">\r\n",
       "<polygon fill=\"white\" stroke=\"transparent\" points=\"-4,4 -4,-205 150,-205 150,4 -4,4\"/>\r\n",
       "<polygon fill=\"lightblue\" stroke=\"transparent\" points=\"8,-153 8,-197 138,-197 138,-153 8,-153\"/>\r\n",
       "<polygon fill=\"none\" stroke=\"black\" points=\"11,-175 11,-194 135,-194 135,-175 11,-175\"/>\r\n",
       "<text text-anchor=\"start\" x=\"14\" y=\"-181.4\" font-family=\"Times New Roman,serif\" font-size=\"12.00\">Spielen_OnlineSpiele? &#160;&#160;</text>\r\n",
       "<polygon fill=\"none\" stroke=\"black\" points=\"11,-156 11,-173 135,-173 135,-156 11,-156\"/>\r\n",
       "<text text-anchor=\"start\" x=\"37.5\" y=\"-162\" font-family=\"Times New Roman,serif\" font-size=\"10.00\" fill=\"dimgrey\">[&#39;Häufig&#39;, &#39;Selten&#39;]</text>\r\n",
       "<polygon fill=\"none\" stroke=\"black\" points=\"8,-153 8,-197 138,-197 138,-153 8,-153\"/>\r\n",
       "<!-- 1 -->\r\n",
       "<g id=\"node1\" class=\"node\">\r\n",
       "<title>1</title>\r\n",
       "<polygon fill=\"none\" stroke=\"black\" points=\"13,-103.5 13,-148.5 131,-148.5 131,-103.5 13,-103.5\"/>\r\n",
       "<text text-anchor=\"start\" x=\"56\" y=\"-136\" font-family=\"Times New Roman,serif\" font-size=\"10.00\" fill=\"dimgrey\">[73, 77]</text>\r\n",
       "<text text-anchor=\"start\" x=\"21\" y=\"-121.8\" font-family=\"Times New Roman,serif\" font-size=\"14.00\">Computer_Besitz?</text>\r\n",
       "<text text-anchor=\"start\" x=\"104\" y=\"-110\" font-family=\"Times New Roman,serif\" font-size=\"10.00\" fill=\"dimgrey\">Nr.1</text>\r\n",
       "</g>\r\n",
       "<!-- 2 -->\r\n",
       "<g id=\"node2\" class=\"node\">\r\n",
       "<title>2</title>\r\n",
       "<polygon fill=\"yellow\" stroke=\"yellow\" points=\"9,-0.5 9,-51.5 63,-51.5 63,-0.5 9,-0.5\"/>\r\n",
       "<text text-anchor=\"start\" x=\"20\" y=\"-38\" font-family=\"Times New Roman,serif\" font-size=\"10.00\" fill=\"dimgrey\">[33, 57]</text>\r\n",
       "<text text-anchor=\"start\" x=\"19\" y=\"-21.8\" font-family=\"Times New Roman,serif\" font-size=\"14.00\">Selten</text>\r\n",
       "<text text-anchor=\"start\" x=\"34\" y=\"-8\" font-family=\"Times New Roman,serif\" font-size=\"10.00\" fill=\"dimgrey\">Nr.2</text>\r\n",
       "</g>\r\n",
       "<!-- 1&#45;&gt;2 -->\r\n",
       "<g id=\"edge1\" class=\"edge\">\r\n",
       "<title>1&#45;&gt;2</title>\r\n",
       "<path fill=\"none\" stroke=\"black\" d=\"M64.01,-103.25C59.51,-91 53.79,-75.41 48.69,-61.53\"/>\r\n",
       "<polygon fill=\"black\" stroke=\"black\" points=\"51.84,-59.98 45.11,-51.8 45.27,-62.39 51.84,-59.98\"/>\r\n",
       "<g id=\"a_edge1&#45;label\"><a xlink:title=\"False\">\r\n",
       "<text text-anchor=\"middle\" x=\"71.5\" y=\"-73.8\" font-family=\"Times New Roman,serif\" font-size=\"14.00\">False</text>\r\n",
       "</a>\r\n",
       "</g>\r\n",
       "</g>\r\n",
       "<!-- 3 -->\r\n",
       "<g id=\"node3\" class=\"node\">\r\n",
       "<title>3</title>\r\n",
       "<polygon fill=\"yellow\" stroke=\"yellow\" points=\"81,-0.5 81,-51.5 137,-51.5 137,-0.5 81,-0.5\"/>\r\n",
       "<text text-anchor=\"start\" x=\"93\" y=\"-38\" font-family=\"Times New Roman,serif\" font-size=\"10.00\" fill=\"dimgrey\">[40, 20]</text>\r\n",
       "<text text-anchor=\"start\" x=\"90\" y=\"-21.8\" font-family=\"Times New Roman,serif\" font-size=\"14.00\">Häufig</text>\r\n",
       "<text text-anchor=\"start\" x=\"109\" y=\"-8\" font-family=\"Times New Roman,serif\" font-size=\"10.00\" fill=\"dimgrey\">Nr.3</text>\r\n",
       "</g>\r\n",
       "<!-- 1&#45;&gt;3 -->\r\n",
       "<g id=\"edge2\" class=\"edge\">\r\n",
       "<title>1&#45;&gt;3</title>\r\n",
       "<path fill=\"none\" stroke=\"black\" d=\"M80.21,-103.25C84.84,-91 90.72,-75.41 95.96,-61.53\"/>\r\n",
       "<polygon fill=\"black\" stroke=\"black\" points=\"99.38,-62.39 99.64,-51.8 92.83,-59.92 99.38,-62.39\"/>\r\n",
       "<g id=\"a_edge2&#45;label\"><a xlink:title=\"True\">\r\n",
       "<text text-anchor=\"middle\" x=\"105\" y=\"-73.8\" font-family=\"Times New Roman,serif\" font-size=\"14.00\">True</text>\r\n",
       "</a>\r\n",
       "</g>\r\n",
       "</g>\r\n",
       "</g>\r\n",
       "</svg>\r\n"
      ],
      "text/plain": [
       "<graphviz.dot.Digraph at 0x17d589a4ec8>"
      ]
     },
     "execution_count": 38,
     "metadata": {},
     "output_type": "execute_result"
    }
   ],
   "source": [
    "#einen Datensplit mit selbst gewähltem Merkmal\n",
    "tree.manual_split(attribute = 'Computer_Besitz')\n",
    "\n",
    "#Eintscheidungsbaum visualisieren\n",
    "tree.print_tree()"
   ]
  },
  {
   "cell_type": "markdown",
   "metadata": {},
   "source": [
    "<div class=\"panel panel-success\">\n",
    "    <div class=\"panel-heading\">\n",
    "        <b> Erklärung - Ein einstufiger Entscheidungsbaum</b>\n",
    "    </div>\n",
    "    <div class=\"panel-body\">\n",
    "        \n",
    "Dem Entscheidungsbaum wird mit der Methode manual_split() eine Entscheidungsregel hinzugefügt, indem mit der übergebenen Variable (Computer_Besitz) ein Datensplit durchgeführt wird. Der Datensatz wird somit in die Computerbesitzer (True) und die nicht-Computerbesitzer (False) aufgeteilt. In beiden Gruppen wird eine Mehrheitsentscheidung getroffen.\n",
    "        \n",
    "Die resultierende Entscheidungsregel besagt: Computerbesitzer spielen häufig Onlinespiele und nicht-Computerbesitzer spielen selten Onlinespiele.\n",
    "        \n",
    "        \n",
    "Durch die Regel werden 53 Fälle falsch und 97 Fälle korrekt zugeordnet. Das entspricht einer Rate von ca. 64.7 % korrekter Zuordnungen."
   ]
  },
  {
   "cell_type": "code",
   "execution_count": 39,
   "metadata": {},
   "outputs": [
    {
     "data": {
      "text/html": [
       "<div>\n",
       "<style scoped>\n",
       "    .dataframe tbody tr th:only-of-type {\n",
       "        vertical-align: middle;\n",
       "    }\n",
       "\n",
       "    .dataframe tbody tr th {\n",
       "        vertical-align: top;\n",
       "    }\n",
       "\n",
       "    .dataframe thead th {\n",
       "        text-align: right;\n",
       "    }\n",
       "</style>\n",
       "<table border=\"1\" class=\"dataframe\">\n",
       "  <thead>\n",
       "    <tr style=\"text-align: right;\">\n",
       "      <th>prediction</th>\n",
       "      <th>Häufig</th>\n",
       "      <th>Selten</th>\n",
       "    </tr>\n",
       "    <tr>\n",
       "      <th>correct</th>\n",
       "      <th></th>\n",
       "      <th></th>\n",
       "    </tr>\n",
       "  </thead>\n",
       "  <tbody>\n",
       "    <tr>\n",
       "      <th>Häufig</th>\n",
       "      <td>40</td>\n",
       "      <td>33</td>\n",
       "    </tr>\n",
       "    <tr>\n",
       "      <th>Selten</th>\n",
       "      <td>20</td>\n",
       "      <td>57</td>\n",
       "    </tr>\n",
       "  </tbody>\n",
       "</table>\n",
       "</div>"
      ],
      "text/plain": [
       "prediction Häufig Selten\n",
       "correct                 \n",
       "Häufig         40     33\n",
       "Selten         20     57"
      ]
     },
     "metadata": {},
     "output_type": "display_data"
    },
    {
     "data": {
      "text/plain": [
       "0.6466666666666666"
      ]
     },
     "execution_count": 39,
     "metadata": {},
     "output_type": "execute_result"
    }
   ],
   "source": [
    "# Die Rate korrekter Klassifikationen und eine Confusion Matrix ausgeben \n",
    "tree.prediction_accuracy(df_jim_bin, conf_mat=True)"
   ]
  },
  {
   "cell_type": "markdown",
   "metadata": {},
   "source": [
    "## Einen mehrstufigen Entscheidungsbaum erstellen"
   ]
  },
  {
   "cell_type": "code",
   "execution_count": 49,
   "metadata": {},
   "outputs": [
    {
     "data": {
      "image/svg+xml": [
       "<?xml version=\"1.0\" encoding=\"UTF-8\" standalone=\"no\"?>\r\n",
       "<!DOCTYPE svg PUBLIC \"-//W3C//DTD SVG 1.1//EN\"\r\n",
       " \"http://www.w3.org/Graphics/SVG/1.1/DTD/svg11.dtd\">\r\n",
       "<!-- Generated by graphviz version 2.50.0 (0)\r\n",
       " -->\r\n",
       "<!-- Pages: 1 -->\r\n",
       "<svg width=\"224pt\" height=\"415pt\"\r\n",
       " viewBox=\"0.00 0.00 223.50 415.00\" xmlns=\"http://www.w3.org/2000/svg\" xmlns:xlink=\"http://www.w3.org/1999/xlink\">\r\n",
       "<g id=\"graph0\" class=\"graph\" transform=\"scale(1 1) rotate(0) translate(4 411)\">\r\n",
       "<polygon fill=\"white\" stroke=\"transparent\" points=\"-4,4 -4,-411 219.5,-411 219.5,4 -4,4\"/>\r\n",
       "<polygon fill=\"lightblue\" stroke=\"transparent\" points=\"8,-359 8,-403 138,-403 138,-359 8,-359\"/>\r\n",
       "<polygon fill=\"none\" stroke=\"black\" points=\"11,-381 11,-400 135,-400 135,-381 11,-381\"/>\r\n",
       "<text text-anchor=\"start\" x=\"14\" y=\"-387.4\" font-family=\"Times New Roman,serif\" font-size=\"12.00\">Spielen_OnlineSpiele? &#160;&#160;</text>\r\n",
       "<polygon fill=\"none\" stroke=\"black\" points=\"11,-362 11,-379 135,-379 135,-362 11,-362\"/>\r\n",
       "<text text-anchor=\"start\" x=\"37.5\" y=\"-368\" font-family=\"Times New Roman,serif\" font-size=\"10.00\" fill=\"dimgrey\">[&#39;Häufig&#39;, &#39;Selten&#39;]</text>\r\n",
       "<polygon fill=\"none\" stroke=\"black\" points=\"8,-359 8,-403 138,-403 138,-359 8,-359\"/>\r\n",
       "<!-- 1 -->\r\n",
       "<g id=\"node1\" class=\"node\">\r\n",
       "<title>1</title>\r\n",
       "<polygon fill=\"none\" stroke=\"black\" points=\"49.5,-309.5 49.5,-354.5 172.5,-354.5 172.5,-309.5 49.5,-309.5\"/>\r\n",
       "<text text-anchor=\"start\" x=\"95.5\" y=\"-342\" font-family=\"Times New Roman,serif\" font-size=\"10.00\" fill=\"dimgrey\">[73, 77]</text>\r\n",
       "<text text-anchor=\"start\" x=\"58\" y=\"-327.8\" font-family=\"Times New Roman,serif\" font-size=\"14.00\">Nutzen_Instagram?</text>\r\n",
       "<text text-anchor=\"start\" x=\"146\" y=\"-316\" font-family=\"Times New Roman,serif\" font-size=\"10.00\" fill=\"dimgrey\">Nr.1</text>\r\n",
       "</g>\r\n",
       "<!-- 2 -->\r\n",
       "<g id=\"node2\" class=\"node\">\r\n",
       "<title>2</title>\r\n",
       "<polygon fill=\"none\" stroke=\"black\" points=\"0,-209.5 0,-254.5 118,-254.5 118,-209.5 0,-209.5\"/>\r\n",
       "<text text-anchor=\"start\" x=\"43\" y=\"-242\" font-family=\"Times New Roman,serif\" font-size=\"10.00\" fill=\"dimgrey\">[52, 59]</text>\r\n",
       "<text text-anchor=\"start\" x=\"8\" y=\"-227.8\" font-family=\"Times New Roman,serif\" font-size=\"14.00\">Computer_Besitz?</text>\r\n",
       "<text text-anchor=\"start\" x=\"91\" y=\"-216\" font-family=\"Times New Roman,serif\" font-size=\"10.00\" fill=\"dimgrey\">Nr.2</text>\r\n",
       "</g>\r\n",
       "<!-- 1&#45;&gt;2 -->\r\n",
       "<g id=\"edge1\" class=\"edge\">\r\n",
       "<title>1&#45;&gt;2</title>\r\n",
       "<path fill=\"none\" stroke=\"black\" d=\"M99.46,-309.25C92.39,-295.93 83.23,-278.67 75.41,-263.94\"/>\r\n",
       "<polygon fill=\"black\" stroke=\"black\" points=\"78.29,-261.88 70.51,-254.69 72.1,-265.16 78.29,-261.88\"/>\r\n",
       "<g id=\"a_edge1&#45;label\"><a xlink:title=\"Häufig\">\r\n",
       "<text text-anchor=\"middle\" x=\"109\" y=\"-279.8\" font-family=\"Times New Roman,serif\" font-size=\"14.00\">Häufig</text>\r\n",
       "</a>\r\n",
       "</g>\r\n",
       "</g>\r\n",
       "<!-- 3 -->\r\n",
       "<g id=\"node3\" class=\"node\">\r\n",
       "<title>3</title>\r\n",
       "<polygon fill=\"yellow\" stroke=\"yellow\" points=\"136,-206.5 136,-257.5 192,-257.5 192,-206.5 136,-206.5\"/>\r\n",
       "<text text-anchor=\"start\" x=\"148\" y=\"-244\" font-family=\"Times New Roman,serif\" font-size=\"10.00\" fill=\"dimgrey\">[21, 18]</text>\r\n",
       "<text text-anchor=\"start\" x=\"145\" y=\"-227.8\" font-family=\"Times New Roman,serif\" font-size=\"14.00\">Häufig</text>\r\n",
       "<text text-anchor=\"start\" x=\"164\" y=\"-214\" font-family=\"Times New Roman,serif\" font-size=\"10.00\" fill=\"dimgrey\">Nr.3</text>\r\n",
       "</g>\r\n",
       "<!-- 1&#45;&gt;3 -->\r\n",
       "<g id=\"edge2\" class=\"edge\">\r\n",
       "<title>1&#45;&gt;3</title>\r\n",
       "<path fill=\"none\" stroke=\"black\" d=\"M122.76,-309.25C129.52,-296.76 138.14,-280.81 145.76,-266.73\"/>\r\n",
       "<polygon fill=\"black\" stroke=\"black\" points=\"148.91,-268.26 150.59,-257.8 142.75,-264.93 148.91,-268.26\"/>\r\n",
       "<g id=\"a_edge2&#45;label\"><a xlink:title=\"Selten\">\r\n",
       "<text text-anchor=\"middle\" x=\"158\" y=\"-279.8\" font-family=\"Times New Roman,serif\" font-size=\"14.00\">Selten</text>\r\n",
       "</a>\r\n",
       "</g>\r\n",
       "</g>\r\n",
       "<!-- 4 -->\r\n",
       "<g id=\"node4\" class=\"node\">\r\n",
       "<title>4</title>\r\n",
       "<polygon fill=\"yellow\" stroke=\"yellow\" points=\"6,-103.5 6,-154.5 60,-154.5 60,-103.5 6,-103.5\"/>\r\n",
       "<text text-anchor=\"start\" x=\"17\" y=\"-141\" font-family=\"Times New Roman,serif\" font-size=\"10.00\" fill=\"dimgrey\">[22, 42]</text>\r\n",
       "<text text-anchor=\"start\" x=\"16\" y=\"-124.8\" font-family=\"Times New Roman,serif\" font-size=\"14.00\">Selten</text>\r\n",
       "<text text-anchor=\"start\" x=\"31\" y=\"-111\" font-family=\"Times New Roman,serif\" font-size=\"10.00\" fill=\"dimgrey\">Nr.4</text>\r\n",
       "</g>\r\n",
       "<!-- 2&#45;&gt;4 -->\r\n",
       "<g id=\"edge3\" class=\"edge\">\r\n",
       "<title>2&#45;&gt;4</title>\r\n",
       "<path fill=\"none\" stroke=\"black\" d=\"M53.36,-209.08C50.01,-196.07 45.69,-179.29 41.89,-164.53\"/>\r\n",
       "<polygon fill=\"black\" stroke=\"black\" points=\"45.24,-163.52 39.36,-154.71 38.46,-165.27 45.24,-163.52\"/>\r\n",
       "<g id=\"a_edge3&#45;label\"><a xlink:title=\"False\">\r\n",
       "<text text-anchor=\"middle\" x=\"62.5\" y=\"-176.8\" font-family=\"Times New Roman,serif\" font-size=\"14.00\">False</text>\r\n",
       "</a>\r\n",
       "</g>\r\n",
       "</g>\r\n",
       "<!-- 5 -->\r\n",
       "<g id=\"node5\" class=\"node\">\r\n",
       "<title>5</title>\r\n",
       "<polygon fill=\"none\" stroke=\"black\" points=\"78.5,-106.5 78.5,-151.5 215.5,-151.5 215.5,-106.5 78.5,-106.5\"/>\r\n",
       "<text text-anchor=\"start\" x=\"131.5\" y=\"-139\" font-family=\"Times New Roman,serif\" font-size=\"10.00\" fill=\"dimgrey\">[30, 17]</text>\r\n",
       "<text text-anchor=\"start\" x=\"87\" y=\"-124.8\" font-family=\"Times New Roman,serif\" font-size=\"14.00\">FesteKonsole_Besitz?</text>\r\n",
       "<text text-anchor=\"start\" x=\"189\" y=\"-113\" font-family=\"Times New Roman,serif\" font-size=\"10.00\" fill=\"dimgrey\">Nr.5</text>\r\n",
       "</g>\r\n",
       "<!-- 2&#45;&gt;5 -->\r\n",
       "<g id=\"edge4\" class=\"edge\">\r\n",
       "<title>2&#45;&gt;5</title>\r\n",
       "<path fill=\"none\" stroke=\"black\" d=\"M78.09,-209.08C90.75,-194.56 107.5,-175.33 121.32,-159.47\"/>\r\n",
       "<polygon fill=\"black\" stroke=\"black\" points=\"124.31,-161.36 128.24,-151.53 119.04,-156.77 124.31,-161.36\"/>\r\n",
       "<g id=\"a_edge4&#45;label\"><a xlink:title=\"True\">\r\n",
       "<text text-anchor=\"middle\" x=\"122\" y=\"-176.8\" font-family=\"Times New Roman,serif\" font-size=\"14.00\">True</text>\r\n",
       "</a>\r\n",
       "</g>\r\n",
       "</g>\r\n",
       "<!-- 6 -->\r\n",
       "<g id=\"node6\" class=\"node\">\r\n",
       "<title>6</title>\r\n",
       "<polygon fill=\"yellow\" stroke=\"yellow\" points=\"82,-0.5 82,-51.5 138,-51.5 138,-0.5 82,-0.5\"/>\r\n",
       "<text text-anchor=\"start\" x=\"97\" y=\"-38\" font-family=\"Times New Roman,serif\" font-size=\"10.00\" fill=\"dimgrey\">[11, 8]</text>\r\n",
       "<text text-anchor=\"start\" x=\"91\" y=\"-21.8\" font-family=\"Times New Roman,serif\" font-size=\"14.00\">Häufig</text>\r\n",
       "<text text-anchor=\"start\" x=\"110\" y=\"-8\" font-family=\"Times New Roman,serif\" font-size=\"10.00\" fill=\"dimgrey\">Nr.6</text>\r\n",
       "</g>\r\n",
       "<!-- 5&#45;&gt;6 -->\r\n",
       "<g id=\"edge5\" class=\"edge\">\r\n",
       "<title>5&#45;&gt;6</title>\r\n",
       "<path fill=\"none\" stroke=\"black\" d=\"M138.97,-106.08C134.16,-92.95 127.94,-75.97 122.49,-61.11\"/>\r\n",
       "<polygon fill=\"black\" stroke=\"black\" points=\"125.78,-59.9 119.05,-51.71 119.21,-62.31 125.78,-59.9\"/>\r\n",
       "<g id=\"a_edge5&#45;label\"><a xlink:title=\"False\">\r\n",
       "<text text-anchor=\"middle\" x=\"145.5\" y=\"-73.8\" font-family=\"Times New Roman,serif\" font-size=\"14.00\">False</text>\r\n",
       "</a>\r\n",
       "</g>\r\n",
       "</g>\r\n",
       "<!-- 7 -->\r\n",
       "<g id=\"node7\" class=\"node\">\r\n",
       "<title>7</title>\r\n",
       "<polygon fill=\"yellow\" stroke=\"yellow\" points=\"156,-0.5 156,-51.5 212,-51.5 212,-0.5 156,-0.5\"/>\r\n",
       "<text text-anchor=\"start\" x=\"170.5\" y=\"-38\" font-family=\"Times New Roman,serif\" font-size=\"10.00\" fill=\"dimgrey\">[19, 9]</text>\r\n",
       "<text text-anchor=\"start\" x=\"165\" y=\"-21.8\" font-family=\"Times New Roman,serif\" font-size=\"14.00\">Häufig</text>\r\n",
       "<text text-anchor=\"start\" x=\"184\" y=\"-8\" font-family=\"Times New Roman,serif\" font-size=\"10.00\" fill=\"dimgrey\">Nr.7</text>\r\n",
       "</g>\r\n",
       "<!-- 5&#45;&gt;7 -->\r\n",
       "<g id=\"edge6\" class=\"edge\">\r\n",
       "<title>5&#45;&gt;7</title>\r\n",
       "<path fill=\"none\" stroke=\"black\" d=\"M155.03,-106.08C159.84,-92.95 166.06,-75.97 171.51,-61.11\"/>\r\n",
       "<polygon fill=\"black\" stroke=\"black\" points=\"174.79,-62.31 174.95,-51.71 168.22,-59.9 174.79,-62.31\"/>\r\n",
       "<g id=\"a_edge6&#45;label\"><a xlink:title=\"True\">\r\n",
       "<text text-anchor=\"middle\" x=\"181\" y=\"-73.8\" font-family=\"Times New Roman,serif\" font-size=\"14.00\">True</text>\r\n",
       "</a>\r\n",
       "</g>\r\n",
       "</g>\r\n",
       "</g>\r\n",
       "</svg>\r\n"
      ],
      "text/plain": [
       "<graphviz.dot.Digraph at 0x17d5899b048>"
      ]
     },
     "execution_count": 49,
     "metadata": {},
     "output_type": "execute_result"
    }
   ],
   "source": [
    "#Mehrstufigen Entscheidungsbaum ertellen \n",
    "tree.manual_split(attribute = 'Nutzen_Instagram')\n",
    "tree.manual_split(attribute = 'Computer_Besitz', node_nr = 2)\n",
    "tree.manual_split(attribute = 'FesteKonsole_Besitz', node_nr = 5)\n",
    "\n",
    "#Eintscheidungsbaum visualisieren\n",
    "tree.print_tree()"
   ]
  },
  {
   "cell_type": "markdown",
   "metadata": {},
   "source": [
    "<div class=\"panel panel-success\">\n",
    "    <div class=\"panel-heading\">\n",
    "        <b> Erklärung - Ein mehrstufiger Entscheidungsbaum</b>\n",
    "    </div>\n",
    "    <div class=\"panel-body\">\n",
    "\n",
    "Dies ist ein mehrstufiger Entscheidungsbaum der Tiefe 3. D.h. es sind maximal 3 Entscheidungsregeln in einem Pfad des Baums.       \n",
    "       \n",
    "Für einen mehrstufigen Entscheidungsbaum können mit dem gleichen Befehl manual_split() immer weitere Entscheidungsregeln hinzugefügt werden, indem eine Variable und eine Knotennummer (node_nr) übergeben werden. Die Knotennummer gibt an, an welcher Stelle die neue Entscheidungsregel angefügt wird.\n",
    "        \n",
    "Die Knotennummer steht auf jedem Knoten unten rechts."
   ]
  },
  {
   "cell_type": "markdown",
   "metadata": {},
   "source": [
    "<div class=\"panel panel-info\">\n",
    "    <div class=\"panel-heading\">\n",
    "        <b>Aufgabe</b>\n",
    "    </div>\n",
    "    <div class=\"panel-body\">\n",
    "\n",
    "Erstelle manuell einen mehrstufigen Entscheidungsbaum, der mindestens 80 % der Fälle korrekt klassifiziert und maximal die Tiefe 3 hat."
   ]
  },
  {
   "cell_type": "code",
   "execution_count": null,
   "metadata": {},
   "outputs": [],
   "source": [
    "# Hier ist PLatz für deinen Code"
   ]
  },
  {
   "cell_type": "code",
   "execution_count": 48,
   "metadata": {},
   "outputs": [
    {
     "data": {
      "text/html": [
       "<div>\n",
       "<style scoped>\n",
       "    .dataframe tbody tr th:only-of-type {\n",
       "        vertical-align: middle;\n",
       "    }\n",
       "\n",
       "    .dataframe tbody tr th {\n",
       "        vertical-align: top;\n",
       "    }\n",
       "\n",
       "    .dataframe thead th {\n",
       "        text-align: right;\n",
       "    }\n",
       "</style>\n",
       "<table border=\"1\" class=\"dataframe\">\n",
       "  <thead>\n",
       "    <tr style=\"text-align: right;\">\n",
       "      <th>prediction</th>\n",
       "      <th>Häufig</th>\n",
       "      <th>Selten</th>\n",
       "    </tr>\n",
       "    <tr>\n",
       "      <th>correct</th>\n",
       "      <th></th>\n",
       "      <th></th>\n",
       "    </tr>\n",
       "  </thead>\n",
       "  <tbody>\n",
       "    <tr>\n",
       "      <th>Häufig</th>\n",
       "      <td>51</td>\n",
       "      <td>22</td>\n",
       "    </tr>\n",
       "    <tr>\n",
       "      <th>Selten</th>\n",
       "      <td>35</td>\n",
       "      <td>42</td>\n",
       "    </tr>\n",
       "  </tbody>\n",
       "</table>\n",
       "</div>"
      ],
      "text/plain": [
       "prediction Häufig Selten\n",
       "correct                 \n",
       "Häufig         51     22\n",
       "Selten         35     42"
      ]
     },
     "metadata": {},
     "output_type": "display_data"
    },
    {
     "data": {
      "text/plain": [
       "0.62"
      ]
     },
     "execution_count": 48,
     "metadata": {},
     "output_type": "execute_result"
    }
   ],
   "source": [
    "# Die Rate korrekter Klassifikationen und eine Confusion Matrix ausgeben \n",
    "tree.prediction_accuracy(df_jim_bin, conf_mat=True)"
   ]
  },
  {
   "cell_type": "markdown",
   "metadata": {
    "hide_input": true
   },
   "source": [
    "# Entscheidungsbaum trainieren"
   ]
  },
  {
   "cell_type": "markdown",
   "metadata": {},
   "source": [
    "## Entscheidungsregel automatisch suchen lassen"
   ]
  },
  {
   "cell_type": "code",
   "execution_count": 45,
   "metadata": {},
   "outputs": [
    {
     "data": {
      "text/html": [
       "<div>\n",
       "<style scoped>\n",
       "    .dataframe tbody tr th:only-of-type {\n",
       "        vertical-align: middle;\n",
       "    }\n",
       "\n",
       "    .dataframe tbody tr th {\n",
       "        vertical-align: top;\n",
       "    }\n",
       "\n",
       "    .dataframe thead th {\n",
       "        text-align: right;\n",
       "    }\n",
       "</style>\n",
       "<table border=\"1\" class=\"dataframe\">\n",
       "  <thead>\n",
       "    <tr style=\"text-align: right;\">\n",
       "      <th></th>\n",
       "      <th>Attribute</th>\n",
       "      <th>Threshold</th>\n",
       "      <th>Criterion</th>\n",
       "    </tr>\n",
       "  </thead>\n",
       "  <tbody>\n",
       "    <tr>\n",
       "      <th>0</th>\n",
       "      <td>Youtube_LetsPlay</td>\n",
       "      <td>None</td>\n",
       "      <td>0.262</td>\n",
       "    </tr>\n",
       "    <tr>\n",
       "      <th>1</th>\n",
       "      <td>Geschlecht</td>\n",
       "      <td>None</td>\n",
       "      <td>0.213</td>\n",
       "    </tr>\n",
       "    <tr>\n",
       "      <th>2</th>\n",
       "      <td>Computer_Besitz</td>\n",
       "      <td>None</td>\n",
       "      <td>0.133</td>\n",
       "    </tr>\n",
       "    <tr>\n",
       "      <th>3</th>\n",
       "      <td>FesteKonsole_Besitz</td>\n",
       "      <td>None</td>\n",
       "      <td>0.120</td>\n",
       "    </tr>\n",
       "    <tr>\n",
       "      <th>4</th>\n",
       "      <td>Youtube_LustigeClips</td>\n",
       "      <td>None</td>\n",
       "      <td>0.095</td>\n",
       "    </tr>\n",
       "    <tr>\n",
       "      <th>5</th>\n",
       "      <td>Nutzen_Snapchat</td>\n",
       "      <td>None</td>\n",
       "      <td>0.073</td>\n",
       "    </tr>\n",
       "    <tr>\n",
       "      <th>6</th>\n",
       "      <td>Youtube_ModeBeauty</td>\n",
       "      <td>None</td>\n",
       "      <td>0.071</td>\n",
       "    </tr>\n",
       "    <tr>\n",
       "      <th>7</th>\n",
       "      <td>Nutzen_Twitter</td>\n",
       "      <td>None</td>\n",
       "      <td>0.067</td>\n",
       "    </tr>\n",
       "    <tr>\n",
       "      <th>8</th>\n",
       "      <td>Youtube_Sportvideos</td>\n",
       "      <td>None</td>\n",
       "      <td>0.053</td>\n",
       "    </tr>\n",
       "    <tr>\n",
       "      <th>9</th>\n",
       "      <td>Youtube_Musikvideos</td>\n",
       "      <td>None</td>\n",
       "      <td>0.041</td>\n",
       "    </tr>\n",
       "    <tr>\n",
       "      <th>10</th>\n",
       "      <td>E_Reader_Besitz</td>\n",
       "      <td>None</td>\n",
       "      <td>0.033</td>\n",
       "    </tr>\n",
       "    <tr>\n",
       "      <th>11</th>\n",
       "      <td>Nutzen_Instagram</td>\n",
       "      <td>None</td>\n",
       "      <td>0.020</td>\n",
       "    </tr>\n",
       "    <tr>\n",
       "      <th>12</th>\n",
       "      <td>Tablet_Besitz</td>\n",
       "      <td>None</td>\n",
       "      <td>0.013</td>\n",
       "    </tr>\n",
       "    <tr>\n",
       "      <th>13</th>\n",
       "      <td>Smartphone_Besitz</td>\n",
       "      <td>None</td>\n",
       "      <td>0.000</td>\n",
       "    </tr>\n",
       "  </tbody>\n",
       "</table>\n",
       "</div>"
      ],
      "text/plain": [
       "               Attribute Threshold  Criterion\n",
       "0       Youtube_LetsPlay      None      0.262\n",
       "1             Geschlecht      None      0.213\n",
       "2        Computer_Besitz      None      0.133\n",
       "3    FesteKonsole_Besitz      None      0.120\n",
       "4   Youtube_LustigeClips      None      0.095\n",
       "5        Nutzen_Snapchat      None      0.073\n",
       "6     Youtube_ModeBeauty      None      0.071\n",
       "7         Nutzen_Twitter      None      0.067\n",
       "8    Youtube_Sportvideos      None      0.053\n",
       "9    Youtube_Musikvideos      None      0.041\n",
       "10       E_Reader_Besitz      None      0.033\n",
       "11      Nutzen_Instagram      None      0.020\n",
       "12         Tablet_Besitz      None      0.013\n",
       "13     Smartphone_Besitz      None      0.000"
      ]
     },
     "execution_count": 45,
     "metadata": {},
     "output_type": "execute_result"
    }
   ],
   "source": [
    "tree.manual_split(attribute = 'auto', doc=True)"
   ]
  },
  {
   "cell_type": "markdown",
   "metadata": {},
   "source": [
    "## Einen ganzen Entscheidungsbaum automatisch erstellen lassen"
   ]
  },
  {
   "cell_type": "code",
   "execution_count": 58,
   "metadata": {
    "code_folding": [],
    "hide_input": false,
    "scrolled": false
   },
   "outputs": [
    {
     "data": {
      "image/svg+xml": [
       "<?xml version=\"1.0\" encoding=\"UTF-8\" standalone=\"no\"?>\r\n",
       "<!DOCTYPE svg PUBLIC \"-//W3C//DTD SVG 1.1//EN\"\r\n",
       " \"http://www.w3.org/Graphics/SVG/1.1/DTD/svg11.dtd\">\r\n",
       "<!-- Generated by graphviz version 2.50.0 (0)\r\n",
       " -->\r\n",
       "<!-- Pages: 1 -->\r\n",
       "<svg width=\"154pt\" height=\"209pt\"\r\n",
       " viewBox=\"0.00 0.00 154.00 209.00\" xmlns=\"http://www.w3.org/2000/svg\" xmlns:xlink=\"http://www.w3.org/1999/xlink\">\r\n",
       "<g id=\"graph0\" class=\"graph\" transform=\"scale(1 1) rotate(0) translate(4 205)\">\r\n",
       "<polygon fill=\"white\" stroke=\"transparent\" points=\"-4,4 -4,-205 150,-205 150,4 -4,4\"/>\r\n",
       "<polygon fill=\"lightblue\" stroke=\"transparent\" points=\"8,-153 8,-197 138,-197 138,-153 8,-153\"/>\r\n",
       "<polygon fill=\"none\" stroke=\"black\" points=\"11,-175 11,-194 135,-194 135,-175 11,-175\"/>\r\n",
       "<text text-anchor=\"start\" x=\"14\" y=\"-181.4\" font-family=\"Times New Roman,serif\" font-size=\"12.00\">Spielen_OnlineSpiele? &#160;&#160;</text>\r\n",
       "<polygon fill=\"none\" stroke=\"black\" points=\"11,-156 11,-173 135,-173 135,-156 11,-156\"/>\r\n",
       "<text text-anchor=\"start\" x=\"37.5\" y=\"-162\" font-family=\"Times New Roman,serif\" font-size=\"10.00\" fill=\"dimgrey\">[&#39;Häufig&#39;, &#39;Selten&#39;]</text>\r\n",
       "<polygon fill=\"none\" stroke=\"black\" points=\"8,-153 8,-197 138,-197 138,-153 8,-153\"/>\r\n",
       "<!-- 1 -->\r\n",
       "<g id=\"node1\" class=\"node\">\r\n",
       "<title>1</title>\r\n",
       "<polygon fill=\"none\" stroke=\"black\" points=\"12,-103.5 12,-148.5 134,-148.5 134,-103.5 12,-103.5\"/>\r\n",
       "<text text-anchor=\"start\" x=\"57\" y=\"-136\" font-family=\"Times New Roman,serif\" font-size=\"10.00\" fill=\"dimgrey\">[73, 77]</text>\r\n",
       "<text text-anchor=\"start\" x=\"20\" y=\"-121.8\" font-family=\"Times New Roman,serif\" font-size=\"14.00\">Youtube_LetsPlay?</text>\r\n",
       "<text text-anchor=\"start\" x=\"107\" y=\"-110\" font-family=\"Times New Roman,serif\" font-size=\"10.00\" fill=\"dimgrey\">Nr.1</text>\r\n",
       "</g>\r\n",
       "<!-- 2 -->\r\n",
       "<g id=\"node2\" class=\"node\">\r\n",
       "<title>2</title>\r\n",
       "<polygon fill=\"yellow\" stroke=\"yellow\" points=\"9,-0.5 9,-51.5 65,-51.5 65,-0.5 9,-0.5\"/>\r\n",
       "<text text-anchor=\"start\" x=\"23.5\" y=\"-38\" font-family=\"Times New Roman,serif\" font-size=\"10.00\" fill=\"dimgrey\">[45, 6]</text>\r\n",
       "<text text-anchor=\"start\" x=\"18\" y=\"-21.8\" font-family=\"Times New Roman,serif\" font-size=\"14.00\">Häufig</text>\r\n",
       "<text text-anchor=\"start\" x=\"37\" y=\"-8\" font-family=\"Times New Roman,serif\" font-size=\"10.00\" fill=\"dimgrey\">Nr.2</text>\r\n",
       "</g>\r\n",
       "<!-- 1&#45;&gt;2 -->\r\n",
       "<g id=\"edge1\" class=\"edge\">\r\n",
       "<title>1&#45;&gt;2</title>\r\n",
       "<path fill=\"none\" stroke=\"black\" d=\"M58.87,-103.17C55.6,-97.43 52.38,-91.12 50,-85 47.14,-77.64 44.82,-69.51 42.99,-61.71\"/>\r\n",
       "<polygon fill=\"black\" stroke=\"black\" points=\"46.37,-60.79 40.84,-51.75 39.53,-62.27 46.37,-60.79\"/>\r\n",
       "<g id=\"a_edge1&#45;label\"><a xlink:title=\"Häufig\">\r\n",
       "<text text-anchor=\"middle\" x=\"69\" y=\"-73.8\" font-family=\"Times New Roman,serif\" font-size=\"14.00\">Häufig</text>\r\n",
       "</a>\r\n",
       "</g>\r\n",
       "</g>\r\n",
       "<!-- 3 -->\r\n",
       "<g id=\"node3\" class=\"node\">\r\n",
       "<title>3</title>\r\n",
       "<polygon fill=\"yellow\" stroke=\"yellow\" points=\"83,-0.5 83,-51.5 137,-51.5 137,-0.5 83,-0.5\"/>\r\n",
       "<text text-anchor=\"start\" x=\"94\" y=\"-38\" font-family=\"Times New Roman,serif\" font-size=\"10.00\" fill=\"dimgrey\">[27, 69]</text>\r\n",
       "<text text-anchor=\"start\" x=\"93\" y=\"-21.8\" font-family=\"Times New Roman,serif\" font-size=\"14.00\">Selten</text>\r\n",
       "<text text-anchor=\"start\" x=\"108\" y=\"-8\" font-family=\"Times New Roman,serif\" font-size=\"10.00\" fill=\"dimgrey\">Nr.3</text>\r\n",
       "</g>\r\n",
       "<!-- 1&#45;&gt;3 -->\r\n",
       "<g id=\"edge2\" class=\"edge\">\r\n",
       "<title>1&#45;&gt;3</title>\r\n",
       "<path fill=\"none\" stroke=\"black\" d=\"M81.21,-103.25C85.84,-91 91.72,-75.41 96.96,-61.53\"/>\r\n",
       "<polygon fill=\"black\" stroke=\"black\" points=\"100.38,-62.39 100.64,-51.8 93.83,-59.92 100.38,-62.39\"/>\r\n",
       "<g id=\"a_edge2&#45;label\"><a xlink:title=\"Selten\">\r\n",
       "<text text-anchor=\"middle\" x=\"110\" y=\"-73.8\" font-family=\"Times New Roman,serif\" font-size=\"14.00\">Selten</text>\r\n",
       "</a>\r\n",
       "</g>\r\n",
       "</g>\r\n",
       "</g>\r\n",
       "</svg>\r\n"
      ],
      "text/plain": [
       "<graphviz.dot.Digraph at 0x17d58afa848>"
      ]
     },
     "execution_count": 58,
     "metadata": {},
     "output_type": "execute_result"
    }
   ],
   "source": [
    "#Entscheidungsbaum initialisieren \n",
    "tree2 = ct.DecisionTree(data = df_jim_bin, target = 'Spielen_OnlineSpiele', crit = 'misclassification_error')\n",
    "\n",
    "#Entscheidungsbaum automnatisiert erstellen \n",
    "tree2.grow_tree(max_depth = 1)\n",
    "\n",
    "#Entscheidungsbaum visualisieren\n",
    "tree2.print_tree()"
   ]
  },
  {
   "cell_type": "markdown",
   "metadata": {},
   "source": [
    "<div class=\"panel panel-success\">\n",
    "    <div class=\"panel-heading\">\n",
    "        <b> Erklärung - Entscheidungsbaum automatisch erstellen</b>\n",
    "    </div>\n",
    "    <div class=\"panel-body\">\n",
    "\n",
    "Um einen Entscheidungsbaum automatisiert zu erstellen kann der Befehl grow_tree() genutzt werden. Dabei kann eine maximale Tiefe (max_depth) für den Entscheidungsbaum übergeben werden. Wenn keine maximale Tiefe angegeben wird, bricht der Prozess erst ab, wenn alle Fälle des Trainingsdatensatzes korrekt klassifiziert werden, oder keine Variablen mehr für weitere Entscheidungsregeln übrig sind."
   ]
  },
  {
   "cell_type": "code",
   "execution_count": 59,
   "metadata": {},
   "outputs": [
    {
     "data": {
      "text/html": [
       "<div>\n",
       "<style scoped>\n",
       "    .dataframe tbody tr th:only-of-type {\n",
       "        vertical-align: middle;\n",
       "    }\n",
       "\n",
       "    .dataframe tbody tr th {\n",
       "        vertical-align: top;\n",
       "    }\n",
       "\n",
       "    .dataframe thead th {\n",
       "        text-align: right;\n",
       "    }\n",
       "</style>\n",
       "<table border=\"1\" class=\"dataframe\">\n",
       "  <thead>\n",
       "    <tr style=\"text-align: right;\">\n",
       "      <th>prediction</th>\n",
       "      <th>Häufig</th>\n",
       "      <th>Selten</th>\n",
       "    </tr>\n",
       "    <tr>\n",
       "      <th>correct</th>\n",
       "      <th></th>\n",
       "      <th></th>\n",
       "    </tr>\n",
       "  </thead>\n",
       "  <tbody>\n",
       "    <tr>\n",
       "      <th>Häufig</th>\n",
       "      <td>45</td>\n",
       "      <td>28</td>\n",
       "    </tr>\n",
       "    <tr>\n",
       "      <th>Selten</th>\n",
       "      <td>6</td>\n",
       "      <td>71</td>\n",
       "    </tr>\n",
       "  </tbody>\n",
       "</table>\n",
       "</div>"
      ],
      "text/plain": [
       "prediction Häufig Selten\n",
       "correct                 \n",
       "Häufig         45     28\n",
       "Selten          6     71"
      ]
     },
     "metadata": {},
     "output_type": "display_data"
    },
    {
     "data": {
      "text/plain": [
       "0.7733333333333333"
      ]
     },
     "execution_count": 59,
     "metadata": {},
     "output_type": "execute_result"
    }
   ],
   "source": [
    "tree2.prediction_accuracy(df_jim_bin, conf_mat=True)"
   ]
  },
  {
   "cell_type": "markdown",
   "metadata": {},
   "source": [
    "## Testdaten"
   ]
  },
  {
   "cell_type": "markdown",
   "metadata": {},
   "source": [
    "<div class=\"panel panel-success\">\n",
    "    <div class=\"panel-heading\">\n",
    "        <b> Erklärung - Entscheidungsbaum automatisch erstellen</b>\n",
    "    </div>\n",
    "    <div class=\"panel-body\">\n",
    "\n",
    "Um einen Entscheidungsbaum richtig bewerten zu können müssen neue Daten, sogenannte Testdaten, herangezogen werden."
   ]
  },
  {
   "cell_type": "code",
   "execution_count": 62,
   "metadata": {},
   "outputs": [],
   "source": [
    "df_jim_bin_test = pd.read_csv('Daten/Test/jim_binaer.csv', sep = ';')\n",
    "\n",
    "df_jim_bin_test"
   ]
  },
  {
   "cell_type": "code",
   "execution_count": 61,
   "metadata": {},
   "outputs": [
    {
     "data": {
      "text/html": [
       "<div>\n",
       "<style scoped>\n",
       "    .dataframe tbody tr th:only-of-type {\n",
       "        vertical-align: middle;\n",
       "    }\n",
       "\n",
       "    .dataframe tbody tr th {\n",
       "        vertical-align: top;\n",
       "    }\n",
       "\n",
       "    .dataframe thead th {\n",
       "        text-align: right;\n",
       "    }\n",
       "</style>\n",
       "<table border=\"1\" class=\"dataframe\">\n",
       "  <thead>\n",
       "    <tr style=\"text-align: right;\">\n",
       "      <th>prediction</th>\n",
       "      <th>Häufig</th>\n",
       "      <th>Selten</th>\n",
       "    </tr>\n",
       "    <tr>\n",
       "      <th>correct</th>\n",
       "      <th></th>\n",
       "      <th></th>\n",
       "    </tr>\n",
       "  </thead>\n",
       "  <tbody>\n",
       "    <tr>\n",
       "      <th>Häufig</th>\n",
       "      <td>25</td>\n",
       "      <td>14</td>\n",
       "    </tr>\n",
       "    <tr>\n",
       "      <th>Selten</th>\n",
       "      <td>4</td>\n",
       "      <td>38</td>\n",
       "    </tr>\n",
       "  </tbody>\n",
       "</table>\n",
       "</div>"
      ],
      "text/plain": [
       "prediction Häufig Selten\n",
       "correct                 \n",
       "Häufig         25     14\n",
       "Selten          4     38"
      ]
     },
     "metadata": {},
     "output_type": "display_data"
    },
    {
     "data": {
      "text/plain": [
       "0.7777777777777778"
      ]
     },
     "execution_count": 61,
     "metadata": {},
     "output_type": "execute_result"
    }
   ],
   "source": [
    "tree2.prediction_accuracy(df_jim_bin_test, conf_mat=True)"
   ]
  },
  {
   "cell_type": "markdown",
   "metadata": {},
   "source": [
    "<div class=\"panel panel-info\">\n",
    "    <div class=\"panel-heading\">\n",
    "        <b>Aufgabe</b>\n",
    "    </div>\n",
    "    <div class=\"panel-body\">\n",
    "\n",
    "Erstelle nach und nach automatisch Entscheidungsbäume der Tiefe 1, 2, 3, usw. bis zur Tiefe 10. Dokumentiere dabei für jede Stufe jeweils die Rate der korrekten Klassifikationen für die Trainings- und die Testdaten.\n",
    "        \n",
    "Fertige (gerne handschriftlich) eine Koordinatensystem an, in dem du auf der X-Achse die Tiefe des Baums und auf der Y-Achse die Rate der korrekten Klassifikationen abträgst. Zeichne für Trainings- und für Testdaten jeweils den Verlauf der korrekten Klassifikationen bei zunehmender Tiefe ein.\n",
    "        \n",
    "Was ist zu beobachten?\n",
    "        \n",
    "Wie erklärst du dir deine Beobachtung?"
   ]
  },
  {
   "cell_type": "markdown",
   "metadata": {},
   "source": [
    "<div class=\"panel panel-info\">\n",
    "    <div class=\"panel-heading\">\n",
    "        <b>Optionale Aufgabe</b>\n",
    "    </div>\n",
    "    <div class=\"panel-body\">\n",
    "\n",
    "Wenn du noch Zeit übrig hast, kanst du dir eine der folgenden Aktivitäten aussuchen\n",
    "        \n",
    "1. Suche den Baum der am besten für Testdaten funktioniert. Nutze dafür eine Kombination aus Pre-Pruning (maximale Tiefe begrenzen) und Post-Pruning (Später einzelne Knoten wieder abschneiden). Den Befehl für das Post Pruning findest du weiter unten.\n",
    "        \n",
    "2. Änderen den Datensatz auf jim_numerisch (s. u.) und exploriere was sich dadurch verändert."
   ]
  },
  {
   "cell_type": "code",
   "execution_count": 64,
   "metadata": {
    "hide_input": false,
    "scrolled": false
   },
   "outputs": [],
   "source": [
    "# Den Entscheidungsbaum an einem Knoten abschneiden\n",
    "tree.prune_node(2)\n",
    "        "
   ]
  },
  {
   "cell_type": "code",
   "execution_count": null,
   "metadata": {},
   "outputs": [],
   "source": [
    "#Alternativ kann auch ein anders aufbereiteter Datensatz genutzt werden, der nicht ausschlisßlich binär codierte Merkmale enthält\n",
    "df_jim_num = pd.read_csv('Daten/Training/jim_numerisch.csv', sep = ';')"
   ]
  }
 ],
 "metadata": {
  "kernelspec": {
   "display_name": "Python 3 (ipykernel)",
   "language": "python",
   "name": "python3"
  },
  "language_info": {
   "codemirror_mode": {
    "name": "ipython",
    "version": 3
   },
   "file_extension": ".py",
   "mimetype": "text/x-python",
   "name": "python",
   "nbconvert_exporter": "python",
   "pygments_lexer": "ipython3",
   "version": "3.7.13"
  },
  "toc": {
   "base_numbering": 1,
   "nav_menu": {},
   "number_sections": true,
   "sideBar": true,
   "skip_h1_title": false,
   "title_cell": "Table of Contents",
   "title_sidebar": "Contents",
   "toc_cell": false,
   "toc_position": {
    "height": "calc(100% - 180px)",
    "left": "10px",
    "top": "150px",
    "width": "384px"
   },
   "toc_section_display": true,
   "toc_window_display": false
  }
 },
 "nbformat": 4,
 "nbformat_minor": 2
}
