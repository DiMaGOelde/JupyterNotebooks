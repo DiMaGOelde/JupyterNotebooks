{
 "cells": [
  {
   "cell_type": "markdown",
   "metadata": {},
   "source": [
    "# Import"
   ]
  },
  {
   "cell_type": "code",
   "execution_count": 30,
   "metadata": {},
   "outputs": [
    {
     "data": {
      "text/html": [
       "        <script type=\"text/javascript\">\n",
       "        window.PlotlyConfig = {MathJaxConfig: 'local'};\n",
       "        if (window.MathJax && window.MathJax.Hub && window.MathJax.Hub.Config) {window.MathJax.Hub.Config({SVG: {font: \"STIX-Web\"}});}\n",
       "        if (typeof require !== 'undefined') {\n",
       "        require.undef(\"plotly\");\n",
       "        requirejs.config({\n",
       "            paths: {\n",
       "                'plotly': ['https://cdn.plot.ly/plotly-2.12.1.min']\n",
       "            }\n",
       "        });\n",
       "        require(['plotly'], function(Plotly) {\n",
       "            window._Plotly = Plotly;\n",
       "        });\n",
       "        }\n",
       "        </script>\n",
       "        "
      ]
     },
     "metadata": {},
     "output_type": "display_data"
    }
   ],
   "source": [
    "import pandas as pd\n",
    "import numpy as np\n",
    "\n",
    "#Importieren der Bibliothek PyTree zum Trainieren eines Decision Tree\n",
    "from PyTree import ClassificationTree as ct\n",
    "\n",
    "#Importieren der  Bibliotheken plotly und cufflinks zur Datenvisalisierung \n",
    "import plotly as py\n",
    "from plotly.offline import iplot\n",
    "import cufflinks as cf\n",
    "cf.go_offline()\n"
   ]
  },
  {
   "cell_type": "code",
   "execution_count": 31,
   "metadata": {},
   "outputs": [
    {
     "data": {
      "text/html": [
       "<div>\n",
       "<style scoped>\n",
       "    .dataframe tbody tr th:only-of-type {\n",
       "        vertical-align: middle;\n",
       "    }\n",
       "\n",
       "    .dataframe tbody tr th {\n",
       "        vertical-align: top;\n",
       "    }\n",
       "\n",
       "    .dataframe thead th {\n",
       "        text-align: right;\n",
       "    }\n",
       "</style>\n",
       "<table border=\"1\" class=\"dataframe\">\n",
       "  <thead>\n",
       "    <tr style=\"text-align: right;\">\n",
       "      <th></th>\n",
       "      <th>a</th>\n",
       "      <th>b</th>\n",
       "      <th>c</th>\n",
       "      <th>d</th>\n",
       "      <th>e</th>\n",
       "      <th>f</th>\n",
       "      <th>g</th>\n",
       "      <th>h</th>\n",
       "    </tr>\n",
       "  </thead>\n",
       "  <tbody>\n",
       "    <tr>\n",
       "      <th>0</th>\n",
       "      <td>3001.0</td>\n",
       "      <td>0</td>\n",
       "      <td>65.0</td>\n",
       "      <td>1.0</td>\n",
       "      <td>1</td>\n",
       "      <td>1.0</td>\n",
       "      <td>1.0</td>\n",
       "      <td>NaN</td>\n",
       "    </tr>\n",
       "    <tr>\n",
       "      <th>1</th>\n",
       "      <td>-9.0</td>\n",
       "      <td>4</td>\n",
       "      <td>115.0</td>\n",
       "      <td>0.0</td>\n",
       "      <td>0</td>\n",
       "      <td>-9.0</td>\n",
       "      <td>-9.0</td>\n",
       "      <td>-9.0</td>\n",
       "    </tr>\n",
       "    <tr>\n",
       "      <th>2</th>\n",
       "      <td>0.0</td>\n",
       "      <td>-9</td>\n",
       "      <td>-9.0</td>\n",
       "      <td>0.0</td>\n",
       "      <td>1</td>\n",
       "      <td>9.0</td>\n",
       "      <td>85.0</td>\n",
       "      <td>0.0</td>\n",
       "    </tr>\n",
       "    <tr>\n",
       "      <th>3</th>\n",
       "      <td>1.0</td>\n",
       "      <td>1</td>\n",
       "      <td>0.0</td>\n",
       "      <td>1.0</td>\n",
       "      <td>12</td>\n",
       "      <td>8.3</td>\n",
       "      <td>-9.0</td>\n",
       "      <td>100.0</td>\n",
       "    </tr>\n",
       "    <tr>\n",
       "      <th>4</th>\n",
       "      <td>93.0</td>\n",
       "      <td>56</td>\n",
       "      <td>185.0</td>\n",
       "      <td>80.0</td>\n",
       "      <td>115</td>\n",
       "      <td>70.0</td>\n",
       "      <td>1.0</td>\n",
       "      <td>0.0</td>\n",
       "    </tr>\n",
       "    <tr>\n",
       "      <th>5</th>\n",
       "      <td>0.0</td>\n",
       "      <td>2</td>\n",
       "      <td>-9.0</td>\n",
       "      <td>-9.0</td>\n",
       "      <td>-9</td>\n",
       "      <td>-9.0</td>\n",
       "      <td>-9.0</td>\n",
       "      <td>-9.0</td>\n",
       "    </tr>\n",
       "    <tr>\n",
       "      <th>6</th>\n",
       "      <td>-9.0</td>\n",
       "      <td>-9</td>\n",
       "      <td>-9.0</td>\n",
       "      <td>7.0</td>\n",
       "      <td>-9</td>\n",
       "      <td>-9.0</td>\n",
       "      <td>-9.0</td>\n",
       "      <td>1.0</td>\n",
       "    </tr>\n",
       "    <tr>\n",
       "      <th>7</th>\n",
       "      <td>11.0</td>\n",
       "      <td>85</td>\n",
       "      <td>1.0</td>\n",
       "      <td>1.0</td>\n",
       "      <td>2</td>\n",
       "      <td>1.0</td>\n",
       "      <td>1.0</td>\n",
       "      <td>1.0</td>\n",
       "    </tr>\n",
       "    <tr>\n",
       "      <th>8</th>\n",
       "      <td>1.0</td>\n",
       "      <td>1</td>\n",
       "      <td>1.0</td>\n",
       "      <td>1.0</td>\n",
       "      <td>1</td>\n",
       "      <td>1.0</td>\n",
       "      <td>1.0</td>\n",
       "      <td>1.0</td>\n",
       "    </tr>\n",
       "    <tr>\n",
       "      <th>9</th>\n",
       "      <td>1.0</td>\n",
       "      <td>1</td>\n",
       "      <td>75.0</td>\n",
       "      <td>-9.0</td>\n",
       "      <td>name</td>\n",
       "      <td>NaN</td>\n",
       "      <td>NaN</td>\n",
       "      <td>NaN</td>\n",
       "    </tr>\n",
       "    <tr>\n",
       "      <th>10</th>\n",
       "      <td>3002.0</td>\n",
       "      <td>0</td>\n",
       "      <td>32.0</td>\n",
       "      <td>1.0</td>\n",
       "      <td>0</td>\n",
       "      <td>0.0</td>\n",
       "      <td>0.0</td>\n",
       "      <td>NaN</td>\n",
       "    </tr>\n",
       "    <tr>\n",
       "      <th>11</th>\n",
       "      <td>-9.0</td>\n",
       "      <td>1</td>\n",
       "      <td>95.0</td>\n",
       "      <td>1.0</td>\n",
       "      <td>0</td>\n",
       "      <td>1.0</td>\n",
       "      <td>-9.0</td>\n",
       "      <td>-9.0</td>\n",
       "    </tr>\n",
       "    <tr>\n",
       "      <th>12</th>\n",
       "      <td>-9.0</td>\n",
       "      <td>-9</td>\n",
       "      <td>-9.0</td>\n",
       "      <td>0.0</td>\n",
       "      <td>2</td>\n",
       "      <td>22.0</td>\n",
       "      <td>85.0</td>\n",
       "      <td>-9.0</td>\n",
       "    </tr>\n",
       "    <tr>\n",
       "      <th>13</th>\n",
       "      <td>1.0</td>\n",
       "      <td>-9</td>\n",
       "      <td>1.0</td>\n",
       "      <td>-9.0</td>\n",
       "      <td>-9</td>\n",
       "      <td>9.0</td>\n",
       "      <td>10.6</td>\n",
       "      <td>-9.0</td>\n",
       "    </tr>\n",
       "    <tr>\n",
       "      <th>14</th>\n",
       "      <td>127.0</td>\n",
       "      <td>74</td>\n",
       "      <td>160.0</td>\n",
       "      <td>75.0</td>\n",
       "      <td>95</td>\n",
       "      <td>65.0</td>\n",
       "      <td>0.0</td>\n",
       "      <td>0.0</td>\n",
       "    </tr>\n",
       "    <tr>\n",
       "      <th>15</th>\n",
       "      <td>0.7</td>\n",
       "      <td>1</td>\n",
       "      <td>8.0</td>\n",
       "      <td>10.0</td>\n",
       "      <td>-9</td>\n",
       "      <td>-9.0</td>\n",
       "      <td>-9.0</td>\n",
       "      <td>-9.0</td>\n",
       "    </tr>\n",
       "    <tr>\n",
       "      <th>16</th>\n",
       "      <td>-9.0</td>\n",
       "      <td>-9</td>\n",
       "      <td>-9.0</td>\n",
       "      <td>-9.0</td>\n",
       "      <td>-9</td>\n",
       "      <td>-9.0</td>\n",
       "      <td>-9.0</td>\n",
       "      <td>2.0</td>\n",
       "    </tr>\n",
       "    <tr>\n",
       "      <th>17</th>\n",
       "      <td>25.0</td>\n",
       "      <td>85</td>\n",
       "      <td>1.0</td>\n",
       "      <td>1.0</td>\n",
       "      <td>1</td>\n",
       "      <td>2.0</td>\n",
       "      <td>1.0</td>\n",
       "      <td>1.0</td>\n",
       "    </tr>\n",
       "    <tr>\n",
       "      <th>18</th>\n",
       "      <td>1.0</td>\n",
       "      <td>1</td>\n",
       "      <td>1.0</td>\n",
       "      <td>1.0</td>\n",
       "      <td>1</td>\n",
       "      <td>1.0</td>\n",
       "      <td>1.0</td>\n",
       "      <td>1.0</td>\n",
       "    </tr>\n",
       "    <tr>\n",
       "      <th>19</th>\n",
       "      <td>5.0</td>\n",
       "      <td>1</td>\n",
       "      <td>63.0</td>\n",
       "      <td>-9.0</td>\n",
       "      <td>name</td>\n",
       "      <td>NaN</td>\n",
       "      <td>NaN</td>\n",
       "      <td>NaN</td>\n",
       "    </tr>\n",
       "  </tbody>\n",
       "</table>\n",
       "</div>"
      ],
      "text/plain": [
       "         a   b      c     d     e     f     g      h\n",
       "0   3001.0   0   65.0   1.0     1   1.0   1.0    NaN\n",
       "1     -9.0   4  115.0   0.0     0  -9.0  -9.0   -9.0\n",
       "2      0.0  -9   -9.0   0.0     1   9.0  85.0    0.0\n",
       "3      1.0   1    0.0   1.0    12   8.3  -9.0  100.0\n",
       "4     93.0  56  185.0  80.0   115  70.0   1.0    0.0\n",
       "5      0.0   2   -9.0  -9.0    -9  -9.0  -9.0   -9.0\n",
       "6     -9.0  -9   -9.0   7.0    -9  -9.0  -9.0    1.0\n",
       "7     11.0  85    1.0   1.0     2   1.0   1.0    1.0\n",
       "8      1.0   1    1.0   1.0     1   1.0   1.0    1.0\n",
       "9      1.0   1   75.0  -9.0  name   NaN   NaN    NaN\n",
       "10  3002.0   0   32.0   1.0     0   0.0   0.0    NaN\n",
       "11    -9.0   1   95.0   1.0     0   1.0  -9.0   -9.0\n",
       "12    -9.0  -9   -9.0   0.0     2  22.0  85.0   -9.0\n",
       "13     1.0  -9    1.0  -9.0    -9   9.0  10.6   -9.0\n",
       "14   127.0  74  160.0  75.0    95  65.0   0.0    0.0\n",
       "15     0.7   1    8.0  10.0    -9  -9.0  -9.0   -9.0\n",
       "16    -9.0  -9   -9.0  -9.0    -9  -9.0  -9.0    2.0\n",
       "17    25.0  85    1.0   1.0     1   2.0   1.0    1.0\n",
       "18     1.0   1    1.0   1.0     1   1.0   1.0    1.0\n",
       "19     5.0   1   63.0  -9.0  name   NaN   NaN    NaN"
      ]
     },
     "execution_count": 31,
     "metadata": {},
     "output_type": "execute_result"
    }
   ],
   "source": [
    "df_switz = pd.read_csv('switzerland.csv', sep=';')\n",
    "\n",
    "df_switz[0:20]"
   ]
  },
  {
   "cell_type": "code",
   "execution_count": 32,
   "metadata": {},
   "outputs": [
    {
     "data": {
      "text/html": [
       "<div>\n",
       "<style scoped>\n",
       "    .dataframe tbody tr th:only-of-type {\n",
       "        vertical-align: middle;\n",
       "    }\n",
       "\n",
       "    .dataframe tbody tr th {\n",
       "        vertical-align: top;\n",
       "    }\n",
       "\n",
       "    .dataframe thead th {\n",
       "        text-align: right;\n",
       "    }\n",
       "</style>\n",
       "<table border=\"1\" class=\"dataframe\">\n",
       "  <thead>\n",
       "    <tr style=\"text-align: right;\">\n",
       "      <th></th>\n",
       "      <th>a</th>\n",
       "      <th>b</th>\n",
       "      <th>c</th>\n",
       "      <th>d</th>\n",
       "      <th>e</th>\n",
       "      <th>f</th>\n",
       "      <th>g</th>\n",
       "      <th>h</th>\n",
       "    </tr>\n",
       "  </thead>\n",
       "  <tbody>\n",
       "    <tr>\n",
       "      <th>0</th>\n",
       "      <td>1254.0</td>\n",
       "      <td>0</td>\n",
       "      <td>40.0</td>\n",
       "      <td>1.0</td>\n",
       "      <td>1</td>\n",
       "      <td>0.0</td>\n",
       "      <td>0.0</td>\n",
       "      <td>NaN</td>\n",
       "    </tr>\n",
       "    <tr>\n",
       "      <th>1</th>\n",
       "      <td>-9.0</td>\n",
       "      <td>2</td>\n",
       "      <td>140.0</td>\n",
       "      <td>0.0</td>\n",
       "      <td>289</td>\n",
       "      <td>-9.0</td>\n",
       "      <td>-9.0</td>\n",
       "      <td>-9.0</td>\n",
       "    </tr>\n",
       "    <tr>\n",
       "      <th>2</th>\n",
       "      <td>0.0</td>\n",
       "      <td>-9</td>\n",
       "      <td>-9.0</td>\n",
       "      <td>0.0</td>\n",
       "      <td>12</td>\n",
       "      <td>16.0</td>\n",
       "      <td>84.0</td>\n",
       "      <td>0.0</td>\n",
       "    </tr>\n",
       "    <tr>\n",
       "      <th>3</th>\n",
       "      <td>0.0</td>\n",
       "      <td>0</td>\n",
       "      <td>0.0</td>\n",
       "      <td>0.0</td>\n",
       "      <td>150</td>\n",
       "      <td>18.0</td>\n",
       "      <td>-9.0</td>\n",
       "      <td>7.0</td>\n",
       "    </tr>\n",
       "    <tr>\n",
       "      <th>4</th>\n",
       "      <td>172.0</td>\n",
       "      <td>86</td>\n",
       "      <td>200.0</td>\n",
       "      <td>110.0</td>\n",
       "      <td>140</td>\n",
       "      <td>86.0</td>\n",
       "      <td>0.0</td>\n",
       "      <td>0.0</td>\n",
       "    </tr>\n",
       "    <tr>\n",
       "      <th>...</th>\n",
       "      <td>...</td>\n",
       "      <td>...</td>\n",
       "      <td>...</td>\n",
       "      <td>...</td>\n",
       "      <td>...</td>\n",
       "      <td>...</td>\n",
       "      <td>...</td>\n",
       "      <td>...</td>\n",
       "    </tr>\n",
       "    <tr>\n",
       "      <th>2935</th>\n",
       "      <td>0.0</td>\n",
       "      <td>-9</td>\n",
       "      <td>13.0</td>\n",
       "      <td>12.0</td>\n",
       "      <td>-9</td>\n",
       "      <td>-9.0</td>\n",
       "      <td>-9.0</td>\n",
       "      <td>-9.0</td>\n",
       "    </tr>\n",
       "    <tr>\n",
       "      <th>2936</th>\n",
       "      <td>-9.0</td>\n",
       "      <td>-9</td>\n",
       "      <td>-9.0</td>\n",
       "      <td>-9.0</td>\n",
       "      <td>-9</td>\n",
       "      <td>-9.0</td>\n",
       "      <td>-9.0</td>\n",
       "      <td>8.0</td>\n",
       "    </tr>\n",
       "    <tr>\n",
       "      <th>2937</th>\n",
       "      <td>5.0</td>\n",
       "      <td>84</td>\n",
       "      <td>0.0</td>\n",
       "      <td>-9.0</td>\n",
       "      <td>-9</td>\n",
       "      <td>-9.0</td>\n",
       "      <td>-9.0</td>\n",
       "      <td>-9.0</td>\n",
       "    </tr>\n",
       "    <tr>\n",
       "      <th>2938</th>\n",
       "      <td>-9.0</td>\n",
       "      <td>-9</td>\n",
       "      <td>-9.0</td>\n",
       "      <td>1.0</td>\n",
       "      <td>1</td>\n",
       "      <td>1.0</td>\n",
       "      <td>1.0</td>\n",
       "      <td>1.0</td>\n",
       "    </tr>\n",
       "    <tr>\n",
       "      <th>2939</th>\n",
       "      <td>1.0</td>\n",
       "      <td>1</td>\n",
       "      <td>-9.0</td>\n",
       "      <td>-9.0</td>\n",
       "      <td>name</td>\n",
       "      <td>NaN</td>\n",
       "      <td>NaN</td>\n",
       "      <td>NaN</td>\n",
       "    </tr>\n",
       "  </tbody>\n",
       "</table>\n",
       "<p>2940 rows × 8 columns</p>\n",
       "</div>"
      ],
      "text/plain": [
       "           a   b      c      d     e     f     g    h\n",
       "0     1254.0   0   40.0    1.0     1   0.0   0.0  NaN\n",
       "1       -9.0   2  140.0    0.0   289  -9.0  -9.0 -9.0\n",
       "2        0.0  -9   -9.0    0.0    12  16.0  84.0  0.0\n",
       "3        0.0   0    0.0    0.0   150  18.0  -9.0  7.0\n",
       "4      172.0  86  200.0  110.0   140  86.0   0.0  0.0\n",
       "...      ...  ..    ...    ...   ...   ...   ...  ...\n",
       "2935     0.0  -9   13.0   12.0    -9  -9.0  -9.0 -9.0\n",
       "2936    -9.0  -9   -9.0   -9.0    -9  -9.0  -9.0  8.0\n",
       "2937     5.0  84    0.0   -9.0    -9  -9.0  -9.0 -9.0\n",
       "2938    -9.0  -9   -9.0    1.0     1   1.0   1.0  1.0\n",
       "2939     1.0   1   -9.0   -9.0  name   NaN   NaN  NaN\n",
       "\n",
       "[2940 rows x 8 columns]"
      ]
     },
     "execution_count": 32,
     "metadata": {},
     "output_type": "execute_result"
    }
   ],
   "source": [
    "df_hung = pd.read_csv('hungarian.csv', sep=';')\n",
    "df_hung"
   ]
  },
  {
   "cell_type": "code",
   "execution_count": 33,
   "metadata": {},
   "outputs": [
    {
     "data": {
      "text/html": [
       "<div>\n",
       "<style scoped>\n",
       "    .dataframe tbody tr th:only-of-type {\n",
       "        vertical-align: middle;\n",
       "    }\n",
       "\n",
       "    .dataframe tbody tr th {\n",
       "        vertical-align: top;\n",
       "    }\n",
       "\n",
       "    .dataframe thead th {\n",
       "        text-align: right;\n",
       "    }\n",
       "</style>\n",
       "<table border=\"1\" class=\"dataframe\">\n",
       "  <thead>\n",
       "    <tr style=\"text-align: right;\">\n",
       "      <th></th>\n",
       "      <th>a</th>\n",
       "      <th>b</th>\n",
       "      <th>c</th>\n",
       "      <th>d</th>\n",
       "      <th>e</th>\n",
       "      <th>f</th>\n",
       "      <th>g</th>\n",
       "      <th>h</th>\n",
       "    </tr>\n",
       "  </thead>\n",
       "  <tbody>\n",
       "    <tr>\n",
       "      <th>0</th>\n",
       "      <td>1.0</td>\n",
       "      <td>0</td>\n",
       "      <td>63</td>\n",
       "      <td>1</td>\n",
       "      <td>-9</td>\n",
       "      <td>-9.0</td>\n",
       "      <td>-9.0</td>\n",
       "      <td>NaN</td>\n",
       "    </tr>\n",
       "    <tr>\n",
       "      <th>1</th>\n",
       "      <td>-9.0</td>\n",
       "      <td>1</td>\n",
       "      <td>145</td>\n",
       "      <td>1</td>\n",
       "      <td>233</td>\n",
       "      <td>-9.0</td>\n",
       "      <td>50.0</td>\n",
       "      <td>20.0</td>\n",
       "    </tr>\n",
       "    <tr>\n",
       "      <th>2</th>\n",
       "      <td>1.0</td>\n",
       "      <td>-9</td>\n",
       "      <td>1</td>\n",
       "      <td>2</td>\n",
       "      <td>2</td>\n",
       "      <td>3.0</td>\n",
       "      <td>81.0</td>\n",
       "      <td>0.0</td>\n",
       "    </tr>\n",
       "    <tr>\n",
       "      <th>3</th>\n",
       "      <td>0.0</td>\n",
       "      <td>0</td>\n",
       "      <td>0</td>\n",
       "      <td>0</td>\n",
       "      <td>1</td>\n",
       "      <td>10.5</td>\n",
       "      <td>6.0</td>\n",
       "      <td>13.0</td>\n",
       "    </tr>\n",
       "    <tr>\n",
       "      <th>4</th>\n",
       "      <td>150.0</td>\n",
       "      <td>60</td>\n",
       "      <td>190</td>\n",
       "      <td>90</td>\n",
       "      <td>145</td>\n",
       "      <td>85.0</td>\n",
       "      <td>0.0</td>\n",
       "      <td>0.0</td>\n",
       "    </tr>\n",
       "    <tr>\n",
       "      <th>...</th>\n",
       "      <td>...</td>\n",
       "      <td>...</td>\n",
       "      <td>...</td>\n",
       "      <td>...</td>\n",
       "      <td>...</td>\n",
       "      <td>...</td>\n",
       "      <td>...</td>\n",
       "      <td>...</td>\n",
       "    </tr>\n",
       "    <tr>\n",
       "      <th>2815</th>\n",
       "      <td>0.0</td>\n",
       "      <td>1</td>\n",
       "      <td>-9</td>\n",
       "      <td>55</td>\n",
       "      <td>0</td>\n",
       "      <td>-9.0</td>\n",
       "      <td>-9.0</td>\n",
       "      <td>-9.0</td>\n",
       "    </tr>\n",
       "    <tr>\n",
       "      <th>2816</th>\n",
       "      <td>-9.0</td>\n",
       "      <td>-9</td>\n",
       "      <td>-9</td>\n",
       "      <td>3</td>\n",
       "      <td>-9</td>\n",
       "      <td>-9.0</td>\n",
       "      <td>-9.0</td>\n",
       "      <td>5.0</td>\n",
       "    </tr>\n",
       "    <tr>\n",
       "      <th>2817</th>\n",
       "      <td>24.0</td>\n",
       "      <td>84</td>\n",
       "      <td>0</td>\n",
       "      <td>1</td>\n",
       "      <td>1</td>\n",
       "      <td>1.0</td>\n",
       "      <td>-9.0</td>\n",
       "      <td>1.0</td>\n",
       "    </tr>\n",
       "    <tr>\n",
       "      <th>2818</th>\n",
       "      <td>-9.0</td>\n",
       "      <td>1</td>\n",
       "      <td>-9</td>\n",
       "      <td>1</td>\n",
       "      <td>1</td>\n",
       "      <td>1.0</td>\n",
       "      <td>1.0</td>\n",
       "      <td>1.0</td>\n",
       "    </tr>\n",
       "    <tr>\n",
       "      <th>2819</th>\n",
       "      <td>1.0</td>\n",
       "      <td>1</td>\n",
       "      <td>-9</td>\n",
       "      <td>-9</td>\n",
       "      <td>name</td>\n",
       "      <td>NaN</td>\n",
       "      <td>NaN</td>\n",
       "      <td>NaN</td>\n",
       "    </tr>\n",
       "  </tbody>\n",
       "</table>\n",
       "<p>2820 rows × 8 columns</p>\n",
       "</div>"
      ],
      "text/plain": [
       "          a   b    c   d     e     f     g     h\n",
       "0       1.0   0   63   1    -9  -9.0  -9.0   NaN\n",
       "1      -9.0   1  145   1   233  -9.0  50.0  20.0\n",
       "2       1.0  -9    1   2     2   3.0  81.0   0.0\n",
       "3       0.0   0    0   0     1  10.5   6.0  13.0\n",
       "4     150.0  60  190  90   145  85.0   0.0   0.0\n",
       "...     ...  ..  ...  ..   ...   ...   ...   ...\n",
       "2815    0.0   1   -9  55     0  -9.0  -9.0  -9.0\n",
       "2816   -9.0  -9   -9   3    -9  -9.0  -9.0   5.0\n",
       "2817   24.0  84    0   1     1   1.0  -9.0   1.0\n",
       "2818   -9.0   1   -9   1     1   1.0   1.0   1.0\n",
       "2819    1.0   1   -9  -9  name   NaN   NaN   NaN\n",
       "\n",
       "[2820 rows x 8 columns]"
      ]
     },
     "execution_count": 33,
     "metadata": {},
     "output_type": "execute_result"
    }
   ],
   "source": [
    "df_cleve = pd.read_csv('cleveland.csv', sep=';')\n",
    "df_cleve"
   ]
  },
  {
   "cell_type": "markdown",
   "metadata": {},
   "source": [
    "# Aufbereiten"
   ]
  },
  {
   "cell_type": "code",
   "execution_count": 34,
   "metadata": {},
   "outputs": [],
   "source": [
    "def process_data(df_unpr):\n",
    "    df_pr = pd.DataFrame(columns=range(1,77))\n",
    "    for i in range(int(len(df_unpr)/10)):\n",
    "        liste = []\n",
    "\n",
    "        for j in range(10):\n",
    "            index = i*10 + j\n",
    "            if j == 0:\n",
    "                for x in df_unpr.loc[index][0:7].values:\n",
    "                    liste.append(x)\n",
    "            elif j == 9:\n",
    "                for x in df_unpr.loc[index][0:5].values:\n",
    "                    liste.append(x)\n",
    "            else:\n",
    "                for x in df_unpr.loc[index].values:\n",
    "                    liste.append(x)\n",
    "\n",
    "        df_pr.loc[i] = liste\n",
    "\n",
    "\n",
    "\n",
    "    df_pr.replace([-9.0, '-9'],np.nan, inplace=True)    \n",
    "    #df_pr = df_pr.dropna(axis=1, how='all')\n",
    "    return df_pr            "
   ]
  },
  {
   "cell_type": "code",
   "execution_count": 35,
   "metadata": {},
   "outputs": [
    {
     "data": {
      "text/html": [
       "<div>\n",
       "<style scoped>\n",
       "    .dataframe tbody tr th:only-of-type {\n",
       "        vertical-align: middle;\n",
       "    }\n",
       "\n",
       "    .dataframe tbody tr th {\n",
       "        vertical-align: top;\n",
       "    }\n",
       "\n",
       "    .dataframe thead th {\n",
       "        text-align: right;\n",
       "    }\n",
       "</style>\n",
       "<table border=\"1\" class=\"dataframe\">\n",
       "  <thead>\n",
       "    <tr style=\"text-align: right;\">\n",
       "      <th></th>\n",
       "      <th>1</th>\n",
       "      <th>2</th>\n",
       "      <th>3</th>\n",
       "      <th>4</th>\n",
       "      <th>5</th>\n",
       "      <th>6</th>\n",
       "      <th>7</th>\n",
       "      <th>8</th>\n",
       "      <th>9</th>\n",
       "      <th>10</th>\n",
       "      <th>...</th>\n",
       "      <th>67</th>\n",
       "      <th>68</th>\n",
       "      <th>69</th>\n",
       "      <th>70</th>\n",
       "      <th>71</th>\n",
       "      <th>72</th>\n",
       "      <th>73</th>\n",
       "      <th>74</th>\n",
       "      <th>75</th>\n",
       "      <th>76</th>\n",
       "    </tr>\n",
       "  </thead>\n",
       "  <tbody>\n",
       "    <tr>\n",
       "      <th>0</th>\n",
       "      <td>1254.0</td>\n",
       "      <td>0</td>\n",
       "      <td>40.0</td>\n",
       "      <td>1.0</td>\n",
       "      <td>1</td>\n",
       "      <td>0.0</td>\n",
       "      <td>0.0</td>\n",
       "      <td>NaN</td>\n",
       "      <td>2</td>\n",
       "      <td>140.0</td>\n",
       "      <td>...</td>\n",
       "      <td>NaN</td>\n",
       "      <td>NaN</td>\n",
       "      <td>1.0</td>\n",
       "      <td>1.0</td>\n",
       "      <td>1.0</td>\n",
       "      <td>1.0</td>\n",
       "      <td>1</td>\n",
       "      <td>NaN</td>\n",
       "      <td>NaN</td>\n",
       "      <td>name</td>\n",
       "    </tr>\n",
       "    <tr>\n",
       "      <th>1</th>\n",
       "      <td>1255.0</td>\n",
       "      <td>0</td>\n",
       "      <td>49.0</td>\n",
       "      <td>0.0</td>\n",
       "      <td>1</td>\n",
       "      <td>0.0</td>\n",
       "      <td>0.0</td>\n",
       "      <td>NaN</td>\n",
       "      <td>3</td>\n",
       "      <td>160.0</td>\n",
       "      <td>...</td>\n",
       "      <td>NaN</td>\n",
       "      <td>NaN</td>\n",
       "      <td>1.0</td>\n",
       "      <td>1.0</td>\n",
       "      <td>1.0</td>\n",
       "      <td>1.0</td>\n",
       "      <td>1</td>\n",
       "      <td>NaN</td>\n",
       "      <td>NaN</td>\n",
       "      <td>name</td>\n",
       "    </tr>\n",
       "    <tr>\n",
       "      <th>2</th>\n",
       "      <td>1256.0</td>\n",
       "      <td>0</td>\n",
       "      <td>37.0</td>\n",
       "      <td>1.0</td>\n",
       "      <td>1</td>\n",
       "      <td>0.0</td>\n",
       "      <td>0.0</td>\n",
       "      <td>NaN</td>\n",
       "      <td>2</td>\n",
       "      <td>130.0</td>\n",
       "      <td>...</td>\n",
       "      <td>NaN</td>\n",
       "      <td>NaN</td>\n",
       "      <td>1.0</td>\n",
       "      <td>1.0</td>\n",
       "      <td>1.0</td>\n",
       "      <td>1.0</td>\n",
       "      <td>1</td>\n",
       "      <td>NaN</td>\n",
       "      <td>NaN</td>\n",
       "      <td>name</td>\n",
       "    </tr>\n",
       "    <tr>\n",
       "      <th>3</th>\n",
       "      <td>1257.0</td>\n",
       "      <td>0</td>\n",
       "      <td>48.0</td>\n",
       "      <td>0.0</td>\n",
       "      <td>1</td>\n",
       "      <td>1.0</td>\n",
       "      <td>1.0</td>\n",
       "      <td>NaN</td>\n",
       "      <td>4</td>\n",
       "      <td>138.0</td>\n",
       "      <td>...</td>\n",
       "      <td>2.0</td>\n",
       "      <td>NaN</td>\n",
       "      <td>1.0</td>\n",
       "      <td>1.0</td>\n",
       "      <td>1.0</td>\n",
       "      <td>1.0</td>\n",
       "      <td>1</td>\n",
       "      <td>NaN</td>\n",
       "      <td>NaN</td>\n",
       "      <td>name</td>\n",
       "    </tr>\n",
       "    <tr>\n",
       "      <th>4</th>\n",
       "      <td>1258.0</td>\n",
       "      <td>0</td>\n",
       "      <td>54.0</td>\n",
       "      <td>1.0</td>\n",
       "      <td>1</td>\n",
       "      <td>0.0</td>\n",
       "      <td>1.0</td>\n",
       "      <td>NaN</td>\n",
       "      <td>3</td>\n",
       "      <td>150.0</td>\n",
       "      <td>...</td>\n",
       "      <td>1.0</td>\n",
       "      <td>NaN</td>\n",
       "      <td>1.0</td>\n",
       "      <td>1.0</td>\n",
       "      <td>1.0</td>\n",
       "      <td>1.0</td>\n",
       "      <td>1</td>\n",
       "      <td>NaN</td>\n",
       "      <td>NaN</td>\n",
       "      <td>name</td>\n",
       "    </tr>\n",
       "    <tr>\n",
       "      <th>...</th>\n",
       "      <td>...</td>\n",
       "      <td>...</td>\n",
       "      <td>...</td>\n",
       "      <td>...</td>\n",
       "      <td>...</td>\n",
       "      <td>...</td>\n",
       "      <td>...</td>\n",
       "      <td>...</td>\n",
       "      <td>...</td>\n",
       "      <td>...</td>\n",
       "      <td>...</td>\n",
       "      <td>...</td>\n",
       "      <td>...</td>\n",
       "      <td>...</td>\n",
       "      <td>...</td>\n",
       "      <td>...</td>\n",
       "      <td>...</td>\n",
       "      <td>...</td>\n",
       "      <td>...</td>\n",
       "      <td>...</td>\n",
       "      <td>...</td>\n",
       "    </tr>\n",
       "    <tr>\n",
       "      <th>289</th>\n",
       "      <td>1053.0</td>\n",
       "      <td>0</td>\n",
       "      <td>48.0</td>\n",
       "      <td>0.0</td>\n",
       "      <td>0</td>\n",
       "      <td>0.0</td>\n",
       "      <td>0.0</td>\n",
       "      <td>NaN</td>\n",
       "      <td>2</td>\n",
       "      <td>NaN</td>\n",
       "      <td>...</td>\n",
       "      <td>NaN</td>\n",
       "      <td>NaN</td>\n",
       "      <td>1.0</td>\n",
       "      <td>1.0</td>\n",
       "      <td>1.0</td>\n",
       "      <td>1.0</td>\n",
       "      <td>1</td>\n",
       "      <td>NaN</td>\n",
       "      <td>NaN</td>\n",
       "      <td>name</td>\n",
       "    </tr>\n",
       "    <tr>\n",
       "      <th>290</th>\n",
       "      <td>1054.0</td>\n",
       "      <td>0</td>\n",
       "      <td>36.0</td>\n",
       "      <td>1.0</td>\n",
       "      <td>1</td>\n",
       "      <td>0.0</td>\n",
       "      <td>0.0</td>\n",
       "      <td>NaN</td>\n",
       "      <td>2</td>\n",
       "      <td>120.0</td>\n",
       "      <td>...</td>\n",
       "      <td>NaN</td>\n",
       "      <td>NaN</td>\n",
       "      <td>1.0</td>\n",
       "      <td>1.0</td>\n",
       "      <td>1.0</td>\n",
       "      <td>1.0</td>\n",
       "      <td>1</td>\n",
       "      <td>NaN</td>\n",
       "      <td>NaN</td>\n",
       "      <td>name</td>\n",
       "    </tr>\n",
       "    <tr>\n",
       "      <th>291</th>\n",
       "      <td>5001.0</td>\n",
       "      <td>0</td>\n",
       "      <td>48.0</td>\n",
       "      <td>1.0</td>\n",
       "      <td>0</td>\n",
       "      <td>0.0</td>\n",
       "      <td>0.0</td>\n",
       "      <td>NaN</td>\n",
       "      <td>3</td>\n",
       "      <td>110.0</td>\n",
       "      <td>...</td>\n",
       "      <td>NaN</td>\n",
       "      <td>NaN</td>\n",
       "      <td>1.0</td>\n",
       "      <td>1.0</td>\n",
       "      <td>1.0</td>\n",
       "      <td>1.0</td>\n",
       "      <td>1</td>\n",
       "      <td>NaN</td>\n",
       "      <td>NaN</td>\n",
       "      <td>name</td>\n",
       "    </tr>\n",
       "    <tr>\n",
       "      <th>292</th>\n",
       "      <td>5000.0</td>\n",
       "      <td>0</td>\n",
       "      <td>47.0</td>\n",
       "      <td>0.0</td>\n",
       "      <td>0</td>\n",
       "      <td>0.0</td>\n",
       "      <td>0.0</td>\n",
       "      <td>NaN</td>\n",
       "      <td>2</td>\n",
       "      <td>140.0</td>\n",
       "      <td>...</td>\n",
       "      <td>NaN</td>\n",
       "      <td>NaN</td>\n",
       "      <td>1.0</td>\n",
       "      <td>1.0</td>\n",
       "      <td>1.0</td>\n",
       "      <td>1.0</td>\n",
       "      <td>1</td>\n",
       "      <td>NaN</td>\n",
       "      <td>NaN</td>\n",
       "      <td>name</td>\n",
       "    </tr>\n",
       "    <tr>\n",
       "      <th>293</th>\n",
       "      <td>5002.0</td>\n",
       "      <td>0</td>\n",
       "      <td>53.0</td>\n",
       "      <td>1.0</td>\n",
       "      <td>1</td>\n",
       "      <td>1.0</td>\n",
       "      <td>1.0</td>\n",
       "      <td>NaN</td>\n",
       "      <td>4</td>\n",
       "      <td>130.0</td>\n",
       "      <td>...</td>\n",
       "      <td>1.0</td>\n",
       "      <td>1</td>\n",
       "      <td>1.0</td>\n",
       "      <td>1.0</td>\n",
       "      <td>1.0</td>\n",
       "      <td>1.0</td>\n",
       "      <td>1</td>\n",
       "      <td>NaN</td>\n",
       "      <td>NaN</td>\n",
       "      <td>name</td>\n",
       "    </tr>\n",
       "  </tbody>\n",
       "</table>\n",
       "<p>294 rows × 76 columns</p>\n",
       "</div>"
      ],
      "text/plain": [
       "         1   2     3    4  5    6    7   8   9      10  ...   67   68   69  \\\n",
       "0    1254.0   0  40.0  1.0  1  0.0  0.0 NaN   2  140.0  ...  NaN  NaN  1.0   \n",
       "1    1255.0   0  49.0  0.0  1  0.0  0.0 NaN   3  160.0  ...  NaN  NaN  1.0   \n",
       "2    1256.0   0  37.0  1.0  1  0.0  0.0 NaN   2  130.0  ...  NaN  NaN  1.0   \n",
       "3    1257.0   0  48.0  0.0  1  1.0  1.0 NaN   4  138.0  ...  2.0  NaN  1.0   \n",
       "4    1258.0   0  54.0  1.0  1  0.0  1.0 NaN   3  150.0  ...  1.0  NaN  1.0   \n",
       "..      ...  ..   ...  ... ..  ...  ...  ..  ..    ...  ...  ...  ...  ...   \n",
       "289  1053.0   0  48.0  0.0  0  0.0  0.0 NaN   2    NaN  ...  NaN  NaN  1.0   \n",
       "290  1054.0   0  36.0  1.0  1  0.0  0.0 NaN   2  120.0  ...  NaN  NaN  1.0   \n",
       "291  5001.0   0  48.0  1.0  0  0.0  0.0 NaN   3  110.0  ...  NaN  NaN  1.0   \n",
       "292  5000.0   0  47.0  0.0  0  0.0  0.0 NaN   2  140.0  ...  NaN  NaN  1.0   \n",
       "293  5002.0   0  53.0  1.0  1  1.0  1.0 NaN   4  130.0  ...  1.0    1  1.0   \n",
       "\n",
       "      70   71   72  73  74  75    76  \n",
       "0    1.0  1.0  1.0   1 NaN NaN  name  \n",
       "1    1.0  1.0  1.0   1 NaN NaN  name  \n",
       "2    1.0  1.0  1.0   1 NaN NaN  name  \n",
       "3    1.0  1.0  1.0   1 NaN NaN  name  \n",
       "4    1.0  1.0  1.0   1 NaN NaN  name  \n",
       "..   ...  ...  ...  ..  ..  ..   ...  \n",
       "289  1.0  1.0  1.0   1 NaN NaN  name  \n",
       "290  1.0  1.0  1.0   1 NaN NaN  name  \n",
       "291  1.0  1.0  1.0   1 NaN NaN  name  \n",
       "292  1.0  1.0  1.0   1 NaN NaN  name  \n",
       "293  1.0  1.0  1.0   1 NaN NaN  name  \n",
       "\n",
       "[294 rows x 76 columns]"
      ]
     },
     "execution_count": 35,
     "metadata": {},
     "output_type": "execute_result"
    }
   ],
   "source": [
    "df_pr_hung = process_data(df_hung)\n",
    "df_pr_hung"
   ]
  },
  {
   "cell_type": "code",
   "execution_count": 36,
   "metadata": {},
   "outputs": [
    {
     "data": {
      "text/plain": [
       "0.0    188\n",
       "1.0     37\n",
       "3.0     28\n",
       "2.0     26\n",
       "4.0     15\n",
       "Name: 58, dtype: int64"
      ]
     },
     "execution_count": 36,
     "metadata": {},
     "output_type": "execute_result"
    }
   ],
   "source": [
    "df_pr_hung[58].value_counts()\n",
    "\n"
   ]
  },
  {
   "cell_type": "code",
   "execution_count": 37,
   "metadata": {},
   "outputs": [
    {
     "data": {
      "text/html": [
       "<div>\n",
       "<style scoped>\n",
       "    .dataframe tbody tr th:only-of-type {\n",
       "        vertical-align: middle;\n",
       "    }\n",
       "\n",
       "    .dataframe tbody tr th {\n",
       "        vertical-align: top;\n",
       "    }\n",
       "\n",
       "    .dataframe thead th {\n",
       "        text-align: right;\n",
       "    }\n",
       "</style>\n",
       "<table border=\"1\" class=\"dataframe\">\n",
       "  <thead>\n",
       "    <tr style=\"text-align: right;\">\n",
       "      <th></th>\n",
       "      <th>1</th>\n",
       "      <th>2</th>\n",
       "      <th>3</th>\n",
       "      <th>4</th>\n",
       "      <th>5</th>\n",
       "      <th>6</th>\n",
       "      <th>7</th>\n",
       "      <th>8</th>\n",
       "      <th>9</th>\n",
       "      <th>10</th>\n",
       "      <th>...</th>\n",
       "      <th>67</th>\n",
       "      <th>68</th>\n",
       "      <th>69</th>\n",
       "      <th>70</th>\n",
       "      <th>71</th>\n",
       "      <th>72</th>\n",
       "      <th>73</th>\n",
       "      <th>74</th>\n",
       "      <th>75</th>\n",
       "      <th>76</th>\n",
       "    </tr>\n",
       "  </thead>\n",
       "  <tbody>\n",
       "    <tr>\n",
       "      <th>0</th>\n",
       "      <td>3001.0</td>\n",
       "      <td>0</td>\n",
       "      <td>65.0</td>\n",
       "      <td>1.0</td>\n",
       "      <td>1</td>\n",
       "      <td>1.0</td>\n",
       "      <td>1.0</td>\n",
       "      <td>NaN</td>\n",
       "      <td>4</td>\n",
       "      <td>115.0</td>\n",
       "      <td>...</td>\n",
       "      <td>1.0</td>\n",
       "      <td>1</td>\n",
       "      <td>1.0</td>\n",
       "      <td>1.0</td>\n",
       "      <td>1.0</td>\n",
       "      <td>1.0</td>\n",
       "      <td>1.0</td>\n",
       "      <td>75.0</td>\n",
       "      <td>NaN</td>\n",
       "      <td>name</td>\n",
       "    </tr>\n",
       "    <tr>\n",
       "      <th>1</th>\n",
       "      <td>3002.0</td>\n",
       "      <td>0</td>\n",
       "      <td>32.0</td>\n",
       "      <td>1.0</td>\n",
       "      <td>0</td>\n",
       "      <td>0.0</td>\n",
       "      <td>0.0</td>\n",
       "      <td>NaN</td>\n",
       "      <td>1</td>\n",
       "      <td>95.0</td>\n",
       "      <td>...</td>\n",
       "      <td>1.0</td>\n",
       "      <td>1</td>\n",
       "      <td>1.0</td>\n",
       "      <td>1.0</td>\n",
       "      <td>1.0</td>\n",
       "      <td>5.0</td>\n",
       "      <td>1.0</td>\n",
       "      <td>63.0</td>\n",
       "      <td>NaN</td>\n",
       "      <td>name</td>\n",
       "    </tr>\n",
       "    <tr>\n",
       "      <th>2</th>\n",
       "      <td>3003.0</td>\n",
       "      <td>0</td>\n",
       "      <td>61.0</td>\n",
       "      <td>1.0</td>\n",
       "      <td>1</td>\n",
       "      <td>1.0</td>\n",
       "      <td>1.0</td>\n",
       "      <td>NaN</td>\n",
       "      <td>4</td>\n",
       "      <td>105.0</td>\n",
       "      <td>...</td>\n",
       "      <td>2.0</td>\n",
       "      <td>1</td>\n",
       "      <td>1.0</td>\n",
       "      <td>1.0</td>\n",
       "      <td>1.0</td>\n",
       "      <td>1.0</td>\n",
       "      <td>1.0</td>\n",
       "      <td>67.0</td>\n",
       "      <td>NaN</td>\n",
       "      <td>name</td>\n",
       "    </tr>\n",
       "    <tr>\n",
       "      <th>3</th>\n",
       "      <td>3004.0</td>\n",
       "      <td>0</td>\n",
       "      <td>50.0</td>\n",
       "      <td>1.0</td>\n",
       "      <td>1</td>\n",
       "      <td>1.0</td>\n",
       "      <td>1.0</td>\n",
       "      <td>NaN</td>\n",
       "      <td>4</td>\n",
       "      <td>145.0</td>\n",
       "      <td>...</td>\n",
       "      <td>1.0</td>\n",
       "      <td>1</td>\n",
       "      <td>1.0</td>\n",
       "      <td>1.0</td>\n",
       "      <td>1.0</td>\n",
       "      <td>5.0</td>\n",
       "      <td>4.0</td>\n",
       "      <td>36.0</td>\n",
       "      <td>NaN</td>\n",
       "      <td>name</td>\n",
       "    </tr>\n",
       "    <tr>\n",
       "      <th>4</th>\n",
       "      <td>3005.0</td>\n",
       "      <td>0</td>\n",
       "      <td>57.0</td>\n",
       "      <td>1.0</td>\n",
       "      <td>1</td>\n",
       "      <td>1.0</td>\n",
       "      <td>1.0</td>\n",
       "      <td>NaN</td>\n",
       "      <td>4</td>\n",
       "      <td>110.0</td>\n",
       "      <td>...</td>\n",
       "      <td>2.0</td>\n",
       "      <td>1</td>\n",
       "      <td>1.0</td>\n",
       "      <td>1.0</td>\n",
       "      <td>1.0</td>\n",
       "      <td>1.0</td>\n",
       "      <td>1.0</td>\n",
       "      <td>60.0</td>\n",
       "      <td>NaN</td>\n",
       "      <td>name</td>\n",
       "    </tr>\n",
       "    <tr>\n",
       "      <th>...</th>\n",
       "      <td>...</td>\n",
       "      <td>...</td>\n",
       "      <td>...</td>\n",
       "      <td>...</td>\n",
       "      <td>...</td>\n",
       "      <td>...</td>\n",
       "      <td>...</td>\n",
       "      <td>...</td>\n",
       "      <td>...</td>\n",
       "      <td>...</td>\n",
       "      <td>...</td>\n",
       "      <td>...</td>\n",
       "      <td>...</td>\n",
       "      <td>...</td>\n",
       "      <td>...</td>\n",
       "      <td>...</td>\n",
       "      <td>...</td>\n",
       "      <td>...</td>\n",
       "      <td>...</td>\n",
       "      <td>...</td>\n",
       "      <td>...</td>\n",
       "    </tr>\n",
       "    <tr>\n",
       "      <th>118</th>\n",
       "      <td>4070.0</td>\n",
       "      <td>0</td>\n",
       "      <td>54.0</td>\n",
       "      <td>1.0</td>\n",
       "      <td>1</td>\n",
       "      <td>1.0</td>\n",
       "      <td>1.0</td>\n",
       "      <td>NaN</td>\n",
       "      <td>4</td>\n",
       "      <td>180.0</td>\n",
       "      <td>...</td>\n",
       "      <td>1.0</td>\n",
       "      <td>1</td>\n",
       "      <td>1.0</td>\n",
       "      <td>1.0</td>\n",
       "      <td>1.0</td>\n",
       "      <td>1.0</td>\n",
       "      <td>1.0</td>\n",
       "      <td>71.0</td>\n",
       "      <td>NaN</td>\n",
       "      <td>name</td>\n",
       "    </tr>\n",
       "    <tr>\n",
       "      <th>119</th>\n",
       "      <td>4071.0</td>\n",
       "      <td>0</td>\n",
       "      <td>56.0</td>\n",
       "      <td>1.0</td>\n",
       "      <td>1</td>\n",
       "      <td>1.0</td>\n",
       "      <td>1.0</td>\n",
       "      <td>NaN</td>\n",
       "      <td>4</td>\n",
       "      <td>125.0</td>\n",
       "      <td>...</td>\n",
       "      <td>2.0</td>\n",
       "      <td>1</td>\n",
       "      <td>5.0</td>\n",
       "      <td>1.0</td>\n",
       "      <td>1.0</td>\n",
       "      <td>1.0</td>\n",
       "      <td>2.0</td>\n",
       "      <td>68.0</td>\n",
       "      <td>NaN</td>\n",
       "      <td>name</td>\n",
       "    </tr>\n",
       "    <tr>\n",
       "      <th>120</th>\n",
       "      <td>4072.0</td>\n",
       "      <td>0</td>\n",
       "      <td>56.0</td>\n",
       "      <td>1.0</td>\n",
       "      <td>0</td>\n",
       "      <td>1.0</td>\n",
       "      <td>1.0</td>\n",
       "      <td>NaN</td>\n",
       "      <td>3</td>\n",
       "      <td>125.0</td>\n",
       "      <td>...</td>\n",
       "      <td>1.0</td>\n",
       "      <td>1</td>\n",
       "      <td>1.0</td>\n",
       "      <td>1.0</td>\n",
       "      <td>5.0</td>\n",
       "      <td>3.0</td>\n",
       "      <td>2.0</td>\n",
       "      <td>61.0</td>\n",
       "      <td>NaN</td>\n",
       "      <td>name</td>\n",
       "    </tr>\n",
       "    <tr>\n",
       "      <th>121</th>\n",
       "      <td>4073.0</td>\n",
       "      <td>0</td>\n",
       "      <td>54.0</td>\n",
       "      <td>1.0</td>\n",
       "      <td>1</td>\n",
       "      <td>1.0</td>\n",
       "      <td>1.0</td>\n",
       "      <td>NaN</td>\n",
       "      <td>4</td>\n",
       "      <td>130.0</td>\n",
       "      <td>...</td>\n",
       "      <td>2.0</td>\n",
       "      <td>1</td>\n",
       "      <td>1.0</td>\n",
       "      <td>1.0</td>\n",
       "      <td>1.0</td>\n",
       "      <td>1.0</td>\n",
       "      <td>1.0</td>\n",
       "      <td>NaN</td>\n",
       "      <td>NaN</td>\n",
       "      <td>name</td>\n",
       "    </tr>\n",
       "    <tr>\n",
       "      <th>122</th>\n",
       "      <td>4074.0</td>\n",
       "      <td>0</td>\n",
       "      <td>66.0</td>\n",
       "      <td>0.0</td>\n",
       "      <td>1</td>\n",
       "      <td>1.0</td>\n",
       "      <td>1.0</td>\n",
       "      <td>NaN</td>\n",
       "      <td>4</td>\n",
       "      <td>155.0</td>\n",
       "      <td>...</td>\n",
       "      <td>2.0</td>\n",
       "      <td>1</td>\n",
       "      <td>1.0</td>\n",
       "      <td>1.0</td>\n",
       "      <td>1.0</td>\n",
       "      <td>1.0</td>\n",
       "      <td>1.0</td>\n",
       "      <td>70.0</td>\n",
       "      <td>NaN</td>\n",
       "      <td>name</td>\n",
       "    </tr>\n",
       "  </tbody>\n",
       "</table>\n",
       "<p>123 rows × 76 columns</p>\n",
       "</div>"
      ],
      "text/plain": [
       "         1   2     3    4  5    6    7   8   9      10  ...   67 68   69   70  \\\n",
       "0    3001.0   0  65.0  1.0  1  1.0  1.0 NaN   4  115.0  ...  1.0  1  1.0  1.0   \n",
       "1    3002.0   0  32.0  1.0  0  0.0  0.0 NaN   1   95.0  ...  1.0  1  1.0  1.0   \n",
       "2    3003.0   0  61.0  1.0  1  1.0  1.0 NaN   4  105.0  ...  2.0  1  1.0  1.0   \n",
       "3    3004.0   0  50.0  1.0  1  1.0  1.0 NaN   4  145.0  ...  1.0  1  1.0  1.0   \n",
       "4    3005.0   0  57.0  1.0  1  1.0  1.0 NaN   4  110.0  ...  2.0  1  1.0  1.0   \n",
       "..      ...  ..   ...  ... ..  ...  ...  ..  ..    ...  ...  ... ..  ...  ...   \n",
       "118  4070.0   0  54.0  1.0  1  1.0  1.0 NaN   4  180.0  ...  1.0  1  1.0  1.0   \n",
       "119  4071.0   0  56.0  1.0  1  1.0  1.0 NaN   4  125.0  ...  2.0  1  5.0  1.0   \n",
       "120  4072.0   0  56.0  1.0  0  1.0  1.0 NaN   3  125.0  ...  1.0  1  1.0  1.0   \n",
       "121  4073.0   0  54.0  1.0  1  1.0  1.0 NaN   4  130.0  ...  2.0  1  1.0  1.0   \n",
       "122  4074.0   0  66.0  0.0  1  1.0  1.0 NaN   4  155.0  ...  2.0  1  1.0  1.0   \n",
       "\n",
       "      71   72   73    74  75    76  \n",
       "0    1.0  1.0  1.0  75.0 NaN  name  \n",
       "1    1.0  5.0  1.0  63.0 NaN  name  \n",
       "2    1.0  1.0  1.0  67.0 NaN  name  \n",
       "3    1.0  5.0  4.0  36.0 NaN  name  \n",
       "4    1.0  1.0  1.0  60.0 NaN  name  \n",
       "..   ...  ...  ...   ...  ..   ...  \n",
       "118  1.0  1.0  1.0  71.0 NaN  name  \n",
       "119  1.0  1.0  2.0  68.0 NaN  name  \n",
       "120  5.0  3.0  2.0  61.0 NaN  name  \n",
       "121  1.0  1.0  1.0   NaN NaN  name  \n",
       "122  1.0  1.0  1.0  70.0 NaN  name  \n",
       "\n",
       "[123 rows x 76 columns]"
      ]
     },
     "execution_count": 37,
     "metadata": {},
     "output_type": "execute_result"
    }
   ],
   "source": [
    "df_pr_switz = process_data(df_switz)\n",
    "df_pr_switz\n",
    "        \n",
    "    "
   ]
  },
  {
   "cell_type": "code",
   "execution_count": 38,
   "metadata": {},
   "outputs": [
    {
     "data": {
      "text/html": [
       "<div>\n",
       "<style scoped>\n",
       "    .dataframe tbody tr th:only-of-type {\n",
       "        vertical-align: middle;\n",
       "    }\n",
       "\n",
       "    .dataframe tbody tr th {\n",
       "        vertical-align: top;\n",
       "    }\n",
       "\n",
       "    .dataframe thead th {\n",
       "        text-align: right;\n",
       "    }\n",
       "</style>\n",
       "<table border=\"1\" class=\"dataframe\">\n",
       "  <thead>\n",
       "    <tr style=\"text-align: right;\">\n",
       "      <th></th>\n",
       "      <th>1</th>\n",
       "      <th>2</th>\n",
       "      <th>3</th>\n",
       "      <th>4</th>\n",
       "      <th>5</th>\n",
       "      <th>6</th>\n",
       "      <th>7</th>\n",
       "      <th>8</th>\n",
       "      <th>9</th>\n",
       "      <th>10</th>\n",
       "      <th>...</th>\n",
       "      <th>67</th>\n",
       "      <th>68</th>\n",
       "      <th>69</th>\n",
       "      <th>70</th>\n",
       "      <th>71</th>\n",
       "      <th>72</th>\n",
       "      <th>73</th>\n",
       "      <th>74</th>\n",
       "      <th>75</th>\n",
       "      <th>76</th>\n",
       "    </tr>\n",
       "  </thead>\n",
       "  <tbody>\n",
       "    <tr>\n",
       "      <th>0</th>\n",
       "      <td>1.0</td>\n",
       "      <td>0</td>\n",
       "      <td>63</td>\n",
       "      <td>1</td>\n",
       "      <td>NaN</td>\n",
       "      <td>NaN</td>\n",
       "      <td>NaN</td>\n",
       "      <td>NaN</td>\n",
       "      <td>1</td>\n",
       "      <td>145</td>\n",
       "      <td>...</td>\n",
       "      <td>1</td>\n",
       "      <td>1</td>\n",
       "      <td>1.0</td>\n",
       "      <td>1.0</td>\n",
       "      <td>1.0</td>\n",
       "      <td>1.0</td>\n",
       "      <td>1</td>\n",
       "      <td>NaN</td>\n",
       "      <td>NaN</td>\n",
       "      <td>name</td>\n",
       "    </tr>\n",
       "    <tr>\n",
       "      <th>1</th>\n",
       "      <td>2.0</td>\n",
       "      <td>0</td>\n",
       "      <td>67</td>\n",
       "      <td>1</td>\n",
       "      <td>NaN</td>\n",
       "      <td>NaN</td>\n",
       "      <td>NaN</td>\n",
       "      <td>NaN</td>\n",
       "      <td>4</td>\n",
       "      <td>160</td>\n",
       "      <td>...</td>\n",
       "      <td>1</td>\n",
       "      <td>1</td>\n",
       "      <td>1.0</td>\n",
       "      <td>1.0</td>\n",
       "      <td>1.0</td>\n",
       "      <td>1.0</td>\n",
       "      <td>1</td>\n",
       "      <td>NaN</td>\n",
       "      <td>NaN</td>\n",
       "      <td>name</td>\n",
       "    </tr>\n",
       "    <tr>\n",
       "      <th>2</th>\n",
       "      <td>3.0</td>\n",
       "      <td>0</td>\n",
       "      <td>67</td>\n",
       "      <td>1</td>\n",
       "      <td>NaN</td>\n",
       "      <td>NaN</td>\n",
       "      <td>NaN</td>\n",
       "      <td>NaN</td>\n",
       "      <td>4</td>\n",
       "      <td>120</td>\n",
       "      <td>...</td>\n",
       "      <td>2</td>\n",
       "      <td>2</td>\n",
       "      <td>1.0</td>\n",
       "      <td>1.0</td>\n",
       "      <td>1.0</td>\n",
       "      <td>7.0</td>\n",
       "      <td>3</td>\n",
       "      <td>NaN</td>\n",
       "      <td>NaN</td>\n",
       "      <td>name</td>\n",
       "    </tr>\n",
       "    <tr>\n",
       "      <th>3</th>\n",
       "      <td>4.0</td>\n",
       "      <td>0</td>\n",
       "      <td>37</td>\n",
       "      <td>1</td>\n",
       "      <td>NaN</td>\n",
       "      <td>NaN</td>\n",
       "      <td>NaN</td>\n",
       "      <td>NaN</td>\n",
       "      <td>3</td>\n",
       "      <td>130</td>\n",
       "      <td>...</td>\n",
       "      <td>1</td>\n",
       "      <td>1</td>\n",
       "      <td>1.0</td>\n",
       "      <td>1.0</td>\n",
       "      <td>1.0</td>\n",
       "      <td>1.0</td>\n",
       "      <td>1</td>\n",
       "      <td>NaN</td>\n",
       "      <td>NaN</td>\n",
       "      <td>name</td>\n",
       "    </tr>\n",
       "    <tr>\n",
       "      <th>4</th>\n",
       "      <td>6.0</td>\n",
       "      <td>0</td>\n",
       "      <td>41</td>\n",
       "      <td>0</td>\n",
       "      <td>NaN</td>\n",
       "      <td>NaN</td>\n",
       "      <td>NaN</td>\n",
       "      <td>NaN</td>\n",
       "      <td>2</td>\n",
       "      <td>130</td>\n",
       "      <td>...</td>\n",
       "      <td>1</td>\n",
       "      <td>1</td>\n",
       "      <td>1.0</td>\n",
       "      <td>1.0</td>\n",
       "      <td>1.0</td>\n",
       "      <td>1.0</td>\n",
       "      <td>1</td>\n",
       "      <td>NaN</td>\n",
       "      <td>NaN</td>\n",
       "      <td>name</td>\n",
       "    </tr>\n",
       "    <tr>\n",
       "      <th>...</th>\n",
       "      <td>...</td>\n",
       "      <td>...</td>\n",
       "      <td>...</td>\n",
       "      <td>...</td>\n",
       "      <td>...</td>\n",
       "      <td>...</td>\n",
       "      <td>...</td>\n",
       "      <td>...</td>\n",
       "      <td>...</td>\n",
       "      <td>...</td>\n",
       "      <td>...</td>\n",
       "      <td>...</td>\n",
       "      <td>...</td>\n",
       "      <td>...</td>\n",
       "      <td>...</td>\n",
       "      <td>...</td>\n",
       "      <td>...</td>\n",
       "      <td>...</td>\n",
       "      <td>...</td>\n",
       "      <td>...</td>\n",
       "      <td>...</td>\n",
       "    </tr>\n",
       "    <tr>\n",
       "      <th>277</th>\n",
       "      <td>294.0</td>\n",
       "      <td>0</td>\n",
       "      <td>39</td>\n",
       "      <td>0</td>\n",
       "      <td>NaN</td>\n",
       "      <td>NaN</td>\n",
       "      <td>NaN</td>\n",
       "      <td>NaN</td>\n",
       "      <td>3</td>\n",
       "      <td>138</td>\n",
       "      <td>...</td>\n",
       "      <td>1</td>\n",
       "      <td>1</td>\n",
       "      <td>1.0</td>\n",
       "      <td>1.0</td>\n",
       "      <td>1.0</td>\n",
       "      <td>1.0</td>\n",
       "      <td>2</td>\n",
       "      <td>NaN</td>\n",
       "      <td>NaN</td>\n",
       "      <td>name</td>\n",
       "    </tr>\n",
       "    <tr>\n",
       "      <th>278</th>\n",
       "      <td>295.0</td>\n",
       "      <td>0</td>\n",
       "      <td>57</td>\n",
       "      <td>1</td>\n",
       "      <td>NaN</td>\n",
       "      <td>NaN</td>\n",
       "      <td>NaN</td>\n",
       "      <td>NaN</td>\n",
       "      <td>2</td>\n",
       "      <td>154</td>\n",
       "      <td>...</td>\n",
       "      <td>1</td>\n",
       "      <td>1</td>\n",
       "      <td>1.0</td>\n",
       "      <td>1.0</td>\n",
       "      <td>1.0</td>\n",
       "      <td>1.0</td>\n",
       "      <td>1</td>\n",
       "      <td>NaN</td>\n",
       "      <td>NaN</td>\n",
       "      <td>name</td>\n",
       "    </tr>\n",
       "    <tr>\n",
       "      <th>279</th>\n",
       "      <td>296.0</td>\n",
       "      <td>0</td>\n",
       "      <td>58</td>\n",
       "      <td>0</td>\n",
       "      <td>NaN</td>\n",
       "      <td>NaN</td>\n",
       "      <td>NaN</td>\n",
       "      <td>NaN</td>\n",
       "      <td>4</td>\n",
       "      <td>130</td>\n",
       "      <td>...</td>\n",
       "      <td>1</td>\n",
       "      <td>1</td>\n",
       "      <td>1.0</td>\n",
       "      <td>1.0</td>\n",
       "      <td>1.0</td>\n",
       "      <td>1.0</td>\n",
       "      <td>1</td>\n",
       "      <td>NaN</td>\n",
       "      <td>NaN</td>\n",
       "      <td>name</td>\n",
       "    </tr>\n",
       "    <tr>\n",
       "      <th>280</th>\n",
       "      <td>297.0</td>\n",
       "      <td>0</td>\n",
       "      <td>57</td>\n",
       "      <td>1</td>\n",
       "      <td>NaN</td>\n",
       "      <td>NaN</td>\n",
       "      <td>NaN</td>\n",
       "      <td>NaN</td>\n",
       "      <td>4</td>\n",
       "      <td>110</td>\n",
       "      <td>...</td>\n",
       "      <td>1</td>\n",
       "      <td>2</td>\n",
       "      <td>1.0</td>\n",
       "      <td>1.0</td>\n",
       "      <td>1.0</td>\n",
       "      <td>1.0</td>\n",
       "      <td>1</td>\n",
       "      <td>NaN</td>\n",
       "      <td>NaN</td>\n",
       "      <td>name</td>\n",
       "    </tr>\n",
       "    <tr>\n",
       "      <th>281</th>\n",
       "      <td>298.0</td>\n",
       "      <td>0</td>\n",
       "      <td>47</td>\n",
       "      <td>1</td>\n",
       "      <td>NaN</td>\n",
       "      <td>NaN</td>\n",
       "      <td>NaN</td>\n",
       "      <td>NaN</td>\n",
       "      <td>3</td>\n",
       "      <td>130</td>\n",
       "      <td>...</td>\n",
       "      <td>1</td>\n",
       "      <td>1</td>\n",
       "      <td>1.0</td>\n",
       "      <td>1.0</td>\n",
       "      <td>1.0</td>\n",
       "      <td>1.0</td>\n",
       "      <td>1</td>\n",
       "      <td>NaN</td>\n",
       "      <td>NaN</td>\n",
       "      <td>name</td>\n",
       "    </tr>\n",
       "  </tbody>\n",
       "</table>\n",
       "<p>282 rows × 76 columns</p>\n",
       "</div>"
      ],
      "text/plain": [
       "        1   2   3   4   5   6   7   8   9    10  ...  67 68   69   70   71  \\\n",
       "0      1.0   0  63   1 NaN NaN NaN NaN   1  145  ...   1  1  1.0  1.0  1.0   \n",
       "1      2.0   0  67   1 NaN NaN NaN NaN   4  160  ...   1  1  1.0  1.0  1.0   \n",
       "2      3.0   0  67   1 NaN NaN NaN NaN   4  120  ...   2  2  1.0  1.0  1.0   \n",
       "3      4.0   0  37   1 NaN NaN NaN NaN   3  130  ...   1  1  1.0  1.0  1.0   \n",
       "4      6.0   0  41   0 NaN NaN NaN NaN   2  130  ...   1  1  1.0  1.0  1.0   \n",
       "..     ...  ..  ..  ..  ..  ..  ..  ..  ..  ...  ...  .. ..  ...  ...  ...   \n",
       "277  294.0   0  39   0 NaN NaN NaN NaN   3  138  ...   1  1  1.0  1.0  1.0   \n",
       "278  295.0   0  57   1 NaN NaN NaN NaN   2  154  ...   1  1  1.0  1.0  1.0   \n",
       "279  296.0   0  58   0 NaN NaN NaN NaN   4  130  ...   1  1  1.0  1.0  1.0   \n",
       "280  297.0   0  57   1 NaN NaN NaN NaN   4  110  ...   1  2  1.0  1.0  1.0   \n",
       "281  298.0   0  47   1 NaN NaN NaN NaN   3  130  ...   1  1  1.0  1.0  1.0   \n",
       "\n",
       "      72  73  74  75    76  \n",
       "0    1.0   1 NaN NaN  name  \n",
       "1    1.0   1 NaN NaN  name  \n",
       "2    7.0   3 NaN NaN  name  \n",
       "3    1.0   1 NaN NaN  name  \n",
       "4    1.0   1 NaN NaN  name  \n",
       "..   ...  ..  ..  ..   ...  \n",
       "277  1.0   2 NaN NaN  name  \n",
       "278  1.0   1 NaN NaN  name  \n",
       "279  1.0   1 NaN NaN  name  \n",
       "280  1.0   1 NaN NaN  name  \n",
       "281  1.0   1 NaN NaN  name  \n",
       "\n",
       "[282 rows x 76 columns]"
      ]
     },
     "execution_count": 38,
     "metadata": {},
     "output_type": "execute_result"
    }
   ],
   "source": [
    "df_pr_cleve = process_data(df_cleve)\n",
    "df_pr_cleve"
   ]
  },
  {
   "cell_type": "code",
   "execution_count": 39,
   "metadata": {},
   "outputs": [],
   "source": [
    "df_pr_switz.to_csv('switzerland_aufbereitet.csv', sep=';')\n",
    "df_pr_cleve.to_csv('cleveland_aufbereitet.csv', sep=';')\n",
    "df_pr_hung.to_csv('hungarian_aufbereitet.csv', sep=';')"
   ]
  },
  {
   "cell_type": "markdown",
   "metadata": {},
   "source": [
    "# Visualisieren"
   ]
  },
  {
   "cell_type": "code",
   "execution_count": 40,
   "metadata": {},
   "outputs": [
    {
     "name": "stdout",
     "output_type": "stream",
     "text": [
      "1 0\n",
      "2 0\n",
      "3 0\n",
      "4 0\n",
      "5 282\n",
      "6 282\n",
      "7 282\n",
      "8 282\n",
      "9 0\n",
      "10 0\n",
      "11 0\n",
      "12 0\n",
      "13 282\n",
      "14 5\n",
      "15 5\n",
      "16 0\n",
      "17 259\n",
      "18 0\n",
      "19 0\n",
      "20 0\n",
      "21 0\n",
      "22 0\n",
      "23 2\n",
      "24 2\n",
      "25 2\n",
      "26 2\n",
      "27 2\n",
      "28 0\n",
      "29 0\n",
      "30 69\n",
      "31 0\n",
      "32 0\n",
      "33 0\n",
      "34 0\n",
      "35 0\n",
      "36 0\n",
      "37 0\n",
      "38 0\n",
      "39 0\n",
      "40 0\n",
      "41 0\n",
      "42 282\n",
      "43 0\n",
      "44 2\n",
      "45 282\n",
      "46 282\n",
      "47 282\n",
      "48 282\n",
      "49 282\n",
      "50 282\n",
      "51 2\n",
      "52 282\n",
      "53 282\n",
      "54 282\n",
      "55 0\n",
      "56 0\n",
      "57 0\n",
      "58 0\n",
      "59 0\n",
      "60 0\n",
      "61 0\n",
      "62 282\n",
      "63 0\n",
      "64 282\n",
      "65 0\n",
      "66 282\n",
      "67 0\n",
      "68 0\n",
      "69 0\n",
      "70 0\n",
      "71 0\n",
      "72 0\n",
      "73 0\n",
      "74 282\n",
      "75 282\n",
      "76 0\n"
     ]
    }
   ],
   "source": [
    "for i in range(1,77):\n",
    "    print(i,sum(df_pr_cleve[i].isnull().values))"
   ]
  },
  {
   "cell_type": "code",
   "execution_count": null,
   "metadata": {},
   "outputs": [],
   "source": []
  },
  {
   "cell_type": "code",
   "execution_count": 41,
   "metadata": {},
   "outputs": [
    {
     "data": {
      "text/plain": [
       "Series([], Name: 13, dtype: int64)"
      ]
     },
     "execution_count": 41,
     "metadata": {},
     "output_type": "execute_result"
    }
   ],
   "source": [
    "df_pr_cleve[13].value_counts().sort_index()"
   ]
  },
  {
   "cell_type": "code",
   "execution_count": 42,
   "metadata": {},
   "outputs": [
    {
     "data": {
      "text/plain": [
       "0"
      ]
     },
     "execution_count": 42,
     "metadata": {},
     "output_type": "execute_result"
    }
   ],
   "source": [
    "sum(df_pr_cleve[16].isnull().values)"
   ]
  },
  {
   "cell_type": "code",
   "execution_count": 43,
   "metadata": {},
   "outputs": [
    {
     "data": {
      "text/plain": [
       "0.0     115\n",
       "1.0       1\n",
       "2.0       6\n",
       "3.0       2\n",
       "4.0       1\n",
       "5.0       1\n",
       "8.0       1\n",
       "9.0       1\n",
       "10.0     12\n",
       "15.0      4\n",
       "20.0     51\n",
       "25.0      6\n",
       "28.0      1\n",
       "30.0     20\n",
       "35.0      2\n",
       "40.0     30\n",
       "50.0      9\n",
       "60.0      9\n",
       "70.0      1\n",
       "75.0      1\n",
       "80.0      2\n",
       "99.0      1\n",
       "Name: 14, dtype: int64"
      ]
     },
     "execution_count": 43,
     "metadata": {},
     "output_type": "execute_result"
    }
   ],
   "source": [
    "df_pr_cleve[14].value_counts().sort_index()"
   ]
  },
  {
   "cell_type": "code",
   "execution_count": 44,
   "metadata": {},
   "outputs": [
    {
     "data": {
      "application/vnd.plotly.v1+json": {
       "config": {
        "linkText": "Export to plot.ly",
        "plotlyServerURL": "https://plot.ly",
        "showLink": true
       },
       "data": [
        {
         "histfunc": "count",
         "histnorm": "",
         "marker": {
          "color": "rgba(255, 153, 51, 1.0)",
          "line": {
           "color": "#4D5663",
           "width": 1.3
          }
         },
         "name": "14",
         "opacity": 0.8,
         "orientation": "v",
         "type": "histogram",
         "x": [
          true,
          true,
          true,
          false,
          false,
          true,
          false,
          false,
          false,
          true,
          true,
          false,
          true,
          true,
          true,
          true,
          false,
          true,
          true,
          true,
          true,
          false,
          false,
          false,
          true,
          true,
          false,
          false,
          true,
          false,
          true,
          false,
          false,
          true,
          true,
          true,
          true,
          true,
          true,
          true,
          false,
          false,
          true,
          true,
          false,
          true,
          true,
          true,
          false,
          true,
          true,
          true,
          false,
          false,
          true,
          false,
          true,
          true,
          true,
          false,
          false,
          false,
          true,
          true,
          true,
          true,
          false,
          true,
          false,
          true,
          false,
          true,
          true,
          false,
          true,
          false,
          true,
          true,
          true,
          true,
          true,
          false,
          true,
          true,
          true,
          true,
          false,
          false,
          false,
          true,
          true,
          false,
          true,
          false,
          false,
          true,
          false,
          true,
          true,
          true,
          true,
          true,
          false,
          false,
          true,
          true,
          true,
          true,
          true,
          true,
          true,
          true,
          true,
          true,
          false,
          false,
          false,
          false,
          false,
          true,
          true,
          true,
          false,
          false,
          true,
          false,
          false,
          false,
          true,
          false,
          false,
          true,
          true,
          false,
          true,
          true,
          true,
          true,
          false,
          false,
          true,
          false,
          true,
          true,
          true,
          false,
          true,
          true,
          false,
          false,
          false,
          false,
          false,
          true,
          false,
          true,
          true,
          true,
          true,
          true,
          true,
          true,
          false,
          false,
          true,
          true,
          true,
          false,
          true,
          false,
          false,
          true,
          false,
          false,
          true,
          true,
          true,
          true,
          true,
          true,
          true,
          false,
          false,
          false,
          false,
          true,
          true,
          false,
          true,
          true,
          true,
          false,
          true,
          true,
          true,
          false,
          false,
          true,
          true,
          true,
          true,
          true,
          false,
          true,
          true,
          false,
          true,
          false,
          true,
          false,
          false,
          true,
          false,
          false,
          false,
          true,
          true,
          false,
          false,
          true,
          true,
          false,
          false,
          false,
          false,
          true,
          true,
          false,
          false,
          true,
          false,
          true,
          true,
          false,
          false,
          false,
          true,
          true,
          false,
          true,
          false,
          false,
          true,
          false,
          false,
          true,
          true,
          false,
          true,
          false,
          false,
          true,
          true,
          false,
          false,
          true,
          true,
          false,
          false,
          true,
          true,
          true,
          false,
          true,
          true,
          true,
          false,
          false,
          true,
          false,
          true,
          false,
          true,
          false,
          true,
          false,
          false,
          true,
          true,
          false,
          true,
          false
         ]
        }
       ],
       "layout": {
        "barmode": "overlay",
        "legend": {
         "bgcolor": "#FFFFFF",
         "font": {
          "color": "#4D5663"
         }
        },
        "paper_bgcolor": "#FFFFFF",
        "plot_bgcolor": "#FFFFFF",
        "template": {
         "data": {
          "bar": [
           {
            "error_x": {
             "color": "#2a3f5f"
            },
            "error_y": {
             "color": "#2a3f5f"
            },
            "marker": {
             "line": {
              "color": "#E5ECF6",
              "width": 0.5
             },
             "pattern": {
              "fillmode": "overlay",
              "size": 10,
              "solidity": 0.2
             }
            },
            "type": "bar"
           }
          ],
          "barpolar": [
           {
            "marker": {
             "line": {
              "color": "#E5ECF6",
              "width": 0.5
             },
             "pattern": {
              "fillmode": "overlay",
              "size": 10,
              "solidity": 0.2
             }
            },
            "type": "barpolar"
           }
          ],
          "carpet": [
           {
            "aaxis": {
             "endlinecolor": "#2a3f5f",
             "gridcolor": "white",
             "linecolor": "white",
             "minorgridcolor": "white",
             "startlinecolor": "#2a3f5f"
            },
            "baxis": {
             "endlinecolor": "#2a3f5f",
             "gridcolor": "white",
             "linecolor": "white",
             "minorgridcolor": "white",
             "startlinecolor": "#2a3f5f"
            },
            "type": "carpet"
           }
          ],
          "choropleth": [
           {
            "colorbar": {
             "outlinewidth": 0,
             "ticks": ""
            },
            "type": "choropleth"
           }
          ],
          "contour": [
           {
            "colorbar": {
             "outlinewidth": 0,
             "ticks": ""
            },
            "colorscale": [
             [
              0,
              "#0d0887"
             ],
             [
              0.1111111111111111,
              "#46039f"
             ],
             [
              0.2222222222222222,
              "#7201a8"
             ],
             [
              0.3333333333333333,
              "#9c179e"
             ],
             [
              0.4444444444444444,
              "#bd3786"
             ],
             [
              0.5555555555555556,
              "#d8576b"
             ],
             [
              0.6666666666666666,
              "#ed7953"
             ],
             [
              0.7777777777777778,
              "#fb9f3a"
             ],
             [
              0.8888888888888888,
              "#fdca26"
             ],
             [
              1,
              "#f0f921"
             ]
            ],
            "type": "contour"
           }
          ],
          "contourcarpet": [
           {
            "colorbar": {
             "outlinewidth": 0,
             "ticks": ""
            },
            "type": "contourcarpet"
           }
          ],
          "heatmap": [
           {
            "colorbar": {
             "outlinewidth": 0,
             "ticks": ""
            },
            "colorscale": [
             [
              0,
              "#0d0887"
             ],
             [
              0.1111111111111111,
              "#46039f"
             ],
             [
              0.2222222222222222,
              "#7201a8"
             ],
             [
              0.3333333333333333,
              "#9c179e"
             ],
             [
              0.4444444444444444,
              "#bd3786"
             ],
             [
              0.5555555555555556,
              "#d8576b"
             ],
             [
              0.6666666666666666,
              "#ed7953"
             ],
             [
              0.7777777777777778,
              "#fb9f3a"
             ],
             [
              0.8888888888888888,
              "#fdca26"
             ],
             [
              1,
              "#f0f921"
             ]
            ],
            "type": "heatmap"
           }
          ],
          "heatmapgl": [
           {
            "colorbar": {
             "outlinewidth": 0,
             "ticks": ""
            },
            "colorscale": [
             [
              0,
              "#0d0887"
             ],
             [
              0.1111111111111111,
              "#46039f"
             ],
             [
              0.2222222222222222,
              "#7201a8"
             ],
             [
              0.3333333333333333,
              "#9c179e"
             ],
             [
              0.4444444444444444,
              "#bd3786"
             ],
             [
              0.5555555555555556,
              "#d8576b"
             ],
             [
              0.6666666666666666,
              "#ed7953"
             ],
             [
              0.7777777777777778,
              "#fb9f3a"
             ],
             [
              0.8888888888888888,
              "#fdca26"
             ],
             [
              1,
              "#f0f921"
             ]
            ],
            "type": "heatmapgl"
           }
          ],
          "histogram": [
           {
            "marker": {
             "pattern": {
              "fillmode": "overlay",
              "size": 10,
              "solidity": 0.2
             }
            },
            "type": "histogram"
           }
          ],
          "histogram2d": [
           {
            "colorbar": {
             "outlinewidth": 0,
             "ticks": ""
            },
            "colorscale": [
             [
              0,
              "#0d0887"
             ],
             [
              0.1111111111111111,
              "#46039f"
             ],
             [
              0.2222222222222222,
              "#7201a8"
             ],
             [
              0.3333333333333333,
              "#9c179e"
             ],
             [
              0.4444444444444444,
              "#bd3786"
             ],
             [
              0.5555555555555556,
              "#d8576b"
             ],
             [
              0.6666666666666666,
              "#ed7953"
             ],
             [
              0.7777777777777778,
              "#fb9f3a"
             ],
             [
              0.8888888888888888,
              "#fdca26"
             ],
             [
              1,
              "#f0f921"
             ]
            ],
            "type": "histogram2d"
           }
          ],
          "histogram2dcontour": [
           {
            "colorbar": {
             "outlinewidth": 0,
             "ticks": ""
            },
            "colorscale": [
             [
              0,
              "#0d0887"
             ],
             [
              0.1111111111111111,
              "#46039f"
             ],
             [
              0.2222222222222222,
              "#7201a8"
             ],
             [
              0.3333333333333333,
              "#9c179e"
             ],
             [
              0.4444444444444444,
              "#bd3786"
             ],
             [
              0.5555555555555556,
              "#d8576b"
             ],
             [
              0.6666666666666666,
              "#ed7953"
             ],
             [
              0.7777777777777778,
              "#fb9f3a"
             ],
             [
              0.8888888888888888,
              "#fdca26"
             ],
             [
              1,
              "#f0f921"
             ]
            ],
            "type": "histogram2dcontour"
           }
          ],
          "mesh3d": [
           {
            "colorbar": {
             "outlinewidth": 0,
             "ticks": ""
            },
            "type": "mesh3d"
           }
          ],
          "parcoords": [
           {
            "line": {
             "colorbar": {
              "outlinewidth": 0,
              "ticks": ""
             }
            },
            "type": "parcoords"
           }
          ],
          "pie": [
           {
            "automargin": true,
            "type": "pie"
           }
          ],
          "scatter": [
           {
            "fillpattern": {
             "fillmode": "overlay",
             "size": 10,
             "solidity": 0.2
            },
            "type": "scatter"
           }
          ],
          "scatter3d": [
           {
            "line": {
             "colorbar": {
              "outlinewidth": 0,
              "ticks": ""
             }
            },
            "marker": {
             "colorbar": {
              "outlinewidth": 0,
              "ticks": ""
             }
            },
            "type": "scatter3d"
           }
          ],
          "scattercarpet": [
           {
            "marker": {
             "colorbar": {
              "outlinewidth": 0,
              "ticks": ""
             }
            },
            "type": "scattercarpet"
           }
          ],
          "scattergeo": [
           {
            "marker": {
             "colorbar": {
              "outlinewidth": 0,
              "ticks": ""
             }
            },
            "type": "scattergeo"
           }
          ],
          "scattergl": [
           {
            "marker": {
             "colorbar": {
              "outlinewidth": 0,
              "ticks": ""
             }
            },
            "type": "scattergl"
           }
          ],
          "scattermapbox": [
           {
            "marker": {
             "colorbar": {
              "outlinewidth": 0,
              "ticks": ""
             }
            },
            "type": "scattermapbox"
           }
          ],
          "scatterpolar": [
           {
            "marker": {
             "colorbar": {
              "outlinewidth": 0,
              "ticks": ""
             }
            },
            "type": "scatterpolar"
           }
          ],
          "scatterpolargl": [
           {
            "marker": {
             "colorbar": {
              "outlinewidth": 0,
              "ticks": ""
             }
            },
            "type": "scatterpolargl"
           }
          ],
          "scatterternary": [
           {
            "marker": {
             "colorbar": {
              "outlinewidth": 0,
              "ticks": ""
             }
            },
            "type": "scatterternary"
           }
          ],
          "surface": [
           {
            "colorbar": {
             "outlinewidth": 0,
             "ticks": ""
            },
            "colorscale": [
             [
              0,
              "#0d0887"
             ],
             [
              0.1111111111111111,
              "#46039f"
             ],
             [
              0.2222222222222222,
              "#7201a8"
             ],
             [
              0.3333333333333333,
              "#9c179e"
             ],
             [
              0.4444444444444444,
              "#bd3786"
             ],
             [
              0.5555555555555556,
              "#d8576b"
             ],
             [
              0.6666666666666666,
              "#ed7953"
             ],
             [
              0.7777777777777778,
              "#fb9f3a"
             ],
             [
              0.8888888888888888,
              "#fdca26"
             ],
             [
              1,
              "#f0f921"
             ]
            ],
            "type": "surface"
           }
          ],
          "table": [
           {
            "cells": {
             "fill": {
              "color": "#EBF0F8"
             },
             "line": {
              "color": "white"
             }
            },
            "header": {
             "fill": {
              "color": "#C8D4E3"
             },
             "line": {
              "color": "white"
             }
            },
            "type": "table"
           }
          ]
         },
         "layout": {
          "annotationdefaults": {
           "arrowcolor": "#2a3f5f",
           "arrowhead": 0,
           "arrowwidth": 1
          },
          "autotypenumbers": "strict",
          "coloraxis": {
           "colorbar": {
            "outlinewidth": 0,
            "ticks": ""
           }
          },
          "colorscale": {
           "diverging": [
            [
             0,
             "#8e0152"
            ],
            [
             0.1,
             "#c51b7d"
            ],
            [
             0.2,
             "#de77ae"
            ],
            [
             0.3,
             "#f1b6da"
            ],
            [
             0.4,
             "#fde0ef"
            ],
            [
             0.5,
             "#f7f7f7"
            ],
            [
             0.6,
             "#e6f5d0"
            ],
            [
             0.7,
             "#b8e186"
            ],
            [
             0.8,
             "#7fbc41"
            ],
            [
             0.9,
             "#4d9221"
            ],
            [
             1,
             "#276419"
            ]
           ],
           "sequential": [
            [
             0,
             "#0d0887"
            ],
            [
             0.1111111111111111,
             "#46039f"
            ],
            [
             0.2222222222222222,
             "#7201a8"
            ],
            [
             0.3333333333333333,
             "#9c179e"
            ],
            [
             0.4444444444444444,
             "#bd3786"
            ],
            [
             0.5555555555555556,
             "#d8576b"
            ],
            [
             0.6666666666666666,
             "#ed7953"
            ],
            [
             0.7777777777777778,
             "#fb9f3a"
            ],
            [
             0.8888888888888888,
             "#fdca26"
            ],
            [
             1,
             "#f0f921"
            ]
           ],
           "sequentialminus": [
            [
             0,
             "#0d0887"
            ],
            [
             0.1111111111111111,
             "#46039f"
            ],
            [
             0.2222222222222222,
             "#7201a8"
            ],
            [
             0.3333333333333333,
             "#9c179e"
            ],
            [
             0.4444444444444444,
             "#bd3786"
            ],
            [
             0.5555555555555556,
             "#d8576b"
            ],
            [
             0.6666666666666666,
             "#ed7953"
            ],
            [
             0.7777777777777778,
             "#fb9f3a"
            ],
            [
             0.8888888888888888,
             "#fdca26"
            ],
            [
             1,
             "#f0f921"
            ]
           ]
          },
          "colorway": [
           "#636efa",
           "#EF553B",
           "#00cc96",
           "#ab63fa",
           "#FFA15A",
           "#19d3f3",
           "#FF6692",
           "#B6E880",
           "#FF97FF",
           "#FECB52"
          ],
          "font": {
           "color": "#2a3f5f"
          },
          "geo": {
           "bgcolor": "white",
           "lakecolor": "white",
           "landcolor": "#E5ECF6",
           "showlakes": true,
           "showland": true,
           "subunitcolor": "white"
          },
          "hoverlabel": {
           "align": "left"
          },
          "hovermode": "closest",
          "mapbox": {
           "style": "light"
          },
          "paper_bgcolor": "white",
          "plot_bgcolor": "#E5ECF6",
          "polar": {
           "angularaxis": {
            "gridcolor": "white",
            "linecolor": "white",
            "ticks": ""
           },
           "bgcolor": "#E5ECF6",
           "radialaxis": {
            "gridcolor": "white",
            "linecolor": "white",
            "ticks": ""
           }
          },
          "scene": {
           "xaxis": {
            "backgroundcolor": "#E5ECF6",
            "gridcolor": "white",
            "gridwidth": 2,
            "linecolor": "white",
            "showbackground": true,
            "ticks": "",
            "zerolinecolor": "white"
           },
           "yaxis": {
            "backgroundcolor": "#E5ECF6",
            "gridcolor": "white",
            "gridwidth": 2,
            "linecolor": "white",
            "showbackground": true,
            "ticks": "",
            "zerolinecolor": "white"
           },
           "zaxis": {
            "backgroundcolor": "#E5ECF6",
            "gridcolor": "white",
            "gridwidth": 2,
            "linecolor": "white",
            "showbackground": true,
            "ticks": "",
            "zerolinecolor": "white"
           }
          },
          "shapedefaults": {
           "line": {
            "color": "#2a3f5f"
           }
          },
          "ternary": {
           "aaxis": {
            "gridcolor": "white",
            "linecolor": "white",
            "ticks": ""
           },
           "baxis": {
            "gridcolor": "white",
            "linecolor": "white",
            "ticks": ""
           },
           "bgcolor": "#E5ECF6",
           "caxis": {
            "gridcolor": "white",
            "linecolor": "white",
            "ticks": ""
           }
          },
          "title": {
           "x": 0.05
          },
          "xaxis": {
           "automargin": true,
           "gridcolor": "white",
           "linecolor": "white",
           "ticks": "",
           "title": {
            "standoff": 15
           },
           "zerolinecolor": "white",
           "zerolinewidth": 2
          },
          "yaxis": {
           "automargin": true,
           "gridcolor": "white",
           "linecolor": "white",
           "ticks": "",
           "title": {
            "standoff": 15
           },
           "zerolinecolor": "white",
           "zerolinewidth": 2
          }
         }
        },
        "title": {
         "font": {
          "color": "#4D5663"
         }
        },
        "xaxis": {
         "gridcolor": "#E1E5ED",
         "showgrid": true,
         "tickfont": {
          "color": "#4D5663"
         },
         "title": {
          "font": {
           "color": "#4D5663"
          },
          "text": ""
         },
         "zerolinecolor": "#E1E5ED"
        },
        "yaxis": {
         "gridcolor": "#E1E5ED",
         "showgrid": true,
         "tickfont": {
          "color": "#4D5663"
         },
         "title": {
          "font": {
           "color": "#4D5663"
          },
          "text": ""
         },
         "zerolinecolor": "#E1E5ED"
        }
       }
      },
      "text/html": [
       "<div>                            <div id=\"73fa30cb-3bec-486f-a925-b581e3e8b0bb\" class=\"plotly-graph-div\" style=\"height:525px; width:100%;\"></div>            <script type=\"text/javascript\">                require([\"plotly\"], function(Plotly) {                    window.PLOTLYENV=window.PLOTLYENV || {};\n",
       "                    window.PLOTLYENV.BASE_URL='https://plot.ly';                                    if (document.getElementById(\"73fa30cb-3bec-486f-a925-b581e3e8b0bb\")) {                    Plotly.newPlot(                        \"73fa30cb-3bec-486f-a925-b581e3e8b0bb\",                        [{\"histfunc\":\"count\",\"histnorm\":\"\",\"marker\":{\"color\":\"rgba(255, 153, 51, 1.0)\",\"line\":{\"color\":\"#4D5663\",\"width\":1.3}},\"name\":\"14\",\"opacity\":0.8,\"orientation\":\"v\",\"x\":[true,true,true,false,false,true,false,false,false,true,true,false,true,true,true,true,false,true,true,true,true,false,false,false,true,true,false,false,true,false,true,false,false,true,true,true,true,true,true,true,false,false,true,true,false,true,true,true,false,true,true,true,false,false,true,false,true,true,true,false,false,false,true,true,true,true,false,true,false,true,false,true,true,false,true,false,true,true,true,true,true,false,true,true,true,true,false,false,false,true,true,false,true,false,false,true,false,true,true,true,true,true,false,false,true,true,true,true,true,true,true,true,true,true,false,false,false,false,false,true,true,true,false,false,true,false,false,false,true,false,false,true,true,false,true,true,true,true,false,false,true,false,true,true,true,false,true,true,false,false,false,false,false,true,false,true,true,true,true,true,true,true,false,false,true,true,true,false,true,false,false,true,false,false,true,true,true,true,true,true,true,false,false,false,false,true,true,false,true,true,true,false,true,true,true,false,false,true,true,true,true,true,false,true,true,false,true,false,true,false,false,true,false,false,false,true,true,false,false,true,true,false,false,false,false,true,true,false,false,true,false,true,true,false,false,false,true,true,false,true,false,false,true,false,false,true,true,false,true,false,false,true,true,false,false,true,true,false,false,true,true,true,false,true,true,true,false,false,true,false,true,false,true,false,true,false,false,true,true,false,true,false],\"type\":\"histogram\"}],                        {\"barmode\":\"overlay\",\"legend\":{\"bgcolor\":\"#FFFFFF\",\"font\":{\"color\":\"#4D5663\"}},\"paper_bgcolor\":\"#FFFFFF\",\"plot_bgcolor\":\"#FFFFFF\",\"template\":{\"data\":{\"barpolar\":[{\"marker\":{\"line\":{\"color\":\"#E5ECF6\",\"width\":0.5},\"pattern\":{\"fillmode\":\"overlay\",\"size\":10,\"solidity\":0.2}},\"type\":\"barpolar\"}],\"bar\":[{\"error_x\":{\"color\":\"#2a3f5f\"},\"error_y\":{\"color\":\"#2a3f5f\"},\"marker\":{\"line\":{\"color\":\"#E5ECF6\",\"width\":0.5},\"pattern\":{\"fillmode\":\"overlay\",\"size\":10,\"solidity\":0.2}},\"type\":\"bar\"}],\"carpet\":[{\"aaxis\":{\"endlinecolor\":\"#2a3f5f\",\"gridcolor\":\"white\",\"linecolor\":\"white\",\"minorgridcolor\":\"white\",\"startlinecolor\":\"#2a3f5f\"},\"baxis\":{\"endlinecolor\":\"#2a3f5f\",\"gridcolor\":\"white\",\"linecolor\":\"white\",\"minorgridcolor\":\"white\",\"startlinecolor\":\"#2a3f5f\"},\"type\":\"carpet\"}],\"choropleth\":[{\"colorbar\":{\"outlinewidth\":0,\"ticks\":\"\"},\"type\":\"choropleth\"}],\"contourcarpet\":[{\"colorbar\":{\"outlinewidth\":0,\"ticks\":\"\"},\"type\":\"contourcarpet\"}],\"contour\":[{\"colorbar\":{\"outlinewidth\":0,\"ticks\":\"\"},\"colorscale\":[[0.0,\"#0d0887\"],[0.1111111111111111,\"#46039f\"],[0.2222222222222222,\"#7201a8\"],[0.3333333333333333,\"#9c179e\"],[0.4444444444444444,\"#bd3786\"],[0.5555555555555556,\"#d8576b\"],[0.6666666666666666,\"#ed7953\"],[0.7777777777777778,\"#fb9f3a\"],[0.8888888888888888,\"#fdca26\"],[1.0,\"#f0f921\"]],\"type\":\"contour\"}],\"heatmapgl\":[{\"colorbar\":{\"outlinewidth\":0,\"ticks\":\"\"},\"colorscale\":[[0.0,\"#0d0887\"],[0.1111111111111111,\"#46039f\"],[0.2222222222222222,\"#7201a8\"],[0.3333333333333333,\"#9c179e\"],[0.4444444444444444,\"#bd3786\"],[0.5555555555555556,\"#d8576b\"],[0.6666666666666666,\"#ed7953\"],[0.7777777777777778,\"#fb9f3a\"],[0.8888888888888888,\"#fdca26\"],[1.0,\"#f0f921\"]],\"type\":\"heatmapgl\"}],\"heatmap\":[{\"colorbar\":{\"outlinewidth\":0,\"ticks\":\"\"},\"colorscale\":[[0.0,\"#0d0887\"],[0.1111111111111111,\"#46039f\"],[0.2222222222222222,\"#7201a8\"],[0.3333333333333333,\"#9c179e\"],[0.4444444444444444,\"#bd3786\"],[0.5555555555555556,\"#d8576b\"],[0.6666666666666666,\"#ed7953\"],[0.7777777777777778,\"#fb9f3a\"],[0.8888888888888888,\"#fdca26\"],[1.0,\"#f0f921\"]],\"type\":\"heatmap\"}],\"histogram2dcontour\":[{\"colorbar\":{\"outlinewidth\":0,\"ticks\":\"\"},\"colorscale\":[[0.0,\"#0d0887\"],[0.1111111111111111,\"#46039f\"],[0.2222222222222222,\"#7201a8\"],[0.3333333333333333,\"#9c179e\"],[0.4444444444444444,\"#bd3786\"],[0.5555555555555556,\"#d8576b\"],[0.6666666666666666,\"#ed7953\"],[0.7777777777777778,\"#fb9f3a\"],[0.8888888888888888,\"#fdca26\"],[1.0,\"#f0f921\"]],\"type\":\"histogram2dcontour\"}],\"histogram2d\":[{\"colorbar\":{\"outlinewidth\":0,\"ticks\":\"\"},\"colorscale\":[[0.0,\"#0d0887\"],[0.1111111111111111,\"#46039f\"],[0.2222222222222222,\"#7201a8\"],[0.3333333333333333,\"#9c179e\"],[0.4444444444444444,\"#bd3786\"],[0.5555555555555556,\"#d8576b\"],[0.6666666666666666,\"#ed7953\"],[0.7777777777777778,\"#fb9f3a\"],[0.8888888888888888,\"#fdca26\"],[1.0,\"#f0f921\"]],\"type\":\"histogram2d\"}],\"histogram\":[{\"marker\":{\"pattern\":{\"fillmode\":\"overlay\",\"size\":10,\"solidity\":0.2}},\"type\":\"histogram\"}],\"mesh3d\":[{\"colorbar\":{\"outlinewidth\":0,\"ticks\":\"\"},\"type\":\"mesh3d\"}],\"parcoords\":[{\"line\":{\"colorbar\":{\"outlinewidth\":0,\"ticks\":\"\"}},\"type\":\"parcoords\"}],\"pie\":[{\"automargin\":true,\"type\":\"pie\"}],\"scatter3d\":[{\"line\":{\"colorbar\":{\"outlinewidth\":0,\"ticks\":\"\"}},\"marker\":{\"colorbar\":{\"outlinewidth\":0,\"ticks\":\"\"}},\"type\":\"scatter3d\"}],\"scattercarpet\":[{\"marker\":{\"colorbar\":{\"outlinewidth\":0,\"ticks\":\"\"}},\"type\":\"scattercarpet\"}],\"scattergeo\":[{\"marker\":{\"colorbar\":{\"outlinewidth\":0,\"ticks\":\"\"}},\"type\":\"scattergeo\"}],\"scattergl\":[{\"marker\":{\"colorbar\":{\"outlinewidth\":0,\"ticks\":\"\"}},\"type\":\"scattergl\"}],\"scattermapbox\":[{\"marker\":{\"colorbar\":{\"outlinewidth\":0,\"ticks\":\"\"}},\"type\":\"scattermapbox\"}],\"scatterpolargl\":[{\"marker\":{\"colorbar\":{\"outlinewidth\":0,\"ticks\":\"\"}},\"type\":\"scatterpolargl\"}],\"scatterpolar\":[{\"marker\":{\"colorbar\":{\"outlinewidth\":0,\"ticks\":\"\"}},\"type\":\"scatterpolar\"}],\"scatter\":[{\"fillpattern\":{\"fillmode\":\"overlay\",\"size\":10,\"solidity\":0.2},\"type\":\"scatter\"}],\"scatterternary\":[{\"marker\":{\"colorbar\":{\"outlinewidth\":0,\"ticks\":\"\"}},\"type\":\"scatterternary\"}],\"surface\":[{\"colorbar\":{\"outlinewidth\":0,\"ticks\":\"\"},\"colorscale\":[[0.0,\"#0d0887\"],[0.1111111111111111,\"#46039f\"],[0.2222222222222222,\"#7201a8\"],[0.3333333333333333,\"#9c179e\"],[0.4444444444444444,\"#bd3786\"],[0.5555555555555556,\"#d8576b\"],[0.6666666666666666,\"#ed7953\"],[0.7777777777777778,\"#fb9f3a\"],[0.8888888888888888,\"#fdca26\"],[1.0,\"#f0f921\"]],\"type\":\"surface\"}],\"table\":[{\"cells\":{\"fill\":{\"color\":\"#EBF0F8\"},\"line\":{\"color\":\"white\"}},\"header\":{\"fill\":{\"color\":\"#C8D4E3\"},\"line\":{\"color\":\"white\"}},\"type\":\"table\"}]},\"layout\":{\"annotationdefaults\":{\"arrowcolor\":\"#2a3f5f\",\"arrowhead\":0,\"arrowwidth\":1},\"autotypenumbers\":\"strict\",\"coloraxis\":{\"colorbar\":{\"outlinewidth\":0,\"ticks\":\"\"}},\"colorscale\":{\"diverging\":[[0,\"#8e0152\"],[0.1,\"#c51b7d\"],[0.2,\"#de77ae\"],[0.3,\"#f1b6da\"],[0.4,\"#fde0ef\"],[0.5,\"#f7f7f7\"],[0.6,\"#e6f5d0\"],[0.7,\"#b8e186\"],[0.8,\"#7fbc41\"],[0.9,\"#4d9221\"],[1,\"#276419\"]],\"sequential\":[[0.0,\"#0d0887\"],[0.1111111111111111,\"#46039f\"],[0.2222222222222222,\"#7201a8\"],[0.3333333333333333,\"#9c179e\"],[0.4444444444444444,\"#bd3786\"],[0.5555555555555556,\"#d8576b\"],[0.6666666666666666,\"#ed7953\"],[0.7777777777777778,\"#fb9f3a\"],[0.8888888888888888,\"#fdca26\"],[1.0,\"#f0f921\"]],\"sequentialminus\":[[0.0,\"#0d0887\"],[0.1111111111111111,\"#46039f\"],[0.2222222222222222,\"#7201a8\"],[0.3333333333333333,\"#9c179e\"],[0.4444444444444444,\"#bd3786\"],[0.5555555555555556,\"#d8576b\"],[0.6666666666666666,\"#ed7953\"],[0.7777777777777778,\"#fb9f3a\"],[0.8888888888888888,\"#fdca26\"],[1.0,\"#f0f921\"]]},\"colorway\":[\"#636efa\",\"#EF553B\",\"#00cc96\",\"#ab63fa\",\"#FFA15A\",\"#19d3f3\",\"#FF6692\",\"#B6E880\",\"#FF97FF\",\"#FECB52\"],\"font\":{\"color\":\"#2a3f5f\"},\"geo\":{\"bgcolor\":\"white\",\"lakecolor\":\"white\",\"landcolor\":\"#E5ECF6\",\"showlakes\":true,\"showland\":true,\"subunitcolor\":\"white\"},\"hoverlabel\":{\"align\":\"left\"},\"hovermode\":\"closest\",\"mapbox\":{\"style\":\"light\"},\"paper_bgcolor\":\"white\",\"plot_bgcolor\":\"#E5ECF6\",\"polar\":{\"angularaxis\":{\"gridcolor\":\"white\",\"linecolor\":\"white\",\"ticks\":\"\"},\"bgcolor\":\"#E5ECF6\",\"radialaxis\":{\"gridcolor\":\"white\",\"linecolor\":\"white\",\"ticks\":\"\"}},\"scene\":{\"xaxis\":{\"backgroundcolor\":\"#E5ECF6\",\"gridcolor\":\"white\",\"gridwidth\":2,\"linecolor\":\"white\",\"showbackground\":true,\"ticks\":\"\",\"zerolinecolor\":\"white\"},\"yaxis\":{\"backgroundcolor\":\"#E5ECF6\",\"gridcolor\":\"white\",\"gridwidth\":2,\"linecolor\":\"white\",\"showbackground\":true,\"ticks\":\"\",\"zerolinecolor\":\"white\"},\"zaxis\":{\"backgroundcolor\":\"#E5ECF6\",\"gridcolor\":\"white\",\"gridwidth\":2,\"linecolor\":\"white\",\"showbackground\":true,\"ticks\":\"\",\"zerolinecolor\":\"white\"}},\"shapedefaults\":{\"line\":{\"color\":\"#2a3f5f\"}},\"ternary\":{\"aaxis\":{\"gridcolor\":\"white\",\"linecolor\":\"white\",\"ticks\":\"\"},\"baxis\":{\"gridcolor\":\"white\",\"linecolor\":\"white\",\"ticks\":\"\"},\"bgcolor\":\"#E5ECF6\",\"caxis\":{\"gridcolor\":\"white\",\"linecolor\":\"white\",\"ticks\":\"\"}},\"title\":{\"x\":0.05},\"xaxis\":{\"automargin\":true,\"gridcolor\":\"white\",\"linecolor\":\"white\",\"ticks\":\"\",\"title\":{\"standoff\":15},\"zerolinecolor\":\"white\",\"zerolinewidth\":2},\"yaxis\":{\"automargin\":true,\"gridcolor\":\"white\",\"linecolor\":\"white\",\"ticks\":\"\",\"title\":{\"standoff\":15},\"zerolinecolor\":\"white\",\"zerolinewidth\":2}}},\"title\":{\"font\":{\"color\":\"#4D5663\"}},\"xaxis\":{\"gridcolor\":\"#E1E5ED\",\"showgrid\":true,\"tickfont\":{\"color\":\"#4D5663\"},\"title\":{\"font\":{\"color\":\"#4D5663\"},\"text\":\"\"},\"zerolinecolor\":\"#E1E5ED\"},\"yaxis\":{\"gridcolor\":\"#E1E5ED\",\"showgrid\":true,\"tickfont\":{\"color\":\"#4D5663\"},\"title\":{\"font\":{\"color\":\"#4D5663\"},\"text\":\"\"},\"zerolinecolor\":\"#E1E5ED\"}},                        {\"showLink\": true, \"linkText\": \"Export to plot.ly\", \"plotlyServerURL\": \"https://plot.ly\", \"responsive\": true}                    ).then(function(){\n",
       "                            \n",
       "var gd = document.getElementById('73fa30cb-3bec-486f-a925-b581e3e8b0bb');\n",
       "var x = new MutationObserver(function (mutations, observer) {{\n",
       "        var display = window.getComputedStyle(gd).display;\n",
       "        if (!display || display === 'none') {{\n",
       "            console.log([gd, 'removed!']);\n",
       "            Plotly.purge(gd);\n",
       "            observer.disconnect();\n",
       "        }}\n",
       "}});\n",
       "\n",
       "// Listen for the removal of the full notebook cells\n",
       "var notebookContainer = gd.closest('#notebook-container');\n",
       "if (notebookContainer) {{\n",
       "    x.observe(notebookContainer, {childList: true});\n",
       "}}\n",
       "\n",
       "// Listen for the clearing of the current output cell\n",
       "var outputEl = gd.closest('.output');\n",
       "if (outputEl) {{\n",
       "    x.observe(outputEl, {childList: true});\n",
       "}}\n",
       "\n",
       "                        })                };                });            </script>        </div>"
      ]
     },
     "metadata": {},
     "output_type": "display_data"
    }
   ],
   "source": [
    "(df_pr_cleve[14]>=1.0).iplot('hist')"
   ]
  },
  {
   "cell_type": "code",
   "execution_count": 45,
   "metadata": {
    "scrolled": false
   },
   "outputs": [
    {
     "data": {
      "application/vnd.plotly.v1+json": {
       "config": {
        "linkText": "Export to plot.ly",
        "plotlyServerURL": "https://plot.ly",
        "showLink": true
       },
       "data": [
        {
         "histfunc": "count",
         "histnorm": "",
         "marker": {
          "color": "rgba(255, 153, 51, 1.0)",
          "line": {
           "color": "#4D5663",
           "width": 1.3
          }
         },
         "name": "58",
         "opacity": 0.8,
         "orientation": "v",
         "type": "histogram",
         "x": [
          false,
          true,
          true,
          false,
          false,
          false,
          true,
          false,
          true,
          true,
          false,
          false,
          true,
          false,
          false,
          false,
          true,
          false,
          false,
          false,
          false,
          false,
          true,
          true,
          true,
          false,
          false,
          false,
          false,
          true,
          false,
          true,
          true,
          false,
          false,
          false,
          true,
          true,
          true,
          false,
          true,
          false,
          false,
          false,
          true,
          true,
          false,
          true,
          false,
          false,
          false,
          false,
          true,
          false,
          true,
          true,
          true,
          true,
          false,
          false,
          true,
          false,
          true,
          false,
          true,
          true,
          true,
          false,
          true,
          true,
          false,
          true,
          true,
          true,
          true,
          false,
          true,
          false,
          false,
          true,
          false,
          false,
          false,
          true,
          false,
          false,
          false,
          false,
          false,
          false,
          false,
          true,
          false,
          false,
          false,
          true,
          true,
          true,
          false,
          false,
          false,
          false,
          false,
          false,
          true,
          false,
          true,
          true,
          true,
          true,
          true,
          true,
          false,
          true,
          true,
          false,
          false,
          false,
          true,
          true,
          true,
          true,
          false,
          true,
          true,
          false,
          true,
          true,
          false,
          false,
          false,
          false,
          false,
          false,
          false,
          false,
          true,
          true,
          true,
          false,
          false,
          true,
          false,
          true,
          false,
          true,
          true,
          false,
          false,
          false,
          false,
          false,
          false,
          true,
          true,
          true,
          true,
          true,
          true,
          false,
          false,
          true,
          false,
          false,
          false,
          false,
          false,
          false,
          true,
          false,
          true,
          false,
          true,
          false,
          true,
          true,
          false,
          true,
          false,
          false,
          true,
          true,
          false,
          false,
          true,
          false,
          false,
          true,
          true,
          true,
          false,
          true,
          true,
          true,
          false,
          true,
          false,
          false,
          false,
          true,
          false,
          false,
          false,
          false,
          false,
          true,
          true,
          true,
          false,
          true,
          false,
          true,
          false,
          true,
          true,
          false,
          false,
          false,
          false,
          false,
          false,
          false,
          false,
          true,
          true,
          false,
          false,
          false,
          true,
          true,
          false,
          true,
          true,
          false,
          false,
          true,
          true,
          true,
          false,
          false,
          false,
          false,
          false,
          true,
          false,
          true,
          true,
          true,
          true,
          false,
          false,
          true,
          false,
          false,
          false,
          false,
          false,
          false,
          false,
          true,
          false,
          true,
          false,
          false,
          true,
          true,
          true,
          true,
          true,
          false,
          true,
          false,
          true,
          false,
          true,
          false,
          false,
          false,
          true,
          false,
          true,
          false
         ]
        }
       ],
       "layout": {
        "barmode": "overlay",
        "legend": {
         "bgcolor": "#FFFFFF",
         "font": {
          "color": "#4D5663"
         }
        },
        "paper_bgcolor": "#FFFFFF",
        "plot_bgcolor": "#FFFFFF",
        "template": {
         "data": {
          "bar": [
           {
            "error_x": {
             "color": "#2a3f5f"
            },
            "error_y": {
             "color": "#2a3f5f"
            },
            "marker": {
             "line": {
              "color": "#E5ECF6",
              "width": 0.5
             },
             "pattern": {
              "fillmode": "overlay",
              "size": 10,
              "solidity": 0.2
             }
            },
            "type": "bar"
           }
          ],
          "barpolar": [
           {
            "marker": {
             "line": {
              "color": "#E5ECF6",
              "width": 0.5
             },
             "pattern": {
              "fillmode": "overlay",
              "size": 10,
              "solidity": 0.2
             }
            },
            "type": "barpolar"
           }
          ],
          "carpet": [
           {
            "aaxis": {
             "endlinecolor": "#2a3f5f",
             "gridcolor": "white",
             "linecolor": "white",
             "minorgridcolor": "white",
             "startlinecolor": "#2a3f5f"
            },
            "baxis": {
             "endlinecolor": "#2a3f5f",
             "gridcolor": "white",
             "linecolor": "white",
             "minorgridcolor": "white",
             "startlinecolor": "#2a3f5f"
            },
            "type": "carpet"
           }
          ],
          "choropleth": [
           {
            "colorbar": {
             "outlinewidth": 0,
             "ticks": ""
            },
            "type": "choropleth"
           }
          ],
          "contour": [
           {
            "colorbar": {
             "outlinewidth": 0,
             "ticks": ""
            },
            "colorscale": [
             [
              0,
              "#0d0887"
             ],
             [
              0.1111111111111111,
              "#46039f"
             ],
             [
              0.2222222222222222,
              "#7201a8"
             ],
             [
              0.3333333333333333,
              "#9c179e"
             ],
             [
              0.4444444444444444,
              "#bd3786"
             ],
             [
              0.5555555555555556,
              "#d8576b"
             ],
             [
              0.6666666666666666,
              "#ed7953"
             ],
             [
              0.7777777777777778,
              "#fb9f3a"
             ],
             [
              0.8888888888888888,
              "#fdca26"
             ],
             [
              1,
              "#f0f921"
             ]
            ],
            "type": "contour"
           }
          ],
          "contourcarpet": [
           {
            "colorbar": {
             "outlinewidth": 0,
             "ticks": ""
            },
            "type": "contourcarpet"
           }
          ],
          "heatmap": [
           {
            "colorbar": {
             "outlinewidth": 0,
             "ticks": ""
            },
            "colorscale": [
             [
              0,
              "#0d0887"
             ],
             [
              0.1111111111111111,
              "#46039f"
             ],
             [
              0.2222222222222222,
              "#7201a8"
             ],
             [
              0.3333333333333333,
              "#9c179e"
             ],
             [
              0.4444444444444444,
              "#bd3786"
             ],
             [
              0.5555555555555556,
              "#d8576b"
             ],
             [
              0.6666666666666666,
              "#ed7953"
             ],
             [
              0.7777777777777778,
              "#fb9f3a"
             ],
             [
              0.8888888888888888,
              "#fdca26"
             ],
             [
              1,
              "#f0f921"
             ]
            ],
            "type": "heatmap"
           }
          ],
          "heatmapgl": [
           {
            "colorbar": {
             "outlinewidth": 0,
             "ticks": ""
            },
            "colorscale": [
             [
              0,
              "#0d0887"
             ],
             [
              0.1111111111111111,
              "#46039f"
             ],
             [
              0.2222222222222222,
              "#7201a8"
             ],
             [
              0.3333333333333333,
              "#9c179e"
             ],
             [
              0.4444444444444444,
              "#bd3786"
             ],
             [
              0.5555555555555556,
              "#d8576b"
             ],
             [
              0.6666666666666666,
              "#ed7953"
             ],
             [
              0.7777777777777778,
              "#fb9f3a"
             ],
             [
              0.8888888888888888,
              "#fdca26"
             ],
             [
              1,
              "#f0f921"
             ]
            ],
            "type": "heatmapgl"
           }
          ],
          "histogram": [
           {
            "marker": {
             "pattern": {
              "fillmode": "overlay",
              "size": 10,
              "solidity": 0.2
             }
            },
            "type": "histogram"
           }
          ],
          "histogram2d": [
           {
            "colorbar": {
             "outlinewidth": 0,
             "ticks": ""
            },
            "colorscale": [
             [
              0,
              "#0d0887"
             ],
             [
              0.1111111111111111,
              "#46039f"
             ],
             [
              0.2222222222222222,
              "#7201a8"
             ],
             [
              0.3333333333333333,
              "#9c179e"
             ],
             [
              0.4444444444444444,
              "#bd3786"
             ],
             [
              0.5555555555555556,
              "#d8576b"
             ],
             [
              0.6666666666666666,
              "#ed7953"
             ],
             [
              0.7777777777777778,
              "#fb9f3a"
             ],
             [
              0.8888888888888888,
              "#fdca26"
             ],
             [
              1,
              "#f0f921"
             ]
            ],
            "type": "histogram2d"
           }
          ],
          "histogram2dcontour": [
           {
            "colorbar": {
             "outlinewidth": 0,
             "ticks": ""
            },
            "colorscale": [
             [
              0,
              "#0d0887"
             ],
             [
              0.1111111111111111,
              "#46039f"
             ],
             [
              0.2222222222222222,
              "#7201a8"
             ],
             [
              0.3333333333333333,
              "#9c179e"
             ],
             [
              0.4444444444444444,
              "#bd3786"
             ],
             [
              0.5555555555555556,
              "#d8576b"
             ],
             [
              0.6666666666666666,
              "#ed7953"
             ],
             [
              0.7777777777777778,
              "#fb9f3a"
             ],
             [
              0.8888888888888888,
              "#fdca26"
             ],
             [
              1,
              "#f0f921"
             ]
            ],
            "type": "histogram2dcontour"
           }
          ],
          "mesh3d": [
           {
            "colorbar": {
             "outlinewidth": 0,
             "ticks": ""
            },
            "type": "mesh3d"
           }
          ],
          "parcoords": [
           {
            "line": {
             "colorbar": {
              "outlinewidth": 0,
              "ticks": ""
             }
            },
            "type": "parcoords"
           }
          ],
          "pie": [
           {
            "automargin": true,
            "type": "pie"
           }
          ],
          "scatter": [
           {
            "fillpattern": {
             "fillmode": "overlay",
             "size": 10,
             "solidity": 0.2
            },
            "type": "scatter"
           }
          ],
          "scatter3d": [
           {
            "line": {
             "colorbar": {
              "outlinewidth": 0,
              "ticks": ""
             }
            },
            "marker": {
             "colorbar": {
              "outlinewidth": 0,
              "ticks": ""
             }
            },
            "type": "scatter3d"
           }
          ],
          "scattercarpet": [
           {
            "marker": {
             "colorbar": {
              "outlinewidth": 0,
              "ticks": ""
             }
            },
            "type": "scattercarpet"
           }
          ],
          "scattergeo": [
           {
            "marker": {
             "colorbar": {
              "outlinewidth": 0,
              "ticks": ""
             }
            },
            "type": "scattergeo"
           }
          ],
          "scattergl": [
           {
            "marker": {
             "colorbar": {
              "outlinewidth": 0,
              "ticks": ""
             }
            },
            "type": "scattergl"
           }
          ],
          "scattermapbox": [
           {
            "marker": {
             "colorbar": {
              "outlinewidth": 0,
              "ticks": ""
             }
            },
            "type": "scattermapbox"
           }
          ],
          "scatterpolar": [
           {
            "marker": {
             "colorbar": {
              "outlinewidth": 0,
              "ticks": ""
             }
            },
            "type": "scatterpolar"
           }
          ],
          "scatterpolargl": [
           {
            "marker": {
             "colorbar": {
              "outlinewidth": 0,
              "ticks": ""
             }
            },
            "type": "scatterpolargl"
           }
          ],
          "scatterternary": [
           {
            "marker": {
             "colorbar": {
              "outlinewidth": 0,
              "ticks": ""
             }
            },
            "type": "scatterternary"
           }
          ],
          "surface": [
           {
            "colorbar": {
             "outlinewidth": 0,
             "ticks": ""
            },
            "colorscale": [
             [
              0,
              "#0d0887"
             ],
             [
              0.1111111111111111,
              "#46039f"
             ],
             [
              0.2222222222222222,
              "#7201a8"
             ],
             [
              0.3333333333333333,
              "#9c179e"
             ],
             [
              0.4444444444444444,
              "#bd3786"
             ],
             [
              0.5555555555555556,
              "#d8576b"
             ],
             [
              0.6666666666666666,
              "#ed7953"
             ],
             [
              0.7777777777777778,
              "#fb9f3a"
             ],
             [
              0.8888888888888888,
              "#fdca26"
             ],
             [
              1,
              "#f0f921"
             ]
            ],
            "type": "surface"
           }
          ],
          "table": [
           {
            "cells": {
             "fill": {
              "color": "#EBF0F8"
             },
             "line": {
              "color": "white"
             }
            },
            "header": {
             "fill": {
              "color": "#C8D4E3"
             },
             "line": {
              "color": "white"
             }
            },
            "type": "table"
           }
          ]
         },
         "layout": {
          "annotationdefaults": {
           "arrowcolor": "#2a3f5f",
           "arrowhead": 0,
           "arrowwidth": 1
          },
          "autotypenumbers": "strict",
          "coloraxis": {
           "colorbar": {
            "outlinewidth": 0,
            "ticks": ""
           }
          },
          "colorscale": {
           "diverging": [
            [
             0,
             "#8e0152"
            ],
            [
             0.1,
             "#c51b7d"
            ],
            [
             0.2,
             "#de77ae"
            ],
            [
             0.3,
             "#f1b6da"
            ],
            [
             0.4,
             "#fde0ef"
            ],
            [
             0.5,
             "#f7f7f7"
            ],
            [
             0.6,
             "#e6f5d0"
            ],
            [
             0.7,
             "#b8e186"
            ],
            [
             0.8,
             "#7fbc41"
            ],
            [
             0.9,
             "#4d9221"
            ],
            [
             1,
             "#276419"
            ]
           ],
           "sequential": [
            [
             0,
             "#0d0887"
            ],
            [
             0.1111111111111111,
             "#46039f"
            ],
            [
             0.2222222222222222,
             "#7201a8"
            ],
            [
             0.3333333333333333,
             "#9c179e"
            ],
            [
             0.4444444444444444,
             "#bd3786"
            ],
            [
             0.5555555555555556,
             "#d8576b"
            ],
            [
             0.6666666666666666,
             "#ed7953"
            ],
            [
             0.7777777777777778,
             "#fb9f3a"
            ],
            [
             0.8888888888888888,
             "#fdca26"
            ],
            [
             1,
             "#f0f921"
            ]
           ],
           "sequentialminus": [
            [
             0,
             "#0d0887"
            ],
            [
             0.1111111111111111,
             "#46039f"
            ],
            [
             0.2222222222222222,
             "#7201a8"
            ],
            [
             0.3333333333333333,
             "#9c179e"
            ],
            [
             0.4444444444444444,
             "#bd3786"
            ],
            [
             0.5555555555555556,
             "#d8576b"
            ],
            [
             0.6666666666666666,
             "#ed7953"
            ],
            [
             0.7777777777777778,
             "#fb9f3a"
            ],
            [
             0.8888888888888888,
             "#fdca26"
            ],
            [
             1,
             "#f0f921"
            ]
           ]
          },
          "colorway": [
           "#636efa",
           "#EF553B",
           "#00cc96",
           "#ab63fa",
           "#FFA15A",
           "#19d3f3",
           "#FF6692",
           "#B6E880",
           "#FF97FF",
           "#FECB52"
          ],
          "font": {
           "color": "#2a3f5f"
          },
          "geo": {
           "bgcolor": "white",
           "lakecolor": "white",
           "landcolor": "#E5ECF6",
           "showlakes": true,
           "showland": true,
           "subunitcolor": "white"
          },
          "hoverlabel": {
           "align": "left"
          },
          "hovermode": "closest",
          "mapbox": {
           "style": "light"
          },
          "paper_bgcolor": "white",
          "plot_bgcolor": "#E5ECF6",
          "polar": {
           "angularaxis": {
            "gridcolor": "white",
            "linecolor": "white",
            "ticks": ""
           },
           "bgcolor": "#E5ECF6",
           "radialaxis": {
            "gridcolor": "white",
            "linecolor": "white",
            "ticks": ""
           }
          },
          "scene": {
           "xaxis": {
            "backgroundcolor": "#E5ECF6",
            "gridcolor": "white",
            "gridwidth": 2,
            "linecolor": "white",
            "showbackground": true,
            "ticks": "",
            "zerolinecolor": "white"
           },
           "yaxis": {
            "backgroundcolor": "#E5ECF6",
            "gridcolor": "white",
            "gridwidth": 2,
            "linecolor": "white",
            "showbackground": true,
            "ticks": "",
            "zerolinecolor": "white"
           },
           "zaxis": {
            "backgroundcolor": "#E5ECF6",
            "gridcolor": "white",
            "gridwidth": 2,
            "linecolor": "white",
            "showbackground": true,
            "ticks": "",
            "zerolinecolor": "white"
           }
          },
          "shapedefaults": {
           "line": {
            "color": "#2a3f5f"
           }
          },
          "ternary": {
           "aaxis": {
            "gridcolor": "white",
            "linecolor": "white",
            "ticks": ""
           },
           "baxis": {
            "gridcolor": "white",
            "linecolor": "white",
            "ticks": ""
           },
           "bgcolor": "#E5ECF6",
           "caxis": {
            "gridcolor": "white",
            "linecolor": "white",
            "ticks": ""
           }
          },
          "title": {
           "x": 0.05
          },
          "xaxis": {
           "automargin": true,
           "gridcolor": "white",
           "linecolor": "white",
           "ticks": "",
           "title": {
            "standoff": 15
           },
           "zerolinecolor": "white",
           "zerolinewidth": 2
          },
          "yaxis": {
           "automargin": true,
           "gridcolor": "white",
           "linecolor": "white",
           "ticks": "",
           "title": {
            "standoff": 15
           },
           "zerolinecolor": "white",
           "zerolinewidth": 2
          }
         }
        },
        "title": {
         "font": {
          "color": "#4D5663"
         }
        },
        "xaxis": {
         "gridcolor": "#E1E5ED",
         "showgrid": true,
         "tickfont": {
          "color": "#4D5663"
         },
         "title": {
          "font": {
           "color": "#4D5663"
          },
          "text": ""
         },
         "zerolinecolor": "#E1E5ED"
        },
        "yaxis": {
         "gridcolor": "#E1E5ED",
         "showgrid": true,
         "tickfont": {
          "color": "#4D5663"
         },
         "title": {
          "font": {
           "color": "#4D5663"
          },
          "text": ""
         },
         "zerolinecolor": "#E1E5ED"
        }
       }
      },
      "text/html": [
       "<div>                            <div id=\"f5d3085d-7e07-4842-a93f-b5a89db0c3c7\" class=\"plotly-graph-div\" style=\"height:525px; width:100%;\"></div>            <script type=\"text/javascript\">                require([\"plotly\"], function(Plotly) {                    window.PLOTLYENV=window.PLOTLYENV || {};\n",
       "                    window.PLOTLYENV.BASE_URL='https://plot.ly';                                    if (document.getElementById(\"f5d3085d-7e07-4842-a93f-b5a89db0c3c7\")) {                    Plotly.newPlot(                        \"f5d3085d-7e07-4842-a93f-b5a89db0c3c7\",                        [{\"histfunc\":\"count\",\"histnorm\":\"\",\"marker\":{\"color\":\"rgba(255, 153, 51, 1.0)\",\"line\":{\"color\":\"#4D5663\",\"width\":1.3}},\"name\":\"58\",\"opacity\":0.8,\"orientation\":\"v\",\"x\":[false,true,true,false,false,false,true,false,true,true,false,false,true,false,false,false,true,false,false,false,false,false,true,true,true,false,false,false,false,true,false,true,true,false,false,false,true,true,true,false,true,false,false,false,true,true,false,true,false,false,false,false,true,false,true,true,true,true,false,false,true,false,true,false,true,true,true,false,true,true,false,true,true,true,true,false,true,false,false,true,false,false,false,true,false,false,false,false,false,false,false,true,false,false,false,true,true,true,false,false,false,false,false,false,true,false,true,true,true,true,true,true,false,true,true,false,false,false,true,true,true,true,false,true,true,false,true,true,false,false,false,false,false,false,false,false,true,true,true,false,false,true,false,true,false,true,true,false,false,false,false,false,false,true,true,true,true,true,true,false,false,true,false,false,false,false,false,false,true,false,true,false,true,false,true,true,false,true,false,false,true,true,false,false,true,false,false,true,true,true,false,true,true,true,false,true,false,false,false,true,false,false,false,false,false,true,true,true,false,true,false,true,false,true,true,false,false,false,false,false,false,false,false,true,true,false,false,false,true,true,false,true,true,false,false,true,true,true,false,false,false,false,false,true,false,true,true,true,true,false,false,true,false,false,false,false,false,false,false,true,false,true,false,false,true,true,true,true,true,false,true,false,true,false,true,false,false,false,true,false,true,false],\"type\":\"histogram\"}],                        {\"barmode\":\"overlay\",\"legend\":{\"bgcolor\":\"#FFFFFF\",\"font\":{\"color\":\"#4D5663\"}},\"paper_bgcolor\":\"#FFFFFF\",\"plot_bgcolor\":\"#FFFFFF\",\"template\":{\"data\":{\"barpolar\":[{\"marker\":{\"line\":{\"color\":\"#E5ECF6\",\"width\":0.5},\"pattern\":{\"fillmode\":\"overlay\",\"size\":10,\"solidity\":0.2}},\"type\":\"barpolar\"}],\"bar\":[{\"error_x\":{\"color\":\"#2a3f5f\"},\"error_y\":{\"color\":\"#2a3f5f\"},\"marker\":{\"line\":{\"color\":\"#E5ECF6\",\"width\":0.5},\"pattern\":{\"fillmode\":\"overlay\",\"size\":10,\"solidity\":0.2}},\"type\":\"bar\"}],\"carpet\":[{\"aaxis\":{\"endlinecolor\":\"#2a3f5f\",\"gridcolor\":\"white\",\"linecolor\":\"white\",\"minorgridcolor\":\"white\",\"startlinecolor\":\"#2a3f5f\"},\"baxis\":{\"endlinecolor\":\"#2a3f5f\",\"gridcolor\":\"white\",\"linecolor\":\"white\",\"minorgridcolor\":\"white\",\"startlinecolor\":\"#2a3f5f\"},\"type\":\"carpet\"}],\"choropleth\":[{\"colorbar\":{\"outlinewidth\":0,\"ticks\":\"\"},\"type\":\"choropleth\"}],\"contourcarpet\":[{\"colorbar\":{\"outlinewidth\":0,\"ticks\":\"\"},\"type\":\"contourcarpet\"}],\"contour\":[{\"colorbar\":{\"outlinewidth\":0,\"ticks\":\"\"},\"colorscale\":[[0.0,\"#0d0887\"],[0.1111111111111111,\"#46039f\"],[0.2222222222222222,\"#7201a8\"],[0.3333333333333333,\"#9c179e\"],[0.4444444444444444,\"#bd3786\"],[0.5555555555555556,\"#d8576b\"],[0.6666666666666666,\"#ed7953\"],[0.7777777777777778,\"#fb9f3a\"],[0.8888888888888888,\"#fdca26\"],[1.0,\"#f0f921\"]],\"type\":\"contour\"}],\"heatmapgl\":[{\"colorbar\":{\"outlinewidth\":0,\"ticks\":\"\"},\"colorscale\":[[0.0,\"#0d0887\"],[0.1111111111111111,\"#46039f\"],[0.2222222222222222,\"#7201a8\"],[0.3333333333333333,\"#9c179e\"],[0.4444444444444444,\"#bd3786\"],[0.5555555555555556,\"#d8576b\"],[0.6666666666666666,\"#ed7953\"],[0.7777777777777778,\"#fb9f3a\"],[0.8888888888888888,\"#fdca26\"],[1.0,\"#f0f921\"]],\"type\":\"heatmapgl\"}],\"heatmap\":[{\"colorbar\":{\"outlinewidth\":0,\"ticks\":\"\"},\"colorscale\":[[0.0,\"#0d0887\"],[0.1111111111111111,\"#46039f\"],[0.2222222222222222,\"#7201a8\"],[0.3333333333333333,\"#9c179e\"],[0.4444444444444444,\"#bd3786\"],[0.5555555555555556,\"#d8576b\"],[0.6666666666666666,\"#ed7953\"],[0.7777777777777778,\"#fb9f3a\"],[0.8888888888888888,\"#fdca26\"],[1.0,\"#f0f921\"]],\"type\":\"heatmap\"}],\"histogram2dcontour\":[{\"colorbar\":{\"outlinewidth\":0,\"ticks\":\"\"},\"colorscale\":[[0.0,\"#0d0887\"],[0.1111111111111111,\"#46039f\"],[0.2222222222222222,\"#7201a8\"],[0.3333333333333333,\"#9c179e\"],[0.4444444444444444,\"#bd3786\"],[0.5555555555555556,\"#d8576b\"],[0.6666666666666666,\"#ed7953\"],[0.7777777777777778,\"#fb9f3a\"],[0.8888888888888888,\"#fdca26\"],[1.0,\"#f0f921\"]],\"type\":\"histogram2dcontour\"}],\"histogram2d\":[{\"colorbar\":{\"outlinewidth\":0,\"ticks\":\"\"},\"colorscale\":[[0.0,\"#0d0887\"],[0.1111111111111111,\"#46039f\"],[0.2222222222222222,\"#7201a8\"],[0.3333333333333333,\"#9c179e\"],[0.4444444444444444,\"#bd3786\"],[0.5555555555555556,\"#d8576b\"],[0.6666666666666666,\"#ed7953\"],[0.7777777777777778,\"#fb9f3a\"],[0.8888888888888888,\"#fdca26\"],[1.0,\"#f0f921\"]],\"type\":\"histogram2d\"}],\"histogram\":[{\"marker\":{\"pattern\":{\"fillmode\":\"overlay\",\"size\":10,\"solidity\":0.2}},\"type\":\"histogram\"}],\"mesh3d\":[{\"colorbar\":{\"outlinewidth\":0,\"ticks\":\"\"},\"type\":\"mesh3d\"}],\"parcoords\":[{\"line\":{\"colorbar\":{\"outlinewidth\":0,\"ticks\":\"\"}},\"type\":\"parcoords\"}],\"pie\":[{\"automargin\":true,\"type\":\"pie\"}],\"scatter3d\":[{\"line\":{\"colorbar\":{\"outlinewidth\":0,\"ticks\":\"\"}},\"marker\":{\"colorbar\":{\"outlinewidth\":0,\"ticks\":\"\"}},\"type\":\"scatter3d\"}],\"scattercarpet\":[{\"marker\":{\"colorbar\":{\"outlinewidth\":0,\"ticks\":\"\"}},\"type\":\"scattercarpet\"}],\"scattergeo\":[{\"marker\":{\"colorbar\":{\"outlinewidth\":0,\"ticks\":\"\"}},\"type\":\"scattergeo\"}],\"scattergl\":[{\"marker\":{\"colorbar\":{\"outlinewidth\":0,\"ticks\":\"\"}},\"type\":\"scattergl\"}],\"scattermapbox\":[{\"marker\":{\"colorbar\":{\"outlinewidth\":0,\"ticks\":\"\"}},\"type\":\"scattermapbox\"}],\"scatterpolargl\":[{\"marker\":{\"colorbar\":{\"outlinewidth\":0,\"ticks\":\"\"}},\"type\":\"scatterpolargl\"}],\"scatterpolar\":[{\"marker\":{\"colorbar\":{\"outlinewidth\":0,\"ticks\":\"\"}},\"type\":\"scatterpolar\"}],\"scatter\":[{\"fillpattern\":{\"fillmode\":\"overlay\",\"size\":10,\"solidity\":0.2},\"type\":\"scatter\"}],\"scatterternary\":[{\"marker\":{\"colorbar\":{\"outlinewidth\":0,\"ticks\":\"\"}},\"type\":\"scatterternary\"}],\"surface\":[{\"colorbar\":{\"outlinewidth\":0,\"ticks\":\"\"},\"colorscale\":[[0.0,\"#0d0887\"],[0.1111111111111111,\"#46039f\"],[0.2222222222222222,\"#7201a8\"],[0.3333333333333333,\"#9c179e\"],[0.4444444444444444,\"#bd3786\"],[0.5555555555555556,\"#d8576b\"],[0.6666666666666666,\"#ed7953\"],[0.7777777777777778,\"#fb9f3a\"],[0.8888888888888888,\"#fdca26\"],[1.0,\"#f0f921\"]],\"type\":\"surface\"}],\"table\":[{\"cells\":{\"fill\":{\"color\":\"#EBF0F8\"},\"line\":{\"color\":\"white\"}},\"header\":{\"fill\":{\"color\":\"#C8D4E3\"},\"line\":{\"color\":\"white\"}},\"type\":\"table\"}]},\"layout\":{\"annotationdefaults\":{\"arrowcolor\":\"#2a3f5f\",\"arrowhead\":0,\"arrowwidth\":1},\"autotypenumbers\":\"strict\",\"coloraxis\":{\"colorbar\":{\"outlinewidth\":0,\"ticks\":\"\"}},\"colorscale\":{\"diverging\":[[0,\"#8e0152\"],[0.1,\"#c51b7d\"],[0.2,\"#de77ae\"],[0.3,\"#f1b6da\"],[0.4,\"#fde0ef\"],[0.5,\"#f7f7f7\"],[0.6,\"#e6f5d0\"],[0.7,\"#b8e186\"],[0.8,\"#7fbc41\"],[0.9,\"#4d9221\"],[1,\"#276419\"]],\"sequential\":[[0.0,\"#0d0887\"],[0.1111111111111111,\"#46039f\"],[0.2222222222222222,\"#7201a8\"],[0.3333333333333333,\"#9c179e\"],[0.4444444444444444,\"#bd3786\"],[0.5555555555555556,\"#d8576b\"],[0.6666666666666666,\"#ed7953\"],[0.7777777777777778,\"#fb9f3a\"],[0.8888888888888888,\"#fdca26\"],[1.0,\"#f0f921\"]],\"sequentialminus\":[[0.0,\"#0d0887\"],[0.1111111111111111,\"#46039f\"],[0.2222222222222222,\"#7201a8\"],[0.3333333333333333,\"#9c179e\"],[0.4444444444444444,\"#bd3786\"],[0.5555555555555556,\"#d8576b\"],[0.6666666666666666,\"#ed7953\"],[0.7777777777777778,\"#fb9f3a\"],[0.8888888888888888,\"#fdca26\"],[1.0,\"#f0f921\"]]},\"colorway\":[\"#636efa\",\"#EF553B\",\"#00cc96\",\"#ab63fa\",\"#FFA15A\",\"#19d3f3\",\"#FF6692\",\"#B6E880\",\"#FF97FF\",\"#FECB52\"],\"font\":{\"color\":\"#2a3f5f\"},\"geo\":{\"bgcolor\":\"white\",\"lakecolor\":\"white\",\"landcolor\":\"#E5ECF6\",\"showlakes\":true,\"showland\":true,\"subunitcolor\":\"white\"},\"hoverlabel\":{\"align\":\"left\"},\"hovermode\":\"closest\",\"mapbox\":{\"style\":\"light\"},\"paper_bgcolor\":\"white\",\"plot_bgcolor\":\"#E5ECF6\",\"polar\":{\"angularaxis\":{\"gridcolor\":\"white\",\"linecolor\":\"white\",\"ticks\":\"\"},\"bgcolor\":\"#E5ECF6\",\"radialaxis\":{\"gridcolor\":\"white\",\"linecolor\":\"white\",\"ticks\":\"\"}},\"scene\":{\"xaxis\":{\"backgroundcolor\":\"#E5ECF6\",\"gridcolor\":\"white\",\"gridwidth\":2,\"linecolor\":\"white\",\"showbackground\":true,\"ticks\":\"\",\"zerolinecolor\":\"white\"},\"yaxis\":{\"backgroundcolor\":\"#E5ECF6\",\"gridcolor\":\"white\",\"gridwidth\":2,\"linecolor\":\"white\",\"showbackground\":true,\"ticks\":\"\",\"zerolinecolor\":\"white\"},\"zaxis\":{\"backgroundcolor\":\"#E5ECF6\",\"gridcolor\":\"white\",\"gridwidth\":2,\"linecolor\":\"white\",\"showbackground\":true,\"ticks\":\"\",\"zerolinecolor\":\"white\"}},\"shapedefaults\":{\"line\":{\"color\":\"#2a3f5f\"}},\"ternary\":{\"aaxis\":{\"gridcolor\":\"white\",\"linecolor\":\"white\",\"ticks\":\"\"},\"baxis\":{\"gridcolor\":\"white\",\"linecolor\":\"white\",\"ticks\":\"\"},\"bgcolor\":\"#E5ECF6\",\"caxis\":{\"gridcolor\":\"white\",\"linecolor\":\"white\",\"ticks\":\"\"}},\"title\":{\"x\":0.05},\"xaxis\":{\"automargin\":true,\"gridcolor\":\"white\",\"linecolor\":\"white\",\"ticks\":\"\",\"title\":{\"standoff\":15},\"zerolinecolor\":\"white\",\"zerolinewidth\":2},\"yaxis\":{\"automargin\":true,\"gridcolor\":\"white\",\"linecolor\":\"white\",\"ticks\":\"\",\"title\":{\"standoff\":15},\"zerolinecolor\":\"white\",\"zerolinewidth\":2}}},\"title\":{\"font\":{\"color\":\"#4D5663\"}},\"xaxis\":{\"gridcolor\":\"#E1E5ED\",\"showgrid\":true,\"tickfont\":{\"color\":\"#4D5663\"},\"title\":{\"font\":{\"color\":\"#4D5663\"},\"text\":\"\"},\"zerolinecolor\":\"#E1E5ED\"},\"yaxis\":{\"gridcolor\":\"#E1E5ED\",\"showgrid\":true,\"tickfont\":{\"color\":\"#4D5663\"},\"title\":{\"font\":{\"color\":\"#4D5663\"},\"text\":\"\"},\"zerolinecolor\":\"#E1E5ED\"}},                        {\"showLink\": true, \"linkText\": \"Export to plot.ly\", \"plotlyServerURL\": \"https://plot.ly\", \"responsive\": true}                    ).then(function(){\n",
       "                            \n",
       "var gd = document.getElementById('f5d3085d-7e07-4842-a93f-b5a89db0c3c7');\n",
       "var x = new MutationObserver(function (mutations, observer) {{\n",
       "        var display = window.getComputedStyle(gd).display;\n",
       "        if (!display || display === 'none') {{\n",
       "            console.log([gd, 'removed!']);\n",
       "            Plotly.purge(gd);\n",
       "            observer.disconnect();\n",
       "        }}\n",
       "}});\n",
       "\n",
       "// Listen for the removal of the full notebook cells\n",
       "var notebookContainer = gd.closest('#notebook-container');\n",
       "if (notebookContainer) {{\n",
       "    x.observe(notebookContainer, {childList: true});\n",
       "}}\n",
       "\n",
       "// Listen for the clearing of the current output cell\n",
       "var outputEl = gd.closest('.output');\n",
       "if (outputEl) {{\n",
       "    x.observe(outputEl, {childList: true});\n",
       "}}\n",
       "\n",
       "                        })                };                });            </script>        </div>"
      ]
     },
     "metadata": {},
     "output_type": "display_data"
    }
   ],
   "source": [
    "(df_pr_cleve[58]>=1).iplot('hist')#.value_counts()"
   ]
  },
  {
   "cell_type": "code",
   "execution_count": 46,
   "metadata": {},
   "outputs": [
    {
     "data": {
      "application/vnd.plotly.v1+json": {
       "config": {
        "linkText": "Export to plot.ly",
        "plotlyServerURL": "https://plot.ly",
        "showLink": true
       },
       "data": [
        {
         "marker": {
          "color": "rgba(255, 153, 51, 0.6)",
          "line": {
           "color": "rgba(255, 153, 51, 1.0)",
           "width": 1
          }
         },
         "name": "0",
         "orientation": "v",
         "text": "",
         "type": "bar",
         "x": [
          1,
          2,
          3,
          4
         ],
         "y": [
          16,
          35,
          67,
          39
         ]
        },
        {
         "marker": {
          "color": "rgba(55, 128, 191, 0.6)",
          "line": {
           "color": "rgba(55, 128, 191, 1.0)",
           "width": 1
          }
         },
         "name": "1",
         "orientation": "v",
         "text": "",
         "type": "bar",
         "x": [
          1,
          2,
          3,
          4
         ],
         "y": [
          4,
          5,
          8,
          33
         ]
        },
        {
         "marker": {
          "color": "rgba(50, 171, 96, 0.6)",
          "line": {
           "color": "rgba(50, 171, 96, 1.0)",
           "width": 1
          }
         },
         "name": "2",
         "orientation": "v",
         "text": "",
         "type": "bar",
         "x": [
          1,
          2,
          3,
          4
         ],
         "y": [
          1,
          1,
          4,
          25
         ]
        },
        {
         "marker": {
          "color": "rgba(128, 0, 128, 0.6)",
          "line": {
           "color": "rgba(128, 0, 128, 1.0)",
           "width": 1
          }
         },
         "name": "3",
         "orientation": "v",
         "text": "",
         "type": "bar",
         "x": [
          1,
          2,
          3,
          4
         ],
         "y": [
          0,
          2,
          4,
          26
         ]
        },
        {
         "marker": {
          "color": "rgba(219, 64, 82, 0.6)",
          "line": {
           "color": "rgba(219, 64, 82, 1.0)",
           "width": 1
          }
         },
         "name": "4",
         "orientation": "v",
         "text": "",
         "type": "bar",
         "x": [
          1,
          2,
          3,
          4
         ],
         "y": [
          1,
          0,
          1,
          10
         ]
        }
       ],
       "layout": {
        "legend": {
         "bgcolor": "#FFFFFF",
         "font": {
          "color": "#4D5663"
         }
        },
        "paper_bgcolor": "#FFFFFF",
        "plot_bgcolor": "#FFFFFF",
        "template": {
         "data": {
          "bar": [
           {
            "error_x": {
             "color": "#2a3f5f"
            },
            "error_y": {
             "color": "#2a3f5f"
            },
            "marker": {
             "line": {
              "color": "#E5ECF6",
              "width": 0.5
             },
             "pattern": {
              "fillmode": "overlay",
              "size": 10,
              "solidity": 0.2
             }
            },
            "type": "bar"
           }
          ],
          "barpolar": [
           {
            "marker": {
             "line": {
              "color": "#E5ECF6",
              "width": 0.5
             },
             "pattern": {
              "fillmode": "overlay",
              "size": 10,
              "solidity": 0.2
             }
            },
            "type": "barpolar"
           }
          ],
          "carpet": [
           {
            "aaxis": {
             "endlinecolor": "#2a3f5f",
             "gridcolor": "white",
             "linecolor": "white",
             "minorgridcolor": "white",
             "startlinecolor": "#2a3f5f"
            },
            "baxis": {
             "endlinecolor": "#2a3f5f",
             "gridcolor": "white",
             "linecolor": "white",
             "minorgridcolor": "white",
             "startlinecolor": "#2a3f5f"
            },
            "type": "carpet"
           }
          ],
          "choropleth": [
           {
            "colorbar": {
             "outlinewidth": 0,
             "ticks": ""
            },
            "type": "choropleth"
           }
          ],
          "contour": [
           {
            "colorbar": {
             "outlinewidth": 0,
             "ticks": ""
            },
            "colorscale": [
             [
              0,
              "#0d0887"
             ],
             [
              0.1111111111111111,
              "#46039f"
             ],
             [
              0.2222222222222222,
              "#7201a8"
             ],
             [
              0.3333333333333333,
              "#9c179e"
             ],
             [
              0.4444444444444444,
              "#bd3786"
             ],
             [
              0.5555555555555556,
              "#d8576b"
             ],
             [
              0.6666666666666666,
              "#ed7953"
             ],
             [
              0.7777777777777778,
              "#fb9f3a"
             ],
             [
              0.8888888888888888,
              "#fdca26"
             ],
             [
              1,
              "#f0f921"
             ]
            ],
            "type": "contour"
           }
          ],
          "contourcarpet": [
           {
            "colorbar": {
             "outlinewidth": 0,
             "ticks": ""
            },
            "type": "contourcarpet"
           }
          ],
          "heatmap": [
           {
            "colorbar": {
             "outlinewidth": 0,
             "ticks": ""
            },
            "colorscale": [
             [
              0,
              "#0d0887"
             ],
             [
              0.1111111111111111,
              "#46039f"
             ],
             [
              0.2222222222222222,
              "#7201a8"
             ],
             [
              0.3333333333333333,
              "#9c179e"
             ],
             [
              0.4444444444444444,
              "#bd3786"
             ],
             [
              0.5555555555555556,
              "#d8576b"
             ],
             [
              0.6666666666666666,
              "#ed7953"
             ],
             [
              0.7777777777777778,
              "#fb9f3a"
             ],
             [
              0.8888888888888888,
              "#fdca26"
             ],
             [
              1,
              "#f0f921"
             ]
            ],
            "type": "heatmap"
           }
          ],
          "heatmapgl": [
           {
            "colorbar": {
             "outlinewidth": 0,
             "ticks": ""
            },
            "colorscale": [
             [
              0,
              "#0d0887"
             ],
             [
              0.1111111111111111,
              "#46039f"
             ],
             [
              0.2222222222222222,
              "#7201a8"
             ],
             [
              0.3333333333333333,
              "#9c179e"
             ],
             [
              0.4444444444444444,
              "#bd3786"
             ],
             [
              0.5555555555555556,
              "#d8576b"
             ],
             [
              0.6666666666666666,
              "#ed7953"
             ],
             [
              0.7777777777777778,
              "#fb9f3a"
             ],
             [
              0.8888888888888888,
              "#fdca26"
             ],
             [
              1,
              "#f0f921"
             ]
            ],
            "type": "heatmapgl"
           }
          ],
          "histogram": [
           {
            "marker": {
             "pattern": {
              "fillmode": "overlay",
              "size": 10,
              "solidity": 0.2
             }
            },
            "type": "histogram"
           }
          ],
          "histogram2d": [
           {
            "colorbar": {
             "outlinewidth": 0,
             "ticks": ""
            },
            "colorscale": [
             [
              0,
              "#0d0887"
             ],
             [
              0.1111111111111111,
              "#46039f"
             ],
             [
              0.2222222222222222,
              "#7201a8"
             ],
             [
              0.3333333333333333,
              "#9c179e"
             ],
             [
              0.4444444444444444,
              "#bd3786"
             ],
             [
              0.5555555555555556,
              "#d8576b"
             ],
             [
              0.6666666666666666,
              "#ed7953"
             ],
             [
              0.7777777777777778,
              "#fb9f3a"
             ],
             [
              0.8888888888888888,
              "#fdca26"
             ],
             [
              1,
              "#f0f921"
             ]
            ],
            "type": "histogram2d"
           }
          ],
          "histogram2dcontour": [
           {
            "colorbar": {
             "outlinewidth": 0,
             "ticks": ""
            },
            "colorscale": [
             [
              0,
              "#0d0887"
             ],
             [
              0.1111111111111111,
              "#46039f"
             ],
             [
              0.2222222222222222,
              "#7201a8"
             ],
             [
              0.3333333333333333,
              "#9c179e"
             ],
             [
              0.4444444444444444,
              "#bd3786"
             ],
             [
              0.5555555555555556,
              "#d8576b"
             ],
             [
              0.6666666666666666,
              "#ed7953"
             ],
             [
              0.7777777777777778,
              "#fb9f3a"
             ],
             [
              0.8888888888888888,
              "#fdca26"
             ],
             [
              1,
              "#f0f921"
             ]
            ],
            "type": "histogram2dcontour"
           }
          ],
          "mesh3d": [
           {
            "colorbar": {
             "outlinewidth": 0,
             "ticks": ""
            },
            "type": "mesh3d"
           }
          ],
          "parcoords": [
           {
            "line": {
             "colorbar": {
              "outlinewidth": 0,
              "ticks": ""
             }
            },
            "type": "parcoords"
           }
          ],
          "pie": [
           {
            "automargin": true,
            "type": "pie"
           }
          ],
          "scatter": [
           {
            "fillpattern": {
             "fillmode": "overlay",
             "size": 10,
             "solidity": 0.2
            },
            "type": "scatter"
           }
          ],
          "scatter3d": [
           {
            "line": {
             "colorbar": {
              "outlinewidth": 0,
              "ticks": ""
             }
            },
            "marker": {
             "colorbar": {
              "outlinewidth": 0,
              "ticks": ""
             }
            },
            "type": "scatter3d"
           }
          ],
          "scattercarpet": [
           {
            "marker": {
             "colorbar": {
              "outlinewidth": 0,
              "ticks": ""
             }
            },
            "type": "scattercarpet"
           }
          ],
          "scattergeo": [
           {
            "marker": {
             "colorbar": {
              "outlinewidth": 0,
              "ticks": ""
             }
            },
            "type": "scattergeo"
           }
          ],
          "scattergl": [
           {
            "marker": {
             "colorbar": {
              "outlinewidth": 0,
              "ticks": ""
             }
            },
            "type": "scattergl"
           }
          ],
          "scattermapbox": [
           {
            "marker": {
             "colorbar": {
              "outlinewidth": 0,
              "ticks": ""
             }
            },
            "type": "scattermapbox"
           }
          ],
          "scatterpolar": [
           {
            "marker": {
             "colorbar": {
              "outlinewidth": 0,
              "ticks": ""
             }
            },
            "type": "scatterpolar"
           }
          ],
          "scatterpolargl": [
           {
            "marker": {
             "colorbar": {
              "outlinewidth": 0,
              "ticks": ""
             }
            },
            "type": "scatterpolargl"
           }
          ],
          "scatterternary": [
           {
            "marker": {
             "colorbar": {
              "outlinewidth": 0,
              "ticks": ""
             }
            },
            "type": "scatterternary"
           }
          ],
          "surface": [
           {
            "colorbar": {
             "outlinewidth": 0,
             "ticks": ""
            },
            "colorscale": [
             [
              0,
              "#0d0887"
             ],
             [
              0.1111111111111111,
              "#46039f"
             ],
             [
              0.2222222222222222,
              "#7201a8"
             ],
             [
              0.3333333333333333,
              "#9c179e"
             ],
             [
              0.4444444444444444,
              "#bd3786"
             ],
             [
              0.5555555555555556,
              "#d8576b"
             ],
             [
              0.6666666666666666,
              "#ed7953"
             ],
             [
              0.7777777777777778,
              "#fb9f3a"
             ],
             [
              0.8888888888888888,
              "#fdca26"
             ],
             [
              1,
              "#f0f921"
             ]
            ],
            "type": "surface"
           }
          ],
          "table": [
           {
            "cells": {
             "fill": {
              "color": "#EBF0F8"
             },
             "line": {
              "color": "white"
             }
            },
            "header": {
             "fill": {
              "color": "#C8D4E3"
             },
             "line": {
              "color": "white"
             }
            },
            "type": "table"
           }
          ]
         },
         "layout": {
          "annotationdefaults": {
           "arrowcolor": "#2a3f5f",
           "arrowhead": 0,
           "arrowwidth": 1
          },
          "autotypenumbers": "strict",
          "coloraxis": {
           "colorbar": {
            "outlinewidth": 0,
            "ticks": ""
           }
          },
          "colorscale": {
           "diverging": [
            [
             0,
             "#8e0152"
            ],
            [
             0.1,
             "#c51b7d"
            ],
            [
             0.2,
             "#de77ae"
            ],
            [
             0.3,
             "#f1b6da"
            ],
            [
             0.4,
             "#fde0ef"
            ],
            [
             0.5,
             "#f7f7f7"
            ],
            [
             0.6,
             "#e6f5d0"
            ],
            [
             0.7,
             "#b8e186"
            ],
            [
             0.8,
             "#7fbc41"
            ],
            [
             0.9,
             "#4d9221"
            ],
            [
             1,
             "#276419"
            ]
           ],
           "sequential": [
            [
             0,
             "#0d0887"
            ],
            [
             0.1111111111111111,
             "#46039f"
            ],
            [
             0.2222222222222222,
             "#7201a8"
            ],
            [
             0.3333333333333333,
             "#9c179e"
            ],
            [
             0.4444444444444444,
             "#bd3786"
            ],
            [
             0.5555555555555556,
             "#d8576b"
            ],
            [
             0.6666666666666666,
             "#ed7953"
            ],
            [
             0.7777777777777778,
             "#fb9f3a"
            ],
            [
             0.8888888888888888,
             "#fdca26"
            ],
            [
             1,
             "#f0f921"
            ]
           ],
           "sequentialminus": [
            [
             0,
             "#0d0887"
            ],
            [
             0.1111111111111111,
             "#46039f"
            ],
            [
             0.2222222222222222,
             "#7201a8"
            ],
            [
             0.3333333333333333,
             "#9c179e"
            ],
            [
             0.4444444444444444,
             "#bd3786"
            ],
            [
             0.5555555555555556,
             "#d8576b"
            ],
            [
             0.6666666666666666,
             "#ed7953"
            ],
            [
             0.7777777777777778,
             "#fb9f3a"
            ],
            [
             0.8888888888888888,
             "#fdca26"
            ],
            [
             1,
             "#f0f921"
            ]
           ]
          },
          "colorway": [
           "#636efa",
           "#EF553B",
           "#00cc96",
           "#ab63fa",
           "#FFA15A",
           "#19d3f3",
           "#FF6692",
           "#B6E880",
           "#FF97FF",
           "#FECB52"
          ],
          "font": {
           "color": "#2a3f5f"
          },
          "geo": {
           "bgcolor": "white",
           "lakecolor": "white",
           "landcolor": "#E5ECF6",
           "showlakes": true,
           "showland": true,
           "subunitcolor": "white"
          },
          "hoverlabel": {
           "align": "left"
          },
          "hovermode": "closest",
          "mapbox": {
           "style": "light"
          },
          "paper_bgcolor": "white",
          "plot_bgcolor": "#E5ECF6",
          "polar": {
           "angularaxis": {
            "gridcolor": "white",
            "linecolor": "white",
            "ticks": ""
           },
           "bgcolor": "#E5ECF6",
           "radialaxis": {
            "gridcolor": "white",
            "linecolor": "white",
            "ticks": ""
           }
          },
          "scene": {
           "xaxis": {
            "backgroundcolor": "#E5ECF6",
            "gridcolor": "white",
            "gridwidth": 2,
            "linecolor": "white",
            "showbackground": true,
            "ticks": "",
            "zerolinecolor": "white"
           },
           "yaxis": {
            "backgroundcolor": "#E5ECF6",
            "gridcolor": "white",
            "gridwidth": 2,
            "linecolor": "white",
            "showbackground": true,
            "ticks": "",
            "zerolinecolor": "white"
           },
           "zaxis": {
            "backgroundcolor": "#E5ECF6",
            "gridcolor": "white",
            "gridwidth": 2,
            "linecolor": "white",
            "showbackground": true,
            "ticks": "",
            "zerolinecolor": "white"
           }
          },
          "shapedefaults": {
           "line": {
            "color": "#2a3f5f"
           }
          },
          "ternary": {
           "aaxis": {
            "gridcolor": "white",
            "linecolor": "white",
            "ticks": ""
           },
           "baxis": {
            "gridcolor": "white",
            "linecolor": "white",
            "ticks": ""
           },
           "bgcolor": "#E5ECF6",
           "caxis": {
            "gridcolor": "white",
            "linecolor": "white",
            "ticks": ""
           }
          },
          "title": {
           "x": 0.05
          },
          "xaxis": {
           "automargin": true,
           "gridcolor": "white",
           "linecolor": "white",
           "ticks": "",
           "title": {
            "standoff": 15
           },
           "zerolinecolor": "white",
           "zerolinewidth": 2
          },
          "yaxis": {
           "automargin": true,
           "gridcolor": "white",
           "linecolor": "white",
           "ticks": "",
           "title": {
            "standoff": 15
           },
           "zerolinecolor": "white",
           "zerolinewidth": 2
          }
         }
        },
        "title": {
         "font": {
          "color": "#4D5663"
         }
        },
        "xaxis": {
         "gridcolor": "#E1E5ED",
         "showgrid": true,
         "tickfont": {
          "color": "#4D5663"
         },
         "title": {
          "font": {
           "color": "#4D5663"
          },
          "text": ""
         },
         "zerolinecolor": "#E1E5ED"
        },
        "yaxis": {
         "gridcolor": "#E1E5ED",
         "showgrid": true,
         "tickfont": {
          "color": "#4D5663"
         },
         "title": {
          "font": {
           "color": "#4D5663"
          },
          "text": ""
         },
         "zerolinecolor": "#E1E5ED"
        }
       }
      },
      "text/html": [
       "<div>                            <div id=\"8a202d68-8159-4575-98e8-8a0f219e9e37\" class=\"plotly-graph-div\" style=\"height:525px; width:100%;\"></div>            <script type=\"text/javascript\">                require([\"plotly\"], function(Plotly) {                    window.PLOTLYENV=window.PLOTLYENV || {};\n",
       "                    window.PLOTLYENV.BASE_URL='https://plot.ly';                                    if (document.getElementById(\"8a202d68-8159-4575-98e8-8a0f219e9e37\")) {                    Plotly.newPlot(                        \"8a202d68-8159-4575-98e8-8a0f219e9e37\",                        [{\"marker\":{\"color\":\"rgba(255, 153, 51, 0.6)\",\"line\":{\"color\":\"rgba(255, 153, 51, 1.0)\",\"width\":1}},\"name\":\"0\",\"orientation\":\"v\",\"text\":\"\",\"x\":[1,2,3,4],\"y\":[16,35,67,39],\"type\":\"bar\"},{\"marker\":{\"color\":\"rgba(55, 128, 191, 0.6)\",\"line\":{\"color\":\"rgba(55, 128, 191, 1.0)\",\"width\":1}},\"name\":\"1\",\"orientation\":\"v\",\"text\":\"\",\"x\":[1,2,3,4],\"y\":[4,5,8,33],\"type\":\"bar\"},{\"marker\":{\"color\":\"rgba(50, 171, 96, 0.6)\",\"line\":{\"color\":\"rgba(50, 171, 96, 1.0)\",\"width\":1}},\"name\":\"2\",\"orientation\":\"v\",\"text\":\"\",\"x\":[1,2,3,4],\"y\":[1,1,4,25],\"type\":\"bar\"},{\"marker\":{\"color\":\"rgba(128, 0, 128, 0.6)\",\"line\":{\"color\":\"rgba(128, 0, 128, 1.0)\",\"width\":1}},\"name\":\"3\",\"orientation\":\"v\",\"text\":\"\",\"x\":[1,2,3,4],\"y\":[0,2,4,26],\"type\":\"bar\"},{\"marker\":{\"color\":\"rgba(219, 64, 82, 0.6)\",\"line\":{\"color\":\"rgba(219, 64, 82, 1.0)\",\"width\":1}},\"name\":\"4\",\"orientation\":\"v\",\"text\":\"\",\"x\":[1,2,3,4],\"y\":[1,0,1,10],\"type\":\"bar\"}],                        {\"legend\":{\"bgcolor\":\"#FFFFFF\",\"font\":{\"color\":\"#4D5663\"}},\"paper_bgcolor\":\"#FFFFFF\",\"plot_bgcolor\":\"#FFFFFF\",\"template\":{\"data\":{\"barpolar\":[{\"marker\":{\"line\":{\"color\":\"#E5ECF6\",\"width\":0.5},\"pattern\":{\"fillmode\":\"overlay\",\"size\":10,\"solidity\":0.2}},\"type\":\"barpolar\"}],\"bar\":[{\"error_x\":{\"color\":\"#2a3f5f\"},\"error_y\":{\"color\":\"#2a3f5f\"},\"marker\":{\"line\":{\"color\":\"#E5ECF6\",\"width\":0.5},\"pattern\":{\"fillmode\":\"overlay\",\"size\":10,\"solidity\":0.2}},\"type\":\"bar\"}],\"carpet\":[{\"aaxis\":{\"endlinecolor\":\"#2a3f5f\",\"gridcolor\":\"white\",\"linecolor\":\"white\",\"minorgridcolor\":\"white\",\"startlinecolor\":\"#2a3f5f\"},\"baxis\":{\"endlinecolor\":\"#2a3f5f\",\"gridcolor\":\"white\",\"linecolor\":\"white\",\"minorgridcolor\":\"white\",\"startlinecolor\":\"#2a3f5f\"},\"type\":\"carpet\"}],\"choropleth\":[{\"colorbar\":{\"outlinewidth\":0,\"ticks\":\"\"},\"type\":\"choropleth\"}],\"contourcarpet\":[{\"colorbar\":{\"outlinewidth\":0,\"ticks\":\"\"},\"type\":\"contourcarpet\"}],\"contour\":[{\"colorbar\":{\"outlinewidth\":0,\"ticks\":\"\"},\"colorscale\":[[0.0,\"#0d0887\"],[0.1111111111111111,\"#46039f\"],[0.2222222222222222,\"#7201a8\"],[0.3333333333333333,\"#9c179e\"],[0.4444444444444444,\"#bd3786\"],[0.5555555555555556,\"#d8576b\"],[0.6666666666666666,\"#ed7953\"],[0.7777777777777778,\"#fb9f3a\"],[0.8888888888888888,\"#fdca26\"],[1.0,\"#f0f921\"]],\"type\":\"contour\"}],\"heatmapgl\":[{\"colorbar\":{\"outlinewidth\":0,\"ticks\":\"\"},\"colorscale\":[[0.0,\"#0d0887\"],[0.1111111111111111,\"#46039f\"],[0.2222222222222222,\"#7201a8\"],[0.3333333333333333,\"#9c179e\"],[0.4444444444444444,\"#bd3786\"],[0.5555555555555556,\"#d8576b\"],[0.6666666666666666,\"#ed7953\"],[0.7777777777777778,\"#fb9f3a\"],[0.8888888888888888,\"#fdca26\"],[1.0,\"#f0f921\"]],\"type\":\"heatmapgl\"}],\"heatmap\":[{\"colorbar\":{\"outlinewidth\":0,\"ticks\":\"\"},\"colorscale\":[[0.0,\"#0d0887\"],[0.1111111111111111,\"#46039f\"],[0.2222222222222222,\"#7201a8\"],[0.3333333333333333,\"#9c179e\"],[0.4444444444444444,\"#bd3786\"],[0.5555555555555556,\"#d8576b\"],[0.6666666666666666,\"#ed7953\"],[0.7777777777777778,\"#fb9f3a\"],[0.8888888888888888,\"#fdca26\"],[1.0,\"#f0f921\"]],\"type\":\"heatmap\"}],\"histogram2dcontour\":[{\"colorbar\":{\"outlinewidth\":0,\"ticks\":\"\"},\"colorscale\":[[0.0,\"#0d0887\"],[0.1111111111111111,\"#46039f\"],[0.2222222222222222,\"#7201a8\"],[0.3333333333333333,\"#9c179e\"],[0.4444444444444444,\"#bd3786\"],[0.5555555555555556,\"#d8576b\"],[0.6666666666666666,\"#ed7953\"],[0.7777777777777778,\"#fb9f3a\"],[0.8888888888888888,\"#fdca26\"],[1.0,\"#f0f921\"]],\"type\":\"histogram2dcontour\"}],\"histogram2d\":[{\"colorbar\":{\"outlinewidth\":0,\"ticks\":\"\"},\"colorscale\":[[0.0,\"#0d0887\"],[0.1111111111111111,\"#46039f\"],[0.2222222222222222,\"#7201a8\"],[0.3333333333333333,\"#9c179e\"],[0.4444444444444444,\"#bd3786\"],[0.5555555555555556,\"#d8576b\"],[0.6666666666666666,\"#ed7953\"],[0.7777777777777778,\"#fb9f3a\"],[0.8888888888888888,\"#fdca26\"],[1.0,\"#f0f921\"]],\"type\":\"histogram2d\"}],\"histogram\":[{\"marker\":{\"pattern\":{\"fillmode\":\"overlay\",\"size\":10,\"solidity\":0.2}},\"type\":\"histogram\"}],\"mesh3d\":[{\"colorbar\":{\"outlinewidth\":0,\"ticks\":\"\"},\"type\":\"mesh3d\"}],\"parcoords\":[{\"line\":{\"colorbar\":{\"outlinewidth\":0,\"ticks\":\"\"}},\"type\":\"parcoords\"}],\"pie\":[{\"automargin\":true,\"type\":\"pie\"}],\"scatter3d\":[{\"line\":{\"colorbar\":{\"outlinewidth\":0,\"ticks\":\"\"}},\"marker\":{\"colorbar\":{\"outlinewidth\":0,\"ticks\":\"\"}},\"type\":\"scatter3d\"}],\"scattercarpet\":[{\"marker\":{\"colorbar\":{\"outlinewidth\":0,\"ticks\":\"\"}},\"type\":\"scattercarpet\"}],\"scattergeo\":[{\"marker\":{\"colorbar\":{\"outlinewidth\":0,\"ticks\":\"\"}},\"type\":\"scattergeo\"}],\"scattergl\":[{\"marker\":{\"colorbar\":{\"outlinewidth\":0,\"ticks\":\"\"}},\"type\":\"scattergl\"}],\"scattermapbox\":[{\"marker\":{\"colorbar\":{\"outlinewidth\":0,\"ticks\":\"\"}},\"type\":\"scattermapbox\"}],\"scatterpolargl\":[{\"marker\":{\"colorbar\":{\"outlinewidth\":0,\"ticks\":\"\"}},\"type\":\"scatterpolargl\"}],\"scatterpolar\":[{\"marker\":{\"colorbar\":{\"outlinewidth\":0,\"ticks\":\"\"}},\"type\":\"scatterpolar\"}],\"scatter\":[{\"fillpattern\":{\"fillmode\":\"overlay\",\"size\":10,\"solidity\":0.2},\"type\":\"scatter\"}],\"scatterternary\":[{\"marker\":{\"colorbar\":{\"outlinewidth\":0,\"ticks\":\"\"}},\"type\":\"scatterternary\"}],\"surface\":[{\"colorbar\":{\"outlinewidth\":0,\"ticks\":\"\"},\"colorscale\":[[0.0,\"#0d0887\"],[0.1111111111111111,\"#46039f\"],[0.2222222222222222,\"#7201a8\"],[0.3333333333333333,\"#9c179e\"],[0.4444444444444444,\"#bd3786\"],[0.5555555555555556,\"#d8576b\"],[0.6666666666666666,\"#ed7953\"],[0.7777777777777778,\"#fb9f3a\"],[0.8888888888888888,\"#fdca26\"],[1.0,\"#f0f921\"]],\"type\":\"surface\"}],\"table\":[{\"cells\":{\"fill\":{\"color\":\"#EBF0F8\"},\"line\":{\"color\":\"white\"}},\"header\":{\"fill\":{\"color\":\"#C8D4E3\"},\"line\":{\"color\":\"white\"}},\"type\":\"table\"}]},\"layout\":{\"annotationdefaults\":{\"arrowcolor\":\"#2a3f5f\",\"arrowhead\":0,\"arrowwidth\":1},\"autotypenumbers\":\"strict\",\"coloraxis\":{\"colorbar\":{\"outlinewidth\":0,\"ticks\":\"\"}},\"colorscale\":{\"diverging\":[[0,\"#8e0152\"],[0.1,\"#c51b7d\"],[0.2,\"#de77ae\"],[0.3,\"#f1b6da\"],[0.4,\"#fde0ef\"],[0.5,\"#f7f7f7\"],[0.6,\"#e6f5d0\"],[0.7,\"#b8e186\"],[0.8,\"#7fbc41\"],[0.9,\"#4d9221\"],[1,\"#276419\"]],\"sequential\":[[0.0,\"#0d0887\"],[0.1111111111111111,\"#46039f\"],[0.2222222222222222,\"#7201a8\"],[0.3333333333333333,\"#9c179e\"],[0.4444444444444444,\"#bd3786\"],[0.5555555555555556,\"#d8576b\"],[0.6666666666666666,\"#ed7953\"],[0.7777777777777778,\"#fb9f3a\"],[0.8888888888888888,\"#fdca26\"],[1.0,\"#f0f921\"]],\"sequentialminus\":[[0.0,\"#0d0887\"],[0.1111111111111111,\"#46039f\"],[0.2222222222222222,\"#7201a8\"],[0.3333333333333333,\"#9c179e\"],[0.4444444444444444,\"#bd3786\"],[0.5555555555555556,\"#d8576b\"],[0.6666666666666666,\"#ed7953\"],[0.7777777777777778,\"#fb9f3a\"],[0.8888888888888888,\"#fdca26\"],[1.0,\"#f0f921\"]]},\"colorway\":[\"#636efa\",\"#EF553B\",\"#00cc96\",\"#ab63fa\",\"#FFA15A\",\"#19d3f3\",\"#FF6692\",\"#B6E880\",\"#FF97FF\",\"#FECB52\"],\"font\":{\"color\":\"#2a3f5f\"},\"geo\":{\"bgcolor\":\"white\",\"lakecolor\":\"white\",\"landcolor\":\"#E5ECF6\",\"showlakes\":true,\"showland\":true,\"subunitcolor\":\"white\"},\"hoverlabel\":{\"align\":\"left\"},\"hovermode\":\"closest\",\"mapbox\":{\"style\":\"light\"},\"paper_bgcolor\":\"white\",\"plot_bgcolor\":\"#E5ECF6\",\"polar\":{\"angularaxis\":{\"gridcolor\":\"white\",\"linecolor\":\"white\",\"ticks\":\"\"},\"bgcolor\":\"#E5ECF6\",\"radialaxis\":{\"gridcolor\":\"white\",\"linecolor\":\"white\",\"ticks\":\"\"}},\"scene\":{\"xaxis\":{\"backgroundcolor\":\"#E5ECF6\",\"gridcolor\":\"white\",\"gridwidth\":2,\"linecolor\":\"white\",\"showbackground\":true,\"ticks\":\"\",\"zerolinecolor\":\"white\"},\"yaxis\":{\"backgroundcolor\":\"#E5ECF6\",\"gridcolor\":\"white\",\"gridwidth\":2,\"linecolor\":\"white\",\"showbackground\":true,\"ticks\":\"\",\"zerolinecolor\":\"white\"},\"zaxis\":{\"backgroundcolor\":\"#E5ECF6\",\"gridcolor\":\"white\",\"gridwidth\":2,\"linecolor\":\"white\",\"showbackground\":true,\"ticks\":\"\",\"zerolinecolor\":\"white\"}},\"shapedefaults\":{\"line\":{\"color\":\"#2a3f5f\"}},\"ternary\":{\"aaxis\":{\"gridcolor\":\"white\",\"linecolor\":\"white\",\"ticks\":\"\"},\"baxis\":{\"gridcolor\":\"white\",\"linecolor\":\"white\",\"ticks\":\"\"},\"bgcolor\":\"#E5ECF6\",\"caxis\":{\"gridcolor\":\"white\",\"linecolor\":\"white\",\"ticks\":\"\"}},\"title\":{\"x\":0.05},\"xaxis\":{\"automargin\":true,\"gridcolor\":\"white\",\"linecolor\":\"white\",\"ticks\":\"\",\"title\":{\"standoff\":15},\"zerolinecolor\":\"white\",\"zerolinewidth\":2},\"yaxis\":{\"automargin\":true,\"gridcolor\":\"white\",\"linecolor\":\"white\",\"ticks\":\"\",\"title\":{\"standoff\":15},\"zerolinecolor\":\"white\",\"zerolinewidth\":2}}},\"title\":{\"font\":{\"color\":\"#4D5663\"}},\"xaxis\":{\"gridcolor\":\"#E1E5ED\",\"showgrid\":true,\"tickfont\":{\"color\":\"#4D5663\"},\"title\":{\"font\":{\"color\":\"#4D5663\"},\"text\":\"\"},\"zerolinecolor\":\"#E1E5ED\"},\"yaxis\":{\"gridcolor\":\"#E1E5ED\",\"showgrid\":true,\"tickfont\":{\"color\":\"#4D5663\"},\"title\":{\"font\":{\"color\":\"#4D5663\"},\"text\":\"\"},\"zerolinecolor\":\"#E1E5ED\"}},                        {\"showLink\": true, \"linkText\": \"Export to plot.ly\", \"plotlyServerURL\": \"https://plot.ly\", \"responsive\": true}                    ).then(function(){\n",
       "                            \n",
       "var gd = document.getElementById('8a202d68-8159-4575-98e8-8a0f219e9e37');\n",
       "var x = new MutationObserver(function (mutations, observer) {{\n",
       "        var display = window.getComputedStyle(gd).display;\n",
       "        if (!display || display === 'none') {{\n",
       "            console.log([gd, 'removed!']);\n",
       "            Plotly.purge(gd);\n",
       "            observer.disconnect();\n",
       "        }}\n",
       "}});\n",
       "\n",
       "// Listen for the removal of the full notebook cells\n",
       "var notebookContainer = gd.closest('#notebook-container');\n",
       "if (notebookContainer) {{\n",
       "    x.observe(notebookContainer, {childList: true});\n",
       "}}\n",
       "\n",
       "// Listen for the clearing of the current output cell\n",
       "var outputEl = gd.closest('.output');\n",
       "if (outputEl) {{\n",
       "    x.observe(outputEl, {childList: true});\n",
       "}}\n",
       "\n",
       "                        })                };                });            </script>        </div>"
      ]
     },
     "metadata": {},
     "output_type": "display_data"
    }
   ],
   "source": [
    "pd.crosstab(df_pr_cleve[9], df_pr_cleve[58]).iplot(kind = 'bar')"
   ]
  },
  {
   "cell_type": "markdown",
   "metadata": {},
   "source": [
    "# Präparieren"
   ]
  },
  {
   "cell_type": "code",
   "execution_count": 47,
   "metadata": {
    "scrolled": false
   },
   "outputs": [
    {
     "data": {
      "text/plain": [
       "3       int64\n",
       "4       int64\n",
       "9       int64\n",
       "10      int64\n",
       "12      int32\n",
       "13       bool\n",
       "14    float64\n",
       "15    float64\n",
       "16    float64\n",
       "18      int64\n",
       "19      int64\n",
       "20      int32\n",
       "21    float64\n",
       "22    float64\n",
       "23    float64\n",
       "24    float64\n",
       "25    float64\n",
       "26    float64\n",
       "27    float64\n",
       "29    float64\n",
       "30    float64\n",
       "31    float64\n",
       "32    float64\n",
       "33      int64\n",
       "34      int64\n",
       "35      int64\n",
       "36      int32\n",
       "37    float64\n",
       "38    float64\n",
       "39    float64\n",
       "40    float64\n",
       "41      int64\n",
       "43      int64\n",
       "44    float64\n",
       "51    float64\n",
       "58       bool\n",
       "dtype: object"
      ]
     },
     "execution_count": 47,
     "metadata": {},
     "output_type": "execute_result"
    }
   ],
   "source": [
    "df_pr_cleve_red1 = df_pr_cleve[[3,4,9,10,12,13,14,15,16,18,19,20,21,22,23,24,25,26,27,29,\n",
    "                                30,31,32,33,34,35,36,37,38,39,40,41,43,44,51,58]]\n",
    "df_pr_cleve_red1[13]=(df_pr_cleve_red1[14]>=1.0)\n",
    "df_pr_cleve_red1[58]=(df_pr_cleve_red1[58]>=1.0)\n",
    "df_pr_cleve_red1[12]=df_pr_cleve_red1[12].astype(int)\n",
    "df_pr_cleve_red1[20]=df_pr_cleve_red1[20].astype(int)\n",
    "df_pr_cleve_red1[36]=df_pr_cleve_red1[36].astype(int)\n",
    "df_pr_cleve_red1[44]=df_pr_cleve_red1[44].astype(float)\n",
    "#df_pr_cleve_red1.replace([True,False], ['Ja','Nein'], inplace=True)\n",
    "df_pr_cleve_red1.dtypes"
   ]
  },
  {
   "cell_type": "code",
   "execution_count": 48,
   "metadata": {
    "scrolled": false
   },
   "outputs": [
    {
     "data": {
      "text/plain": [
       "0.0    166\n",
       "1.0     61\n",
       "2.0     34\n",
       "3.0     19\n",
       "Name: 44, dtype: int64"
      ]
     },
     "execution_count": 48,
     "metadata": {},
     "output_type": "execute_result"
    }
   ],
   "source": [
    "df_pr_cleve_red1[44].value_counts()"
   ]
  },
  {
   "cell_type": "code",
   "execution_count": 49,
   "metadata": {},
   "outputs": [
    {
     "data": {
      "text/plain": [
       "[0.0, 1.0, 2.0, 3.0]"
      ]
     },
     "execution_count": 49,
     "metadata": {},
     "output_type": "execute_result"
    }
   ],
   "source": [
    "list(df_pr_cleve_red1[44].value_counts().sort_index().index)#.dtypes"
   ]
  },
  {
   "cell_type": "markdown",
   "metadata": {},
   "source": [
    "# Trainieren 1"
   ]
  },
  {
   "cell_type": "code",
   "execution_count": 50,
   "metadata": {},
   "outputs": [],
   "source": [
    "tree = ct.DecisionTree(data=df_pr_cleve_red1[:200],target=58)"
   ]
  },
  {
   "cell_type": "code",
   "execution_count": 51,
   "metadata": {},
   "outputs": [],
   "source": [
    "tree.grow_tree()"
   ]
  },
  {
   "cell_type": "code",
   "execution_count": 52,
   "metadata": {},
   "outputs": [
    {
     "data": {
      "image/svg+xml": [
       "<?xml version=\"1.0\" encoding=\"UTF-8\" standalone=\"no\"?>\r\n",
       "<!DOCTYPE svg PUBLIC \"-//W3C//DTD SVG 1.1//EN\"\r\n",
       " \"http://www.w3.org/Graphics/SVG/1.1/DTD/svg11.dtd\">\r\n",
       "<!-- Generated by graphviz version 2.50.0 (0)\r\n",
       " -->\r\n",
       "<!-- Pages: 1 -->\r\n",
       "<svg width=\"836pt\" height=\"815pt\"\r\n",
       " viewBox=\"0.00 0.00 836.00 815.00\" xmlns=\"http://www.w3.org/2000/svg\" xmlns:xlink=\"http://www.w3.org/1999/xlink\">\r\n",
       "<g id=\"graph0\" class=\"graph\" transform=\"scale(1 1) rotate(0) translate(4 811)\">\r\n",
       "<polygon fill=\"white\" stroke=\"transparent\" points=\"-4,4 -4,-811 832,-811 832,4 -4,4\"/>\r\n",
       "<polygon fill=\"lightblue\" stroke=\"transparent\" points=\"8,-759 8,-803 71,-803 71,-759 8,-759\"/>\r\n",
       "<polygon fill=\"none\" stroke=\"black\" points=\"11.5,-781 11.5,-800 68.5,-800 68.5,-781 11.5,-781\"/>\r\n",
       "<text text-anchor=\"start\" x=\"26.5\" y=\"-787.4\" font-family=\"Times New Roman,serif\" font-size=\"12.00\">58? &#160;&#160;</text>\r\n",
       "<polygon fill=\"none\" stroke=\"black\" points=\"11.5,-762 11.5,-779 68.5,-779 68.5,-762 11.5,-762\"/>\r\n",
       "<text text-anchor=\"start\" x=\"14.5\" y=\"-768\" font-family=\"Times New Roman,serif\" font-size=\"10.00\" fill=\"dimgrey\">[False, True]</text>\r\n",
       "<polygon fill=\"none\" stroke=\"black\" points=\"8,-759 8,-803 71,-803 71,-759 8,-759\"/>\r\n",
       "<!-- 1 -->\r\n",
       "<g id=\"node1\" class=\"node\">\r\n",
       "<title>1</title>\r\n",
       "<polygon fill=\"none\" stroke=\"black\" points=\"302,-709.5 302,-754.5 356,-754.5 356,-709.5 302,-709.5\"/>\r\n",
       "<text text-anchor=\"start\" x=\"311\" y=\"-742\" font-family=\"Times New Roman,serif\" font-size=\"10.00\" fill=\"dimgrey\">[109, 91]</text>\r\n",
       "<text text-anchor=\"start\" x=\"319.5\" y=\"-727.8\" font-family=\"Times New Roman,serif\" font-size=\"14.00\">30?</text>\r\n",
       "<text text-anchor=\"start\" x=\"329\" y=\"-716\" font-family=\"Times New Roman,serif\" font-size=\"10.00\" fill=\"dimgrey\">Nr.1</text>\r\n",
       "</g>\r\n",
       "<!-- 2 -->\r\n",
       "<g id=\"node2\" class=\"node\">\r\n",
       "<title>2</title>\r\n",
       "<polygon fill=\"none\" stroke=\"black\" points=\"172,-612.5 172,-657.5 226,-657.5 226,-612.5 172,-612.5\"/>\r\n",
       "<text text-anchor=\"start\" x=\"186\" y=\"-645\" font-family=\"Times New Roman,serif\" font-size=\"10.00\" fill=\"dimgrey\">[37, 6]</text>\r\n",
       "<text text-anchor=\"start\" x=\"189.5\" y=\"-630.8\" font-family=\"Times New Roman,serif\" font-size=\"14.00\">21?</text>\r\n",
       "<text text-anchor=\"start\" x=\"194\" y=\"-619\" font-family=\"Times New Roman,serif\" font-size=\"10.00\" fill=\"dimgrey\">Nr.2</text>\r\n",
       "</g>\r\n",
       "<!-- 1&#45;&gt;2 -->\r\n",
       "<g id=\"edge11\" class=\"edge\">\r\n",
       "<title>1&#45;&gt;2</title>\r\n",
       "<path fill=\"none\" stroke=\"black\" d=\"M301.75,-711.08C282.16,-696.77 255.58,-677.34 234.35,-661.84\"/>\r\n",
       "<polygon fill=\"black\" stroke=\"black\" points=\"236.36,-658.96 226.22,-655.89 232.23,-664.61 236.36,-658.96\"/>\r\n",
       "<g id=\"a_edge11&#45;label\"><a xlink:title=\"0.0\">\r\n",
       "<text text-anchor=\"middle\" x=\"284.5\" y=\"-679.8\" font-family=\"Times New Roman,serif\" font-size=\"14.00\">≤0.0</text>\r\n",
       "</a>\r\n",
       "</g>\r\n",
       "</g>\r\n",
       "<!-- 13 -->\r\n",
       "<g id=\"node13\" class=\"node\">\r\n",
       "<title>13</title>\r\n",
       "<polygon fill=\"none\" stroke=\"black\" points=\"406,-612.5 406,-657.5 460,-657.5 460,-612.5 406,-612.5\"/>\r\n",
       "<text text-anchor=\"start\" x=\"417\" y=\"-645\" font-family=\"Times New Roman,serif\" font-size=\"10.00\" fill=\"dimgrey\">[49, 79]</text>\r\n",
       "<text text-anchor=\"start\" x=\"423\" y=\"-630.8\" font-family=\"Times New Roman,serif\" font-size=\"14.00\">51?</text>\r\n",
       "<text text-anchor=\"start\" x=\"425\" y=\"-619\" font-family=\"Times New Roman,serif\" font-size=\"10.00\" fill=\"dimgrey\">Nr.13</text>\r\n",
       "</g>\r\n",
       "<!-- 1&#45;&gt;13 -->\r\n",
       "<g id=\"edge42\" class=\"edge\">\r\n",
       "<title>1&#45;&gt;13</title>\r\n",
       "<path fill=\"none\" stroke=\"black\" d=\"M352.6,-709.44C367.12,-696.18 385.91,-679.01 401.67,-664.62\"/>\r\n",
       "<polygon fill=\"black\" stroke=\"black\" points=\"404.11,-667.13 409.13,-657.8 399.39,-661.96 404.11,-667.13\"/>\r\n",
       "<g id=\"a_edge42&#45;label\"><a xlink:title=\"0.0\">\r\n",
       "<text text-anchor=\"middle\" x=\"400\" y=\"-679.8\" font-family=\"Times New Roman,serif\" font-size=\"14.00\">&gt;0.0</text>\r\n",
       "</a>\r\n",
       "</g>\r\n",
       "</g>\r\n",
       "<!-- 3 -->\r\n",
       "<g id=\"node3\" class=\"node\">\r\n",
       "<title>3</title>\r\n",
       "<polygon fill=\"none\" stroke=\"black\" points=\"72,-515.5 72,-560.5 126,-560.5 126,-515.5 72,-515.5\"/>\r\n",
       "<text text-anchor=\"start\" x=\"88\" y=\"-548\" font-family=\"Times New Roman,serif\" font-size=\"10.00\" fill=\"dimgrey\">[1, 3]</text>\r\n",
       "<text text-anchor=\"start\" x=\"89\" y=\"-533.8\" font-family=\"Times New Roman,serif\" font-size=\"14.00\">43?</text>\r\n",
       "<text text-anchor=\"start\" x=\"91\" y=\"-522\" font-family=\"Times New Roman,serif\" font-size=\"10.00\" fill=\"dimgrey\">Nr.3</text>\r\n",
       "</g>\r\n",
       "<!-- 2&#45;&gt;3 -->\r\n",
       "<g id=\"edge3\" class=\"edge\">\r\n",
       "<title>2&#45;&gt;3</title>\r\n",
       "<path fill=\"none\" stroke=\"black\" d=\"M176.31,-612.44C162.47,-599.3 144.61,-582.33 129.54,-568.01\"/>\r\n",
       "<polygon fill=\"black\" stroke=\"black\" points=\"131.61,-565.15 121.95,-560.8 126.79,-570.23 131.61,-565.15\"/>\r\n",
       "<g id=\"a_edge3&#45;label\"><a xlink:title=\"4.0\">\r\n",
       "<text text-anchor=\"middle\" x=\"167.5\" y=\"-582.8\" font-family=\"Times New Roman,serif\" font-size=\"14.00\">≤4.0</text>\r\n",
       "</a>\r\n",
       "</g>\r\n",
       "</g>\r\n",
       "<!-- 6 -->\r\n",
       "<g id=\"node6\" class=\"node\">\r\n",
       "<title>6</title>\r\n",
       "<polygon fill=\"none\" stroke=\"black\" points=\"172,-515.5 172,-560.5 226,-560.5 226,-515.5 172,-515.5\"/>\r\n",
       "<text text-anchor=\"start\" x=\"186\" y=\"-548\" font-family=\"Times New Roman,serif\" font-size=\"10.00\" fill=\"dimgrey\">[36, 3]</text>\r\n",
       "<text text-anchor=\"start\" x=\"189.5\" y=\"-533.8\" font-family=\"Times New Roman,serif\" font-size=\"14.00\">31?</text>\r\n",
       "<text text-anchor=\"start\" x=\"194\" y=\"-522\" font-family=\"Times New Roman,serif\" font-size=\"10.00\" fill=\"dimgrey\">Nr.6</text>\r\n",
       "</g>\r\n",
       "<!-- 2&#45;&gt;6 -->\r\n",
       "<g id=\"edge10\" class=\"edge\">\r\n",
       "<title>2&#45;&gt;6</title>\r\n",
       "<path fill=\"none\" stroke=\"black\" d=\"M199,-612.44C199,-600.26 199,-584.8 199,-571.2\"/>\r\n",
       "<polygon fill=\"black\" stroke=\"black\" points=\"202.5,-570.8 199,-560.8 195.5,-570.8 202.5,-570.8\"/>\r\n",
       "<g id=\"a_edge10&#45;label\"><a xlink:title=\"4.0\">\r\n",
       "<text text-anchor=\"middle\" x=\"212\" y=\"-582.8\" font-family=\"Times New Roman,serif\" font-size=\"14.00\">&gt;4.0</text>\r\n",
       "</a>\r\n",
       "</g>\r\n",
       "</g>\r\n",
       "<!-- 4 -->\r\n",
       "<g id=\"node4\" class=\"node\">\r\n",
       "<title>4</title>\r\n",
       "<polygon fill=\"yellow\" stroke=\"yellow\" points=\"0,-412.5 0,-463.5 54,-463.5 54,-412.5 0,-412.5\"/>\r\n",
       "<text text-anchor=\"start\" x=\"16\" y=\"-450\" font-family=\"Times New Roman,serif\" font-size=\"10.00\" fill=\"dimgrey\">[0, 3]</text>\r\n",
       "<text text-anchor=\"start\" x=\"14\" y=\"-433.8\" font-family=\"Times New Roman,serif\" font-size=\"14.00\">True</text>\r\n",
       "<text text-anchor=\"start\" x=\"21\" y=\"-420\" font-family=\"Times New Roman,serif\" font-size=\"10.00\" fill=\"dimgrey\">Nr.4</text>\r\n",
       "</g>\r\n",
       "<!-- 3&#45;&gt;4 -->\r\n",
       "<g id=\"edge1\" class=\"edge\">\r\n",
       "<title>3&#45;&gt;4</title>\r\n",
       "<path fill=\"none\" stroke=\"black\" d=\"M81.11,-515.21C76.43,-509.36 71.46,-503 67,-497 61.04,-488.99 54.82,-480.18 49.1,-471.91\"/>\r\n",
       "<polygon fill=\"black\" stroke=\"black\" points=\"51.9,-469.81 43.36,-463.54 46.13,-473.77 51.9,-469.81\"/>\r\n",
       "<g id=\"a_edge1&#45;label\"><a xlink:title=\"190\">\r\n",
       "<text text-anchor=\"middle\" x=\"81\" y=\"-485.8\" font-family=\"Times New Roman,serif\" font-size=\"14.00\">≤190</text>\r\n",
       "</a>\r\n",
       "</g>\r\n",
       "</g>\r\n",
       "<!-- 5 -->\r\n",
       "<g id=\"node5\" class=\"node\">\r\n",
       "<title>5</title>\r\n",
       "<polygon fill=\"yellow\" stroke=\"yellow\" points=\"72,-412.5 72,-463.5 126,-463.5 126,-412.5 72,-412.5\"/>\r\n",
       "<text text-anchor=\"start\" x=\"88.5\" y=\"-450\" font-family=\"Times New Roman,serif\" font-size=\"10.00\" fill=\"dimgrey\">[1, 0]</text>\r\n",
       "<text text-anchor=\"start\" x=\"85\" y=\"-433.8\" font-family=\"Times New Roman,serif\" font-size=\"14.00\">False</text>\r\n",
       "<text text-anchor=\"start\" x=\"95\" y=\"-420\" font-family=\"Times New Roman,serif\" font-size=\"10.00\" fill=\"dimgrey\">Nr.5</text>\r\n",
       "</g>\r\n",
       "<!-- 3&#45;&gt;5 -->\r\n",
       "<g id=\"edge2\" class=\"edge\">\r\n",
       "<title>3&#45;&gt;5</title>\r\n",
       "<path fill=\"none\" stroke=\"black\" d=\"M99,-515.25C99,-503.12 99,-487.72 99,-473.94\"/>\r\n",
       "<polygon fill=\"black\" stroke=\"black\" points=\"102.5,-473.8 99,-463.8 95.5,-473.8 102.5,-473.8\"/>\r\n",
       "<g id=\"a_edge2&#45;label\"><a xlink:title=\"190\">\r\n",
       "<text text-anchor=\"middle\" x=\"113.5\" y=\"-485.8\" font-family=\"Times New Roman,serif\" font-size=\"14.00\">&gt;190</text>\r\n",
       "</a>\r\n",
       "</g>\r\n",
       "</g>\r\n",
       "<!-- 7 -->\r\n",
       "<g id=\"node7\" class=\"node\">\r\n",
       "<title>7</title>\r\n",
       "<polygon fill=\"yellow\" stroke=\"yellow\" points=\"144,-412.5 144,-463.5 198,-463.5 198,-412.5 144,-412.5\"/>\r\n",
       "<text text-anchor=\"start\" x=\"158\" y=\"-450\" font-family=\"Times New Roman,serif\" font-size=\"10.00\" fill=\"dimgrey\">[28, 0]</text>\r\n",
       "<text text-anchor=\"start\" x=\"157\" y=\"-433.8\" font-family=\"Times New Roman,serif\" font-size=\"14.00\">False</text>\r\n",
       "<text text-anchor=\"start\" x=\"167\" y=\"-420\" font-family=\"Times New Roman,serif\" font-size=\"10.00\" fill=\"dimgrey\">Nr.7</text>\r\n",
       "</g>\r\n",
       "<!-- 6&#45;&gt;7 -->\r\n",
       "<g id=\"edge4\" class=\"edge\">\r\n",
       "<title>6&#45;&gt;7</title>\r\n",
       "<path fill=\"none\" stroke=\"black\" d=\"M188.08,-515.38C185.45,-509.53 182.87,-503.12 181,-497 178.71,-489.53 176.9,-481.34 175.48,-473.54\"/>\r\n",
       "<polygon fill=\"black\" stroke=\"black\" points=\"178.92,-472.88 173.84,-463.59 172.02,-474.03 178.92,-472.88\"/>\r\n",
       "<g id=\"a_edge4&#45;label\"><a xlink:title=\"13.0\">\r\n",
       "<text text-anchor=\"middle\" x=\"197\" y=\"-485.8\" font-family=\"Times New Roman,serif\" font-size=\"14.00\">≤13.0</text>\r\n",
       "</a>\r\n",
       "</g>\r\n",
       "</g>\r\n",
       "<!-- 8 -->\r\n",
       "<g id=\"node8\" class=\"node\">\r\n",
       "<title>8</title>\r\n",
       "<polygon fill=\"none\" stroke=\"black\" points=\"216,-415.5 216,-460.5 270,-460.5 270,-415.5 216,-415.5\"/>\r\n",
       "<text text-anchor=\"start\" x=\"232\" y=\"-448\" font-family=\"Times New Roman,serif\" font-size=\"10.00\" fill=\"dimgrey\">[8, 3]</text>\r\n",
       "<text text-anchor=\"start\" x=\"233\" y=\"-433.8\" font-family=\"Times New Roman,serif\" font-size=\"14.00\">51?</text>\r\n",
       "<text text-anchor=\"start\" x=\"235\" y=\"-422\" font-family=\"Times New Roman,serif\" font-size=\"10.00\" fill=\"dimgrey\">Nr.8</text>\r\n",
       "</g>\r\n",
       "<!-- 6&#45;&gt;8 -->\r\n",
       "<g id=\"edge9\" class=\"edge\">\r\n",
       "<title>6&#45;&gt;8</title>\r\n",
       "<path fill=\"none\" stroke=\"black\" d=\"M208.77,-515.25C214.75,-501.93 222.5,-484.67 229.11,-469.94\"/>\r\n",
       "<polygon fill=\"black\" stroke=\"black\" points=\"232.36,-471.24 233.26,-460.69 225.97,-468.38 232.36,-471.24\"/>\r\n",
       "<g id=\"a_edge9&#45;label\"><a xlink:title=\"13.0\">\r\n",
       "<text text-anchor=\"middle\" x=\"240.5\" y=\"-485.8\" font-family=\"Times New Roman,serif\" font-size=\"14.00\">&gt;13.0</text>\r\n",
       "</a>\r\n",
       "</g>\r\n",
       "</g>\r\n",
       "<!-- 9 -->\r\n",
       "<g id=\"node9\" class=\"node\">\r\n",
       "<title>9</title>\r\n",
       "<polygon fill=\"none\" stroke=\"black\" points=\"144,-312.5 144,-357.5 198,-357.5 198,-312.5 144,-312.5\"/>\r\n",
       "<text text-anchor=\"start\" x=\"160\" y=\"-345\" font-family=\"Times New Roman,serif\" font-size=\"10.00\" fill=\"dimgrey\">[8, 1]</text>\r\n",
       "<text text-anchor=\"start\" x=\"161\" y=\"-330.8\" font-family=\"Times New Roman,serif\" font-size=\"14.00\">36?</text>\r\n",
       "<text text-anchor=\"start\" x=\"163\" y=\"-319\" font-family=\"Times New Roman,serif\" font-size=\"10.00\" fill=\"dimgrey\">Nr.9</text>\r\n",
       "</g>\r\n",
       "<!-- 8&#45;&gt;9 -->\r\n",
       "<g id=\"edge7\" class=\"edge\">\r\n",
       "<title>8&#45;&gt;9</title>\r\n",
       "<path fill=\"none\" stroke=\"black\" d=\"M227.38,-415.08C217.12,-400.69 203.57,-381.68 192.32,-365.91\"/>\r\n",
       "<polygon fill=\"black\" stroke=\"black\" points=\"195,-363.64 186.35,-357.53 189.3,-367.7 195,-363.64\"/>\r\n",
       "<g id=\"a_edge7&#45;label\"><a xlink:title=\"6.0\">\r\n",
       "<text text-anchor=\"middle\" x=\"224.5\" y=\"-382.8\" font-family=\"Times New Roman,serif\" font-size=\"14.00\">≤6.0</text>\r\n",
       "</a>\r\n",
       "</g>\r\n",
       "</g>\r\n",
       "<!-- 12 -->\r\n",
       "<g id=\"node12\" class=\"node\">\r\n",
       "<title>12</title>\r\n",
       "<polygon fill=\"yellow\" stroke=\"yellow\" points=\"216,-309.5 216,-360.5 270,-360.5 270,-309.5 216,-309.5\"/>\r\n",
       "<text text-anchor=\"start\" x=\"232\" y=\"-347\" font-family=\"Times New Roman,serif\" font-size=\"10.00\" fill=\"dimgrey\">[0, 2]</text>\r\n",
       "<text text-anchor=\"start\" x=\"230\" y=\"-330.8\" font-family=\"Times New Roman,serif\" font-size=\"14.00\">True</text>\r\n",
       "<text text-anchor=\"start\" x=\"232\" y=\"-317\" font-family=\"Times New Roman,serif\" font-size=\"10.00\" fill=\"dimgrey\">Nr.12</text>\r\n",
       "</g>\r\n",
       "<!-- 8&#45;&gt;12 -->\r\n",
       "<g id=\"edge8\" class=\"edge\">\r\n",
       "<title>8&#45;&gt;12</title>\r\n",
       "<path fill=\"none\" stroke=\"black\" d=\"M243,-415.08C243,-402.2 243,-385.61 243,-370.96\"/>\r\n",
       "<polygon fill=\"black\" stroke=\"black\" points=\"246.5,-370.71 243,-360.71 239.5,-370.71 246.5,-370.71\"/>\r\n",
       "<g id=\"a_edge8&#45;label\"><a xlink:title=\"6.0\">\r\n",
       "<text text-anchor=\"middle\" x=\"256\" y=\"-382.8\" font-family=\"Times New Roman,serif\" font-size=\"14.00\">&gt;6.0</text>\r\n",
       "</a>\r\n",
       "</g>\r\n",
       "</g>\r\n",
       "<!-- 10 -->\r\n",
       "<g id=\"node10\" class=\"node\">\r\n",
       "<title>10</title>\r\n",
       "<polygon fill=\"yellow\" stroke=\"yellow\" points=\"72,-206.5 72,-257.5 126,-257.5 126,-206.5 72,-206.5\"/>\r\n",
       "<text text-anchor=\"start\" x=\"88\" y=\"-244\" font-family=\"Times New Roman,serif\" font-size=\"10.00\" fill=\"dimgrey\">[0, 1]</text>\r\n",
       "<text text-anchor=\"start\" x=\"86\" y=\"-227.8\" font-family=\"Times New Roman,serif\" font-size=\"14.00\">True</text>\r\n",
       "<text text-anchor=\"start\" x=\"88\" y=\"-214\" font-family=\"Times New Roman,serif\" font-size=\"10.00\" fill=\"dimgrey\">Nr.10</text>\r\n",
       "</g>\r\n",
       "<!-- 9&#45;&gt;10 -->\r\n",
       "<g id=\"edge5\" class=\"edge\">\r\n",
       "<title>9&#45;&gt;10</title>\r\n",
       "<path fill=\"none\" stroke=\"black\" d=\"M154.57,-312.24C149.52,-305.47 143.99,-297.96 139,-291 133.24,-282.96 127.12,-274.2 121.45,-266\"/>\r\n",
       "<polygon fill=\"black\" stroke=\"black\" points=\"124.29,-263.95 115.74,-257.69 118.52,-267.91 124.29,-263.95\"/>\r\n",
       "<g id=\"a_edge5&#45;label\"><a xlink:title=\"110\">\r\n",
       "<text text-anchor=\"middle\" x=\"153\" y=\"-279.8\" font-family=\"Times New Roman,serif\" font-size=\"14.00\">≤110</text>\r\n",
       "</a>\r\n",
       "</g>\r\n",
       "</g>\r\n",
       "<!-- 11 -->\r\n",
       "<g id=\"node11\" class=\"node\">\r\n",
       "<title>11</title>\r\n",
       "<polygon fill=\"yellow\" stroke=\"yellow\" points=\"144,-206.5 144,-257.5 198,-257.5 198,-206.5 144,-206.5\"/>\r\n",
       "<text text-anchor=\"start\" x=\"160.5\" y=\"-244\" font-family=\"Times New Roman,serif\" font-size=\"10.00\" fill=\"dimgrey\">[8, 0]</text>\r\n",
       "<text text-anchor=\"start\" x=\"157\" y=\"-227.8\" font-family=\"Times New Roman,serif\" font-size=\"14.00\">False</text>\r\n",
       "<text text-anchor=\"start\" x=\"163\" y=\"-214\" font-family=\"Times New Roman,serif\" font-size=\"10.00\" fill=\"dimgrey\">Nr.11</text>\r\n",
       "</g>\r\n",
       "<!-- 9&#45;&gt;11 -->\r\n",
       "<g id=\"edge6\" class=\"edge\">\r\n",
       "<title>9&#45;&gt;11</title>\r\n",
       "<path fill=\"none\" stroke=\"black\" d=\"M171,-312.08C171,-299.2 171,-282.61 171,-267.96\"/>\r\n",
       "<polygon fill=\"black\" stroke=\"black\" points=\"174.5,-267.71 171,-257.71 167.5,-267.71 174.5,-267.71\"/>\r\n",
       "<g id=\"a_edge6&#45;label\"><a xlink:title=\"110\">\r\n",
       "<text text-anchor=\"middle\" x=\"185.5\" y=\"-279.8\" font-family=\"Times New Roman,serif\" font-size=\"14.00\">&gt;110</text>\r\n",
       "</a>\r\n",
       "</g>\r\n",
       "</g>\r\n",
       "<!-- 14 -->\r\n",
       "<g id=\"node14\" class=\"node\">\r\n",
       "<title>14</title>\r\n",
       "<polygon fill=\"none\" stroke=\"black\" points=\"406,-515.5 406,-560.5 460,-560.5 460,-515.5 406,-515.5\"/>\r\n",
       "<text text-anchor=\"start\" x=\"417\" y=\"-548\" font-family=\"Times New Roman,serif\" font-size=\"10.00\" fill=\"dimgrey\">[40, 15]</text>\r\n",
       "<text text-anchor=\"start\" x=\"423\" y=\"-533.8\" font-family=\"Times New Roman,serif\" font-size=\"14.00\">44?</text>\r\n",
       "<text text-anchor=\"start\" x=\"425\" y=\"-522\" font-family=\"Times New Roman,serif\" font-size=\"10.00\" fill=\"dimgrey\">Nr.14</text>\r\n",
       "</g>\r\n",
       "<!-- 13&#45;&gt;14 -->\r\n",
       "<g id=\"edge28\" class=\"edge\">\r\n",
       "<title>13&#45;&gt;14</title>\r\n",
       "<path fill=\"none\" stroke=\"black\" d=\"M433,-612.44C433,-600.26 433,-584.8 433,-571.2\"/>\r\n",
       "<polygon fill=\"black\" stroke=\"black\" points=\"436.5,-570.8 433,-560.8 429.5,-570.8 436.5,-570.8\"/>\r\n",
       "<g id=\"a_edge28&#45;label\"><a xlink:title=\"3.0\">\r\n",
       "<text text-anchor=\"middle\" x=\"445.5\" y=\"-582.8\" font-family=\"Times New Roman,serif\" font-size=\"14.00\">≤3.0</text>\r\n",
       "</a>\r\n",
       "</g>\r\n",
       "</g>\r\n",
       "<!-- 31 -->\r\n",
       "<g id=\"node31\" class=\"node\">\r\n",
       "<title>31</title>\r\n",
       "<polygon fill=\"none\" stroke=\"black\" points=\"504,-515.5 504,-560.5 558,-560.5 558,-515.5 504,-515.5\"/>\r\n",
       "<text text-anchor=\"start\" x=\"518\" y=\"-548\" font-family=\"Times New Roman,serif\" font-size=\"10.00\" fill=\"dimgrey\">[9, 64]</text>\r\n",
       "<text text-anchor=\"start\" x=\"521.5\" y=\"-533.8\" font-family=\"Times New Roman,serif\" font-size=\"14.00\">32?</text>\r\n",
       "<text text-anchor=\"start\" x=\"521\" y=\"-522\" font-family=\"Times New Roman,serif\" font-size=\"10.00\" fill=\"dimgrey\">Nr.31</text>\r\n",
       "</g>\r\n",
       "<!-- 13&#45;&gt;31 -->\r\n",
       "<g id=\"edge41\" class=\"edge\">\r\n",
       "<title>13&#45;&gt;31</title>\r\n",
       "<path fill=\"none\" stroke=\"black\" d=\"M455.24,-612.44C468.8,-599.3 486.31,-582.33 501.07,-568.01\"/>\r\n",
       "<polygon fill=\"black\" stroke=\"black\" points=\"503.77,-570.27 508.51,-560.8 498.89,-565.25 503.77,-570.27\"/>\r\n",
       "<g id=\"a_edge41&#45;label\"><a xlink:title=\"3.0\">\r\n",
       "<text text-anchor=\"middle\" x=\"500\" y=\"-582.8\" font-family=\"Times New Roman,serif\" font-size=\"14.00\">&gt;3.0</text>\r\n",
       "</a>\r\n",
       "</g>\r\n",
       "</g>\r\n",
       "<!-- 15 -->\r\n",
       "<g id=\"node15\" class=\"node\">\r\n",
       "<title>15</title>\r\n",
       "<polygon fill=\"none\" stroke=\"black\" points=\"360,-415.5 360,-460.5 414,-460.5 414,-415.5 360,-415.5\"/>\r\n",
       "<text text-anchor=\"start\" x=\"374\" y=\"-448\" font-family=\"Times New Roman,serif\" font-size=\"10.00\" fill=\"dimgrey\">[33, 5]</text>\r\n",
       "<text text-anchor=\"start\" x=\"377.5\" y=\"-433.8\" font-family=\"Times New Roman,serif\" font-size=\"14.00\">32?</text>\r\n",
       "<text text-anchor=\"start\" x=\"377\" y=\"-422\" font-family=\"Times New Roman,serif\" font-size=\"10.00\" fill=\"dimgrey\">Nr.15</text>\r\n",
       "</g>\r\n",
       "<!-- 14&#45;&gt;15 -->\r\n",
       "<g id=\"edge20\" class=\"edge\">\r\n",
       "<title>14&#45;&gt;15</title>\r\n",
       "<path fill=\"none\" stroke=\"black\" d=\"M422.71,-515.42C419.88,-509.46 416.81,-502.98 414,-497 409.83,-488.14 405.34,-478.51 401.23,-469.69\"/>\r\n",
       "<polygon fill=\"black\" stroke=\"black\" points=\"404.35,-468.1 396.96,-460.5 398,-471.05 404.35,-468.1\"/>\r\n",
       "<g id=\"a_edge20&#45;label\"><a xlink:title=\"0.0\">\r\n",
       "<text text-anchor=\"middle\" x=\"426.5\" y=\"-485.8\" font-family=\"Times New Roman,serif\" font-size=\"14.00\">≤0.0</text>\r\n",
       "</a>\r\n",
       "</g>\r\n",
       "</g>\r\n",
       "<!-- 24 -->\r\n",
       "<g id=\"node24\" class=\"node\">\r\n",
       "<title>24</title>\r\n",
       "<polygon fill=\"none\" stroke=\"black\" points=\"432,-415.5 432,-460.5 486,-460.5 486,-415.5 432,-415.5\"/>\r\n",
       "<text text-anchor=\"start\" x=\"446\" y=\"-448\" font-family=\"Times New Roman,serif\" font-size=\"10.00\" fill=\"dimgrey\">[7, 10]</text>\r\n",
       "<text text-anchor=\"start\" x=\"449.5\" y=\"-433.8\" font-family=\"Times New Roman,serif\" font-size=\"14.00\">41?</text>\r\n",
       "<text text-anchor=\"start\" x=\"449\" y=\"-422\" font-family=\"Times New Roman,serif\" font-size=\"10.00\" fill=\"dimgrey\">Nr.24</text>\r\n",
       "</g>\r\n",
       "<!-- 14&#45;&gt;24 -->\r\n",
       "<g id=\"edge27\" class=\"edge\">\r\n",
       "<title>14&#45;&gt;24</title>\r\n",
       "<path fill=\"none\" stroke=\"black\" d=\"M438.77,-515.25C442.27,-502.06 446.8,-484.99 450.68,-470.36\"/>\r\n",
       "<polygon fill=\"black\" stroke=\"black\" points=\"454.06,-471.25 453.25,-460.69 447.3,-469.46 454.06,-471.25\"/>\r\n",
       "<g id=\"a_edge27&#45;label\"><a xlink:title=\"0.0\">\r\n",
       "<text text-anchor=\"middle\" x=\"460\" y=\"-485.8\" font-family=\"Times New Roman,serif\" font-size=\"14.00\">&gt;0.0</text>\r\n",
       "</a>\r\n",
       "</g>\r\n",
       "</g>\r\n",
       "<!-- 16 -->\r\n",
       "<g id=\"node16\" class=\"node\">\r\n",
       "<title>16</title>\r\n",
       "<polygon fill=\"none\" stroke=\"black\" points=\"288,-312.5 288,-357.5 342,-357.5 342,-312.5 288,-312.5\"/>\r\n",
       "<text text-anchor=\"start\" x=\"302\" y=\"-345\" font-family=\"Times New Roman,serif\" font-size=\"10.00\" fill=\"dimgrey\">[18, 5]</text>\r\n",
       "<text text-anchor=\"start\" x=\"305.5\" y=\"-330.8\" font-family=\"Times New Roman,serif\" font-size=\"14.00\">34?</text>\r\n",
       "<text text-anchor=\"start\" x=\"305\" y=\"-319\" font-family=\"Times New Roman,serif\" font-size=\"10.00\" fill=\"dimgrey\">Nr.16</text>\r\n",
       "</g>\r\n",
       "<!-- 15&#45;&gt;16 -->\r\n",
       "<g id=\"edge18\" class=\"edge\">\r\n",
       "<title>15&#45;&gt;16</title>\r\n",
       "<path fill=\"none\" stroke=\"black\" d=\"M362.77,-415.49C356.21,-408.97 349.43,-401.54 344,-394 337.99,-385.66 332.58,-375.9 328.1,-366.78\"/>\r\n",
       "<polygon fill=\"black\" stroke=\"black\" points=\"331.21,-365.17 323.79,-357.6 324.88,-368.14 331.21,-365.17\"/>\r\n",
       "<g id=\"a_edge18&#45;label\"><a xlink:title=\"160.0\">\r\n",
       "<text text-anchor=\"middle\" x=\"363.5\" y=\"-382.8\" font-family=\"Times New Roman,serif\" font-size=\"14.00\">≤160.0</text>\r\n",
       "</a>\r\n",
       "</g>\r\n",
       "</g>\r\n",
       "<!-- 23 -->\r\n",
       "<g id=\"node23\" class=\"node\">\r\n",
       "<title>23</title>\r\n",
       "<polygon fill=\"yellow\" stroke=\"yellow\" points=\"360,-309.5 360,-360.5 414,-360.5 414,-309.5 360,-309.5\"/>\r\n",
       "<text text-anchor=\"start\" x=\"374\" y=\"-347\" font-family=\"Times New Roman,serif\" font-size=\"10.00\" fill=\"dimgrey\">[15, 0]</text>\r\n",
       "<text text-anchor=\"start\" x=\"373\" y=\"-330.8\" font-family=\"Times New Roman,serif\" font-size=\"14.00\">False</text>\r\n",
       "<text text-anchor=\"start\" x=\"378\" y=\"-317\" font-family=\"Times New Roman,serif\" font-size=\"10.00\" fill=\"dimgrey\">Nr.23</text>\r\n",
       "</g>\r\n",
       "<!-- 15&#45;&gt;23 -->\r\n",
       "<g id=\"edge19\" class=\"edge\">\r\n",
       "<title>15&#45;&gt;23</title>\r\n",
       "<path fill=\"none\" stroke=\"black\" d=\"M387,-415.08C387,-402.2 387,-385.61 387,-370.96\"/>\r\n",
       "<polygon fill=\"black\" stroke=\"black\" points=\"390.5,-370.71 387,-360.71 383.5,-370.71 390.5,-370.71\"/>\r\n",
       "<g id=\"a_edge19&#45;label\"><a xlink:title=\"160.0\">\r\n",
       "<text text-anchor=\"middle\" x=\"407\" y=\"-382.8\" font-family=\"Times New Roman,serif\" font-size=\"14.00\">&gt;160.0</text>\r\n",
       "</a>\r\n",
       "</g>\r\n",
       "</g>\r\n",
       "<!-- 17 -->\r\n",
       "<g id=\"node17\" class=\"node\">\r\n",
       "<title>17</title>\r\n",
       "<polygon fill=\"yellow\" stroke=\"yellow\" points=\"216,-206.5 216,-257.5 270,-257.5 270,-206.5 216,-206.5\"/>\r\n",
       "<text text-anchor=\"start\" x=\"232.5\" y=\"-244\" font-family=\"Times New Roman,serif\" font-size=\"10.00\" fill=\"dimgrey\">[8, 0]</text>\r\n",
       "<text text-anchor=\"start\" x=\"229\" y=\"-227.8\" font-family=\"Times New Roman,serif\" font-size=\"14.00\">False</text>\r\n",
       "<text text-anchor=\"start\" x=\"234\" y=\"-214\" font-family=\"Times New Roman,serif\" font-size=\"10.00\" fill=\"dimgrey\">Nr.17</text>\r\n",
       "</g>\r\n",
       "<!-- 16&#45;&gt;17 -->\r\n",
       "<g id=\"edge12\" class=\"edge\">\r\n",
       "<title>16&#45;&gt;17</title>\r\n",
       "<path fill=\"none\" stroke=\"black\" d=\"M298.57,-312.24C293.52,-305.47 287.99,-297.96 283,-291 277.24,-282.96 271.12,-274.2 265.45,-266\"/>\r\n",
       "<polygon fill=\"black\" stroke=\"black\" points=\"268.29,-263.95 259.74,-257.69 262.52,-267.91 268.29,-263.95\"/>\r\n",
       "<g id=\"a_edge12&#45;label\"><a xlink:title=\"168\">\r\n",
       "<text text-anchor=\"middle\" x=\"297\" y=\"-279.8\" font-family=\"Times New Roman,serif\" font-size=\"14.00\">≤168</text>\r\n",
       "</a>\r\n",
       "</g>\r\n",
       "</g>\r\n",
       "<!-- 18 -->\r\n",
       "<g id=\"node18\" class=\"node\">\r\n",
       "<title>18</title>\r\n",
       "<polygon fill=\"none\" stroke=\"black\" points=\"288,-209.5 288,-254.5 342,-254.5 342,-209.5 288,-209.5\"/>\r\n",
       "<text text-anchor=\"start\" x=\"302\" y=\"-242\" font-family=\"Times New Roman,serif\" font-size=\"10.00\" fill=\"dimgrey\">[10, 5]</text>\r\n",
       "<text text-anchor=\"start\" x=\"305.5\" y=\"-227.8\" font-family=\"Times New Roman,serif\" font-size=\"14.00\">31?</text>\r\n",
       "<text text-anchor=\"start\" x=\"305\" y=\"-216\" font-family=\"Times New Roman,serif\" font-size=\"10.00\" fill=\"dimgrey\">Nr.18</text>\r\n",
       "</g>\r\n",
       "<!-- 16&#45;&gt;18 -->\r\n",
       "<g id=\"edge17\" class=\"edge\">\r\n",
       "<title>16&#45;&gt;18</title>\r\n",
       "<path fill=\"none\" stroke=\"black\" d=\"M315,-312.08C315,-298.23 315,-280.08 315,-264.67\"/>\r\n",
       "<polygon fill=\"black\" stroke=\"black\" points=\"318.5,-264.53 315,-254.53 311.5,-264.53 318.5,-264.53\"/>\r\n",
       "<g id=\"a_edge17&#45;label\"><a xlink:title=\"168\">\r\n",
       "<text text-anchor=\"middle\" x=\"329.5\" y=\"-279.8\" font-family=\"Times New Roman,serif\" font-size=\"14.00\">&gt;168</text>\r\n",
       "</a>\r\n",
       "</g>\r\n",
       "</g>\r\n",
       "<!-- 19 -->\r\n",
       "<g id=\"node19\" class=\"node\">\r\n",
       "<title>19</title>\r\n",
       "<polygon fill=\"none\" stroke=\"black\" points=\"216,-106.5 216,-151.5 270,-151.5 270,-106.5 216,-106.5\"/>\r\n",
       "<text text-anchor=\"start\" x=\"230\" y=\"-139\" font-family=\"Times New Roman,serif\" font-size=\"10.00\" fill=\"dimgrey\">[10, 2]</text>\r\n",
       "<text text-anchor=\"start\" x=\"233.5\" y=\"-124.8\" font-family=\"Times New Roman,serif\" font-size=\"14.00\">40?</text>\r\n",
       "<text text-anchor=\"start\" x=\"233\" y=\"-113\" font-family=\"Times New Roman,serif\" font-size=\"10.00\" fill=\"dimgrey\">Nr.19</text>\r\n",
       "</g>\r\n",
       "<!-- 18&#45;&gt;19 -->\r\n",
       "<g id=\"edge15\" class=\"edge\">\r\n",
       "<title>18&#45;&gt;19</title>\r\n",
       "<path fill=\"none\" stroke=\"black\" d=\"M295.7,-209.16C290.11,-202.52 284.14,-195.1 279,-188 272.7,-179.29 266.34,-169.46 260.76,-160.41\"/>\r\n",
       "<polygon fill=\"black\" stroke=\"black\" points=\"263.64,-158.42 255.46,-151.68 257.66,-162.05 263.64,-158.42\"/>\r\n",
       "<g id=\"a_edge15&#45;label\"><a xlink:title=\"10.0\">\r\n",
       "<text text-anchor=\"middle\" x=\"295\" y=\"-176.8\" font-family=\"Times New Roman,serif\" font-size=\"14.00\">≤10.0</text>\r\n",
       "</a>\r\n",
       "</g>\r\n",
       "</g>\r\n",
       "<!-- 22 -->\r\n",
       "<g id=\"node22\" class=\"node\">\r\n",
       "<title>22</title>\r\n",
       "<polygon fill=\"yellow\" stroke=\"yellow\" points=\"288,-103.5 288,-154.5 342,-154.5 342,-103.5 288,-103.5\"/>\r\n",
       "<text text-anchor=\"start\" x=\"304\" y=\"-141\" font-family=\"Times New Roman,serif\" font-size=\"10.00\" fill=\"dimgrey\">[0, 3]</text>\r\n",
       "<text text-anchor=\"start\" x=\"302\" y=\"-124.8\" font-family=\"Times New Roman,serif\" font-size=\"14.00\">True</text>\r\n",
       "<text text-anchor=\"start\" x=\"304\" y=\"-111\" font-family=\"Times New Roman,serif\" font-size=\"10.00\" fill=\"dimgrey\">Nr.22</text>\r\n",
       "</g>\r\n",
       "<!-- 18&#45;&gt;22 -->\r\n",
       "<g id=\"edge16\" class=\"edge\">\r\n",
       "<title>18&#45;&gt;22</title>\r\n",
       "<path fill=\"none\" stroke=\"black\" d=\"M315,-209.08C315,-196.2 315,-179.61 315,-164.96\"/>\r\n",
       "<polygon fill=\"black\" stroke=\"black\" points=\"318.5,-164.71 315,-154.71 311.5,-164.71 318.5,-164.71\"/>\r\n",
       "<g id=\"a_edge16&#45;label\"><a xlink:title=\"10.0\">\r\n",
       "<text text-anchor=\"middle\" x=\"331.5\" y=\"-176.8\" font-family=\"Times New Roman,serif\" font-size=\"14.00\">&gt;10.0</text>\r\n",
       "</a>\r\n",
       "</g>\r\n",
       "</g>\r\n",
       "<!-- 20 -->\r\n",
       "<g id=\"node20\" class=\"node\">\r\n",
       "<title>20</title>\r\n",
       "<polygon fill=\"yellow\" stroke=\"yellow\" points=\"180,-0.5 180,-51.5 234,-51.5 234,-0.5 180,-0.5\"/>\r\n",
       "<text text-anchor=\"start\" x=\"196\" y=\"-38\" font-family=\"Times New Roman,serif\" font-size=\"10.00\" fill=\"dimgrey\">[0, 2]</text>\r\n",
       "<text text-anchor=\"start\" x=\"194\" y=\"-21.8\" font-family=\"Times New Roman,serif\" font-size=\"14.00\">True</text>\r\n",
       "<text text-anchor=\"start\" x=\"196\" y=\"-8\" font-family=\"Times New Roman,serif\" font-size=\"10.00\" fill=\"dimgrey\">Nr.20</text>\r\n",
       "</g>\r\n",
       "<!-- 19&#45;&gt;20 -->\r\n",
       "<g id=\"edge13\" class=\"edge\">\r\n",
       "<title>19&#45;&gt;20</title>\r\n",
       "<path fill=\"none\" stroke=\"black\" d=\"M235.19,-106.08C230.55,-93.07 224.57,-76.29 219.31,-61.53\"/>\r\n",
       "<polygon fill=\"black\" stroke=\"black\" points=\"222.46,-59.96 215.81,-51.71 215.87,-62.31 222.46,-59.96\"/>\r\n",
       "<g id=\"a_edge13&#45;label\"><a xlink:title=\"0.0\">\r\n",
       "<text text-anchor=\"middle\" x=\"240.5\" y=\"-73.8\" font-family=\"Times New Roman,serif\" font-size=\"14.00\">≤0.0</text>\r\n",
       "</a>\r\n",
       "</g>\r\n",
       "</g>\r\n",
       "<!-- 21 -->\r\n",
       "<g id=\"node21\" class=\"node\">\r\n",
       "<title>21</title>\r\n",
       "<polygon fill=\"yellow\" stroke=\"yellow\" points=\"252,-0.5 252,-51.5 306,-51.5 306,-0.5 252,-0.5\"/>\r\n",
       "<text text-anchor=\"start\" x=\"266\" y=\"-38\" font-family=\"Times New Roman,serif\" font-size=\"10.00\" fill=\"dimgrey\">[10, 0]</text>\r\n",
       "<text text-anchor=\"start\" x=\"265\" y=\"-21.8\" font-family=\"Times New Roman,serif\" font-size=\"14.00\">False</text>\r\n",
       "<text text-anchor=\"start\" x=\"270\" y=\"-8\" font-family=\"Times New Roman,serif\" font-size=\"10.00\" fill=\"dimgrey\">Nr.21</text>\r\n",
       "</g>\r\n",
       "<!-- 19&#45;&gt;21 -->\r\n",
       "<g id=\"edge14\" class=\"edge\">\r\n",
       "<title>19&#45;&gt;21</title>\r\n",
       "<path fill=\"none\" stroke=\"black\" d=\"M250.81,-106.08C255.45,-93.07 261.43,-76.29 266.69,-61.53\"/>\r\n",
       "<polygon fill=\"black\" stroke=\"black\" points=\"270.13,-62.31 270.19,-51.71 263.54,-59.96 270.13,-62.31\"/>\r\n",
       "<g id=\"a_edge14&#45;label\"><a xlink:title=\"0.0\">\r\n",
       "<text text-anchor=\"middle\" x=\"277\" y=\"-73.8\" font-family=\"Times New Roman,serif\" font-size=\"14.00\">&gt;0.0</text>\r\n",
       "</a>\r\n",
       "</g>\r\n",
       "</g>\r\n",
       "<!-- 25 -->\r\n",
       "<g id=\"node25\" class=\"node\">\r\n",
       "<title>25</title>\r\n",
       "<polygon fill=\"none\" stroke=\"black\" points=\"432,-312.5 432,-357.5 486,-357.5 486,-312.5 432,-312.5\"/>\r\n",
       "<text text-anchor=\"start\" x=\"448\" y=\"-345\" font-family=\"Times New Roman,serif\" font-size=\"10.00\" fill=\"dimgrey\">[7, 2]</text>\r\n",
       "<text text-anchor=\"start\" x=\"449\" y=\"-330.8\" font-family=\"Times New Roman,serif\" font-size=\"14.00\">40?</text>\r\n",
       "<text text-anchor=\"start\" x=\"447\" y=\"-319\" font-family=\"Times New Roman,serif\" font-size=\"10.00\" fill=\"dimgrey\">Nr.25</text>\r\n",
       "</g>\r\n",
       "<!-- 24&#45;&gt;25 -->\r\n",
       "<g id=\"edge25\" class=\"edge\">\r\n",
       "<title>24&#45;&gt;25</title>\r\n",
       "<path fill=\"none\" stroke=\"black\" d=\"M459,-415.08C459,-401.23 459,-383.08 459,-367.67\"/>\r\n",
       "<polygon fill=\"black\" stroke=\"black\" points=\"462.5,-367.53 459,-357.53 455.5,-367.53 462.5,-367.53\"/>\r\n",
       "<g id=\"a_edge25&#45;label\"><a xlink:title=\"1\">\r\n",
       "<text text-anchor=\"middle\" x=\"466.5\" y=\"-382.8\" font-family=\"Times New Roman,serif\" font-size=\"14.00\">≤1</text>\r\n",
       "</a>\r\n",
       "</g>\r\n",
       "</g>\r\n",
       "<!-- 30 -->\r\n",
       "<g id=\"node30\" class=\"node\">\r\n",
       "<title>30</title>\r\n",
       "<polygon fill=\"yellow\" stroke=\"yellow\" points=\"504,-309.5 504,-360.5 558,-360.5 558,-309.5 504,-309.5\"/>\r\n",
       "<text text-anchor=\"start\" x=\"520\" y=\"-347\" font-family=\"Times New Roman,serif\" font-size=\"10.00\" fill=\"dimgrey\">[0, 8]</text>\r\n",
       "<text text-anchor=\"start\" x=\"518\" y=\"-330.8\" font-family=\"Times New Roman,serif\" font-size=\"14.00\">True</text>\r\n",
       "<text text-anchor=\"start\" x=\"520\" y=\"-317\" font-family=\"Times New Roman,serif\" font-size=\"10.00\" fill=\"dimgrey\">Nr.30</text>\r\n",
       "</g>\r\n",
       "<!-- 24&#45;&gt;30 -->\r\n",
       "<g id=\"edge26\" class=\"edge\">\r\n",
       "<title>24&#45;&gt;30</title>\r\n",
       "<path fill=\"none\" stroke=\"black\" d=\"M474.62,-415.08C484.17,-401.7 496.56,-384.32 507.29,-369.26\"/>\r\n",
       "<polygon fill=\"black\" stroke=\"black\" points=\"510.43,-370.89 513.38,-360.71 504.73,-366.82 510.43,-370.89\"/>\r\n",
       "<g id=\"a_edge26&#45;label\"><a xlink:title=\"1\">\r\n",
       "<text text-anchor=\"middle\" x=\"507\" y=\"-382.8\" font-family=\"Times New Roman,serif\" font-size=\"14.00\">&gt;1</text>\r\n",
       "</a>\r\n",
       "</g>\r\n",
       "</g>\r\n",
       "<!-- 26 -->\r\n",
       "<g id=\"node26\" class=\"node\">\r\n",
       "<title>26</title>\r\n",
       "<polygon fill=\"none\" stroke=\"black\" points=\"360,-209.5 360,-254.5 414,-254.5 414,-209.5 360,-209.5\"/>\r\n",
       "<text text-anchor=\"start\" x=\"376\" y=\"-242\" font-family=\"Times New Roman,serif\" font-size=\"10.00\" fill=\"dimgrey\">[1, 2]</text>\r\n",
       "<text text-anchor=\"start\" x=\"377\" y=\"-227.8\" font-family=\"Times New Roman,serif\" font-size=\"14.00\">36?</text>\r\n",
       "<text text-anchor=\"start\" x=\"375\" y=\"-216\" font-family=\"Times New Roman,serif\" font-size=\"10.00\" fill=\"dimgrey\">Nr.26</text>\r\n",
       "</g>\r\n",
       "<!-- 25&#45;&gt;26 -->\r\n",
       "<g id=\"edge23\" class=\"edge\">\r\n",
       "<title>25&#45;&gt;26</title>\r\n",
       "<path fill=\"none\" stroke=\"black\" d=\"M443.38,-312.08C433.12,-297.69 419.57,-278.68 408.32,-262.91\"/>\r\n",
       "<polygon fill=\"black\" stroke=\"black\" points=\"411,-260.64 402.35,-254.53 405.3,-264.7 411,-260.64\"/>\r\n",
       "<g id=\"a_edge23&#45;label\"><a xlink:title=\"0.0\">\r\n",
       "<text text-anchor=\"middle\" x=\"439.5\" y=\"-279.8\" font-family=\"Times New Roman,serif\" font-size=\"14.00\">≤0.0</text>\r\n",
       "</a>\r\n",
       "</g>\r\n",
       "</g>\r\n",
       "<!-- 29 -->\r\n",
       "<g id=\"node29\" class=\"node\">\r\n",
       "<title>29</title>\r\n",
       "<polygon fill=\"yellow\" stroke=\"yellow\" points=\"432,-206.5 432,-257.5 486,-257.5 486,-206.5 432,-206.5\"/>\r\n",
       "<text text-anchor=\"start\" x=\"448.5\" y=\"-244\" font-family=\"Times New Roman,serif\" font-size=\"10.00\" fill=\"dimgrey\">[6, 0]</text>\r\n",
       "<text text-anchor=\"start\" x=\"445\" y=\"-227.8\" font-family=\"Times New Roman,serif\" font-size=\"14.00\">False</text>\r\n",
       "<text text-anchor=\"start\" x=\"450\" y=\"-214\" font-family=\"Times New Roman,serif\" font-size=\"10.00\" fill=\"dimgrey\">Nr.29</text>\r\n",
       "</g>\r\n",
       "<!-- 25&#45;&gt;29 -->\r\n",
       "<g id=\"edge24\" class=\"edge\">\r\n",
       "<title>25&#45;&gt;29</title>\r\n",
       "<path fill=\"none\" stroke=\"black\" d=\"M459,-312.08C459,-299.2 459,-282.61 459,-267.96\"/>\r\n",
       "<polygon fill=\"black\" stroke=\"black\" points=\"462.5,-267.71 459,-257.71 455.5,-267.71 462.5,-267.71\"/>\r\n",
       "<g id=\"a_edge24&#45;label\"><a xlink:title=\"0.0\">\r\n",
       "<text text-anchor=\"middle\" x=\"472\" y=\"-279.8\" font-family=\"Times New Roman,serif\" font-size=\"14.00\">&gt;0.0</text>\r\n",
       "</a>\r\n",
       "</g>\r\n",
       "</g>\r\n",
       "<!-- 27 -->\r\n",
       "<g id=\"node27\" class=\"node\">\r\n",
       "<title>27</title>\r\n",
       "<polygon fill=\"yellow\" stroke=\"yellow\" points=\"360,-103.5 360,-154.5 414,-154.5 414,-103.5 360,-103.5\"/>\r\n",
       "<text text-anchor=\"start\" x=\"376\" y=\"-141\" font-family=\"Times New Roman,serif\" font-size=\"10.00\" fill=\"dimgrey\">[0, 2]</text>\r\n",
       "<text text-anchor=\"start\" x=\"374\" y=\"-124.8\" font-family=\"Times New Roman,serif\" font-size=\"14.00\">True</text>\r\n",
       "<text text-anchor=\"start\" x=\"376\" y=\"-111\" font-family=\"Times New Roman,serif\" font-size=\"10.00\" fill=\"dimgrey\">Nr.27</text>\r\n",
       "</g>\r\n",
       "<!-- 26&#45;&gt;27 -->\r\n",
       "<g id=\"edge21\" class=\"edge\">\r\n",
       "<title>26&#45;&gt;27</title>\r\n",
       "<path fill=\"none\" stroke=\"black\" d=\"M387,-209.08C387,-196.2 387,-179.61 387,-164.96\"/>\r\n",
       "<polygon fill=\"black\" stroke=\"black\" points=\"390.5,-164.71 387,-154.71 383.5,-164.71 390.5,-164.71\"/>\r\n",
       "<g id=\"a_edge21&#45;label\"><a xlink:title=\"125\">\r\n",
       "<text text-anchor=\"middle\" x=\"401\" y=\"-176.8\" font-family=\"Times New Roman,serif\" font-size=\"14.00\">≤125</text>\r\n",
       "</a>\r\n",
       "</g>\r\n",
       "</g>\r\n",
       "<!-- 28 -->\r\n",
       "<g id=\"node28\" class=\"node\">\r\n",
       "<title>28</title>\r\n",
       "<polygon fill=\"yellow\" stroke=\"yellow\" points=\"432,-103.5 432,-154.5 486,-154.5 486,-103.5 432,-103.5\"/>\r\n",
       "<text text-anchor=\"start\" x=\"448.5\" y=\"-141\" font-family=\"Times New Roman,serif\" font-size=\"10.00\" fill=\"dimgrey\">[1, 0]</text>\r\n",
       "<text text-anchor=\"start\" x=\"445\" y=\"-124.8\" font-family=\"Times New Roman,serif\" font-size=\"14.00\">False</text>\r\n",
       "<text text-anchor=\"start\" x=\"450\" y=\"-111\" font-family=\"Times New Roman,serif\" font-size=\"10.00\" fill=\"dimgrey\">Nr.28</text>\r\n",
       "</g>\r\n",
       "<!-- 26&#45;&gt;28 -->\r\n",
       "<g id=\"edge22\" class=\"edge\">\r\n",
       "<title>26&#45;&gt;28</title>\r\n",
       "<path fill=\"none\" stroke=\"black\" d=\"M403.43,-209.24C408.48,-202.47 414.01,-194.96 419,-188 424.76,-179.96 430.88,-171.2 436.55,-163\"/>\r\n",
       "<polygon fill=\"black\" stroke=\"black\" points=\"439.48,-164.91 442.26,-154.69 433.71,-160.95 439.48,-164.91\"/>\r\n",
       "<g id=\"a_edge22&#45;label\"><a xlink:title=\"125\">\r\n",
       "<text text-anchor=\"middle\" x=\"443.5\" y=\"-176.8\" font-family=\"Times New Roman,serif\" font-size=\"14.00\">&gt;125</text>\r\n",
       "</a>\r\n",
       "</g>\r\n",
       "</g>\r\n",
       "<!-- 32 -->\r\n",
       "<g id=\"node32\" class=\"node\">\r\n",
       "<title>32</title>\r\n",
       "<polygon fill=\"yellow\" stroke=\"yellow\" points=\"504,-412.5 504,-463.5 558,-463.5 558,-412.5 504,-412.5\"/>\r\n",
       "<text text-anchor=\"start\" x=\"518\" y=\"-450\" font-family=\"Times New Roman,serif\" font-size=\"10.00\" fill=\"dimgrey\">[0, 40]</text>\r\n",
       "<text text-anchor=\"start\" x=\"518.5\" y=\"-433.8\" font-family=\"Times New Roman,serif\" font-size=\"14.00\">True</text>\r\n",
       "<text text-anchor=\"start\" x=\"521\" y=\"-420\" font-family=\"Times New Roman,serif\" font-size=\"10.00\" fill=\"dimgrey\">Nr.32</text>\r\n",
       "</g>\r\n",
       "<!-- 31&#45;&gt;32 -->\r\n",
       "<g id=\"edge29\" class=\"edge\">\r\n",
       "<title>31&#45;&gt;32</title>\r\n",
       "<path fill=\"none\" stroke=\"black\" d=\"M531,-515.25C531,-503.12 531,-487.72 531,-473.94\"/>\r\n",
       "<polygon fill=\"black\" stroke=\"black\" points=\"534.5,-473.8 531,-463.8 527.5,-473.8 534.5,-473.8\"/>\r\n",
       "<g id=\"a_edge29&#45;label\"><a xlink:title=\"144.0\">\r\n",
       "<text text-anchor=\"middle\" x=\"550.5\" y=\"-485.8\" font-family=\"Times New Roman,serif\" font-size=\"14.00\">≤144.0</text>\r\n",
       "</a>\r\n",
       "</g>\r\n",
       "</g>\r\n",
       "<!-- 33 -->\r\n",
       "<g id=\"node33\" class=\"node\">\r\n",
       "<title>33</title>\r\n",
       "<polygon fill=\"none\" stroke=\"black\" points=\"576,-415.5 576,-460.5 630,-460.5 630,-415.5 576,-415.5\"/>\r\n",
       "<text text-anchor=\"start\" x=\"590\" y=\"-448\" font-family=\"Times New Roman,serif\" font-size=\"10.00\" fill=\"dimgrey\">[9, 24]</text>\r\n",
       "<text text-anchor=\"start\" x=\"593.5\" y=\"-433.8\" font-family=\"Times New Roman,serif\" font-size=\"14.00\">44?</text>\r\n",
       "<text text-anchor=\"start\" x=\"593\" y=\"-422\" font-family=\"Times New Roman,serif\" font-size=\"10.00\" fill=\"dimgrey\">Nr.33</text>\r\n",
       "</g>\r\n",
       "<!-- 31&#45;&gt;33 -->\r\n",
       "<g id=\"edge40\" class=\"edge\">\r\n",
       "<title>31&#45;&gt;33</title>\r\n",
       "<path fill=\"none\" stroke=\"black\" d=\"M557.54,-515.11C563.38,-509.57 569.23,-503.37 574,-497 580.16,-488.77 585.61,-479.04 590.08,-469.92\"/>\r\n",
       "<polygon fill=\"black\" stroke=\"black\" points=\"593.31,-471.26 594.37,-460.72 586.97,-468.31 593.31,-471.26\"/>\r\n",
       "<g id=\"a_edge40&#45;label\"><a xlink:title=\"144.0\">\r\n",
       "<text text-anchor=\"middle\" x=\"603\" y=\"-485.8\" font-family=\"Times New Roman,serif\" font-size=\"14.00\">&gt;144.0</text>\r\n",
       "</a>\r\n",
       "</g>\r\n",
       "</g>\r\n",
       "<!-- 34 -->\r\n",
       "<g id=\"node34\" class=\"node\">\r\n",
       "<title>34</title>\r\n",
       "<polygon fill=\"none\" stroke=\"black\" points=\"576,-312.5 576,-357.5 630,-357.5 630,-312.5 576,-312.5\"/>\r\n",
       "<text text-anchor=\"start\" x=\"592\" y=\"-345\" font-family=\"Times New Roman,serif\" font-size=\"10.00\" fill=\"dimgrey\">[8, 7]</text>\r\n",
       "<text text-anchor=\"start\" x=\"596.5\" y=\"-330.8\" font-family=\"Times New Roman,serif\" font-size=\"14.00\">3?</text>\r\n",
       "<text text-anchor=\"start\" x=\"591\" y=\"-319\" font-family=\"Times New Roman,serif\" font-size=\"10.00\" fill=\"dimgrey\">Nr.34</text>\r\n",
       "</g>\r\n",
       "<!-- 33&#45;&gt;34 -->\r\n",
       "<g id=\"edge34\" class=\"edge\">\r\n",
       "<title>33&#45;&gt;34</title>\r\n",
       "<path fill=\"none\" stroke=\"black\" d=\"M603,-415.08C603,-401.23 603,-383.08 603,-367.67\"/>\r\n",
       "<polygon fill=\"black\" stroke=\"black\" points=\"606.5,-367.53 603,-357.53 599.5,-367.53 606.5,-367.53\"/>\r\n",
       "<g id=\"a_edge34&#45;label\"><a xlink:title=\"0.0\">\r\n",
       "<text text-anchor=\"middle\" x=\"615.5\" y=\"-382.8\" font-family=\"Times New Roman,serif\" font-size=\"14.00\">≤0.0</text>\r\n",
       "</a>\r\n",
       "</g>\r\n",
       "</g>\r\n",
       "<!-- 39 -->\r\n",
       "<g id=\"node39\" class=\"node\">\r\n",
       "<title>39</title>\r\n",
       "<polygon fill=\"none\" stroke=\"black\" points=\"648,-312.5 648,-357.5 702,-357.5 702,-312.5 648,-312.5\"/>\r\n",
       "<text text-anchor=\"start\" x=\"662\" y=\"-345\" font-family=\"Times New Roman,serif\" font-size=\"10.00\" fill=\"dimgrey\">[1, 17]</text>\r\n",
       "<text text-anchor=\"start\" x=\"665.5\" y=\"-330.8\" font-family=\"Times New Roman,serif\" font-size=\"14.00\">35?</text>\r\n",
       "<text text-anchor=\"start\" x=\"665\" y=\"-319\" font-family=\"Times New Roman,serif\" font-size=\"10.00\" fill=\"dimgrey\">Nr.39</text>\r\n",
       "</g>\r\n",
       "<!-- 33&#45;&gt;39 -->\r\n",
       "<g id=\"edge39\" class=\"edge\">\r\n",
       "<title>33&#45;&gt;39</title>\r\n",
       "<path fill=\"none\" stroke=\"black\" d=\"M618.62,-415.08C628.88,-400.69 642.43,-381.68 653.68,-365.91\"/>\r\n",
       "<polygon fill=\"black\" stroke=\"black\" points=\"656.7,-367.7 659.65,-357.53 651,-363.64 656.7,-367.7\"/>\r\n",
       "<g id=\"a_edge39&#45;label\"><a xlink:title=\"0.0\">\r\n",
       "<text text-anchor=\"middle\" x=\"656\" y=\"-382.8\" font-family=\"Times New Roman,serif\" font-size=\"14.00\">&gt;0.0</text>\r\n",
       "</a>\r\n",
       "</g>\r\n",
       "</g>\r\n",
       "<!-- 35 -->\r\n",
       "<g id=\"node35\" class=\"node\">\r\n",
       "<title>35</title>\r\n",
       "<polygon fill=\"yellow\" stroke=\"yellow\" points=\"504,-206.5 504,-257.5 558,-257.5 558,-206.5 504,-206.5\"/>\r\n",
       "<text text-anchor=\"start\" x=\"520\" y=\"-244\" font-family=\"Times New Roman,serif\" font-size=\"10.00\" fill=\"dimgrey\">[0, 4]</text>\r\n",
       "<text text-anchor=\"start\" x=\"518\" y=\"-227.8\" font-family=\"Times New Roman,serif\" font-size=\"14.00\">True</text>\r\n",
       "<text text-anchor=\"start\" x=\"520\" y=\"-214\" font-family=\"Times New Roman,serif\" font-size=\"10.00\" fill=\"dimgrey\">Nr.35</text>\r\n",
       "</g>\r\n",
       "<!-- 34&#45;&gt;35 -->\r\n",
       "<g id=\"edge30\" class=\"edge\">\r\n",
       "<title>34&#45;&gt;35</title>\r\n",
       "<path fill=\"none\" stroke=\"black\" d=\"M587.38,-312.08C577.83,-298.7 565.44,-281.32 554.71,-266.26\"/>\r\n",
       "<polygon fill=\"black\" stroke=\"black\" points=\"557.27,-263.82 548.62,-257.71 551.57,-267.89 557.27,-263.82\"/>\r\n",
       "<g id=\"a_edge30&#45;label\"><a xlink:title=\"51\">\r\n",
       "<text text-anchor=\"middle\" x=\"582\" y=\"-279.8\" font-family=\"Times New Roman,serif\" font-size=\"14.00\">≤51</text>\r\n",
       "</a>\r\n",
       "</g>\r\n",
       "</g>\r\n",
       "<!-- 36 -->\r\n",
       "<g id=\"node36\" class=\"node\">\r\n",
       "<title>36</title>\r\n",
       "<polygon fill=\"none\" stroke=\"black\" points=\"576,-209.5 576,-254.5 630,-254.5 630,-209.5 576,-209.5\"/>\r\n",
       "<text text-anchor=\"start\" x=\"592\" y=\"-242\" font-family=\"Times New Roman,serif\" font-size=\"10.00\" fill=\"dimgrey\">[8, 3]</text>\r\n",
       "<text text-anchor=\"start\" x=\"593\" y=\"-227.8\" font-family=\"Times New Roman,serif\" font-size=\"14.00\">29?</text>\r\n",
       "<text text-anchor=\"start\" x=\"591\" y=\"-216\" font-family=\"Times New Roman,serif\" font-size=\"10.00\" fill=\"dimgrey\">Nr.36</text>\r\n",
       "</g>\r\n",
       "<!-- 34&#45;&gt;36 -->\r\n",
       "<g id=\"edge33\" class=\"edge\">\r\n",
       "<title>34&#45;&gt;36</title>\r\n",
       "<path fill=\"none\" stroke=\"black\" d=\"M603,-312.08C603,-298.23 603,-280.08 603,-264.67\"/>\r\n",
       "<polygon fill=\"black\" stroke=\"black\" points=\"606.5,-264.53 603,-254.53 599.5,-264.53 606.5,-264.53\"/>\r\n",
       "<g id=\"a_edge33&#45;label\"><a xlink:title=\"51\">\r\n",
       "<text text-anchor=\"middle\" x=\"614\" y=\"-279.8\" font-family=\"Times New Roman,serif\" font-size=\"14.00\">&gt;51</text>\r\n",
       "</a>\r\n",
       "</g>\r\n",
       "</g>\r\n",
       "<!-- 37 -->\r\n",
       "<g id=\"node37\" class=\"node\">\r\n",
       "<title>37</title>\r\n",
       "<polygon fill=\"yellow\" stroke=\"yellow\" points=\"522,-103.5 522,-154.5 576,-154.5 576,-103.5 522,-103.5\"/>\r\n",
       "<text text-anchor=\"start\" x=\"538\" y=\"-141\" font-family=\"Times New Roman,serif\" font-size=\"10.00\" fill=\"dimgrey\">[0, 3]</text>\r\n",
       "<text text-anchor=\"start\" x=\"536\" y=\"-124.8\" font-family=\"Times New Roman,serif\" font-size=\"14.00\">True</text>\r\n",
       "<text text-anchor=\"start\" x=\"538\" y=\"-111\" font-family=\"Times New Roman,serif\" font-size=\"10.00\" fill=\"dimgrey\">Nr.37</text>\r\n",
       "</g>\r\n",
       "<!-- 36&#45;&gt;37 -->\r\n",
       "<g id=\"edge31\" class=\"edge\">\r\n",
       "<title>36&#45;&gt;37</title>\r\n",
       "<path fill=\"none\" stroke=\"black\" d=\"M591.28,-209.08C584.19,-195.82 575.01,-178.64 567.01,-163.68\"/>\r\n",
       "<polygon fill=\"black\" stroke=\"black\" points=\"570.01,-161.88 562.21,-154.71 563.84,-165.18 570.01,-161.88\"/>\r\n",
       "<g id=\"a_edge31&#45;label\"><a xlink:title=\"5.5\">\r\n",
       "<text text-anchor=\"middle\" x=\"591.5\" y=\"-176.8\" font-family=\"Times New Roman,serif\" font-size=\"14.00\">≤5.5</text>\r\n",
       "</a>\r\n",
       "</g>\r\n",
       "</g>\r\n",
       "<!-- 38 -->\r\n",
       "<g id=\"node38\" class=\"node\">\r\n",
       "<title>38</title>\r\n",
       "<polygon fill=\"yellow\" stroke=\"yellow\" points=\"594,-103.5 594,-154.5 648,-154.5 648,-103.5 594,-103.5\"/>\r\n",
       "<text text-anchor=\"start\" x=\"610.5\" y=\"-141\" font-family=\"Times New Roman,serif\" font-size=\"10.00\" fill=\"dimgrey\">[8, 0]</text>\r\n",
       "<text text-anchor=\"start\" x=\"607\" y=\"-124.8\" font-family=\"Times New Roman,serif\" font-size=\"14.00\">False</text>\r\n",
       "<text text-anchor=\"start\" x=\"612\" y=\"-111\" font-family=\"Times New Roman,serif\" font-size=\"10.00\" fill=\"dimgrey\">Nr.38</text>\r\n",
       "</g>\r\n",
       "<!-- 36&#45;&gt;38 -->\r\n",
       "<g id=\"edge32\" class=\"edge\">\r\n",
       "<title>36&#45;&gt;38</title>\r\n",
       "<path fill=\"none\" stroke=\"black\" d=\"M606.91,-209.08C609.2,-196.2 612.16,-179.61 614.77,-164.96\"/>\r\n",
       "<polygon fill=\"black\" stroke=\"black\" points=\"618.29,-165.17 616.6,-154.71 611.4,-163.94 618.29,-165.17\"/>\r\n",
       "<g id=\"a_edge32&#45;label\"><a xlink:title=\"5.5\">\r\n",
       "<text text-anchor=\"middle\" x=\"626\" y=\"-176.8\" font-family=\"Times New Roman,serif\" font-size=\"14.00\">&gt;5.5</text>\r\n",
       "</a>\r\n",
       "</g>\r\n",
       "</g>\r\n",
       "<!-- 40 -->\r\n",
       "<g id=\"node40\" class=\"node\">\r\n",
       "<title>40</title>\r\n",
       "<polygon fill=\"yellow\" stroke=\"yellow\" points=\"648,-206.5 648,-257.5 702,-257.5 702,-206.5 648,-206.5\"/>\r\n",
       "<text text-anchor=\"start\" x=\"662\" y=\"-244\" font-family=\"Times New Roman,serif\" font-size=\"10.00\" fill=\"dimgrey\">[0, 15]</text>\r\n",
       "<text text-anchor=\"start\" x=\"662.5\" y=\"-227.8\" font-family=\"Times New Roman,serif\" font-size=\"14.00\">True</text>\r\n",
       "<text text-anchor=\"start\" x=\"665\" y=\"-214\" font-family=\"Times New Roman,serif\" font-size=\"10.00\" fill=\"dimgrey\">Nr.40</text>\r\n",
       "</g>\r\n",
       "<!-- 39&#45;&gt;40 -->\r\n",
       "<g id=\"edge35\" class=\"edge\">\r\n",
       "<title>39&#45;&gt;40</title>\r\n",
       "<path fill=\"none\" stroke=\"black\" d=\"M675,-312.08C675,-299.2 675,-282.61 675,-267.96\"/>\r\n",
       "<polygon fill=\"black\" stroke=\"black\" points=\"678.5,-267.71 675,-257.71 671.5,-267.71 678.5,-267.71\"/>\r\n",
       "<g id=\"a_edge35&#45;label\"><a xlink:title=\"95\">\r\n",
       "<text text-anchor=\"middle\" x=\"686\" y=\"-279.8\" font-family=\"Times New Roman,serif\" font-size=\"14.00\">≤95</text>\r\n",
       "</a>\r\n",
       "</g>\r\n",
       "</g>\r\n",
       "<!-- 41 -->\r\n",
       "<g id=\"node41\" class=\"node\">\r\n",
       "<title>41</title>\r\n",
       "<polygon fill=\"none\" stroke=\"black\" points=\"720,-209.5 720,-254.5 774,-254.5 774,-209.5 720,-209.5\"/>\r\n",
       "<text text-anchor=\"start\" x=\"736\" y=\"-242\" font-family=\"Times New Roman,serif\" font-size=\"10.00\" fill=\"dimgrey\">[1, 2]</text>\r\n",
       "<text text-anchor=\"start\" x=\"737\" y=\"-227.8\" font-family=\"Times New Roman,serif\" font-size=\"14.00\">43?</text>\r\n",
       "<text text-anchor=\"start\" x=\"735\" y=\"-216\" font-family=\"Times New Roman,serif\" font-size=\"10.00\" fill=\"dimgrey\">Nr.41</text>\r\n",
       "</g>\r\n",
       "<!-- 39&#45;&gt;41 -->\r\n",
       "<g id=\"edge38\" class=\"edge\">\r\n",
       "<title>39&#45;&gt;41</title>\r\n",
       "<path fill=\"none\" stroke=\"black\" d=\"M690.62,-312.08C700.88,-297.69 714.43,-278.68 725.68,-262.91\"/>\r\n",
       "<polygon fill=\"black\" stroke=\"black\" points=\"728.7,-264.7 731.65,-254.53 723,-260.64 728.7,-264.7\"/>\r\n",
       "<g id=\"a_edge38&#45;label\"><a xlink:title=\"95\">\r\n",
       "<text text-anchor=\"middle\" x=\"726\" y=\"-279.8\" font-family=\"Times New Roman,serif\" font-size=\"14.00\">&gt;95</text>\r\n",
       "</a>\r\n",
       "</g>\r\n",
       "</g>\r\n",
       "<!-- 42 -->\r\n",
       "<g id=\"node42\" class=\"node\">\r\n",
       "<title>42</title>\r\n",
       "<polygon fill=\"yellow\" stroke=\"yellow\" points=\"702,-103.5 702,-154.5 756,-154.5 756,-103.5 702,-103.5\"/>\r\n",
       "<text text-anchor=\"start\" x=\"718\" y=\"-141\" font-family=\"Times New Roman,serif\" font-size=\"10.00\" fill=\"dimgrey\">[0, 2]</text>\r\n",
       "<text text-anchor=\"start\" x=\"716\" y=\"-124.8\" font-family=\"Times New Roman,serif\" font-size=\"14.00\">True</text>\r\n",
       "<text text-anchor=\"start\" x=\"718\" y=\"-111\" font-family=\"Times New Roman,serif\" font-size=\"10.00\" fill=\"dimgrey\">Nr.42</text>\r\n",
       "</g>\r\n",
       "<!-- 41&#45;&gt;42 -->\r\n",
       "<g id=\"edge36\" class=\"edge\">\r\n",
       "<title>41&#45;&gt;42</title>\r\n",
       "<path fill=\"none\" stroke=\"black\" d=\"M743.09,-209.08C740.8,-196.2 737.84,-179.61 735.23,-164.96\"/>\r\n",
       "<polygon fill=\"black\" stroke=\"black\" points=\"738.6,-163.94 733.4,-154.71 731.71,-165.17 738.6,-163.94\"/>\r\n",
       "<g id=\"a_edge36&#45;label\"><a xlink:title=\"118\">\r\n",
       "<text text-anchor=\"middle\" x=\"753\" y=\"-176.8\" font-family=\"Times New Roman,serif\" font-size=\"14.00\">≤118</text>\r\n",
       "</a>\r\n",
       "</g>\r\n",
       "</g>\r\n",
       "<!-- 43 -->\r\n",
       "<g id=\"node43\" class=\"node\">\r\n",
       "<title>43</title>\r\n",
       "<polygon fill=\"yellow\" stroke=\"yellow\" points=\"774,-103.5 774,-154.5 828,-154.5 828,-103.5 774,-103.5\"/>\r\n",
       "<text text-anchor=\"start\" x=\"790.5\" y=\"-141\" font-family=\"Times New Roman,serif\" font-size=\"10.00\" fill=\"dimgrey\">[1, 0]</text>\r\n",
       "<text text-anchor=\"start\" x=\"787\" y=\"-124.8\" font-family=\"Times New Roman,serif\" font-size=\"14.00\">False</text>\r\n",
       "<text text-anchor=\"start\" x=\"792\" y=\"-111\" font-family=\"Times New Roman,serif\" font-size=\"10.00\" fill=\"dimgrey\">Nr.43</text>\r\n",
       "</g>\r\n",
       "<!-- 41&#45;&gt;43 -->\r\n",
       "<g id=\"edge37\" class=\"edge\">\r\n",
       "<title>41&#45;&gt;43</title>\r\n",
       "<path fill=\"none\" stroke=\"black\" d=\"M759.34,-209.2C763.13,-202.43 767.28,-194.93 771,-188 775.21,-180.18 779.65,-171.71 783.78,-163.73\"/>\r\n",
       "<polygon fill=\"black\" stroke=\"black\" points=\"787,-165.13 788.47,-154.64 780.78,-161.92 787,-165.13\"/>\r\n",
       "<g id=\"a_edge37&#45;label\"><a xlink:title=\"118\">\r\n",
       "<text text-anchor=\"middle\" x=\"792.5\" y=\"-176.8\" font-family=\"Times New Roman,serif\" font-size=\"14.00\">&gt;118</text>\r\n",
       "</a>\r\n",
       "</g>\r\n",
       "</g>\r\n",
       "</g>\r\n",
       "</svg>\r\n"
      ],
      "text/plain": [
       "<graphviz.dot.Digraph at 0x252a9cc5c88>"
      ]
     },
     "execution_count": 52,
     "metadata": {},
     "output_type": "execute_result"
    }
   ],
   "source": [
    "tree.print_tree()"
   ]
  },
  {
   "cell_type": "code",
   "execution_count": 53,
   "metadata": {},
   "outputs": [
    {
     "data": {
      "text/plain": [
       "0.96"
      ]
     },
     "execution_count": 53,
     "metadata": {},
     "output_type": "execute_result"
    }
   ],
   "source": [
    "tree.prediction_accuracy(df_pr_cleve_red1[:200])"
   ]
  },
  {
   "cell_type": "code",
   "execution_count": 54,
   "metadata": {},
   "outputs": [
    {
     "data": {
      "text/plain": [
       "0.7073170731707317"
      ]
     },
     "execution_count": 54,
     "metadata": {},
     "output_type": "execute_result"
    }
   ],
   "source": [
    "tree.prediction_accuracy(df_pr_cleve_red1[200:])"
   ]
  },
  {
   "cell_type": "code",
   "execution_count": 55,
   "metadata": {},
   "outputs": [
    {
     "name": "stdout",
     "output_type": "stream",
     "text": [
      "Test Node: 3\n",
      "Prune Node: 3\n",
      "Node-Count 41\n",
      "New Test-Score 0.7073170731707317\n",
      "Test Node: 9\n",
      "Prune Node: 9\n",
      "Node-Count 39\n",
      "New Test-Score 0.7073170731707317\n",
      "Test Node: 8\n",
      "Prune Node: 8\n",
      "Node-Count 37\n",
      "New Test-Score 0.7073170731707317\n",
      "Test Node: 6\n",
      "Prune Node: 6\n",
      "Node-Count 35\n",
      "New Test-Score 0.7073170731707317\n",
      "Test Node: 2\n",
      "Prune Node: 2\n",
      "Node-Count 33\n",
      "New Test-Score 0.7073170731707317\n",
      "Test Node: 19\n",
      "Prune Node: 19\n",
      "Node-Count 31\n",
      "New Test-Score 0.7439024390243902\n",
      "Test Node: 18\n",
      "Prune Node: 18\n",
      "Node-Count 29\n",
      "New Test-Score 0.7804878048780488\n",
      "Test Node: 16\n",
      "Prune Node: 16\n",
      "Node-Count 27\n",
      "New Test-Score 0.7804878048780488\n",
      "Test Node: 15\n",
      "Prune Node: 15\n",
      "Node-Count 25\n",
      "New Test-Score 0.7804878048780488\n",
      "Test Node: 26\n",
      "Prune Node: 26\n",
      "Node-Count 23\n",
      "New Test-Score 0.7804878048780488\n",
      "Test Node: 25\n",
      "Test Node: 24\n",
      "Prune Node: 24\n",
      "Node-Count 19\n",
      "New Test-Score 0.7926829268292683\n",
      "Test Node: 14\n",
      "Test Node: 36\n",
      "Prune Node: 36\n",
      "Node-Count 17\n",
      "New Test-Score 0.7926829268292683\n",
      "Test Node: 34\n",
      "Test Node: 41\n",
      "Prune Node: 41\n",
      "Node-Count 15\n",
      "New Test-Score 0.7926829268292683\n",
      "Test Node: 39\n",
      "Prune Node: 39\n",
      "Node-Count 13\n",
      "New Test-Score 0.7926829268292683\n",
      "Test Node: 33\n",
      "Test Node: 31\n",
      "Test Node: 13\n",
      "Test Node: 1\n"
     ]
    }
   ],
   "source": [
    "tree.validation_pruning(df_pr_cleve_red1[200:])"
   ]
  },
  {
   "cell_type": "code",
   "execution_count": 56,
   "metadata": {},
   "outputs": [],
   "source": [
    "tree2 = ct.DecisionTree(data=df_pr_cleve_red1[:200],target=58)\n",
    "a=tree2.manual_split(attribute=4,doc=True)"
   ]
  },
  {
   "cell_type": "code",
   "execution_count": 57,
   "metadata": {},
   "outputs": [
    {
     "data": {
      "image/svg+xml": [
       "<?xml version=\"1.0\" encoding=\"UTF-8\" standalone=\"no\"?>\r\n",
       "<!DOCTYPE svg PUBLIC \"-//W3C//DTD SVG 1.1//EN\"\r\n",
       " \"http://www.w3.org/Graphics/SVG/1.1/DTD/svg11.dtd\">\r\n",
       "<!-- Generated by graphviz version 2.50.0 (0)\r\n",
       " -->\r\n",
       "<!-- Pages: 1 -->\r\n",
       "<svg width=\"134pt\" height=\"209pt\"\r\n",
       " viewBox=\"0.00 0.00 134.00 209.00\" xmlns=\"http://www.w3.org/2000/svg\" xmlns:xlink=\"http://www.w3.org/1999/xlink\">\r\n",
       "<g id=\"graph0\" class=\"graph\" transform=\"scale(1 1) rotate(0) translate(4 205)\">\r\n",
       "<polygon fill=\"white\" stroke=\"transparent\" points=\"-4,4 -4,-205 130,-205 130,4 -4,4\"/>\r\n",
       "<polygon fill=\"lightblue\" stroke=\"transparent\" points=\"8,-153 8,-197 71,-197 71,-153 8,-153\"/>\r\n",
       "<polygon fill=\"none\" stroke=\"black\" points=\"11.5,-175 11.5,-194 68.5,-194 68.5,-175 11.5,-175\"/>\r\n",
       "<text text-anchor=\"start\" x=\"26.5\" y=\"-181.4\" font-family=\"Times New Roman,serif\" font-size=\"12.00\">58? &#160;&#160;</text>\r\n",
       "<polygon fill=\"none\" stroke=\"black\" points=\"11.5,-156 11.5,-173 68.5,-173 68.5,-156 11.5,-156\"/>\r\n",
       "<text text-anchor=\"start\" x=\"14.5\" y=\"-162\" font-family=\"Times New Roman,serif\" font-size=\"10.00\" fill=\"dimgrey\">[False, True]</text>\r\n",
       "<polygon fill=\"none\" stroke=\"black\" points=\"8,-153 8,-197 71,-197 71,-153 8,-153\"/>\r\n",
       "<!-- 1 -->\r\n",
       "<g id=\"node1\" class=\"node\">\r\n",
       "<title>1</title>\r\n",
       "<polygon fill=\"none\" stroke=\"black\" points=\"36,-103.5 36,-148.5 90,-148.5 90,-103.5 36,-103.5\"/>\r\n",
       "<text text-anchor=\"start\" x=\"45\" y=\"-136\" font-family=\"Times New Roman,serif\" font-size=\"10.00\" fill=\"dimgrey\">[109, 91]</text>\r\n",
       "<text text-anchor=\"start\" x=\"57\" y=\"-121.8\" font-family=\"Times New Roman,serif\" font-size=\"14.00\">4?</text>\r\n",
       "<text text-anchor=\"start\" x=\"63\" y=\"-110\" font-family=\"Times New Roman,serif\" font-size=\"10.00\" fill=\"dimgrey\">Nr.1</text>\r\n",
       "</g>\r\n",
       "<!-- 2 -->\r\n",
       "<g id=\"node2\" class=\"node\">\r\n",
       "<title>2</title>\r\n",
       "<polygon fill=\"yellow\" stroke=\"yellow\" points=\"0,-0.5 0,-51.5 54,-51.5 54,-0.5 0,-0.5\"/>\r\n",
       "<text text-anchor=\"start\" x=\"11\" y=\"-38\" font-family=\"Times New Roman,serif\" font-size=\"10.00\" fill=\"dimgrey\">[42, 15]</text>\r\n",
       "<text text-anchor=\"start\" x=\"12.5\" y=\"-21.8\" font-family=\"Times New Roman,serif\" font-size=\"14.00\">False</text>\r\n",
       "<text text-anchor=\"start\" x=\"24\" y=\"-8\" font-family=\"Times New Roman,serif\" font-size=\"10.00\" fill=\"dimgrey\">Nr.2</text>\r\n",
       "</g>\r\n",
       "<!-- 1&#45;&gt;2 -->\r\n",
       "<g id=\"edge1\" class=\"edge\">\r\n",
       "<title>1&#45;&gt;2</title>\r\n",
       "<path fill=\"none\" stroke=\"black\" d=\"M55.01,-103.25C50.51,-91 44.79,-75.41 39.69,-61.53\"/>\r\n",
       "<polygon fill=\"black\" stroke=\"black\" points=\"42.84,-59.98 36.11,-51.8 36.27,-62.39 42.84,-59.98\"/>\r\n",
       "<g id=\"a_edge1&#45;label\"><a xlink:title=\"0\">\r\n",
       "<text text-anchor=\"middle\" x=\"56.5\" y=\"-73.8\" font-family=\"Times New Roman,serif\" font-size=\"14.00\">≤0</text>\r\n",
       "</a>\r\n",
       "</g>\r\n",
       "</g>\r\n",
       "<!-- 3 -->\r\n",
       "<g id=\"node3\" class=\"node\">\r\n",
       "<title>3</title>\r\n",
       "<polygon fill=\"yellow\" stroke=\"yellow\" points=\"72,-0.5 72,-51.5 126,-51.5 126,-0.5 72,-0.5\"/>\r\n",
       "<text text-anchor=\"start\" x=\"83\" y=\"-38\" font-family=\"Times New Roman,serif\" font-size=\"10.00\" fill=\"dimgrey\">[67, 76]</text>\r\n",
       "<text text-anchor=\"start\" x=\"86\" y=\"-21.8\" font-family=\"Times New Roman,serif\" font-size=\"14.00\">True</text>\r\n",
       "<text text-anchor=\"start\" x=\"96\" y=\"-8\" font-family=\"Times New Roman,serif\" font-size=\"10.00\" fill=\"dimgrey\">Nr.3</text>\r\n",
       "</g>\r\n",
       "<!-- 1&#45;&gt;3 -->\r\n",
       "<g id=\"edge2\" class=\"edge\">\r\n",
       "<title>1&#45;&gt;3</title>\r\n",
       "<path fill=\"none\" stroke=\"black\" d=\"M70.99,-103.25C75.49,-91 81.21,-75.41 86.31,-61.53\"/>\r\n",
       "<polygon fill=\"black\" stroke=\"black\" points=\"89.73,-62.39 89.89,-51.8 83.16,-59.98 89.73,-62.39\"/>\r\n",
       "<g id=\"a_edge2&#45;label\"><a xlink:title=\"0\">\r\n",
       "<text text-anchor=\"middle\" x=\"91\" y=\"-73.8\" font-family=\"Times New Roman,serif\" font-size=\"14.00\">&gt;0</text>\r\n",
       "</a>\r\n",
       "</g>\r\n",
       "</g>\r\n",
       "</g>\r\n",
       "</svg>\r\n"
      ],
      "text/plain": [
       "<graphviz.dot.Digraph at 0x252a9bf84c8>"
      ]
     },
     "execution_count": 57,
     "metadata": {},
     "output_type": "execute_result"
    }
   ],
   "source": [
    "tree2.print_tree()"
   ]
  },
  {
   "cell_type": "code",
   "execution_count": 58,
   "metadata": {},
   "outputs": [
    {
     "data": {
      "text/html": [
       "<div>\n",
       "<style scoped>\n",
       "    .dataframe tbody tr th:only-of-type {\n",
       "        vertical-align: middle;\n",
       "    }\n",
       "\n",
       "    .dataframe tbody tr th {\n",
       "        vertical-align: top;\n",
       "    }\n",
       "\n",
       "    .dataframe thead th {\n",
       "        text-align: right;\n",
       "    }\n",
       "</style>\n",
       "<table border=\"1\" class=\"dataframe\">\n",
       "  <thead>\n",
       "    <tr style=\"text-align: right;\">\n",
       "      <th></th>\n",
       "      <th>Attribute</th>\n",
       "      <th>Threshold</th>\n",
       "      <th>Criterion</th>\n",
       "    </tr>\n",
       "  </thead>\n",
       "  <tbody>\n",
       "    <tr>\n",
       "      <th>0</th>\n",
       "      <td>4.0</td>\n",
       "      <td>0.0</td>\n",
       "      <td>0.044</td>\n",
       "    </tr>\n",
       "  </tbody>\n",
       "</table>\n",
       "</div>"
      ],
      "text/plain": [
       "   Attribute  Threshold  Criterion\n",
       "0        4.0        0.0      0.044"
      ]
     },
     "execution_count": 58,
     "metadata": {},
     "output_type": "execute_result"
    }
   ],
   "source": [
    "a[:40]"
   ]
  },
  {
   "cell_type": "markdown",
   "metadata": {},
   "source": [
    "# Reduzieren + Aufbereiten"
   ]
  },
  {
   "cell_type": "code",
   "execution_count": 59,
   "metadata": {},
   "outputs": [
    {
     "data": {
      "text/plain": [
       "0    157\n",
       "1     50\n",
       "3     32\n",
       "2     31\n",
       "4     12\n",
       "Name: 58, dtype: int64"
      ]
     },
     "execution_count": 59,
     "metadata": {},
     "output_type": "execute_result"
    }
   ],
   "source": [
    "df_pr_cleve_red2 = df_pr_cleve[[3,4,9,10,12,13,14,15,16,18,19,32,33,34,35,37,38,44,58]]\n",
    "df_pr_cleve_red2[58].value_counts()"
   ]
  },
  {
   "cell_type": "code",
   "execution_count": 60,
   "metadata": {},
   "outputs": [
    {
     "data": {
      "text/html": [
       "<div>\n",
       "<style scoped>\n",
       "    .dataframe tbody tr th:only-of-type {\n",
       "        vertical-align: middle;\n",
       "    }\n",
       "\n",
       "    .dataframe tbody tr th {\n",
       "        vertical-align: top;\n",
       "    }\n",
       "\n",
       "    .dataframe thead th {\n",
       "        text-align: right;\n",
       "    }\n",
       "</style>\n",
       "<table border=\"1\" class=\"dataframe\">\n",
       "  <thead>\n",
       "    <tr style=\"text-align: right;\">\n",
       "      <th></th>\n",
       "      <th>age</th>\n",
       "      <th>gender</th>\n",
       "      <th>chest pain</th>\n",
       "      <th>rest blood pressure s</th>\n",
       "      <th>cholesterol</th>\n",
       "      <th>smoke</th>\n",
       "      <th>cigs a day</th>\n",
       "      <th>years smoking</th>\n",
       "      <th>fasting blood sugar</th>\n",
       "      <th>family history</th>\n",
       "      <th>resting ECG results</th>\n",
       "      <th>max heart rate</th>\n",
       "      <th>rest heart rate</th>\n",
       "      <th>peak exercise blood pressure s</th>\n",
       "      <th>peak exercise blood pressure d</th>\n",
       "      <th>rest blood pressure d</th>\n",
       "      <th>exercise angina</th>\n",
       "      <th>number of major vessels colored by flourosopy</th>\n",
       "      <th>heart disease</th>\n",
       "    </tr>\n",
       "  </thead>\n",
       "  <tbody>\n",
       "    <tr>\n",
       "      <th>0</th>\n",
       "      <td>63</td>\n",
       "      <td>1</td>\n",
       "      <td>1</td>\n",
       "      <td>145</td>\n",
       "      <td>233</td>\n",
       "      <td>True</td>\n",
       "      <td>50.0</td>\n",
       "      <td>20.0</td>\n",
       "      <td>1.0</td>\n",
       "      <td>1</td>\n",
       "      <td>2</td>\n",
       "      <td>150.0</td>\n",
       "      <td>60</td>\n",
       "      <td>190</td>\n",
       "      <td>90</td>\n",
       "      <td>85.0</td>\n",
       "      <td>0.0</td>\n",
       "      <td>0.0</td>\n",
       "      <td>False</td>\n",
       "    </tr>\n",
       "    <tr>\n",
       "      <th>1</th>\n",
       "      <td>67</td>\n",
       "      <td>1</td>\n",
       "      <td>4</td>\n",
       "      <td>160</td>\n",
       "      <td>286</td>\n",
       "      <td>True</td>\n",
       "      <td>40.0</td>\n",
       "      <td>40.0</td>\n",
       "      <td>0.0</td>\n",
       "      <td>1</td>\n",
       "      <td>2</td>\n",
       "      <td>108.0</td>\n",
       "      <td>64</td>\n",
       "      <td>160</td>\n",
       "      <td>90</td>\n",
       "      <td>90.0</td>\n",
       "      <td>1.0</td>\n",
       "      <td>3.0</td>\n",
       "      <td>True</td>\n",
       "    </tr>\n",
       "    <tr>\n",
       "      <th>2</th>\n",
       "      <td>67</td>\n",
       "      <td>1</td>\n",
       "      <td>4</td>\n",
       "      <td>120</td>\n",
       "      <td>229</td>\n",
       "      <td>True</td>\n",
       "      <td>20.0</td>\n",
       "      <td>35.0</td>\n",
       "      <td>0.0</td>\n",
       "      <td>1</td>\n",
       "      <td>2</td>\n",
       "      <td>129.0</td>\n",
       "      <td>78</td>\n",
       "      <td>140</td>\n",
       "      <td>80</td>\n",
       "      <td>80.0</td>\n",
       "      <td>1.0</td>\n",
       "      <td>2.0</td>\n",
       "      <td>True</td>\n",
       "    </tr>\n",
       "    <tr>\n",
       "      <th>3</th>\n",
       "      <td>37</td>\n",
       "      <td>1</td>\n",
       "      <td>3</td>\n",
       "      <td>130</td>\n",
       "      <td>250</td>\n",
       "      <td>False</td>\n",
       "      <td>0.0</td>\n",
       "      <td>0.0</td>\n",
       "      <td>0.0</td>\n",
       "      <td>1</td>\n",
       "      <td>0</td>\n",
       "      <td>187.0</td>\n",
       "      <td>84</td>\n",
       "      <td>195</td>\n",
       "      <td>68</td>\n",
       "      <td>78.0</td>\n",
       "      <td>0.0</td>\n",
       "      <td>0.0</td>\n",
       "      <td>False</td>\n",
       "    </tr>\n",
       "    <tr>\n",
       "      <th>4</th>\n",
       "      <td>41</td>\n",
       "      <td>0</td>\n",
       "      <td>2</td>\n",
       "      <td>130</td>\n",
       "      <td>204</td>\n",
       "      <td>False</td>\n",
       "      <td>0.0</td>\n",
       "      <td>0.0</td>\n",
       "      <td>0.0</td>\n",
       "      <td>1</td>\n",
       "      <td>2</td>\n",
       "      <td>172.0</td>\n",
       "      <td>71</td>\n",
       "      <td>160</td>\n",
       "      <td>74</td>\n",
       "      <td>86.0</td>\n",
       "      <td>0.0</td>\n",
       "      <td>0.0</td>\n",
       "      <td>False</td>\n",
       "    </tr>\n",
       "    <tr>\n",
       "      <th>...</th>\n",
       "      <td>...</td>\n",
       "      <td>...</td>\n",
       "      <td>...</td>\n",
       "      <td>...</td>\n",
       "      <td>...</td>\n",
       "      <td>...</td>\n",
       "      <td>...</td>\n",
       "      <td>...</td>\n",
       "      <td>...</td>\n",
       "      <td>...</td>\n",
       "      <td>...</td>\n",
       "      <td>...</td>\n",
       "      <td>...</td>\n",
       "      <td>...</td>\n",
       "      <td>...</td>\n",
       "      <td>...</td>\n",
       "      <td>...</td>\n",
       "      <td>...</td>\n",
       "      <td>...</td>\n",
       "    </tr>\n",
       "    <tr>\n",
       "      <th>277</th>\n",
       "      <td>39</td>\n",
       "      <td>0</td>\n",
       "      <td>3</td>\n",
       "      <td>138</td>\n",
       "      <td>220</td>\n",
       "      <td>True</td>\n",
       "      <td>20.0</td>\n",
       "      <td>23.0</td>\n",
       "      <td>0.0</td>\n",
       "      <td>0</td>\n",
       "      <td>0</td>\n",
       "      <td>152.0</td>\n",
       "      <td>98</td>\n",
       "      <td>174</td>\n",
       "      <td>80</td>\n",
       "      <td>90.0</td>\n",
       "      <td>0.0</td>\n",
       "      <td>0.0</td>\n",
       "      <td>False</td>\n",
       "    </tr>\n",
       "    <tr>\n",
       "      <th>278</th>\n",
       "      <td>57</td>\n",
       "      <td>1</td>\n",
       "      <td>2</td>\n",
       "      <td>154</td>\n",
       "      <td>232</td>\n",
       "      <td>True</td>\n",
       "      <td>40.0</td>\n",
       "      <td>35.0</td>\n",
       "      <td>0.0</td>\n",
       "      <td>1</td>\n",
       "      <td>2</td>\n",
       "      <td>164.0</td>\n",
       "      <td>76</td>\n",
       "      <td>200</td>\n",
       "      <td>92</td>\n",
       "      <td>98.0</td>\n",
       "      <td>0.0</td>\n",
       "      <td>1.0</td>\n",
       "      <td>True</td>\n",
       "    </tr>\n",
       "    <tr>\n",
       "      <th>279</th>\n",
       "      <td>58</td>\n",
       "      <td>0</td>\n",
       "      <td>4</td>\n",
       "      <td>130</td>\n",
       "      <td>197</td>\n",
       "      <td>False</td>\n",
       "      <td>0.0</td>\n",
       "      <td>0.0</td>\n",
       "      <td>0.0</td>\n",
       "      <td>1</td>\n",
       "      <td>0</td>\n",
       "      <td>131.0</td>\n",
       "      <td>54</td>\n",
       "      <td>160</td>\n",
       "      <td>70</td>\n",
       "      <td>85.0</td>\n",
       "      <td>0.0</td>\n",
       "      <td>0.0</td>\n",
       "      <td>False</td>\n",
       "    </tr>\n",
       "    <tr>\n",
       "      <th>280</th>\n",
       "      <td>57</td>\n",
       "      <td>1</td>\n",
       "      <td>4</td>\n",
       "      <td>110</td>\n",
       "      <td>335</td>\n",
       "      <td>True</td>\n",
       "      <td>20.0</td>\n",
       "      <td>15.0</td>\n",
       "      <td>0.0</td>\n",
       "      <td>1</td>\n",
       "      <td>0</td>\n",
       "      <td>143.0</td>\n",
       "      <td>62</td>\n",
       "      <td>130</td>\n",
       "      <td>78</td>\n",
       "      <td>80.0</td>\n",
       "      <td>1.0</td>\n",
       "      <td>1.0</td>\n",
       "      <td>True</td>\n",
       "    </tr>\n",
       "    <tr>\n",
       "      <th>281</th>\n",
       "      <td>47</td>\n",
       "      <td>1</td>\n",
       "      <td>3</td>\n",
       "      <td>130</td>\n",
       "      <td>253</td>\n",
       "      <td>False</td>\n",
       "      <td>0.0</td>\n",
       "      <td>0.0</td>\n",
       "      <td>0.0</td>\n",
       "      <td>1</td>\n",
       "      <td>0</td>\n",
       "      <td>179.0</td>\n",
       "      <td>65</td>\n",
       "      <td>170</td>\n",
       "      <td>82</td>\n",
       "      <td>80.0</td>\n",
       "      <td>0.0</td>\n",
       "      <td>0.0</td>\n",
       "      <td>False</td>\n",
       "    </tr>\n",
       "  </tbody>\n",
       "</table>\n",
       "<p>282 rows × 19 columns</p>\n",
       "</div>"
      ],
      "text/plain": [
       "     age  gender  chest pain  rest blood pressure s  cholesterol  smoke  \\\n",
       "0     63       1           1                    145          233   True   \n",
       "1     67       1           4                    160          286   True   \n",
       "2     67       1           4                    120          229   True   \n",
       "3     37       1           3                    130          250  False   \n",
       "4     41       0           2                    130          204  False   \n",
       "..   ...     ...         ...                    ...          ...    ...   \n",
       "277   39       0           3                    138          220   True   \n",
       "278   57       1           2                    154          232   True   \n",
       "279   58       0           4                    130          197  False   \n",
       "280   57       1           4                    110          335   True   \n",
       "281   47       1           3                    130          253  False   \n",
       "\n",
       "     cigs a day  years smoking  fasting blood sugar  family history  \\\n",
       "0          50.0           20.0                  1.0               1   \n",
       "1          40.0           40.0                  0.0               1   \n",
       "2          20.0           35.0                  0.0               1   \n",
       "3           0.0            0.0                  0.0               1   \n",
       "4           0.0            0.0                  0.0               1   \n",
       "..          ...            ...                  ...             ...   \n",
       "277        20.0           23.0                  0.0               0   \n",
       "278        40.0           35.0                  0.0               1   \n",
       "279         0.0            0.0                  0.0               1   \n",
       "280        20.0           15.0                  0.0               1   \n",
       "281         0.0            0.0                  0.0               1   \n",
       "\n",
       "     resting ECG results  max heart rate  rest heart rate  \\\n",
       "0                      2           150.0               60   \n",
       "1                      2           108.0               64   \n",
       "2                      2           129.0               78   \n",
       "3                      0           187.0               84   \n",
       "4                      2           172.0               71   \n",
       "..                   ...             ...              ...   \n",
       "277                    0           152.0               98   \n",
       "278                    2           164.0               76   \n",
       "279                    0           131.0               54   \n",
       "280                    0           143.0               62   \n",
       "281                    0           179.0               65   \n",
       "\n",
       "     peak exercise blood pressure s  peak exercise blood pressure d  \\\n",
       "0                               190                              90   \n",
       "1                               160                              90   \n",
       "2                               140                              80   \n",
       "3                               195                              68   \n",
       "4                               160                              74   \n",
       "..                              ...                             ...   \n",
       "277                             174                              80   \n",
       "278                             200                              92   \n",
       "279                             160                              70   \n",
       "280                             130                              78   \n",
       "281                             170                              82   \n",
       "\n",
       "     rest blood pressure d  exercise angina  \\\n",
       "0                     85.0              0.0   \n",
       "1                     90.0              1.0   \n",
       "2                     80.0              1.0   \n",
       "3                     78.0              0.0   \n",
       "4                     86.0              0.0   \n",
       "..                     ...              ...   \n",
       "277                   90.0              0.0   \n",
       "278                   98.0              0.0   \n",
       "279                   85.0              0.0   \n",
       "280                   80.0              1.0   \n",
       "281                   80.0              0.0   \n",
       "\n",
       "     number of major vessels colored by flourosopy  heart disease  \n",
       "0                                              0.0          False  \n",
       "1                                              3.0           True  \n",
       "2                                              2.0           True  \n",
       "3                                              0.0          False  \n",
       "4                                              0.0          False  \n",
       "..                                             ...            ...  \n",
       "277                                            0.0          False  \n",
       "278                                            1.0           True  \n",
       "279                                            0.0          False  \n",
       "280                                            1.0           True  \n",
       "281                                            0.0          False  \n",
       "\n",
       "[282 rows x 19 columns]"
      ]
     },
     "execution_count": 60,
     "metadata": {},
     "output_type": "execute_result"
    }
   ],
   "source": [
    "df_pr_cleve_red2 = df_pr_cleve[[3,4,9,10,12,13,14,15,16,18,19,32,33,34,35,37,38,44,58]]\n",
    "\n",
    "df_pr_cleve_red2[13]=(df_pr_cleve_red2[14]>=1.0)\n",
    "df_pr_cleve_red2[58]=(df_pr_cleve_red2[58]>=1.0)\n",
    "df_pr_cleve_red2[12]=df_pr_cleve_red2[12].astype(int)\n",
    "df_pr_cleve_red2[44]=df_pr_cleve_red2[44].astype(float)\n",
    "#df_pr_cleve_red2.replace([True,False], ['Ja','Nein'], inplace=True)\n",
    "df_pr_cleve_red2.dtypes\n",
    "\n",
    "df_pr_cleve_red2.columns = ['age','gender','chest pain','rest blood pressure s','cholesterol','smoke','cigs a day','years smoking','fasting blood sugar','family history','resting ECG results','max heart rate','rest heart rate','peak exercise blood pressure s','peak exercise blood pressure d','rest blood pressure d','exercise angina','number of major vessels colored by flourosopy','heart disease']\n",
    "\n",
    "df_pr_cleve_red2"
   ]
  },
  {
   "cell_type": "code",
   "execution_count": 61,
   "metadata": {},
   "outputs": [
    {
     "data": {
      "text/html": [
       "<div>\n",
       "<style scoped>\n",
       "    .dataframe tbody tr th:only-of-type {\n",
       "        vertical-align: middle;\n",
       "    }\n",
       "\n",
       "    .dataframe tbody tr th {\n",
       "        vertical-align: top;\n",
       "    }\n",
       "\n",
       "    .dataframe thead th {\n",
       "        text-align: right;\n",
       "    }\n",
       "</style>\n",
       "<table border=\"1\" class=\"dataframe\">\n",
       "  <thead>\n",
       "    <tr style=\"text-align: right;\">\n",
       "      <th></th>\n",
       "      <th>age</th>\n",
       "      <th>gender</th>\n",
       "      <th>chest pain</th>\n",
       "      <th>rest blood pressure s</th>\n",
       "      <th>cholesterol</th>\n",
       "      <th>smoke</th>\n",
       "      <th>cigs a day</th>\n",
       "      <th>years smoking</th>\n",
       "      <th>fasting blood sugar</th>\n",
       "      <th>family history</th>\n",
       "      <th>resting ECG results</th>\n",
       "      <th>max heart rate</th>\n",
       "      <th>rest heart rate</th>\n",
       "      <th>peak exercise blood pressure s</th>\n",
       "      <th>peak exercise blood pressure d</th>\n",
       "      <th>rest blood pressure d</th>\n",
       "      <th>exercise angina</th>\n",
       "      <th>number of major vessels colored by flourosopy</th>\n",
       "      <th>heart disease</th>\n",
       "    </tr>\n",
       "  </thead>\n",
       "  <tbody>\n",
       "    <tr>\n",
       "      <th>0</th>\n",
       "      <td>63</td>\n",
       "      <td>1</td>\n",
       "      <td>1</td>\n",
       "      <td>145</td>\n",
       "      <td>233</td>\n",
       "      <td>True</td>\n",
       "      <td>50.0</td>\n",
       "      <td>20.0</td>\n",
       "      <td>1.0</td>\n",
       "      <td>1</td>\n",
       "      <td>2</td>\n",
       "      <td>150.0</td>\n",
       "      <td>60</td>\n",
       "      <td>190</td>\n",
       "      <td>90</td>\n",
       "      <td>85.0</td>\n",
       "      <td>0.0</td>\n",
       "      <td>0.0</td>\n",
       "      <td>False</td>\n",
       "    </tr>\n",
       "    <tr>\n",
       "      <th>1</th>\n",
       "      <td>67</td>\n",
       "      <td>1</td>\n",
       "      <td>4</td>\n",
       "      <td>160</td>\n",
       "      <td>286</td>\n",
       "      <td>True</td>\n",
       "      <td>40.0</td>\n",
       "      <td>40.0</td>\n",
       "      <td>0.0</td>\n",
       "      <td>1</td>\n",
       "      <td>2</td>\n",
       "      <td>108.0</td>\n",
       "      <td>64</td>\n",
       "      <td>160</td>\n",
       "      <td>90</td>\n",
       "      <td>90.0</td>\n",
       "      <td>1.0</td>\n",
       "      <td>3.0</td>\n",
       "      <td>True</td>\n",
       "    </tr>\n",
       "    <tr>\n",
       "      <th>2</th>\n",
       "      <td>67</td>\n",
       "      <td>1</td>\n",
       "      <td>4</td>\n",
       "      <td>120</td>\n",
       "      <td>229</td>\n",
       "      <td>True</td>\n",
       "      <td>20.0</td>\n",
       "      <td>35.0</td>\n",
       "      <td>0.0</td>\n",
       "      <td>1</td>\n",
       "      <td>2</td>\n",
       "      <td>129.0</td>\n",
       "      <td>78</td>\n",
       "      <td>140</td>\n",
       "      <td>80</td>\n",
       "      <td>80.0</td>\n",
       "      <td>1.0</td>\n",
       "      <td>2.0</td>\n",
       "      <td>True</td>\n",
       "    </tr>\n",
       "    <tr>\n",
       "      <th>3</th>\n",
       "      <td>37</td>\n",
       "      <td>1</td>\n",
       "      <td>3</td>\n",
       "      <td>130</td>\n",
       "      <td>250</td>\n",
       "      <td>False</td>\n",
       "      <td>0.0</td>\n",
       "      <td>0.0</td>\n",
       "      <td>0.0</td>\n",
       "      <td>1</td>\n",
       "      <td>0</td>\n",
       "      <td>187.0</td>\n",
       "      <td>84</td>\n",
       "      <td>195</td>\n",
       "      <td>68</td>\n",
       "      <td>78.0</td>\n",
       "      <td>0.0</td>\n",
       "      <td>0.0</td>\n",
       "      <td>False</td>\n",
       "    </tr>\n",
       "    <tr>\n",
       "      <th>4</th>\n",
       "      <td>41</td>\n",
       "      <td>0</td>\n",
       "      <td>2</td>\n",
       "      <td>130</td>\n",
       "      <td>204</td>\n",
       "      <td>False</td>\n",
       "      <td>0.0</td>\n",
       "      <td>0.0</td>\n",
       "      <td>0.0</td>\n",
       "      <td>1</td>\n",
       "      <td>2</td>\n",
       "      <td>172.0</td>\n",
       "      <td>71</td>\n",
       "      <td>160</td>\n",
       "      <td>74</td>\n",
       "      <td>86.0</td>\n",
       "      <td>0.0</td>\n",
       "      <td>0.0</td>\n",
       "      <td>False</td>\n",
       "    </tr>\n",
       "    <tr>\n",
       "      <th>...</th>\n",
       "      <td>...</td>\n",
       "      <td>...</td>\n",
       "      <td>...</td>\n",
       "      <td>...</td>\n",
       "      <td>...</td>\n",
       "      <td>...</td>\n",
       "      <td>...</td>\n",
       "      <td>...</td>\n",
       "      <td>...</td>\n",
       "      <td>...</td>\n",
       "      <td>...</td>\n",
       "      <td>...</td>\n",
       "      <td>...</td>\n",
       "      <td>...</td>\n",
       "      <td>...</td>\n",
       "      <td>...</td>\n",
       "      <td>...</td>\n",
       "      <td>...</td>\n",
       "      <td>...</td>\n",
       "    </tr>\n",
       "    <tr>\n",
       "      <th>277</th>\n",
       "      <td>39</td>\n",
       "      <td>0</td>\n",
       "      <td>3</td>\n",
       "      <td>138</td>\n",
       "      <td>220</td>\n",
       "      <td>True</td>\n",
       "      <td>20.0</td>\n",
       "      <td>23.0</td>\n",
       "      <td>0.0</td>\n",
       "      <td>0</td>\n",
       "      <td>0</td>\n",
       "      <td>152.0</td>\n",
       "      <td>98</td>\n",
       "      <td>174</td>\n",
       "      <td>80</td>\n",
       "      <td>90.0</td>\n",
       "      <td>0.0</td>\n",
       "      <td>0.0</td>\n",
       "      <td>False</td>\n",
       "    </tr>\n",
       "    <tr>\n",
       "      <th>278</th>\n",
       "      <td>57</td>\n",
       "      <td>1</td>\n",
       "      <td>2</td>\n",
       "      <td>154</td>\n",
       "      <td>232</td>\n",
       "      <td>True</td>\n",
       "      <td>40.0</td>\n",
       "      <td>35.0</td>\n",
       "      <td>0.0</td>\n",
       "      <td>1</td>\n",
       "      <td>2</td>\n",
       "      <td>164.0</td>\n",
       "      <td>76</td>\n",
       "      <td>200</td>\n",
       "      <td>92</td>\n",
       "      <td>98.0</td>\n",
       "      <td>0.0</td>\n",
       "      <td>1.0</td>\n",
       "      <td>True</td>\n",
       "    </tr>\n",
       "    <tr>\n",
       "      <th>279</th>\n",
       "      <td>58</td>\n",
       "      <td>0</td>\n",
       "      <td>4</td>\n",
       "      <td>130</td>\n",
       "      <td>197</td>\n",
       "      <td>False</td>\n",
       "      <td>0.0</td>\n",
       "      <td>0.0</td>\n",
       "      <td>0.0</td>\n",
       "      <td>1</td>\n",
       "      <td>0</td>\n",
       "      <td>131.0</td>\n",
       "      <td>54</td>\n",
       "      <td>160</td>\n",
       "      <td>70</td>\n",
       "      <td>85.0</td>\n",
       "      <td>0.0</td>\n",
       "      <td>0.0</td>\n",
       "      <td>False</td>\n",
       "    </tr>\n",
       "    <tr>\n",
       "      <th>280</th>\n",
       "      <td>57</td>\n",
       "      <td>1</td>\n",
       "      <td>4</td>\n",
       "      <td>110</td>\n",
       "      <td>335</td>\n",
       "      <td>True</td>\n",
       "      <td>20.0</td>\n",
       "      <td>15.0</td>\n",
       "      <td>0.0</td>\n",
       "      <td>1</td>\n",
       "      <td>0</td>\n",
       "      <td>143.0</td>\n",
       "      <td>62</td>\n",
       "      <td>130</td>\n",
       "      <td>78</td>\n",
       "      <td>80.0</td>\n",
       "      <td>1.0</td>\n",
       "      <td>1.0</td>\n",
       "      <td>True</td>\n",
       "    </tr>\n",
       "    <tr>\n",
       "      <th>281</th>\n",
       "      <td>47</td>\n",
       "      <td>1</td>\n",
       "      <td>3</td>\n",
       "      <td>130</td>\n",
       "      <td>253</td>\n",
       "      <td>False</td>\n",
       "      <td>0.0</td>\n",
       "      <td>0.0</td>\n",
       "      <td>0.0</td>\n",
       "      <td>1</td>\n",
       "      <td>0</td>\n",
       "      <td>179.0</td>\n",
       "      <td>65</td>\n",
       "      <td>170</td>\n",
       "      <td>82</td>\n",
       "      <td>80.0</td>\n",
       "      <td>0.0</td>\n",
       "      <td>0.0</td>\n",
       "      <td>False</td>\n",
       "    </tr>\n",
       "  </tbody>\n",
       "</table>\n",
       "<p>282 rows × 19 columns</p>\n",
       "</div>"
      ],
      "text/plain": [
       "     age  gender  chest pain  rest blood pressure s  cholesterol  smoke  \\\n",
       "0     63       1           1                    145          233   True   \n",
       "1     67       1           4                    160          286   True   \n",
       "2     67       1           4                    120          229   True   \n",
       "3     37       1           3                    130          250  False   \n",
       "4     41       0           2                    130          204  False   \n",
       "..   ...     ...         ...                    ...          ...    ...   \n",
       "277   39       0           3                    138          220   True   \n",
       "278   57       1           2                    154          232   True   \n",
       "279   58       0           4                    130          197  False   \n",
       "280   57       1           4                    110          335   True   \n",
       "281   47       1           3                    130          253  False   \n",
       "\n",
       "     cigs a day  years smoking  fasting blood sugar  family history  \\\n",
       "0          50.0           20.0                  1.0               1   \n",
       "1          40.0           40.0                  0.0               1   \n",
       "2          20.0           35.0                  0.0               1   \n",
       "3           0.0            0.0                  0.0               1   \n",
       "4           0.0            0.0                  0.0               1   \n",
       "..          ...            ...                  ...             ...   \n",
       "277        20.0           23.0                  0.0               0   \n",
       "278        40.0           35.0                  0.0               1   \n",
       "279         0.0            0.0                  0.0               1   \n",
       "280        20.0           15.0                  0.0               1   \n",
       "281         0.0            0.0                  0.0               1   \n",
       "\n",
       "     resting ECG results  max heart rate  rest heart rate  \\\n",
       "0                      2           150.0               60   \n",
       "1                      2           108.0               64   \n",
       "2                      2           129.0               78   \n",
       "3                      0           187.0               84   \n",
       "4                      2           172.0               71   \n",
       "..                   ...             ...              ...   \n",
       "277                    0           152.0               98   \n",
       "278                    2           164.0               76   \n",
       "279                    0           131.0               54   \n",
       "280                    0           143.0               62   \n",
       "281                    0           179.0               65   \n",
       "\n",
       "     peak exercise blood pressure s  peak exercise blood pressure d  \\\n",
       "0                               190                              90   \n",
       "1                               160                              90   \n",
       "2                               140                              80   \n",
       "3                               195                              68   \n",
       "4                               160                              74   \n",
       "..                              ...                             ...   \n",
       "277                             174                              80   \n",
       "278                             200                              92   \n",
       "279                             160                              70   \n",
       "280                             130                              78   \n",
       "281                             170                              82   \n",
       "\n",
       "     rest blood pressure d  exercise angina  \\\n",
       "0                     85.0              0.0   \n",
       "1                     90.0              1.0   \n",
       "2                     80.0              1.0   \n",
       "3                     78.0              0.0   \n",
       "4                     86.0              0.0   \n",
       "..                     ...              ...   \n",
       "277                   90.0              0.0   \n",
       "278                   98.0              0.0   \n",
       "279                   85.0              0.0   \n",
       "280                   80.0              1.0   \n",
       "281                   80.0              0.0   \n",
       "\n",
       "     number of major vessels colored by flourosopy  heart disease  \n",
       "0                                              0.0          False  \n",
       "1                                              3.0           True  \n",
       "2                                              2.0           True  \n",
       "3                                              0.0          False  \n",
       "4                                              0.0          False  \n",
       "..                                             ...            ...  \n",
       "277                                            0.0          False  \n",
       "278                                            1.0           True  \n",
       "279                                            0.0          False  \n",
       "280                                            1.0           True  \n",
       "281                                            0.0          False  \n",
       "\n",
       "[282 rows x 19 columns]"
      ]
     },
     "execution_count": 61,
     "metadata": {},
     "output_type": "execute_result"
    }
   ],
   "source": [
    "df_pr_cleve_red2#[['rest blood pressure s', 'smoke', 'family history']]"
   ]
  },
  {
   "cell_type": "code",
   "execution_count": 62,
   "metadata": {
    "scrolled": false
   },
   "outputs": [
    {
     "data": {
      "text/html": [
       "<div>\n",
       "<style scoped>\n",
       "    .dataframe tbody tr th:only-of-type {\n",
       "        vertical-align: middle;\n",
       "    }\n",
       "\n",
       "    .dataframe tbody tr th {\n",
       "        vertical-align: top;\n",
       "    }\n",
       "\n",
       "    .dataframe thead th {\n",
       "        text-align: right;\n",
       "    }\n",
       "</style>\n",
       "<table border=\"1\" class=\"dataframe\">\n",
       "  <thead>\n",
       "    <tr style=\"text-align: right;\">\n",
       "      <th></th>\n",
       "      <th>heart disease</th>\n",
       "      <th>rest blood pressure s</th>\n",
       "      <th>chest pain</th>\n",
       "      <th>family history</th>\n",
       "    </tr>\n",
       "  </thead>\n",
       "  <tbody>\n",
       "    <tr>\n",
       "      <th>0</th>\n",
       "      <td>False</td>\n",
       "      <td>145</td>\n",
       "      <td>1</td>\n",
       "      <td>1</td>\n",
       "    </tr>\n",
       "    <tr>\n",
       "      <th>1</th>\n",
       "      <td>True</td>\n",
       "      <td>160</td>\n",
       "      <td>4</td>\n",
       "      <td>1</td>\n",
       "    </tr>\n",
       "    <tr>\n",
       "      <th>2</th>\n",
       "      <td>True</td>\n",
       "      <td>120</td>\n",
       "      <td>4</td>\n",
       "      <td>1</td>\n",
       "    </tr>\n",
       "    <tr>\n",
       "      <th>3</th>\n",
       "      <td>False</td>\n",
       "      <td>130</td>\n",
       "      <td>3</td>\n",
       "      <td>1</td>\n",
       "    </tr>\n",
       "    <tr>\n",
       "      <th>4</th>\n",
       "      <td>False</td>\n",
       "      <td>130</td>\n",
       "      <td>2</td>\n",
       "      <td>1</td>\n",
       "    </tr>\n",
       "    <tr>\n",
       "      <th>...</th>\n",
       "      <td>...</td>\n",
       "      <td>...</td>\n",
       "      <td>...</td>\n",
       "      <td>...</td>\n",
       "    </tr>\n",
       "    <tr>\n",
       "      <th>277</th>\n",
       "      <td>False</td>\n",
       "      <td>138</td>\n",
       "      <td>3</td>\n",
       "      <td>0</td>\n",
       "    </tr>\n",
       "    <tr>\n",
       "      <th>278</th>\n",
       "      <td>True</td>\n",
       "      <td>154</td>\n",
       "      <td>2</td>\n",
       "      <td>1</td>\n",
       "    </tr>\n",
       "    <tr>\n",
       "      <th>279</th>\n",
       "      <td>False</td>\n",
       "      <td>130</td>\n",
       "      <td>4</td>\n",
       "      <td>1</td>\n",
       "    </tr>\n",
       "    <tr>\n",
       "      <th>280</th>\n",
       "      <td>True</td>\n",
       "      <td>110</td>\n",
       "      <td>4</td>\n",
       "      <td>1</td>\n",
       "    </tr>\n",
       "    <tr>\n",
       "      <th>281</th>\n",
       "      <td>False</td>\n",
       "      <td>130</td>\n",
       "      <td>3</td>\n",
       "      <td>1</td>\n",
       "    </tr>\n",
       "  </tbody>\n",
       "</table>\n",
       "<p>282 rows × 4 columns</p>\n",
       "</div>"
      ],
      "text/plain": [
       "     heart disease  rest blood pressure s  chest pain  family history\n",
       "0            False                    145           1               1\n",
       "1             True                    160           4               1\n",
       "2             True                    120           4               1\n",
       "3            False                    130           3               1\n",
       "4            False                    130           2               1\n",
       "..             ...                    ...         ...             ...\n",
       "277          False                    138           3               0\n",
       "278           True                    154           2               1\n",
       "279          False                    130           4               1\n",
       "280           True                    110           4               1\n",
       "281          False                    130           3               1\n",
       "\n",
       "[282 rows x 4 columns]"
      ]
     },
     "execution_count": 62,
     "metadata": {},
     "output_type": "execute_result"
    }
   ],
   "source": [
    "df_pr_cleve_red2[['heart disease','rest blood pressure s', 'chest pain', 'family history']]\n"
   ]
  },
  {
   "cell_type": "code",
   "execution_count": null,
   "metadata": {},
   "outputs": [],
   "source": []
  },
  {
   "cell_type": "code",
   "execution_count": 63,
   "metadata": {},
   "outputs": [
    {
     "data": {
      "text/html": [
       "<div>\n",
       "<style scoped>\n",
       "    .dataframe tbody tr th:only-of-type {\n",
       "        vertical-align: middle;\n",
       "    }\n",
       "\n",
       "    .dataframe tbody tr th {\n",
       "        vertical-align: top;\n",
       "    }\n",
       "\n",
       "    .dataframe thead th {\n",
       "        text-align: right;\n",
       "    }\n",
       "</style>\n",
       "<table border=\"1\" class=\"dataframe\">\n",
       "  <thead>\n",
       "    <tr style=\"text-align: right;\">\n",
       "      <th></th>\n",
       "      <th>age</th>\n",
       "      <th>gender</th>\n",
       "      <th>chest pain</th>\n",
       "      <th>rest blood pressure s</th>\n",
       "      <th>cholesterol</th>\n",
       "      <th>smoke</th>\n",
       "      <th>cigs a day</th>\n",
       "      <th>years smoking</th>\n",
       "      <th>fasting blood sugar</th>\n",
       "      <th>family history</th>\n",
       "      <th>resting ECG results</th>\n",
       "      <th>max heart rate</th>\n",
       "      <th>rest heart rate</th>\n",
       "      <th>peak exercise blood pressure s</th>\n",
       "      <th>peak exercise blood pressure d</th>\n",
       "      <th>rest blood pressure d</th>\n",
       "      <th>exercise angina</th>\n",
       "      <th>number of major vessels colored by flourosopy</th>\n",
       "      <th>heart disease</th>\n",
       "    </tr>\n",
       "  </thead>\n",
       "  <tbody>\n",
       "    <tr>\n",
       "      <th>0</th>\n",
       "      <td>63</td>\n",
       "      <td>1</td>\n",
       "      <td>1</td>\n",
       "      <td>145</td>\n",
       "      <td>233</td>\n",
       "      <td>True</td>\n",
       "      <td>50.0</td>\n",
       "      <td>20.0</td>\n",
       "      <td>1.0</td>\n",
       "      <td>1</td>\n",
       "      <td>2</td>\n",
       "      <td>150.0</td>\n",
       "      <td>60</td>\n",
       "      <td>190</td>\n",
       "      <td>90</td>\n",
       "      <td>85.0</td>\n",
       "      <td>0.0</td>\n",
       "      <td>0.0</td>\n",
       "      <td>False</td>\n",
       "    </tr>\n",
       "    <tr>\n",
       "      <th>1</th>\n",
       "      <td>67</td>\n",
       "      <td>1</td>\n",
       "      <td>4</td>\n",
       "      <td>160</td>\n",
       "      <td>286</td>\n",
       "      <td>True</td>\n",
       "      <td>40.0</td>\n",
       "      <td>40.0</td>\n",
       "      <td>0.0</td>\n",
       "      <td>1</td>\n",
       "      <td>2</td>\n",
       "      <td>108.0</td>\n",
       "      <td>64</td>\n",
       "      <td>160</td>\n",
       "      <td>90</td>\n",
       "      <td>90.0</td>\n",
       "      <td>1.0</td>\n",
       "      <td>3.0</td>\n",
       "      <td>True</td>\n",
       "    </tr>\n",
       "    <tr>\n",
       "      <th>2</th>\n",
       "      <td>67</td>\n",
       "      <td>1</td>\n",
       "      <td>4</td>\n",
       "      <td>120</td>\n",
       "      <td>229</td>\n",
       "      <td>True</td>\n",
       "      <td>20.0</td>\n",
       "      <td>35.0</td>\n",
       "      <td>0.0</td>\n",
       "      <td>1</td>\n",
       "      <td>2</td>\n",
       "      <td>129.0</td>\n",
       "      <td>78</td>\n",
       "      <td>140</td>\n",
       "      <td>80</td>\n",
       "      <td>80.0</td>\n",
       "      <td>1.0</td>\n",
       "      <td>2.0</td>\n",
       "      <td>True</td>\n",
       "    </tr>\n",
       "    <tr>\n",
       "      <th>3</th>\n",
       "      <td>37</td>\n",
       "      <td>1</td>\n",
       "      <td>3</td>\n",
       "      <td>130</td>\n",
       "      <td>250</td>\n",
       "      <td>False</td>\n",
       "      <td>0.0</td>\n",
       "      <td>0.0</td>\n",
       "      <td>0.0</td>\n",
       "      <td>1</td>\n",
       "      <td>0</td>\n",
       "      <td>187.0</td>\n",
       "      <td>84</td>\n",
       "      <td>195</td>\n",
       "      <td>68</td>\n",
       "      <td>78.0</td>\n",
       "      <td>0.0</td>\n",
       "      <td>0.0</td>\n",
       "      <td>False</td>\n",
       "    </tr>\n",
       "    <tr>\n",
       "      <th>4</th>\n",
       "      <td>41</td>\n",
       "      <td>0</td>\n",
       "      <td>2</td>\n",
       "      <td>130</td>\n",
       "      <td>204</td>\n",
       "      <td>False</td>\n",
       "      <td>0.0</td>\n",
       "      <td>0.0</td>\n",
       "      <td>0.0</td>\n",
       "      <td>1</td>\n",
       "      <td>2</td>\n",
       "      <td>172.0</td>\n",
       "      <td>71</td>\n",
       "      <td>160</td>\n",
       "      <td>74</td>\n",
       "      <td>86.0</td>\n",
       "      <td>0.0</td>\n",
       "      <td>0.0</td>\n",
       "      <td>False</td>\n",
       "    </tr>\n",
       "    <tr>\n",
       "      <th>...</th>\n",
       "      <td>...</td>\n",
       "      <td>...</td>\n",
       "      <td>...</td>\n",
       "      <td>...</td>\n",
       "      <td>...</td>\n",
       "      <td>...</td>\n",
       "      <td>...</td>\n",
       "      <td>...</td>\n",
       "      <td>...</td>\n",
       "      <td>...</td>\n",
       "      <td>...</td>\n",
       "      <td>...</td>\n",
       "      <td>...</td>\n",
       "      <td>...</td>\n",
       "      <td>...</td>\n",
       "      <td>...</td>\n",
       "      <td>...</td>\n",
       "      <td>...</td>\n",
       "      <td>...</td>\n",
       "    </tr>\n",
       "    <tr>\n",
       "      <th>277</th>\n",
       "      <td>39</td>\n",
       "      <td>0</td>\n",
       "      <td>3</td>\n",
       "      <td>138</td>\n",
       "      <td>220</td>\n",
       "      <td>True</td>\n",
       "      <td>20.0</td>\n",
       "      <td>23.0</td>\n",
       "      <td>0.0</td>\n",
       "      <td>0</td>\n",
       "      <td>0</td>\n",
       "      <td>152.0</td>\n",
       "      <td>98</td>\n",
       "      <td>174</td>\n",
       "      <td>80</td>\n",
       "      <td>90.0</td>\n",
       "      <td>0.0</td>\n",
       "      <td>0.0</td>\n",
       "      <td>False</td>\n",
       "    </tr>\n",
       "    <tr>\n",
       "      <th>278</th>\n",
       "      <td>57</td>\n",
       "      <td>1</td>\n",
       "      <td>2</td>\n",
       "      <td>154</td>\n",
       "      <td>232</td>\n",
       "      <td>True</td>\n",
       "      <td>40.0</td>\n",
       "      <td>35.0</td>\n",
       "      <td>0.0</td>\n",
       "      <td>1</td>\n",
       "      <td>2</td>\n",
       "      <td>164.0</td>\n",
       "      <td>76</td>\n",
       "      <td>200</td>\n",
       "      <td>92</td>\n",
       "      <td>98.0</td>\n",
       "      <td>0.0</td>\n",
       "      <td>1.0</td>\n",
       "      <td>True</td>\n",
       "    </tr>\n",
       "    <tr>\n",
       "      <th>279</th>\n",
       "      <td>58</td>\n",
       "      <td>0</td>\n",
       "      <td>4</td>\n",
       "      <td>130</td>\n",
       "      <td>197</td>\n",
       "      <td>False</td>\n",
       "      <td>0.0</td>\n",
       "      <td>0.0</td>\n",
       "      <td>0.0</td>\n",
       "      <td>1</td>\n",
       "      <td>0</td>\n",
       "      <td>131.0</td>\n",
       "      <td>54</td>\n",
       "      <td>160</td>\n",
       "      <td>70</td>\n",
       "      <td>85.0</td>\n",
       "      <td>0.0</td>\n",
       "      <td>0.0</td>\n",
       "      <td>False</td>\n",
       "    </tr>\n",
       "    <tr>\n",
       "      <th>280</th>\n",
       "      <td>57</td>\n",
       "      <td>1</td>\n",
       "      <td>4</td>\n",
       "      <td>110</td>\n",
       "      <td>335</td>\n",
       "      <td>True</td>\n",
       "      <td>20.0</td>\n",
       "      <td>15.0</td>\n",
       "      <td>0.0</td>\n",
       "      <td>1</td>\n",
       "      <td>0</td>\n",
       "      <td>143.0</td>\n",
       "      <td>62</td>\n",
       "      <td>130</td>\n",
       "      <td>78</td>\n",
       "      <td>80.0</td>\n",
       "      <td>1.0</td>\n",
       "      <td>1.0</td>\n",
       "      <td>True</td>\n",
       "    </tr>\n",
       "    <tr>\n",
       "      <th>281</th>\n",
       "      <td>47</td>\n",
       "      <td>1</td>\n",
       "      <td>3</td>\n",
       "      <td>130</td>\n",
       "      <td>253</td>\n",
       "      <td>False</td>\n",
       "      <td>0.0</td>\n",
       "      <td>0.0</td>\n",
       "      <td>0.0</td>\n",
       "      <td>1</td>\n",
       "      <td>0</td>\n",
       "      <td>179.0</td>\n",
       "      <td>65</td>\n",
       "      <td>170</td>\n",
       "      <td>82</td>\n",
       "      <td>80.0</td>\n",
       "      <td>0.0</td>\n",
       "      <td>0.0</td>\n",
       "      <td>False</td>\n",
       "    </tr>\n",
       "  </tbody>\n",
       "</table>\n",
       "<p>282 rows × 19 columns</p>\n",
       "</div>"
      ],
      "text/plain": [
       "     age  gender  chest pain  rest blood pressure s  cholesterol  smoke  \\\n",
       "0     63       1           1                    145          233   True   \n",
       "1     67       1           4                    160          286   True   \n",
       "2     67       1           4                    120          229   True   \n",
       "3     37       1           3                    130          250  False   \n",
       "4     41       0           2                    130          204  False   \n",
       "..   ...     ...         ...                    ...          ...    ...   \n",
       "277   39       0           3                    138          220   True   \n",
       "278   57       1           2                    154          232   True   \n",
       "279   58       0           4                    130          197  False   \n",
       "280   57       1           4                    110          335   True   \n",
       "281   47       1           3                    130          253  False   \n",
       "\n",
       "     cigs a day  years smoking  fasting blood sugar  family history  \\\n",
       "0          50.0           20.0                  1.0               1   \n",
       "1          40.0           40.0                  0.0               1   \n",
       "2          20.0           35.0                  0.0               1   \n",
       "3           0.0            0.0                  0.0               1   \n",
       "4           0.0            0.0                  0.0               1   \n",
       "..          ...            ...                  ...             ...   \n",
       "277        20.0           23.0                  0.0               0   \n",
       "278        40.0           35.0                  0.0               1   \n",
       "279         0.0            0.0                  0.0               1   \n",
       "280        20.0           15.0                  0.0               1   \n",
       "281         0.0            0.0                  0.0               1   \n",
       "\n",
       "     resting ECG results  max heart rate  rest heart rate  \\\n",
       "0                      2           150.0               60   \n",
       "1                      2           108.0               64   \n",
       "2                      2           129.0               78   \n",
       "3                      0           187.0               84   \n",
       "4                      2           172.0               71   \n",
       "..                   ...             ...              ...   \n",
       "277                    0           152.0               98   \n",
       "278                    2           164.0               76   \n",
       "279                    0           131.0               54   \n",
       "280                    0           143.0               62   \n",
       "281                    0           179.0               65   \n",
       "\n",
       "     peak exercise blood pressure s  peak exercise blood pressure d  \\\n",
       "0                               190                              90   \n",
       "1                               160                              90   \n",
       "2                               140                              80   \n",
       "3                               195                              68   \n",
       "4                               160                              74   \n",
       "..                              ...                             ...   \n",
       "277                             174                              80   \n",
       "278                             200                              92   \n",
       "279                             160                              70   \n",
       "280                             130                              78   \n",
       "281                             170                              82   \n",
       "\n",
       "     rest blood pressure d  exercise angina  \\\n",
       "0                     85.0              0.0   \n",
       "1                     90.0              1.0   \n",
       "2                     80.0              1.0   \n",
       "3                     78.0              0.0   \n",
       "4                     86.0              0.0   \n",
       "..                     ...              ...   \n",
       "277                   90.0              0.0   \n",
       "278                   98.0              0.0   \n",
       "279                   85.0              0.0   \n",
       "280                   80.0              1.0   \n",
       "281                   80.0              0.0   \n",
       "\n",
       "     number of major vessels colored by flourosopy  heart disease  \n",
       "0                                              0.0          False  \n",
       "1                                              3.0           True  \n",
       "2                                              2.0           True  \n",
       "3                                              0.0          False  \n",
       "4                                              0.0          False  \n",
       "..                                             ...            ...  \n",
       "277                                            0.0          False  \n",
       "278                                            1.0           True  \n",
       "279                                            0.0          False  \n",
       "280                                            1.0           True  \n",
       "281                                            0.0          False  \n",
       "\n",
       "[282 rows x 19 columns]"
      ]
     },
     "execution_count": 63,
     "metadata": {},
     "output_type": "execute_result"
    }
   ],
   "source": [
    "df_pr_cleve_red2"
   ]
  },
  {
   "cell_type": "code",
   "execution_count": 64,
   "metadata": {},
   "outputs": [],
   "source": [
    "df_pr_cleve_red2.to_csv('data_cleveland_aufbereitet.csv',sep=';')"
   ]
  },
  {
   "cell_type": "markdown",
   "metadata": {},
   "source": [
    "# Trainieren 2"
   ]
  },
  {
   "cell_type": "code",
   "execution_count": 65,
   "metadata": {
    "scrolled": false
   },
   "outputs": [
    {
     "data": {
      "image/svg+xml": [
       "<?xml version=\"1.0\" encoding=\"UTF-8\" standalone=\"no\"?>\r\n",
       "<!DOCTYPE svg PUBLIC \"-//W3C//DTD SVG 1.1//EN\"\r\n",
       " \"http://www.w3.org/Graphics/SVG/1.1/DTD/svg11.dtd\">\r\n",
       "<!-- Generated by graphviz version 2.50.0 (0)\r\n",
       " -->\r\n",
       "<!-- Pages: 1 -->\r\n",
       "<svg width=\"1940pt\" height=\"1021pt\"\r\n",
       " viewBox=\"0.00 0.00 1939.50 1021.00\" xmlns=\"http://www.w3.org/2000/svg\" xmlns:xlink=\"http://www.w3.org/1999/xlink\">\r\n",
       "<g id=\"graph0\" class=\"graph\" transform=\"scale(1 1) rotate(0) translate(4 1017)\">\r\n",
       "<polygon fill=\"white\" stroke=\"transparent\" points=\"-4,4 -4,-1017 1935.5,-1017 1935.5,4 -4,4\"/>\r\n",
       "<polygon fill=\"lightblue\" stroke=\"transparent\" points=\"8,-965 8,-1009 95,-1009 95,-965 8,-965\"/>\r\n",
       "<polygon fill=\"none\" stroke=\"black\" points=\"11.5,-987 11.5,-1006 92.5,-1006 92.5,-987 11.5,-987\"/>\r\n",
       "<text text-anchor=\"start\" x=\"14.5\" y=\"-993.4\" font-family=\"Times New Roman,serif\" font-size=\"12.00\">heart disease? &#160;&#160;</text>\r\n",
       "<polygon fill=\"none\" stroke=\"black\" points=\"11.5,-968 11.5,-985 92.5,-985 92.5,-968 11.5,-968\"/>\r\n",
       "<text text-anchor=\"start\" x=\"26.5\" y=\"-974\" font-family=\"Times New Roman,serif\" font-size=\"10.00\" fill=\"dimgrey\">[False, True]</text>\r\n",
       "<polygon fill=\"none\" stroke=\"black\" points=\"8,-965 8,-1009 95,-1009 95,-965 8,-965\"/>\r\n",
       "<!-- 1 -->\r\n",
       "<g id=\"node1\" class=\"node\">\r\n",
       "<title>1</title>\r\n",
       "<polygon fill=\"none\" stroke=\"black\" points=\"971,-915.5 971,-960.5 1048,-960.5 1048,-915.5 971,-915.5\"/>\r\n",
       "<text text-anchor=\"start\" x=\"991.5\" y=\"-948\" font-family=\"Times New Roman,serif\" font-size=\"10.00\" fill=\"dimgrey\">[109, 91]</text>\r\n",
       "<text text-anchor=\"start\" x=\"979.5\" y=\"-933.8\" font-family=\"Times New Roman,serif\" font-size=\"14.00\">chest pain?</text>\r\n",
       "<text text-anchor=\"start\" x=\"1021.5\" y=\"-922\" font-family=\"Times New Roman,serif\" font-size=\"10.00\" fill=\"dimgrey\">Nr.1</text>\r\n",
       "</g>\r\n",
       "<!-- 2 -->\r\n",
       "<g id=\"node2\" class=\"node\">\r\n",
       "<title>2</title>\r\n",
       "<polygon fill=\"none\" stroke=\"black\" points=\"706.5,-818.5 706.5,-863.5 760.5,-863.5 760.5,-818.5 706.5,-818.5\"/>\r\n",
       "<text text-anchor=\"start\" x=\"717.5\" y=\"-851\" font-family=\"Times New Roman,serif\" font-size=\"10.00\" fill=\"dimgrey\">[85, 23]</text>\r\n",
       "<text text-anchor=\"start\" x=\"721\" y=\"-836.8\" font-family=\"Times New Roman,serif\" font-size=\"14.00\">age?</text>\r\n",
       "<text text-anchor=\"start\" x=\"730.5\" y=\"-825\" font-family=\"Times New Roman,serif\" font-size=\"10.00\" fill=\"dimgrey\">Nr.2</text>\r\n",
       "</g>\r\n",
       "<!-- 1&#45;&gt;2 -->\r\n",
       "<g id=\"edge33\" class=\"edge\">\r\n",
       "<title>1&#45;&gt;2</title>\r\n",
       "<path fill=\"none\" stroke=\"black\" d=\"M970.83,-923.69C917.59,-905.36 822.39,-872.6 770.2,-854.63\"/>\r\n",
       "<polygon fill=\"black\" stroke=\"black\" points=\"771.27,-851.3 760.67,-851.35 768.99,-857.92 771.27,-851.3\"/>\r\n",
       "<g id=\"a_edge33&#45;label\"><a xlink:title=\"3\">\r\n",
       "<text text-anchor=\"middle\" x=\"896\" y=\"-885.8\" font-family=\"Times New Roman,serif\" font-size=\"14.00\">≤3</text>\r\n",
       "</a>\r\n",
       "</g>\r\n",
       "</g>\r\n",
       "<!-- 35 -->\r\n",
       "<g id=\"node35\" class=\"node\">\r\n",
       "<title>35</title>\r\n",
       "<polygon fill=\"none\" stroke=\"black\" points=\"1171,-818.5 1171,-863.5 1452,-863.5 1452,-818.5 1171,-818.5\"/>\r\n",
       "<text text-anchor=\"start\" x=\"1296\" y=\"-851\" font-family=\"Times New Roman,serif\" font-size=\"10.00\" fill=\"dimgrey\">[24, 68]</text>\r\n",
       "<text text-anchor=\"start\" x=\"1179.5\" y=\"-836.8\" font-family=\"Times New Roman,serif\" font-size=\"14.00\">number of major vessels colored by flourosopy?</text>\r\n",
       "<text text-anchor=\"start\" x=\"1420.5\" y=\"-825\" font-family=\"Times New Roman,serif\" font-size=\"10.00\" fill=\"dimgrey\">Nr.35</text>\r\n",
       "</g>\r\n",
       "<!-- 1&#45;&gt;35 -->\r\n",
       "<g id=\"edge66\" class=\"edge\">\r\n",
       "<title>1&#45;&gt;35</title>\r\n",
       "<path fill=\"none\" stroke=\"black\" d=\"M1048.06,-924.87C1094.52,-910.25 1173.77,-885.33 1233.24,-866.62\"/>\r\n",
       "<polygon fill=\"black\" stroke=\"black\" points=\"1234.49,-869.89 1242.98,-863.55 1232.39,-863.22 1234.49,-869.89\"/>\r\n",
       "<g id=\"a_edge66&#45;label\"><a xlink:title=\"3\">\r\n",
       "<text text-anchor=\"middle\" x=\"1187.5\" y=\"-885.8\" font-family=\"Times New Roman,serif\" font-size=\"14.00\">&gt;3</text>\r\n",
       "</a>\r\n",
       "</g>\r\n",
       "</g>\r\n",
       "<!-- 3 -->\r\n",
       "<g id=\"node3\" class=\"node\">\r\n",
       "<title>3</title>\r\n",
       "<polygon fill=\"none\" stroke=\"black\" points=\"371.5,-721.5 371.5,-766.5 561.5,-766.5 561.5,-721.5 371.5,-721.5\"/>\r\n",
       "<text text-anchor=\"start\" x=\"453\" y=\"-754\" font-family=\"Times New Roman,serif\" font-size=\"10.00\" fill=\"dimgrey\">[57, 6]</text>\r\n",
       "<text text-anchor=\"start\" x=\"379.5\" y=\"-739.8\" font-family=\"Times New Roman,serif\" font-size=\"14.00\">peak exercise blood pressure d?</text>\r\n",
       "<text text-anchor=\"start\" x=\"534.5\" y=\"-728\" font-family=\"Times New Roman,serif\" font-size=\"10.00\" fill=\"dimgrey\">Nr.3</text>\r\n",
       "</g>\r\n",
       "<!-- 2&#45;&gt;3 -->\r\n",
       "<g id=\"edge15\" class=\"edge\">\r\n",
       "<title>2&#45;&gt;3</title>\r\n",
       "<path fill=\"none\" stroke=\"black\" d=\"M706.43,-830.37C666.95,-816.32 592.24,-789.74 536.63,-769.95\"/>\r\n",
       "<polygon fill=\"black\" stroke=\"black\" points=\"537.77,-766.64 527.18,-766.59 535.43,-773.24 537.77,-766.64\"/>\r\n",
       "<g id=\"a_edge15&#45;label\"><a xlink:title=\"55\">\r\n",
       "<text text-anchor=\"middle\" x=\"627.5\" y=\"-788.8\" font-family=\"Times New Roman,serif\" font-size=\"14.00\">≤55</text>\r\n",
       "</a>\r\n",
       "</g>\r\n",
       "</g>\r\n",
       "<!-- 18 -->\r\n",
       "<g id=\"node18\" class=\"node\">\r\n",
       "<title>18</title>\r\n",
       "<polygon fill=\"none\" stroke=\"black\" points=\"704,-721.5 704,-766.5 763,-766.5 763,-721.5 704,-721.5\"/>\r\n",
       "<text text-anchor=\"start\" x=\"718\" y=\"-754\" font-family=\"Times New Roman,serif\" font-size=\"10.00\" fill=\"dimgrey\">[28, 17]</text>\r\n",
       "<text text-anchor=\"start\" x=\"712.5\" y=\"-739.8\" font-family=\"Times New Roman,serif\" font-size=\"14.00\">gender?</text>\r\n",
       "<text text-anchor=\"start\" x=\"731.5\" y=\"-728\" font-family=\"Times New Roman,serif\" font-size=\"10.00\" fill=\"dimgrey\">Nr.18</text>\r\n",
       "</g>\r\n",
       "<!-- 2&#45;&gt;18 -->\r\n",
       "<g id=\"edge32\" class=\"edge\">\r\n",
       "<title>2&#45;&gt;18</title>\r\n",
       "<path fill=\"none\" stroke=\"black\" d=\"M733.5,-818.44C733.5,-806.26 733.5,-790.8 733.5,-777.2\"/>\r\n",
       "<polygon fill=\"black\" stroke=\"black\" points=\"737,-776.8 733.5,-766.8 730,-776.8 737,-776.8\"/>\r\n",
       "<g id=\"a_edge32&#45;label\"><a xlink:title=\"55\">\r\n",
       "<text text-anchor=\"middle\" x=\"744.5\" y=\"-788.8\" font-family=\"Times New Roman,serif\" font-size=\"14.00\">&gt;55</text>\r\n",
       "</a>\r\n",
       "</g>\r\n",
       "</g>\r\n",
       "<!-- 4 -->\r\n",
       "<g id=\"node4\" class=\"node\">\r\n",
       "<title>4</title>\r\n",
       "<polygon fill=\"yellow\" stroke=\"yellow\" points=\"364.5,-618.5 364.5,-669.5 418.5,-669.5 418.5,-618.5 364.5,-618.5\"/>\r\n",
       "<text text-anchor=\"start\" x=\"378.5\" y=\"-656\" font-family=\"Times New Roman,serif\" font-size=\"10.00\" fill=\"dimgrey\">[21, 0]</text>\r\n",
       "<text text-anchor=\"start\" x=\"377.5\" y=\"-639.8\" font-family=\"Times New Roman,serif\" font-size=\"14.00\">False</text>\r\n",
       "<text text-anchor=\"start\" x=\"387.5\" y=\"-626\" font-family=\"Times New Roman,serif\" font-size=\"10.00\" fill=\"dimgrey\">Nr.4</text>\r\n",
       "</g>\r\n",
       "<!-- 3&#45;&gt;4 -->\r\n",
       "<g id=\"edge1\" class=\"edge\">\r\n",
       "<title>3&#45;&gt;4</title>\r\n",
       "<path fill=\"none\" stroke=\"black\" d=\"M449.86,-721.25C440.11,-708.52 427.62,-692.2 416.7,-677.92\"/>\r\n",
       "<polygon fill=\"black\" stroke=\"black\" points=\"419.33,-675.61 410.48,-669.8 413.78,-679.87 419.33,-675.61\"/>\r\n",
       "<g id=\"a_edge1&#45;label\"><a xlink:title=\"74\">\r\n",
       "<text text-anchor=\"middle\" x=\"447.5\" y=\"-691.8\" font-family=\"Times New Roman,serif\" font-size=\"14.00\">≤74</text>\r\n",
       "</a>\r\n",
       "</g>\r\n",
       "</g>\r\n",
       "<!-- 5 -->\r\n",
       "<g id=\"node5\" class=\"node\">\r\n",
       "<title>5</title>\r\n",
       "<polygon fill=\"none\" stroke=\"black\" points=\"437,-621.5 437,-666.5 496,-666.5 496,-621.5 437,-621.5\"/>\r\n",
       "<text text-anchor=\"start\" x=\"453.5\" y=\"-654\" font-family=\"Times New Roman,serif\" font-size=\"10.00\" fill=\"dimgrey\">[36, 6]</text>\r\n",
       "<text text-anchor=\"start\" x=\"445.5\" y=\"-639.8\" font-family=\"Times New Roman,serif\" font-size=\"14.00\">gender?</text>\r\n",
       "<text text-anchor=\"start\" x=\"469.5\" y=\"-628\" font-family=\"Times New Roman,serif\" font-size=\"10.00\" fill=\"dimgrey\">Nr.5</text>\r\n",
       "</g>\r\n",
       "<!-- 3&#45;&gt;5 -->\r\n",
       "<g id=\"edge14\" class=\"edge\">\r\n",
       "<title>3&#45;&gt;5</title>\r\n",
       "<path fill=\"none\" stroke=\"black\" d=\"M466.5,-721.25C466.5,-708.18 466.5,-691.32 466.5,-676.78\"/>\r\n",
       "<polygon fill=\"black\" stroke=\"black\" points=\"470,-676.69 466.5,-666.69 463,-676.69 470,-676.69\"/>\r\n",
       "<g id=\"a_edge14&#45;label\"><a xlink:title=\"74\">\r\n",
       "<text text-anchor=\"middle\" x=\"477.5\" y=\"-691.8\" font-family=\"Times New Roman,serif\" font-size=\"14.00\">&gt;74</text>\r\n",
       "</a>\r\n",
       "</g>\r\n",
       "</g>\r\n",
       "<!-- 6 -->\r\n",
       "<g id=\"node6\" class=\"node\">\r\n",
       "<title>6</title>\r\n",
       "<polygon fill=\"yellow\" stroke=\"yellow\" points=\"329.5,-515.5 329.5,-566.5 383.5,-566.5 383.5,-515.5 329.5,-515.5\"/>\r\n",
       "<text text-anchor=\"start\" x=\"343.5\" y=\"-553\" font-family=\"Times New Roman,serif\" font-size=\"10.00\" fill=\"dimgrey\">[13, 0]</text>\r\n",
       "<text text-anchor=\"start\" x=\"342.5\" y=\"-536.8\" font-family=\"Times New Roman,serif\" font-size=\"14.00\">False</text>\r\n",
       "<text text-anchor=\"start\" x=\"352.5\" y=\"-523\" font-family=\"Times New Roman,serif\" font-size=\"10.00\" fill=\"dimgrey\">Nr.6</text>\r\n",
       "</g>\r\n",
       "<!-- 5&#45;&gt;6 -->\r\n",
       "<g id=\"edge2\" class=\"edge\">\r\n",
       "<title>5&#45;&gt;6</title>\r\n",
       "<path fill=\"none\" stroke=\"black\" d=\"M442.9,-621.33C427.79,-607.46 407.93,-589.22 391.06,-573.73\"/>\r\n",
       "<polygon fill=\"black\" stroke=\"black\" points=\"393.28,-571.02 383.54,-566.83 388.54,-576.17 393.28,-571.02\"/>\r\n",
       "<g id=\"a_edge2&#45;label\"><a xlink:title=\"0\">\r\n",
       "<text text-anchor=\"middle\" x=\"426\" y=\"-588.8\" font-family=\"Times New Roman,serif\" font-size=\"14.00\">≤0</text>\r\n",
       "</a>\r\n",
       "</g>\r\n",
       "</g>\r\n",
       "<!-- 7 -->\r\n",
       "<g id=\"node7\" class=\"node\">\r\n",
       "<title>7</title>\r\n",
       "<polygon fill=\"none\" stroke=\"black\" points=\"402,-518.5 402,-563.5 531,-563.5 531,-518.5 402,-518.5\"/>\r\n",
       "<text text-anchor=\"start\" x=\"453.5\" y=\"-551\" font-family=\"Times New Roman,serif\" font-size=\"10.00\" fill=\"dimgrey\">[23, 6]</text>\r\n",
       "<text text-anchor=\"start\" x=\"410.5\" y=\"-536.8\" font-family=\"Times New Roman,serif\" font-size=\"14.00\">resting ECG results?</text>\r\n",
       "<text text-anchor=\"start\" x=\"504.5\" y=\"-525\" font-family=\"Times New Roman,serif\" font-size=\"10.00\" fill=\"dimgrey\">Nr.7</text>\r\n",
       "</g>\r\n",
       "<!-- 5&#45;&gt;7 -->\r\n",
       "<g id=\"edge13\" class=\"edge\">\r\n",
       "<title>5&#45;&gt;7</title>\r\n",
       "<path fill=\"none\" stroke=\"black\" d=\"M466.5,-621.08C466.5,-607.23 466.5,-589.08 466.5,-573.67\"/>\r\n",
       "<polygon fill=\"black\" stroke=\"black\" points=\"470,-573.53 466.5,-563.53 463,-573.53 470,-573.53\"/>\r\n",
       "<g id=\"a_edge13&#45;label\"><a xlink:title=\"0\">\r\n",
       "<text text-anchor=\"middle\" x=\"474.5\" y=\"-588.8\" font-family=\"Times New Roman,serif\" font-size=\"14.00\">&gt;0</text>\r\n",
       "</a>\r\n",
       "</g>\r\n",
       "</g>\r\n",
       "<!-- 8 -->\r\n",
       "<g id=\"node8\" class=\"node\">\r\n",
       "<title>8</title>\r\n",
       "<polygon fill=\"none\" stroke=\"black\" points=\"299,-415.5 299,-460.5 400,-460.5 400,-415.5 299,-415.5\"/>\r\n",
       "<text text-anchor=\"start\" x=\"339\" y=\"-448\" font-family=\"Times New Roman,serif\" font-size=\"10.00\" fill=\"dimgrey\">[9, 5]</text>\r\n",
       "<text text-anchor=\"start\" x=\"307.5\" y=\"-433.8\" font-family=\"Times New Roman,serif\" font-size=\"14.00\">max heart rate?</text>\r\n",
       "<text text-anchor=\"start\" x=\"373.5\" y=\"-422\" font-family=\"Times New Roman,serif\" font-size=\"10.00\" fill=\"dimgrey\">Nr.8</text>\r\n",
       "</g>\r\n",
       "<!-- 7&#45;&gt;8 -->\r\n",
       "<g id=\"edge9\" class=\"edge\">\r\n",
       "<title>7&#45;&gt;8</title>\r\n",
       "<path fill=\"none\" stroke=\"black\" d=\"M441.4,-518.33C424.13,-503.42 401.01,-483.47 382.29,-467.3\"/>\r\n",
       "<polygon fill=\"black\" stroke=\"black\" points=\"384.41,-464.52 374.56,-460.63 379.84,-469.82 384.41,-464.52\"/>\r\n",
       "<g id=\"a_edge9&#45;label\"><a xlink:title=\"0\">\r\n",
       "<text text-anchor=\"middle\" x=\"423\" y=\"-485.8\" font-family=\"Times New Roman,serif\" font-size=\"14.00\">≤0</text>\r\n",
       "</a>\r\n",
       "</g>\r\n",
       "</g>\r\n",
       "<!-- 15 -->\r\n",
       "<g id=\"node15\" class=\"node\">\r\n",
       "<title>15</title>\r\n",
       "<polygon fill=\"none\" stroke=\"black\" points=\"418,-415.5 418,-460.5 515,-460.5 515,-415.5 418,-415.5\"/>\r\n",
       "<text text-anchor=\"start\" x=\"453.5\" y=\"-448\" font-family=\"Times New Roman,serif\" font-size=\"10.00\" fill=\"dimgrey\">[14, 1]</text>\r\n",
       "<text text-anchor=\"start\" x=\"426.5\" y=\"-433.8\" font-family=\"Times New Roman,serif\" font-size=\"14.00\">rest heart rate?</text>\r\n",
       "<text text-anchor=\"start\" x=\"483.5\" y=\"-422\" font-family=\"Times New Roman,serif\" font-size=\"10.00\" fill=\"dimgrey\">Nr.15</text>\r\n",
       "</g>\r\n",
       "<!-- 7&#45;&gt;15 -->\r\n",
       "<g id=\"edge12\" class=\"edge\">\r\n",
       "<title>7&#45;&gt;15</title>\r\n",
       "<path fill=\"none\" stroke=\"black\" d=\"M466.5,-518.08C466.5,-504.23 466.5,-486.08 466.5,-470.67\"/>\r\n",
       "<polygon fill=\"black\" stroke=\"black\" points=\"470,-470.53 466.5,-460.53 463,-470.53 470,-470.53\"/>\r\n",
       "<g id=\"a_edge12&#45;label\"><a xlink:title=\"0\">\r\n",
       "<text text-anchor=\"middle\" x=\"474.5\" y=\"-485.8\" font-family=\"Times New Roman,serif\" font-size=\"14.00\">&gt;0</text>\r\n",
       "</a>\r\n",
       "</g>\r\n",
       "</g>\r\n",
       "<!-- 9 -->\r\n",
       "<g id=\"node9\" class=\"node\">\r\n",
       "<title>9</title>\r\n",
       "<polygon fill=\"none\" stroke=\"black\" points=\"225.5,-312.5 225.5,-357.5 307.5,-357.5 307.5,-312.5 225.5,-312.5\"/>\r\n",
       "<text text-anchor=\"start\" x=\"255.5\" y=\"-345\" font-family=\"Times New Roman,serif\" font-size=\"10.00\" fill=\"dimgrey\">[4, 5]</text>\r\n",
       "<text text-anchor=\"start\" x=\"233.5\" y=\"-330.8\" font-family=\"Times New Roman,serif\" font-size=\"14.00\">cholesterol?</text>\r\n",
       "<text text-anchor=\"start\" x=\"280.5\" y=\"-319\" font-family=\"Times New Roman,serif\" font-size=\"10.00\" fill=\"dimgrey\">Nr.9</text>\r\n",
       "</g>\r\n",
       "<!-- 8&#45;&gt;9 -->\r\n",
       "<g id=\"edge7\" class=\"edge\">\r\n",
       "<title>8&#45;&gt;9</title>\r\n",
       "<path fill=\"none\" stroke=\"black\" d=\"M327.63,-415.21C321.27,-408.57 314.44,-401.14 308.5,-394 301.13,-385.15 293.6,-375.11 286.98,-365.9\"/>\r\n",
       "<polygon fill=\"black\" stroke=\"black\" points=\"289.83,-363.87 281.19,-357.73 284.12,-367.91 289.83,-363.87\"/>\r\n",
       "<g id=\"a_edge7&#45;label\"><a xlink:title=\"168.0\">\r\n",
       "<text text-anchor=\"middle\" x=\"328\" y=\"-382.8\" font-family=\"Times New Roman,serif\" font-size=\"14.00\">≤168.0</text>\r\n",
       "</a>\r\n",
       "</g>\r\n",
       "</g>\r\n",
       "<!-- 14 -->\r\n",
       "<g id=\"node14\" class=\"node\">\r\n",
       "<title>14</title>\r\n",
       "<polygon fill=\"yellow\" stroke=\"yellow\" points=\"325.5,-309.5 325.5,-360.5 379.5,-360.5 379.5,-309.5 325.5,-309.5\"/>\r\n",
       "<text text-anchor=\"start\" x=\"342\" y=\"-347\" font-family=\"Times New Roman,serif\" font-size=\"10.00\" fill=\"dimgrey\">[5, 0]</text>\r\n",
       "<text text-anchor=\"start\" x=\"338.5\" y=\"-330.8\" font-family=\"Times New Roman,serif\" font-size=\"14.00\">False</text>\r\n",
       "<text text-anchor=\"start\" x=\"343.5\" y=\"-317\" font-family=\"Times New Roman,serif\" font-size=\"10.00\" fill=\"dimgrey\">Nr.14</text>\r\n",
       "</g>\r\n",
       "<!-- 8&#45;&gt;14 -->\r\n",
       "<g id=\"edge8\" class=\"edge\">\r\n",
       "<title>8&#45;&gt;14</title>\r\n",
       "<path fill=\"none\" stroke=\"black\" d=\"M350.15,-415.08C350.53,-402.2 351.03,-385.61 351.46,-370.96\"/>\r\n",
       "<polygon fill=\"black\" stroke=\"black\" points=\"354.97,-370.81 351.77,-360.71 347.97,-370.6 354.97,-370.81\"/>\r\n",
       "<g id=\"a_edge8&#45;label\"><a xlink:title=\"168.0\">\r\n",
       "<text text-anchor=\"middle\" x=\"371.5\" y=\"-382.8\" font-family=\"Times New Roman,serif\" font-size=\"14.00\">&gt;168.0</text>\r\n",
       "</a>\r\n",
       "</g>\r\n",
       "</g>\r\n",
       "<!-- 10 -->\r\n",
       "<g id=\"node10\" class=\"node\">\r\n",
       "<title>10</title>\r\n",
       "<polygon fill=\"none\" stroke=\"black\" points=\"0,-209.5 0,-254.5 281,-254.5 281,-209.5 0,-209.5\"/>\r\n",
       "<text text-anchor=\"start\" x=\"130\" y=\"-242\" font-family=\"Times New Roman,serif\" font-size=\"10.00\" fill=\"dimgrey\">[4, 1]</text>\r\n",
       "<text text-anchor=\"start\" x=\"8.5\" y=\"-227.8\" font-family=\"Times New Roman,serif\" font-size=\"14.00\">number of major vessels colored by flourosopy?</text>\r\n",
       "<text text-anchor=\"start\" x=\"249.5\" y=\"-216\" font-family=\"Times New Roman,serif\" font-size=\"10.00\" fill=\"dimgrey\">Nr.10</text>\r\n",
       "</g>\r\n",
       "<!-- 9&#45;&gt;10 -->\r\n",
       "<g id=\"edge5\" class=\"edge\">\r\n",
       "<title>9&#45;&gt;10</title>\r\n",
       "<path fill=\"none\" stroke=\"black\" d=\"M239.47,-312.33C220.78,-297.36 195.75,-277.29 175.54,-261.09\"/>\r\n",
       "<polygon fill=\"black\" stroke=\"black\" points=\"177.48,-258.15 167.49,-254.63 173.1,-263.62 177.48,-258.15\"/>\r\n",
       "<g id=\"a_edge5&#45;label\"><a xlink:title=\"203\">\r\n",
       "<text text-anchor=\"middle\" x=\"225.5\" y=\"-279.8\" font-family=\"Times New Roman,serif\" font-size=\"14.00\">≤203</text>\r\n",
       "</a>\r\n",
       "</g>\r\n",
       "</g>\r\n",
       "<!-- 13 -->\r\n",
       "<g id=\"node13\" class=\"node\">\r\n",
       "<title>13</title>\r\n",
       "<polygon fill=\"yellow\" stroke=\"yellow\" points=\"299.5,-206.5 299.5,-257.5 353.5,-257.5 353.5,-206.5 299.5,-206.5\"/>\r\n",
       "<text text-anchor=\"start\" x=\"315.5\" y=\"-244\" font-family=\"Times New Roman,serif\" font-size=\"10.00\" fill=\"dimgrey\">[0, 4]</text>\r\n",
       "<text text-anchor=\"start\" x=\"313.5\" y=\"-227.8\" font-family=\"Times New Roman,serif\" font-size=\"14.00\">True</text>\r\n",
       "<text text-anchor=\"start\" x=\"315.5\" y=\"-214\" font-family=\"Times New Roman,serif\" font-size=\"10.00\" fill=\"dimgrey\">Nr.13</text>\r\n",
       "</g>\r\n",
       "<!-- 9&#45;&gt;13 -->\r\n",
       "<g id=\"edge6\" class=\"edge\">\r\n",
       "<title>9&#45;&gt;13</title>\r\n",
       "<path fill=\"none\" stroke=\"black\" d=\"M279.52,-312.08C287.4,-298.82 297.6,-281.64 306.49,-266.68\"/>\r\n",
       "<polygon fill=\"black\" stroke=\"black\" points=\"309.72,-268.1 311.82,-257.71 303.7,-264.52 309.72,-268.1\"/>\r\n",
       "<g id=\"a_edge6&#45;label\"><a xlink:title=\"203\">\r\n",
       "<text text-anchor=\"middle\" x=\"315\" y=\"-279.8\" font-family=\"Times New Roman,serif\" font-size=\"14.00\">&gt;203</text>\r\n",
       "</a>\r\n",
       "</g>\r\n",
       "</g>\r\n",
       "<!-- 11 -->\r\n",
       "<g id=\"node11\" class=\"node\">\r\n",
       "<title>11</title>\r\n",
       "<polygon fill=\"yellow\" stroke=\"yellow\" points=\"77.5,-103.5 77.5,-154.5 131.5,-154.5 131.5,-103.5 77.5,-103.5\"/>\r\n",
       "<text text-anchor=\"start\" x=\"94\" y=\"-141\" font-family=\"Times New Roman,serif\" font-size=\"10.00\" fill=\"dimgrey\">[4, 0]</text>\r\n",
       "<text text-anchor=\"start\" x=\"90.5\" y=\"-124.8\" font-family=\"Times New Roman,serif\" font-size=\"14.00\">False</text>\r\n",
       "<text text-anchor=\"start\" x=\"96.5\" y=\"-111\" font-family=\"Times New Roman,serif\" font-size=\"10.00\" fill=\"dimgrey\">Nr.11</text>\r\n",
       "</g>\r\n",
       "<!-- 10&#45;&gt;11 -->\r\n",
       "<g id=\"edge3\" class=\"edge\">\r\n",
       "<title>10&#45;&gt;11</title>\r\n",
       "<path fill=\"none\" stroke=\"black\" d=\"M132.69,-209.08C128.05,-196.07 122.07,-179.29 116.81,-164.53\"/>\r\n",
       "<polygon fill=\"black\" stroke=\"black\" points=\"119.96,-162.96 113.31,-154.71 113.37,-165.31 119.96,-162.96\"/>\r\n",
       "<g id=\"a_edge3&#45;label\"><a xlink:title=\"1.0\">\r\n",
       "<text text-anchor=\"middle\" x=\"138\" y=\"-176.8\" font-family=\"Times New Roman,serif\" font-size=\"14.00\">≤1.0</text>\r\n",
       "</a>\r\n",
       "</g>\r\n",
       "</g>\r\n",
       "<!-- 12 -->\r\n",
       "<g id=\"node12\" class=\"node\">\r\n",
       "<title>12</title>\r\n",
       "<polygon fill=\"yellow\" stroke=\"yellow\" points=\"149.5,-103.5 149.5,-154.5 203.5,-154.5 203.5,-103.5 149.5,-103.5\"/>\r\n",
       "<text text-anchor=\"start\" x=\"165.5\" y=\"-141\" font-family=\"Times New Roman,serif\" font-size=\"10.00\" fill=\"dimgrey\">[0, 1]</text>\r\n",
       "<text text-anchor=\"start\" x=\"163.5\" y=\"-124.8\" font-family=\"Times New Roman,serif\" font-size=\"14.00\">True</text>\r\n",
       "<text text-anchor=\"start\" x=\"165.5\" y=\"-111\" font-family=\"Times New Roman,serif\" font-size=\"10.00\" fill=\"dimgrey\">Nr.12</text>\r\n",
       "</g>\r\n",
       "<!-- 10&#45;&gt;12 -->\r\n",
       "<g id=\"edge4\" class=\"edge\">\r\n",
       "<title>10&#45;&gt;12</title>\r\n",
       "<path fill=\"none\" stroke=\"black\" d=\"M148.31,-209.08C152.95,-196.07 158.93,-179.29 164.19,-164.53\"/>\r\n",
       "<polygon fill=\"black\" stroke=\"black\" points=\"167.63,-165.31 167.69,-154.71 161.04,-162.96 167.63,-165.31\"/>\r\n",
       "<g id=\"a_edge4&#45;label\"><a xlink:title=\"1.0\">\r\n",
       "<text text-anchor=\"middle\" x=\"174.5\" y=\"-176.8\" font-family=\"Times New Roman,serif\" font-size=\"14.00\">&gt;1.0</text>\r\n",
       "</a>\r\n",
       "</g>\r\n",
       "</g>\r\n",
       "<!-- 16 -->\r\n",
       "<g id=\"node16\" class=\"node\">\r\n",
       "<title>16</title>\r\n",
       "<polygon fill=\"yellow\" stroke=\"yellow\" points=\"417.5,-309.5 417.5,-360.5 471.5,-360.5 471.5,-309.5 417.5,-309.5\"/>\r\n",
       "<text text-anchor=\"start\" x=\"431.5\" y=\"-347\" font-family=\"Times New Roman,serif\" font-size=\"10.00\" fill=\"dimgrey\">[14, 0]</text>\r\n",
       "<text text-anchor=\"start\" x=\"430.5\" y=\"-330.8\" font-family=\"Times New Roman,serif\" font-size=\"14.00\">False</text>\r\n",
       "<text text-anchor=\"start\" x=\"435.5\" y=\"-317\" font-family=\"Times New Roman,serif\" font-size=\"10.00\" fill=\"dimgrey\">Nr.16</text>\r\n",
       "</g>\r\n",
       "<!-- 15&#45;&gt;16 -->\r\n",
       "<g id=\"edge10\" class=\"edge\">\r\n",
       "<title>15&#45;&gt;16</title>\r\n",
       "<path fill=\"none\" stroke=\"black\" d=\"M461.73,-415.08C458.89,-402.07 455.24,-385.29 452.02,-370.53\"/>\r\n",
       "<polygon fill=\"black\" stroke=\"black\" points=\"455.43,-369.74 449.88,-360.71 448.59,-371.23 455.43,-369.74\"/>\r\n",
       "<g id=\"a_edge10&#45;label\"><a xlink:title=\"90\">\r\n",
       "<text text-anchor=\"middle\" x=\"468.5\" y=\"-382.8\" font-family=\"Times New Roman,serif\" font-size=\"14.00\">≤90</text>\r\n",
       "</a>\r\n",
       "</g>\r\n",
       "</g>\r\n",
       "<!-- 17 -->\r\n",
       "<g id=\"node17\" class=\"node\">\r\n",
       "<title>17</title>\r\n",
       "<polygon fill=\"yellow\" stroke=\"yellow\" points=\"489.5,-309.5 489.5,-360.5 543.5,-360.5 543.5,-309.5 489.5,-309.5\"/>\r\n",
       "<text text-anchor=\"start\" x=\"505.5\" y=\"-347\" font-family=\"Times New Roman,serif\" font-size=\"10.00\" fill=\"dimgrey\">[0, 1]</text>\r\n",
       "<text text-anchor=\"start\" x=\"503.5\" y=\"-330.8\" font-family=\"Times New Roman,serif\" font-size=\"14.00\">True</text>\r\n",
       "<text text-anchor=\"start\" x=\"505.5\" y=\"-317\" font-family=\"Times New Roman,serif\" font-size=\"10.00\" fill=\"dimgrey\">Nr.17</text>\r\n",
       "</g>\r\n",
       "<!-- 15&#45;&gt;17 -->\r\n",
       "<g id=\"edge11\" class=\"edge\">\r\n",
       "<title>15&#45;&gt;17</title>\r\n",
       "<path fill=\"none\" stroke=\"black\" d=\"M477.35,-415.08C483.91,-401.82 492.42,-384.64 499.83,-369.68\"/>\r\n",
       "<polygon fill=\"black\" stroke=\"black\" points=\"502.97,-371.23 504.27,-360.71 496.69,-368.12 502.97,-371.23\"/>\r\n",
       "<g id=\"a_edge11&#45;label\"><a xlink:title=\"90\">\r\n",
       "<text text-anchor=\"middle\" x=\"505.5\" y=\"-382.8\" font-family=\"Times New Roman,serif\" font-size=\"14.00\">&gt;90</text>\r\n",
       "</a>\r\n",
       "</g>\r\n",
       "</g>\r\n",
       "<!-- 19 -->\r\n",
       "<g id=\"node19\" class=\"node\">\r\n",
       "<title>19</title>\r\n",
       "<polygon fill=\"none\" stroke=\"black\" points=\"639,-621.5 639,-666.5 740,-666.5 740,-621.5 639,-621.5\"/>\r\n",
       "<text text-anchor=\"start\" x=\"676.5\" y=\"-654\" font-family=\"Times New Roman,serif\" font-size=\"10.00\" fill=\"dimgrey\">[15, 1]</text>\r\n",
       "<text text-anchor=\"start\" x=\"647.5\" y=\"-639.8\" font-family=\"Times New Roman,serif\" font-size=\"14.00\">max heart rate?</text>\r\n",
       "<text text-anchor=\"start\" x=\"708.5\" y=\"-628\" font-family=\"Times New Roman,serif\" font-size=\"10.00\" fill=\"dimgrey\">Nr.19</text>\r\n",
       "</g>\r\n",
       "<!-- 18&#45;&gt;19 -->\r\n",
       "<g id=\"edge18\" class=\"edge\">\r\n",
       "<title>18&#45;&gt;19</title>\r\n",
       "<path fill=\"none\" stroke=\"black\" d=\"M723.73,-721.25C717.75,-707.93 710,-690.67 703.39,-675.94\"/>\r\n",
       "<polygon fill=\"black\" stroke=\"black\" points=\"706.53,-674.38 699.24,-666.69 700.14,-677.24 706.53,-674.38\"/>\r\n",
       "<g id=\"a_edge18&#45;label\"><a xlink:title=\"0\">\r\n",
       "<text text-anchor=\"middle\" x=\"723\" y=\"-691.8\" font-family=\"Times New Roman,serif\" font-size=\"14.00\">≤0</text>\r\n",
       "</a>\r\n",
       "</g>\r\n",
       "</g>\r\n",
       "<!-- 22 -->\r\n",
       "<g id=\"node22\" class=\"node\">\r\n",
       "<title>22</title>\r\n",
       "<polygon fill=\"none\" stroke=\"black\" points=\"788.5,-621.5 788.5,-666.5 870.5,-666.5 870.5,-621.5 788.5,-621.5\"/>\r\n",
       "<text text-anchor=\"start\" x=\"813.5\" y=\"-654\" font-family=\"Times New Roman,serif\" font-size=\"10.00\" fill=\"dimgrey\">[13, 16]</text>\r\n",
       "<text text-anchor=\"start\" x=\"796.5\" y=\"-639.8\" font-family=\"Times New Roman,serif\" font-size=\"14.00\">cholesterol?</text>\r\n",
       "<text text-anchor=\"start\" x=\"838.5\" y=\"-628\" font-family=\"Times New Roman,serif\" font-size=\"10.00\" fill=\"dimgrey\">Nr.22</text>\r\n",
       "</g>\r\n",
       "<!-- 18&#45;&gt;22 -->\r\n",
       "<g id=\"edge31\" class=\"edge\">\r\n",
       "<title>18&#45;&gt;22</title>\r\n",
       "<path fill=\"none\" stroke=\"black\" d=\"M754.81,-721.25C768.48,-707.29 786.39,-689.01 801.24,-673.85\"/>\r\n",
       "<polygon fill=\"black\" stroke=\"black\" points=\"803.76,-676.28 808.25,-666.69 798.76,-671.38 803.76,-676.28\"/>\r\n",
       "<g id=\"a_edge31&#45;label\"><a xlink:title=\"0\">\r\n",
       "<text text-anchor=\"middle\" x=\"795.5\" y=\"-691.8\" font-family=\"Times New Roman,serif\" font-size=\"14.00\">&gt;0</text>\r\n",
       "</a>\r\n",
       "</g>\r\n",
       "</g>\r\n",
       "<!-- 20 -->\r\n",
       "<g id=\"node20\" class=\"node\">\r\n",
       "<title>20</title>\r\n",
       "<polygon fill=\"yellow\" stroke=\"yellow\" points=\"590.5,-515.5 590.5,-566.5 644.5,-566.5 644.5,-515.5 590.5,-515.5\"/>\r\n",
       "<text text-anchor=\"start\" x=\"606.5\" y=\"-553\" font-family=\"Times New Roman,serif\" font-size=\"10.00\" fill=\"dimgrey\">[0, 1]</text>\r\n",
       "<text text-anchor=\"start\" x=\"604.5\" y=\"-536.8\" font-family=\"Times New Roman,serif\" font-size=\"14.00\">True</text>\r\n",
       "<text text-anchor=\"start\" x=\"606.5\" y=\"-523\" font-family=\"Times New Roman,serif\" font-size=\"10.00\" fill=\"dimgrey\">Nr.20</text>\r\n",
       "</g>\r\n",
       "<!-- 19&#45;&gt;20 -->\r\n",
       "<g id=\"edge16\" class=\"edge\">\r\n",
       "<title>19&#45;&gt;20</title>\r\n",
       "<path fill=\"none\" stroke=\"black\" d=\"M670.2,-621.16C664.61,-614.52 658.64,-607.1 653.5,-600 647.89,-592.24 642.23,-583.61 637.12,-575.42\"/>\r\n",
       "<polygon fill=\"black\" stroke=\"black\" points=\"640.03,-573.46 631.82,-566.77 634.06,-577.12 640.03,-573.46\"/>\r\n",
       "<g id=\"a_edge16&#45;label\"><a xlink:title=\"97.0\">\r\n",
       "<text text-anchor=\"middle\" x=\"669.5\" y=\"-588.8\" font-family=\"Times New Roman,serif\" font-size=\"14.00\">≤97.0</text>\r\n",
       "</a>\r\n",
       "</g>\r\n",
       "</g>\r\n",
       "<!-- 21 -->\r\n",
       "<g id=\"node21\" class=\"node\">\r\n",
       "<title>21</title>\r\n",
       "<polygon fill=\"yellow\" stroke=\"yellow\" points=\"662.5,-515.5 662.5,-566.5 716.5,-566.5 716.5,-515.5 662.5,-515.5\"/>\r\n",
       "<text text-anchor=\"start\" x=\"676.5\" y=\"-553\" font-family=\"Times New Roman,serif\" font-size=\"10.00\" fill=\"dimgrey\">[15, 0]</text>\r\n",
       "<text text-anchor=\"start\" x=\"675.5\" y=\"-536.8\" font-family=\"Times New Roman,serif\" font-size=\"14.00\">False</text>\r\n",
       "<text text-anchor=\"start\" x=\"680.5\" y=\"-523\" font-family=\"Times New Roman,serif\" font-size=\"10.00\" fill=\"dimgrey\">Nr.21</text>\r\n",
       "</g>\r\n",
       "<!-- 19&#45;&gt;21 -->\r\n",
       "<g id=\"edge17\" class=\"edge\">\r\n",
       "<title>19&#45;&gt;21</title>\r\n",
       "<path fill=\"none\" stroke=\"black\" d=\"M689.5,-621.08C689.5,-608.2 689.5,-591.61 689.5,-576.96\"/>\r\n",
       "<polygon fill=\"black\" stroke=\"black\" points=\"693,-576.71 689.5,-566.71 686,-576.71 693,-576.71\"/>\r\n",
       "<g id=\"a_edge17&#45;label\"><a xlink:title=\"97.0\">\r\n",
       "<text text-anchor=\"middle\" x=\"706\" y=\"-588.8\" font-family=\"Times New Roman,serif\" font-size=\"14.00\">&gt;97.0</text>\r\n",
       "</a>\r\n",
       "</g>\r\n",
       "</g>\r\n",
       "<!-- 23 -->\r\n",
       "<g id=\"node23\" class=\"node\">\r\n",
       "<title>23</title>\r\n",
       "<polygon fill=\"none\" stroke=\"black\" points=\"734.5,-518.5 734.5,-563.5 924.5,-563.5 924.5,-518.5 734.5,-518.5\"/>\r\n",
       "<text text-anchor=\"start\" x=\"816.5\" y=\"-551\" font-family=\"Times New Roman,serif\" font-size=\"10.00\" fill=\"dimgrey\">[11, 4]</text>\r\n",
       "<text text-anchor=\"start\" x=\"742.5\" y=\"-536.8\" font-family=\"Times New Roman,serif\" font-size=\"14.00\">peak exercise blood pressure d?</text>\r\n",
       "<text text-anchor=\"start\" x=\"892.5\" y=\"-525\" font-family=\"Times New Roman,serif\" font-size=\"10.00\" fill=\"dimgrey\">Nr.23</text>\r\n",
       "</g>\r\n",
       "<!-- 22&#45;&gt;23 -->\r\n",
       "<g id=\"edge25\" class=\"edge\">\r\n",
       "<title>22&#45;&gt;23</title>\r\n",
       "<path fill=\"none\" stroke=\"black\" d=\"M829.5,-621.08C829.5,-607.23 829.5,-589.08 829.5,-573.67\"/>\r\n",
       "<polygon fill=\"black\" stroke=\"black\" points=\"833,-573.53 829.5,-563.53 826,-573.53 833,-573.53\"/>\r\n",
       "<g id=\"a_edge25&#45;label\"><a xlink:title=\"243\">\r\n",
       "<text text-anchor=\"middle\" x=\"843.5\" y=\"-588.8\" font-family=\"Times New Roman,serif\" font-size=\"14.00\">≤243</text>\r\n",
       "</a>\r\n",
       "</g>\r\n",
       "</g>\r\n",
       "<!-- 30 -->\r\n",
       "<g id=\"node30\" class=\"node\">\r\n",
       "<title>30</title>\r\n",
       "<polygon fill=\"none\" stroke=\"black\" points=\"942.5,-518.5 942.5,-563.5 1044.5,-563.5 1044.5,-518.5 942.5,-518.5\"/>\r\n",
       "<text text-anchor=\"start\" x=\"980\" y=\"-551\" font-family=\"Times New Roman,serif\" font-size=\"10.00\" fill=\"dimgrey\">[2, 12]</text>\r\n",
       "<text text-anchor=\"start\" x=\"950.5\" y=\"-536.8\" font-family=\"Times New Roman,serif\" font-size=\"14.00\">years smoking?</text>\r\n",
       "<text text-anchor=\"start\" x=\"1012.5\" y=\"-525\" font-family=\"Times New Roman,serif\" font-size=\"10.00\" fill=\"dimgrey\">Nr.30</text>\r\n",
       "</g>\r\n",
       "<!-- 22&#45;&gt;30 -->\r\n",
       "<g id=\"edge30\" class=\"edge\">\r\n",
       "<title>22&#45;&gt;30</title>\r\n",
       "<path fill=\"none\" stroke=\"black\" d=\"M864.68,-621.33C889.54,-606.02 923.04,-585.39 949.64,-569.01\"/>\r\n",
       "<polygon fill=\"black\" stroke=\"black\" points=\"951.7,-571.86 958.38,-563.63 948.03,-565.89 951.7,-571.86\"/>\r\n",
       "<g id=\"a_edge30&#45;label\"><a xlink:title=\"243\">\r\n",
       "<text text-anchor=\"middle\" x=\"936\" y=\"-588.8\" font-family=\"Times New Roman,serif\" font-size=\"14.00\">&gt;243</text>\r\n",
       "</a>\r\n",
       "</g>\r\n",
       "</g>\r\n",
       "<!-- 24 -->\r\n",
       "<g id=\"node24\" class=\"node\">\r\n",
       "<title>24</title>\r\n",
       "<polygon fill=\"none\" stroke=\"black\" points=\"533,-415.5 533,-460.5 814,-460.5 814,-415.5 533,-415.5\"/>\r\n",
       "<text text-anchor=\"start\" x=\"663\" y=\"-448\" font-family=\"Times New Roman,serif\" font-size=\"10.00\" fill=\"dimgrey\">[3, 4]</text>\r\n",
       "<text text-anchor=\"start\" x=\"541.5\" y=\"-433.8\" font-family=\"Times New Roman,serif\" font-size=\"14.00\">number of major vessels colored by flourosopy?</text>\r\n",
       "<text text-anchor=\"start\" x=\"782.5\" y=\"-422\" font-family=\"Times New Roman,serif\" font-size=\"10.00\" fill=\"dimgrey\">Nr.24</text>\r\n",
       "</g>\r\n",
       "<!-- 23&#45;&gt;24 -->\r\n",
       "<g id=\"edge23\" class=\"edge\">\r\n",
       "<title>23&#45;&gt;24</title>\r\n",
       "<path fill=\"none\" stroke=\"black\" d=\"M796.03,-518.33C772.49,-503.09 740.8,-482.57 715.55,-466.22\"/>\r\n",
       "<polygon fill=\"black\" stroke=\"black\" points=\"717.21,-463.13 706.91,-460.63 713.4,-469 717.21,-463.13\"/>\r\n",
       "<g id=\"a_edge23&#45;label\"><a xlink:title=\"78\">\r\n",
       "<text text-anchor=\"middle\" x=\"772.5\" y=\"-485.8\" font-family=\"Times New Roman,serif\" font-size=\"14.00\">≤78</text>\r\n",
       "</a>\r\n",
       "</g>\r\n",
       "</g>\r\n",
       "<!-- 29 -->\r\n",
       "<g id=\"node29\" class=\"node\">\r\n",
       "<title>29</title>\r\n",
       "<polygon fill=\"yellow\" stroke=\"yellow\" points=\"832.5,-412.5 832.5,-463.5 886.5,-463.5 886.5,-412.5 832.5,-412.5\"/>\r\n",
       "<text text-anchor=\"start\" x=\"849\" y=\"-450\" font-family=\"Times New Roman,serif\" font-size=\"10.00\" fill=\"dimgrey\">[8, 0]</text>\r\n",
       "<text text-anchor=\"start\" x=\"845.5\" y=\"-433.8\" font-family=\"Times New Roman,serif\" font-size=\"14.00\">False</text>\r\n",
       "<text text-anchor=\"start\" x=\"850.5\" y=\"-420\" font-family=\"Times New Roman,serif\" font-size=\"10.00\" fill=\"dimgrey\">Nr.29</text>\r\n",
       "</g>\r\n",
       "<!-- 23&#45;&gt;29 -->\r\n",
       "<g id=\"edge24\" class=\"edge\">\r\n",
       "<title>23&#45;&gt;29</title>\r\n",
       "<path fill=\"none\" stroke=\"black\" d=\"M836.01,-518.08C839.87,-505.07 844.86,-488.29 849.24,-473.53\"/>\r\n",
       "<polygon fill=\"black\" stroke=\"black\" points=\"852.67,-474.29 852.16,-463.71 845.96,-472.3 852.67,-474.29\"/>\r\n",
       "<g id=\"a_edge24&#45;label\"><a xlink:title=\"78\">\r\n",
       "<text text-anchor=\"middle\" x=\"857.5\" y=\"-485.8\" font-family=\"Times New Roman,serif\" font-size=\"14.00\">&gt;78</text>\r\n",
       "</a>\r\n",
       "</g>\r\n",
       "</g>\r\n",
       "<!-- 25 -->\r\n",
       "<g id=\"node25\" class=\"node\">\r\n",
       "<title>25</title>\r\n",
       "<polygon fill=\"none\" stroke=\"black\" points=\"571.5,-312.5 571.5,-357.5 759.5,-357.5 759.5,-312.5 571.5,-312.5\"/>\r\n",
       "<text text-anchor=\"start\" x=\"654.5\" y=\"-345\" font-family=\"Times New Roman,serif\" font-size=\"10.00\" fill=\"dimgrey\">[3, 1]</text>\r\n",
       "<text text-anchor=\"start\" x=\"579.5\" y=\"-330.8\" font-family=\"Times New Roman,serif\" font-size=\"14.00\">peak exercise blood pressure s?</text>\r\n",
       "<text text-anchor=\"start\" x=\"727.5\" y=\"-319\" font-family=\"Times New Roman,serif\" font-size=\"10.00\" fill=\"dimgrey\">Nr.25</text>\r\n",
       "</g>\r\n",
       "<!-- 24&#45;&gt;25 -->\r\n",
       "<g id=\"edge21\" class=\"edge\">\r\n",
       "<title>24&#45;&gt;25</title>\r\n",
       "<path fill=\"none\" stroke=\"black\" d=\"M671.76,-415.08C670.67,-401.23 669.23,-383.08 668.01,-367.67\"/>\r\n",
       "<polygon fill=\"black\" stroke=\"black\" points=\"671.48,-367.22 667.21,-357.53 664.51,-367.77 671.48,-367.22\"/>\r\n",
       "<g id=\"a_edge21&#45;label\"><a xlink:title=\"0.0\">\r\n",
       "<text text-anchor=\"middle\" x=\"683\" y=\"-382.8\" font-family=\"Times New Roman,serif\" font-size=\"14.00\">≤0.0</text>\r\n",
       "</a>\r\n",
       "</g>\r\n",
       "</g>\r\n",
       "<!-- 28 -->\r\n",
       "<g id=\"node28\" class=\"node\">\r\n",
       "<title>28</title>\r\n",
       "<polygon fill=\"yellow\" stroke=\"yellow\" points=\"777.5,-309.5 777.5,-360.5 831.5,-360.5 831.5,-309.5 777.5,-309.5\"/>\r\n",
       "<text text-anchor=\"start\" x=\"793.5\" y=\"-347\" font-family=\"Times New Roman,serif\" font-size=\"10.00\" fill=\"dimgrey\">[0, 3]</text>\r\n",
       "<text text-anchor=\"start\" x=\"791.5\" y=\"-330.8\" font-family=\"Times New Roman,serif\" font-size=\"14.00\">True</text>\r\n",
       "<text text-anchor=\"start\" x=\"793.5\" y=\"-317\" font-family=\"Times New Roman,serif\" font-size=\"10.00\" fill=\"dimgrey\">Nr.28</text>\r\n",
       "</g>\r\n",
       "<!-- 24&#45;&gt;28 -->\r\n",
       "<g id=\"edge22\" class=\"edge\">\r\n",
       "<title>24&#45;&gt;28</title>\r\n",
       "<path fill=\"none\" stroke=\"black\" d=\"M701.6,-415.33C721.38,-400.08 748,-379.56 769.21,-363.21\"/>\r\n",
       "<polygon fill=\"black\" stroke=\"black\" points=\"771.56,-365.82 777.34,-356.94 767.28,-360.27 771.56,-365.82\"/>\r\n",
       "<g id=\"a_edge22&#45;label\"><a xlink:title=\"0.0\">\r\n",
       "<text text-anchor=\"middle\" x=\"760.5\" y=\"-382.8\" font-family=\"Times New Roman,serif\" font-size=\"14.00\">&gt;0.0</text>\r\n",
       "</a>\r\n",
       "</g>\r\n",
       "</g>\r\n",
       "<!-- 26 -->\r\n",
       "<g id=\"node26\" class=\"node\">\r\n",
       "<title>26</title>\r\n",
       "<polygon fill=\"yellow\" stroke=\"yellow\" points=\"602.5,-206.5 602.5,-257.5 656.5,-257.5 656.5,-206.5 602.5,-206.5\"/>\r\n",
       "<text text-anchor=\"start\" x=\"619\" y=\"-244\" font-family=\"Times New Roman,serif\" font-size=\"10.00\" fill=\"dimgrey\">[3, 0]</text>\r\n",
       "<text text-anchor=\"start\" x=\"615.5\" y=\"-227.8\" font-family=\"Times New Roman,serif\" font-size=\"14.00\">False</text>\r\n",
       "<text text-anchor=\"start\" x=\"620.5\" y=\"-214\" font-family=\"Times New Roman,serif\" font-size=\"10.00\" fill=\"dimgrey\">Nr.26</text>\r\n",
       "</g>\r\n",
       "<!-- 25&#45;&gt;26 -->\r\n",
       "<g id=\"edge19\" class=\"edge\">\r\n",
       "<title>25&#45;&gt;26</title>\r\n",
       "<path fill=\"none\" stroke=\"black\" d=\"M657.69,-312.08C653.05,-299.07 647.07,-282.29 641.81,-267.53\"/>\r\n",
       "<polygon fill=\"black\" stroke=\"black\" points=\"644.96,-265.96 638.31,-257.71 638.37,-268.31 644.96,-265.96\"/>\r\n",
       "<g id=\"a_edge19&#45;label\"><a xlink:title=\"170\">\r\n",
       "<text text-anchor=\"middle\" x=\"664.5\" y=\"-279.8\" font-family=\"Times New Roman,serif\" font-size=\"14.00\">≤170</text>\r\n",
       "</a>\r\n",
       "</g>\r\n",
       "</g>\r\n",
       "<!-- 27 -->\r\n",
       "<g id=\"node27\" class=\"node\">\r\n",
       "<title>27</title>\r\n",
       "<polygon fill=\"yellow\" stroke=\"yellow\" points=\"674.5,-206.5 674.5,-257.5 728.5,-257.5 728.5,-206.5 674.5,-206.5\"/>\r\n",
       "<text text-anchor=\"start\" x=\"690.5\" y=\"-244\" font-family=\"Times New Roman,serif\" font-size=\"10.00\" fill=\"dimgrey\">[0, 1]</text>\r\n",
       "<text text-anchor=\"start\" x=\"688.5\" y=\"-227.8\" font-family=\"Times New Roman,serif\" font-size=\"14.00\">True</text>\r\n",
       "<text text-anchor=\"start\" x=\"690.5\" y=\"-214\" font-family=\"Times New Roman,serif\" font-size=\"10.00\" fill=\"dimgrey\">Nr.27</text>\r\n",
       "</g>\r\n",
       "<!-- 25&#45;&gt;27 -->\r\n",
       "<g id=\"edge20\" class=\"edge\">\r\n",
       "<title>25&#45;&gt;27</title>\r\n",
       "<path fill=\"none\" stroke=\"black\" d=\"M673.31,-312.08C677.95,-299.07 683.93,-282.29 689.19,-267.53\"/>\r\n",
       "<polygon fill=\"black\" stroke=\"black\" points=\"692.63,-268.31 692.69,-257.71 686.04,-265.96 692.63,-268.31\"/>\r\n",
       "<g id=\"a_edge20&#45;label\"><a xlink:title=\"170\">\r\n",
       "<text text-anchor=\"middle\" x=\"701\" y=\"-279.8\" font-family=\"Times New Roman,serif\" font-size=\"14.00\">&gt;170</text>\r\n",
       "</a>\r\n",
       "</g>\r\n",
       "</g>\r\n",
       "<!-- 31 -->\r\n",
       "<g id=\"node31\" class=\"node\">\r\n",
       "<title>31</title>\r\n",
       "<polygon fill=\"none\" stroke=\"black\" points=\"904.5,-415.5 904.5,-460.5 1038.5,-460.5 1038.5,-415.5 904.5,-415.5\"/>\r\n",
       "<text text-anchor=\"start\" x=\"960.5\" y=\"-448\" font-family=\"Times New Roman,serif\" font-size=\"10.00\" fill=\"dimgrey\">[1, 5]</text>\r\n",
       "<text text-anchor=\"start\" x=\"912.5\" y=\"-433.8\" font-family=\"Times New Roman,serif\" font-size=\"14.00\">rest blood pressure s?</text>\r\n",
       "<text text-anchor=\"start\" x=\"1006.5\" y=\"-422\" font-family=\"Times New Roman,serif\" font-size=\"10.00\" fill=\"dimgrey\">Nr.31</text>\r\n",
       "</g>\r\n",
       "<!-- 30&#45;&gt;31 -->\r\n",
       "<g id=\"edge28\" class=\"edge\">\r\n",
       "<title>30&#45;&gt;31</title>\r\n",
       "<path fill=\"none\" stroke=\"black\" d=\"M988.73,-518.08C985.71,-504.23 981.76,-486.08 978.4,-470.67\"/>\r\n",
       "<polygon fill=\"black\" stroke=\"black\" points=\"981.74,-469.55 976.19,-460.53 974.9,-471.04 981.74,-469.55\"/>\r\n",
       "<g id=\"a_edge28&#45;label\"><a xlink:title=\"0.0\">\r\n",
       "<text text-anchor=\"middle\" x=\"997\" y=\"-485.8\" font-family=\"Times New Roman,serif\" font-size=\"14.00\">≤0.0</text>\r\n",
       "</a>\r\n",
       "</g>\r\n",
       "</g>\r\n",
       "<!-- 34 -->\r\n",
       "<g id=\"node34\" class=\"node\">\r\n",
       "<title>34</title>\r\n",
       "<polygon fill=\"yellow\" stroke=\"yellow\" points=\"1056.5,-412.5 1056.5,-463.5 1110.5,-463.5 1110.5,-412.5 1056.5,-412.5\"/>\r\n",
       "<text text-anchor=\"start\" x=\"1072.5\" y=\"-450\" font-family=\"Times New Roman,serif\" font-size=\"10.00\" fill=\"dimgrey\">[0, 7]</text>\r\n",
       "<text text-anchor=\"start\" x=\"1070.5\" y=\"-433.8\" font-family=\"Times New Roman,serif\" font-size=\"14.00\">True</text>\r\n",
       "<text text-anchor=\"start\" x=\"1072.5\" y=\"-420\" font-family=\"Times New Roman,serif\" font-size=\"10.00\" fill=\"dimgrey\">Nr.34</text>\r\n",
       "</g>\r\n",
       "<!-- 30&#45;&gt;34 -->\r\n",
       "<g id=\"edge29\" class=\"edge\">\r\n",
       "<title>30&#45;&gt;34</title>\r\n",
       "<path fill=\"none\" stroke=\"black\" d=\"M1013.03,-518.08C1025.18,-504.45 1041.02,-486.67 1054.61,-471.42\"/>\r\n",
       "<polygon fill=\"black\" stroke=\"black\" points=\"1057.44,-473.51 1061.48,-463.71 1052.21,-468.85 1057.44,-473.51\"/>\r\n",
       "<g id=\"a_edge29&#45;label\"><a xlink:title=\"0.0\">\r\n",
       "<text text-anchor=\"middle\" x=\"1057.5\" y=\"-485.8\" font-family=\"Times New Roman,serif\" font-size=\"14.00\">&gt;0.0</text>\r\n",
       "</a>\r\n",
       "</g>\r\n",
       "</g>\r\n",
       "<!-- 32 -->\r\n",
       "<g id=\"node32\" class=\"node\">\r\n",
       "<title>32</title>\r\n",
       "<polygon fill=\"yellow\" stroke=\"yellow\" points=\"917.5,-309.5 917.5,-360.5 971.5,-360.5 971.5,-309.5 917.5,-309.5\"/>\r\n",
       "<text text-anchor=\"start\" x=\"933.5\" y=\"-347\" font-family=\"Times New Roman,serif\" font-size=\"10.00\" fill=\"dimgrey\">[0, 5]</text>\r\n",
       "<text text-anchor=\"start\" x=\"931.5\" y=\"-330.8\" font-family=\"Times New Roman,serif\" font-size=\"14.00\">True</text>\r\n",
       "<text text-anchor=\"start\" x=\"933.5\" y=\"-317\" font-family=\"Times New Roman,serif\" font-size=\"10.00\" fill=\"dimgrey\">Nr.32</text>\r\n",
       "</g>\r\n",
       "<!-- 31&#45;&gt;32 -->\r\n",
       "<g id=\"edge26\" class=\"edge\">\r\n",
       "<title>31&#45;&gt;32</title>\r\n",
       "<path fill=\"none\" stroke=\"black\" d=\"M965.64,-415.08C962.16,-402.07 957.68,-385.29 953.73,-370.53\"/>\r\n",
       "<polygon fill=\"black\" stroke=\"black\" points=\"957.07,-369.47 951.11,-360.71 950.31,-371.28 957.07,-369.47\"/>\r\n",
       "<g id=\"a_edge26&#45;label\"><a xlink:title=\"170\">\r\n",
       "<text text-anchor=\"middle\" x=\"974.5\" y=\"-382.8\" font-family=\"Times New Roman,serif\" font-size=\"14.00\">≤170</text>\r\n",
       "</a>\r\n",
       "</g>\r\n",
       "</g>\r\n",
       "<!-- 33 -->\r\n",
       "<g id=\"node33\" class=\"node\">\r\n",
       "<title>33</title>\r\n",
       "<polygon fill=\"yellow\" stroke=\"yellow\" points=\"989.5,-309.5 989.5,-360.5 1043.5,-360.5 1043.5,-309.5 989.5,-309.5\"/>\r\n",
       "<text text-anchor=\"start\" x=\"1006\" y=\"-347\" font-family=\"Times New Roman,serif\" font-size=\"10.00\" fill=\"dimgrey\">[1, 0]</text>\r\n",
       "<text text-anchor=\"start\" x=\"1002.5\" y=\"-330.8\" font-family=\"Times New Roman,serif\" font-size=\"14.00\">False</text>\r\n",
       "<text text-anchor=\"start\" x=\"1007.5\" y=\"-317\" font-family=\"Times New Roman,serif\" font-size=\"10.00\" fill=\"dimgrey\">Nr.33</text>\r\n",
       "</g>\r\n",
       "<!-- 31&#45;&gt;33 -->\r\n",
       "<g id=\"edge27\" class=\"edge\">\r\n",
       "<title>31&#45;&gt;33</title>\r\n",
       "<path fill=\"none\" stroke=\"black\" d=\"M982.45,-415.25C985.76,-408.48 989.36,-400.97 992.5,-394 995.97,-386.3 999.54,-377.95 1002.83,-370.04\"/>\r\n",
       "<polygon fill=\"black\" stroke=\"black\" points=\"1006.1,-371.28 1006.67,-360.7 999.63,-368.61 1006.1,-371.28\"/>\r\n",
       "<g id=\"a_edge27&#45;label\"><a xlink:title=\"170\">\r\n",
       "<text text-anchor=\"middle\" x=\"1014\" y=\"-382.8\" font-family=\"Times New Roman,serif\" font-size=\"14.00\">&gt;170</text>\r\n",
       "</a>\r\n",
       "</g>\r\n",
       "</g>\r\n",
       "<!-- 36 -->\r\n",
       "<g id=\"node36\" class=\"node\">\r\n",
       "<title>36</title>\r\n",
       "<polygon fill=\"none\" stroke=\"black\" points=\"1258,-721.5 1258,-766.5 1365,-766.5 1365,-721.5 1258,-721.5\"/>\r\n",
       "<text text-anchor=\"start\" x=\"1296\" y=\"-754\" font-family=\"Times New Roman,serif\" font-size=\"10.00\" fill=\"dimgrey\">[22, 20]</text>\r\n",
       "<text text-anchor=\"start\" x=\"1266.5\" y=\"-739.8\" font-family=\"Times New Roman,serif\" font-size=\"14.00\">exercise angina?</text>\r\n",
       "<text text-anchor=\"start\" x=\"1333.5\" y=\"-728\" font-family=\"Times New Roman,serif\" font-size=\"10.00\" fill=\"dimgrey\">Nr.36</text>\r\n",
       "</g>\r\n",
       "<!-- 35&#45;&gt;36 -->\r\n",
       "<g id=\"edge56\" class=\"edge\">\r\n",
       "<title>35&#45;&gt;36</title>\r\n",
       "<path fill=\"none\" stroke=\"black\" d=\"M1311.5,-818.44C1311.5,-806.26 1311.5,-790.8 1311.5,-777.2\"/>\r\n",
       "<polygon fill=\"black\" stroke=\"black\" points=\"1315,-776.8 1311.5,-766.8 1308,-776.8 1315,-776.8\"/>\r\n",
       "<g id=\"a_edge56&#45;label\"><a xlink:title=\"0.0\">\r\n",
       "<text text-anchor=\"middle\" x=\"1324\" y=\"-788.8\" font-family=\"Times New Roman,serif\" font-size=\"14.00\">≤0.0</text>\r\n",
       "</a>\r\n",
       "</g>\r\n",
       "</g>\r\n",
       "<!-- 59 -->\r\n",
       "<g id=\"node59\" class=\"node\">\r\n",
       "<title>59</title>\r\n",
       "<polygon fill=\"none\" stroke=\"black\" points=\"1439.5,-721.5 1439.5,-766.5 1575.5,-766.5 1575.5,-721.5 1439.5,-721.5\"/>\r\n",
       "<text text-anchor=\"start\" x=\"1494\" y=\"-754\" font-family=\"Times New Roman,serif\" font-size=\"10.00\" fill=\"dimgrey\">[2, 47]</text>\r\n",
       "<text text-anchor=\"start\" x=\"1447.5\" y=\"-739.8\" font-family=\"Times New Roman,serif\" font-size=\"14.00\">rest blood pressure d?</text>\r\n",
       "<text text-anchor=\"start\" x=\"1543.5\" y=\"-728\" font-family=\"Times New Roman,serif\" font-size=\"10.00\" fill=\"dimgrey\">Nr.59</text>\r\n",
       "</g>\r\n",
       "<!-- 35&#45;&gt;59 -->\r\n",
       "<g id=\"edge65\" class=\"edge\">\r\n",
       "<title>35&#45;&gt;59</title>\r\n",
       "<path fill=\"none\" stroke=\"black\" d=\"M1355.98,-818.44C1384.94,-804.4 1422.91,-786 1453.59,-771.13\"/>\r\n",
       "<polygon fill=\"black\" stroke=\"black\" points=\"1455.39,-774.15 1462.86,-766.64 1452.34,-767.85 1455.39,-774.15\"/>\r\n",
       "<g id=\"a_edge65&#45;label\"><a xlink:title=\"0.0\">\r\n",
       "<text text-anchor=\"middle\" x=\"1434.5\" y=\"-788.8\" font-family=\"Times New Roman,serif\" font-size=\"14.00\">&gt;0.0</text>\r\n",
       "</a>\r\n",
       "</g>\r\n",
       "</g>\r\n",
       "<!-- 37 -->\r\n",
       "<g id=\"node37\" class=\"node\">\r\n",
       "<title>37</title>\r\n",
       "<polygon fill=\"none\" stroke=\"black\" points=\"1214,-621.5 1214,-666.5 1311,-666.5 1311,-621.5 1214,-621.5\"/>\r\n",
       "<text text-anchor=\"start\" x=\"1249.5\" y=\"-654\" font-family=\"Times New Roman,serif\" font-size=\"10.00\" fill=\"dimgrey\">[16, 6]</text>\r\n",
       "<text text-anchor=\"start\" x=\"1222.5\" y=\"-639.8\" font-family=\"Times New Roman,serif\" font-size=\"14.00\">rest heart rate?</text>\r\n",
       "<text text-anchor=\"start\" x=\"1279.5\" y=\"-628\" font-family=\"Times New Roman,serif\" font-size=\"10.00\" fill=\"dimgrey\">Nr.37</text>\r\n",
       "</g>\r\n",
       "<!-- 36&#45;&gt;37 -->\r\n",
       "<g id=\"edge46\" class=\"edge\">\r\n",
       "<title>36&#45;&gt;37</title>\r\n",
       "<path fill=\"none\" stroke=\"black\" d=\"M1300.63,-721.25C1293.96,-707.93 1285.33,-690.67 1277.97,-675.94\"/>\r\n",
       "<polygon fill=\"black\" stroke=\"black\" points=\"1280.95,-674.07 1273.34,-666.69 1274.69,-677.2 1280.95,-674.07\"/>\r\n",
       "<g id=\"a_edge46&#45;label\"><a xlink:title=\"0.0\">\r\n",
       "<text text-anchor=\"middle\" x=\"1304\" y=\"-691.8\" font-family=\"Times New Roman,serif\" font-size=\"14.00\">≤0.0</text>\r\n",
       "</a>\r\n",
       "</g>\r\n",
       "</g>\r\n",
       "<!-- 50 -->\r\n",
       "<g id=\"node50\" class=\"node\">\r\n",
       "<title>50</title>\r\n",
       "<polygon fill=\"none\" stroke=\"black\" points=\"1329,-621.5 1329,-666.5 1430,-666.5 1430,-621.5 1329,-621.5\"/>\r\n",
       "<text text-anchor=\"start\" x=\"1366.5\" y=\"-654\" font-family=\"Times New Roman,serif\" font-size=\"10.00\" fill=\"dimgrey\">[6, 14]</text>\r\n",
       "<text text-anchor=\"start\" x=\"1337.5\" y=\"-639.8\" font-family=\"Times New Roman,serif\" font-size=\"14.00\">max heart rate?</text>\r\n",
       "<text text-anchor=\"start\" x=\"1398.5\" y=\"-628\" font-family=\"Times New Roman,serif\" font-size=\"10.00\" fill=\"dimgrey\">Nr.50</text>\r\n",
       "</g>\r\n",
       "<!-- 36&#45;&gt;50 -->\r\n",
       "<g id=\"edge55\" class=\"edge\">\r\n",
       "<title>36&#45;&gt;50</title>\r\n",
       "<path fill=\"none\" stroke=\"black\" d=\"M1326.59,-721.25C1336.01,-707.67 1348.27,-690.01 1358.62,-675.1\"/>\r\n",
       "<polygon fill=\"black\" stroke=\"black\" points=\"1361.63,-676.9 1364.45,-666.69 1355.87,-672.91 1361.63,-676.9\"/>\r\n",
       "<g id=\"a_edge55&#45;label\"><a xlink:title=\"0.0\">\r\n",
       "<text text-anchor=\"middle\" x=\"1363.5\" y=\"-691.8\" font-family=\"Times New Roman,serif\" font-size=\"14.00\">&gt;0.0</text>\r\n",
       "</a>\r\n",
       "</g>\r\n",
       "</g>\r\n",
       "<!-- 38 -->\r\n",
       "<g id=\"node38\" class=\"node\">\r\n",
       "<title>38</title>\r\n",
       "<polygon fill=\"none\" stroke=\"black\" points=\"1164.5,-518.5 1164.5,-563.5 1218.5,-563.5 1218.5,-518.5 1164.5,-518.5\"/>\r\n",
       "<text text-anchor=\"start\" x=\"1178.5\" y=\"-551\" font-family=\"Times New Roman,serif\" font-size=\"10.00\" fill=\"dimgrey\">[10, 6]</text>\r\n",
       "<text text-anchor=\"start\" x=\"1179.5\" y=\"-536.8\" font-family=\"Times New Roman,serif\" font-size=\"14.00\">age?</text>\r\n",
       "<text text-anchor=\"start\" x=\"1181.5\" y=\"-525\" font-family=\"Times New Roman,serif\" font-size=\"10.00\" fill=\"dimgrey\">Nr.38</text>\r\n",
       "</g>\r\n",
       "<!-- 37&#45;&gt;38 -->\r\n",
       "<g id=\"edge44\" class=\"edge\">\r\n",
       "<title>37&#45;&gt;38</title>\r\n",
       "<path fill=\"none\" stroke=\"black\" d=\"M1247.09,-621.08C1236.98,-606.69 1223.61,-587.68 1212.52,-571.91\"/>\r\n",
       "<polygon fill=\"black\" stroke=\"black\" points=\"1215.25,-569.69 1206.63,-563.53 1209.52,-573.72 1215.25,-569.69\"/>\r\n",
       "<g id=\"a_edge44&#45;label\"><a xlink:title=\"81\">\r\n",
       "<text text-anchor=\"middle\" x=\"1242.5\" y=\"-588.8\" font-family=\"Times New Roman,serif\" font-size=\"14.00\">≤81</text>\r\n",
       "</a>\r\n",
       "</g>\r\n",
       "</g>\r\n",
       "<!-- 49 -->\r\n",
       "<g id=\"node49\" class=\"node\">\r\n",
       "<title>49</title>\r\n",
       "<polygon fill=\"yellow\" stroke=\"yellow\" points=\"1236.5,-515.5 1236.5,-566.5 1290.5,-566.5 1290.5,-515.5 1236.5,-515.5\"/>\r\n",
       "<text text-anchor=\"start\" x=\"1253\" y=\"-553\" font-family=\"Times New Roman,serif\" font-size=\"10.00\" fill=\"dimgrey\">[6, 0]</text>\r\n",
       "<text text-anchor=\"start\" x=\"1249.5\" y=\"-536.8\" font-family=\"Times New Roman,serif\" font-size=\"14.00\">False</text>\r\n",
       "<text text-anchor=\"start\" x=\"1254.5\" y=\"-523\" font-family=\"Times New Roman,serif\" font-size=\"10.00\" fill=\"dimgrey\">Nr.49</text>\r\n",
       "</g>\r\n",
       "<!-- 37&#45;&gt;49 -->\r\n",
       "<g id=\"edge45\" class=\"edge\">\r\n",
       "<title>37&#45;&gt;49</title>\r\n",
       "<path fill=\"none\" stroke=\"black\" d=\"M1262.72,-621.08C1262.84,-608.2 1263.01,-591.61 1263.15,-576.96\"/>\r\n",
       "<polygon fill=\"black\" stroke=\"black\" points=\"1266.66,-576.75 1263.26,-566.71 1259.66,-576.68 1266.66,-576.75\"/>\r\n",
       "<g id=\"a_edge45&#45;label\"><a xlink:title=\"81\">\r\n",
       "<text text-anchor=\"middle\" x=\"1274.5\" y=\"-588.8\" font-family=\"Times New Roman,serif\" font-size=\"14.00\">&gt;81</text>\r\n",
       "</a>\r\n",
       "</g>\r\n",
       "</g>\r\n",
       "<!-- 39 -->\r\n",
       "<g id=\"node39\" class=\"node\">\r\n",
       "<title>39</title>\r\n",
       "<polygon fill=\"none\" stroke=\"black\" points=\"1129,-415.5 1129,-460.5 1230,-460.5 1230,-415.5 1129,-415.5\"/>\r\n",
       "<text text-anchor=\"start\" x=\"1169\" y=\"-448\" font-family=\"Times New Roman,serif\" font-size=\"10.00\" fill=\"dimgrey\">[6, 6]</text>\r\n",
       "<text text-anchor=\"start\" x=\"1137.5\" y=\"-433.8\" font-family=\"Times New Roman,serif\" font-size=\"14.00\">max heart rate?</text>\r\n",
       "<text text-anchor=\"start\" x=\"1198.5\" y=\"-422\" font-family=\"Times New Roman,serif\" font-size=\"10.00\" fill=\"dimgrey\">Nr.39</text>\r\n",
       "</g>\r\n",
       "<!-- 38&#45;&gt;39 -->\r\n",
       "<g id=\"edge42\" class=\"edge\">\r\n",
       "<title>38&#45;&gt;39</title>\r\n",
       "<path fill=\"none\" stroke=\"black\" d=\"M1188.9,-518.08C1187.25,-504.23 1185.09,-486.08 1183.26,-470.67\"/>\r\n",
       "<polygon fill=\"black\" stroke=\"black\" points=\"1186.71,-470.04 1182.06,-460.53 1179.76,-470.87 1186.71,-470.04\"/>\r\n",
       "<g id=\"a_edge42&#45;label\"><a xlink:title=\"61\">\r\n",
       "<text text-anchor=\"middle\" x=\"1197.5\" y=\"-485.8\" font-family=\"Times New Roman,serif\" font-size=\"14.00\">≤61</text>\r\n",
       "</a>\r\n",
       "</g>\r\n",
       "</g>\r\n",
       "<!-- 48 -->\r\n",
       "<g id=\"node48\" class=\"node\">\r\n",
       "<title>48</title>\r\n",
       "<polygon fill=\"yellow\" stroke=\"yellow\" points=\"1248.5,-412.5 1248.5,-463.5 1302.5,-463.5 1302.5,-412.5 1248.5,-412.5\"/>\r\n",
       "<text text-anchor=\"start\" x=\"1265\" y=\"-450\" font-family=\"Times New Roman,serif\" font-size=\"10.00\" fill=\"dimgrey\">[4, 0]</text>\r\n",
       "<text text-anchor=\"start\" x=\"1261.5\" y=\"-433.8\" font-family=\"Times New Roman,serif\" font-size=\"14.00\">False</text>\r\n",
       "<text text-anchor=\"start\" x=\"1266.5\" y=\"-420\" font-family=\"Times New Roman,serif\" font-size=\"10.00\" fill=\"dimgrey\">Nr.48</text>\r\n",
       "</g>\r\n",
       "<!-- 38&#45;&gt;48 -->\r\n",
       "<g id=\"edge43\" class=\"edge\">\r\n",
       "<title>38&#45;&gt;48</title>\r\n",
       "<path fill=\"none\" stroke=\"black\" d=\"M1209.73,-518.08C1221.07,-504.45 1235.86,-486.67 1248.54,-471.42\"/>\r\n",
       "<polygon fill=\"black\" stroke=\"black\" points=\"1251.24,-473.64 1254.95,-463.71 1245.86,-469.16 1251.24,-473.64\"/>\r\n",
       "<g id=\"a_edge43&#45;label\"><a xlink:title=\"61\">\r\n",
       "<text text-anchor=\"middle\" x=\"1250.5\" y=\"-485.8\" font-family=\"Times New Roman,serif\" font-size=\"14.00\">&gt;61</text>\r\n",
       "</a>\r\n",
       "</g>\r\n",
       "</g>\r\n",
       "<!-- 40 -->\r\n",
       "<g id=\"node40\" class=\"node\">\r\n",
       "<title>40</title>\r\n",
       "<polygon fill=\"none\" stroke=\"black\" points=\"1079.5,-312.5 1079.5,-357.5 1161.5,-357.5 1161.5,-312.5 1079.5,-312.5\"/>\r\n",
       "<text text-anchor=\"start\" x=\"1109.5\" y=\"-345\" font-family=\"Times New Roman,serif\" font-size=\"10.00\" fill=\"dimgrey\">[3, 6]</text>\r\n",
       "<text text-anchor=\"start\" x=\"1087.5\" y=\"-330.8\" font-family=\"Times New Roman,serif\" font-size=\"14.00\">cholesterol?</text>\r\n",
       "<text text-anchor=\"start\" x=\"1129.5\" y=\"-319\" font-family=\"Times New Roman,serif\" font-size=\"10.00\" fill=\"dimgrey\">Nr.40</text>\r\n",
       "</g>\r\n",
       "<!-- 39&#45;&gt;40 -->\r\n",
       "<g id=\"edge40\" class=\"edge\">\r\n",
       "<title>39&#45;&gt;40</title>\r\n",
       "<path fill=\"none\" stroke=\"black\" d=\"M1162.65,-415.18C1157.83,-408.54 1152.74,-401.12 1148.5,-394 1143.42,-385.46 1138.49,-375.87 1134.22,-366.97\"/>\r\n",
       "<polygon fill=\"black\" stroke=\"black\" points=\"1137.28,-365.25 1129.87,-357.68 1130.94,-368.22 1137.28,-365.25\"/>\r\n",
       "<g id=\"a_edge40&#45;label\"><a xlink:title=\"169.0\">\r\n",
       "<text text-anchor=\"middle\" x=\"1168\" y=\"-382.8\" font-family=\"Times New Roman,serif\" font-size=\"14.00\">≤169.0</text>\r\n",
       "</a>\r\n",
       "</g>\r\n",
       "</g>\r\n",
       "<!-- 47 -->\r\n",
       "<g id=\"node47\" class=\"node\">\r\n",
       "<title>47</title>\r\n",
       "<polygon fill=\"yellow\" stroke=\"yellow\" points=\"1179.5,-309.5 1179.5,-360.5 1233.5,-360.5 1233.5,-309.5 1179.5,-309.5\"/>\r\n",
       "<text text-anchor=\"start\" x=\"1196\" y=\"-347\" font-family=\"Times New Roman,serif\" font-size=\"10.00\" fill=\"dimgrey\">[3, 0]</text>\r\n",
       "<text text-anchor=\"start\" x=\"1192.5\" y=\"-330.8\" font-family=\"Times New Roman,serif\" font-size=\"14.00\">False</text>\r\n",
       "<text text-anchor=\"start\" x=\"1197.5\" y=\"-317\" font-family=\"Times New Roman,serif\" font-size=\"10.00\" fill=\"dimgrey\">Nr.47</text>\r\n",
       "</g>\r\n",
       "<!-- 39&#45;&gt;47 -->\r\n",
       "<g id=\"edge41\" class=\"edge\">\r\n",
       "<title>39&#45;&gt;47</title>\r\n",
       "<path fill=\"none\" stroke=\"black\" d=\"M1185.36,-415.08C1188.84,-402.07 1193.32,-385.29 1197.27,-370.53\"/>\r\n",
       "<polygon fill=\"black\" stroke=\"black\" points=\"1200.69,-371.28 1199.89,-360.71 1193.93,-369.47 1200.69,-371.28\"/>\r\n",
       "<g id=\"a_edge41&#45;label\"><a xlink:title=\"169.0\">\r\n",
       "<text text-anchor=\"middle\" x=\"1215.5\" y=\"-382.8\" font-family=\"Times New Roman,serif\" font-size=\"14.00\">&gt;169.0</text>\r\n",
       "</a>\r\n",
       "</g>\r\n",
       "</g>\r\n",
       "<!-- 41 -->\r\n",
       "<g id=\"node41\" class=\"node\">\r\n",
       "<title>41</title>\r\n",
       "<polygon fill=\"none\" stroke=\"black\" points=\"1021.5,-209.5 1021.5,-254.5 1123.5,-254.5 1123.5,-209.5 1021.5,-209.5\"/>\r\n",
       "<text text-anchor=\"start\" x=\"1061.5\" y=\"-242\" font-family=\"Times New Roman,serif\" font-size=\"10.00\" fill=\"dimgrey\">[3, 3]</text>\r\n",
       "<text text-anchor=\"start\" x=\"1029.5\" y=\"-227.8\" font-family=\"Times New Roman,serif\" font-size=\"14.00\">years smoking?</text>\r\n",
       "<text text-anchor=\"start\" x=\"1091.5\" y=\"-216\" font-family=\"Times New Roman,serif\" font-size=\"10.00\" fill=\"dimgrey\">Nr.41</text>\r\n",
       "</g>\r\n",
       "<!-- 40&#45;&gt;41 -->\r\n",
       "<g id=\"edge38\" class=\"edge\">\r\n",
       "<title>40&#45;&gt;41</title>\r\n",
       "<path fill=\"none\" stroke=\"black\" d=\"M1110.08,-312.08C1103.37,-297.96 1094.54,-279.38 1087.13,-263.79\"/>\r\n",
       "<polygon fill=\"black\" stroke=\"black\" points=\"1090.18,-262.06 1082.73,-254.53 1083.86,-265.06 1090.18,-262.06\"/>\r\n",
       "<g id=\"a_edge38&#45;label\"><a xlink:title=\"265\">\r\n",
       "<text text-anchor=\"middle\" x=\"1113.5\" y=\"-279.8\" font-family=\"Times New Roman,serif\" font-size=\"14.00\">≤265</text>\r\n",
       "</a>\r\n",
       "</g>\r\n",
       "</g>\r\n",
       "<!-- 46 -->\r\n",
       "<g id=\"node46\" class=\"node\">\r\n",
       "<title>46</title>\r\n",
       "<polygon fill=\"yellow\" stroke=\"yellow\" points=\"1141.5,-206.5 1141.5,-257.5 1195.5,-257.5 1195.5,-206.5 1141.5,-206.5\"/>\r\n",
       "<text text-anchor=\"start\" x=\"1157.5\" y=\"-244\" font-family=\"Times New Roman,serif\" font-size=\"10.00\" fill=\"dimgrey\">[0, 3]</text>\r\n",
       "<text text-anchor=\"start\" x=\"1155.5\" y=\"-227.8\" font-family=\"Times New Roman,serif\" font-size=\"14.00\">True</text>\r\n",
       "<text text-anchor=\"start\" x=\"1157.5\" y=\"-214\" font-family=\"Times New Roman,serif\" font-size=\"10.00\" fill=\"dimgrey\">Nr.46</text>\r\n",
       "</g>\r\n",
       "<!-- 40&#45;&gt;46 -->\r\n",
       "<g id=\"edge39\" class=\"edge\">\r\n",
       "<title>40&#45;&gt;46</title>\r\n",
       "<path fill=\"none\" stroke=\"black\" d=\"M1130.92,-312.08C1137.16,-298.95 1145.23,-281.97 1152.29,-267.11\"/>\r\n",
       "<polygon fill=\"black\" stroke=\"black\" points=\"1155.62,-268.25 1156.76,-257.71 1149.3,-265.24 1155.62,-268.25\"/>\r\n",
       "<g id=\"a_edge39&#45;label\"><a xlink:title=\"265\">\r\n",
       "<text text-anchor=\"middle\" x=\"1162\" y=\"-279.8\" font-family=\"Times New Roman,serif\" font-size=\"14.00\">&gt;265</text>\r\n",
       "</a>\r\n",
       "</g>\r\n",
       "</g>\r\n",
       "<!-- 42 -->\r\n",
       "<g id=\"node42\" class=\"node\">\r\n",
       "<title>42</title>\r\n",
       "<polygon fill=\"yellow\" stroke=\"yellow\" points=\"998.5,-103.5 998.5,-154.5 1052.5,-154.5 1052.5,-103.5 998.5,-103.5\"/>\r\n",
       "<text text-anchor=\"start\" x=\"1015\" y=\"-141\" font-family=\"Times New Roman,serif\" font-size=\"10.00\" fill=\"dimgrey\">[2, 0]</text>\r\n",
       "<text text-anchor=\"start\" x=\"1011.5\" y=\"-124.8\" font-family=\"Times New Roman,serif\" font-size=\"14.00\">False</text>\r\n",
       "<text text-anchor=\"start\" x=\"1016.5\" y=\"-111\" font-family=\"Times New Roman,serif\" font-size=\"10.00\" fill=\"dimgrey\">Nr.42</text>\r\n",
       "</g>\r\n",
       "<!-- 41&#45;&gt;42 -->\r\n",
       "<g id=\"edge34\" class=\"edge\">\r\n",
       "<title>41&#45;&gt;42</title>\r\n",
       "<path fill=\"none\" stroke=\"black\" d=\"M1062.3,-209.08C1056.19,-195.95 1048.29,-178.97 1041.37,-164.11\"/>\r\n",
       "<polygon fill=\"black\" stroke=\"black\" points=\"1044.39,-162.3 1037,-154.71 1038.05,-165.25 1044.39,-162.3\"/>\r\n",
       "<g id=\"a_edge34&#45;label\"><a xlink:title=\"0.0\">\r\n",
       "<text text-anchor=\"middle\" x=\"1065\" y=\"-176.8\" font-family=\"Times New Roman,serif\" font-size=\"14.00\">≤0.0</text>\r\n",
       "</a>\r\n",
       "</g>\r\n",
       "</g>\r\n",
       "<!-- 43 -->\r\n",
       "<g id=\"node43\" class=\"node\">\r\n",
       "<title>43</title>\r\n",
       "<polygon fill=\"none\" stroke=\"black\" points=\"1070.5,-106.5 1070.5,-151.5 1260.5,-151.5 1260.5,-106.5 1070.5,-106.5\"/>\r\n",
       "<text text-anchor=\"start\" x=\"1154.5\" y=\"-139\" font-family=\"Times New Roman,serif\" font-size=\"10.00\" fill=\"dimgrey\">[1, 3]</text>\r\n",
       "<text text-anchor=\"start\" x=\"1078.5\" y=\"-124.8\" font-family=\"Times New Roman,serif\" font-size=\"14.00\">peak exercise blood pressure d?</text>\r\n",
       "<text text-anchor=\"start\" x=\"1228.5\" y=\"-113\" font-family=\"Times New Roman,serif\" font-size=\"10.00\" fill=\"dimgrey\">Nr.43</text>\r\n",
       "</g>\r\n",
       "<!-- 41&#45;&gt;43 -->\r\n",
       "<g id=\"edge37\" class=\"edge\">\r\n",
       "<title>41&#45;&gt;43</title>\r\n",
       "<path fill=\"none\" stroke=\"black\" d=\"M1092.68,-209.08C1106.18,-194.43 1124.09,-174.98 1138.77,-159.03\"/>\r\n",
       "<polygon fill=\"black\" stroke=\"black\" points=\"1141.48,-161.25 1145.68,-151.53 1136.33,-156.51 1141.48,-161.25\"/>\r\n",
       "<g id=\"a_edge37&#45;label\"><a xlink:title=\"0.0\">\r\n",
       "<text text-anchor=\"middle\" x=\"1138.5\" y=\"-176.8\" font-family=\"Times New Roman,serif\" font-size=\"14.00\">&gt;0.0</text>\r\n",
       "</a>\r\n",
       "</g>\r\n",
       "</g>\r\n",
       "<!-- 44 -->\r\n",
       "<g id=\"node44\" class=\"node\">\r\n",
       "<title>44</title>\r\n",
       "<polygon fill=\"yellow\" stroke=\"yellow\" points=\"1102.5,-0.5 1102.5,-51.5 1156.5,-51.5 1156.5,-0.5 1102.5,-0.5\"/>\r\n",
       "<text text-anchor=\"start\" x=\"1118.5\" y=\"-38\" font-family=\"Times New Roman,serif\" font-size=\"10.00\" fill=\"dimgrey\">[0, 3]</text>\r\n",
       "<text text-anchor=\"start\" x=\"1116.5\" y=\"-21.8\" font-family=\"Times New Roman,serif\" font-size=\"14.00\">True</text>\r\n",
       "<text text-anchor=\"start\" x=\"1118.5\" y=\"-8\" font-family=\"Times New Roman,serif\" font-size=\"10.00\" fill=\"dimgrey\">Nr.44</text>\r\n",
       "</g>\r\n",
       "<!-- 43&#45;&gt;44 -->\r\n",
       "<g id=\"edge35\" class=\"edge\">\r\n",
       "<title>43&#45;&gt;44</title>\r\n",
       "<path fill=\"none\" stroke=\"black\" d=\"M1157.69,-106.08C1153.05,-93.07 1147.07,-76.29 1141.81,-61.53\"/>\r\n",
       "<polygon fill=\"black\" stroke=\"black\" points=\"1144.96,-59.96 1138.31,-51.71 1138.37,-62.31 1144.96,-59.96\"/>\r\n",
       "<g id=\"a_edge35&#45;label\"><a xlink:title=\"80\">\r\n",
       "<text text-anchor=\"middle\" x=\"1161.5\" y=\"-73.8\" font-family=\"Times New Roman,serif\" font-size=\"14.00\">≤80</text>\r\n",
       "</a>\r\n",
       "</g>\r\n",
       "</g>\r\n",
       "<!-- 45 -->\r\n",
       "<g id=\"node45\" class=\"node\">\r\n",
       "<title>45</title>\r\n",
       "<polygon fill=\"yellow\" stroke=\"yellow\" points=\"1174.5,-0.5 1174.5,-51.5 1228.5,-51.5 1228.5,-0.5 1174.5,-0.5\"/>\r\n",
       "<text text-anchor=\"start\" x=\"1191\" y=\"-38\" font-family=\"Times New Roman,serif\" font-size=\"10.00\" fill=\"dimgrey\">[1, 0]</text>\r\n",
       "<text text-anchor=\"start\" x=\"1187.5\" y=\"-21.8\" font-family=\"Times New Roman,serif\" font-size=\"14.00\">False</text>\r\n",
       "<text text-anchor=\"start\" x=\"1192.5\" y=\"-8\" font-family=\"Times New Roman,serif\" font-size=\"10.00\" fill=\"dimgrey\">Nr.45</text>\r\n",
       "</g>\r\n",
       "<!-- 43&#45;&gt;45 -->\r\n",
       "<g id=\"edge36\" class=\"edge\">\r\n",
       "<title>43&#45;&gt;45</title>\r\n",
       "<path fill=\"none\" stroke=\"black\" d=\"M1173.31,-106.08C1177.95,-93.07 1183.93,-76.29 1189.19,-61.53\"/>\r\n",
       "<polygon fill=\"black\" stroke=\"black\" points=\"1192.63,-62.31 1192.69,-51.71 1186.04,-59.96 1192.63,-62.31\"/>\r\n",
       "<g id=\"a_edge36&#45;label\"><a xlink:title=\"80\">\r\n",
       "<text text-anchor=\"middle\" x=\"1197.5\" y=\"-73.8\" font-family=\"Times New Roman,serif\" font-size=\"14.00\">&gt;80</text>\r\n",
       "</a>\r\n",
       "</g>\r\n",
       "</g>\r\n",
       "<!-- 51 -->\r\n",
       "<g id=\"node51\" class=\"node\">\r\n",
       "<title>51</title>\r\n",
       "<polygon fill=\"none\" stroke=\"black\" points=\"1310.5,-518.5 1310.5,-563.5 1446.5,-563.5 1446.5,-518.5 1310.5,-518.5\"/>\r\n",
       "<text text-anchor=\"start\" x=\"1365.5\" y=\"-551\" font-family=\"Times New Roman,serif\" font-size=\"10.00\" fill=\"dimgrey\">[1, 11]</text>\r\n",
       "<text text-anchor=\"start\" x=\"1318.5\" y=\"-536.8\" font-family=\"Times New Roman,serif\" font-size=\"14.00\">rest blood pressure d?</text>\r\n",
       "<text text-anchor=\"start\" x=\"1414.5\" y=\"-525\" font-family=\"Times New Roman,serif\" font-size=\"10.00\" fill=\"dimgrey\">Nr.51</text>\r\n",
       "</g>\r\n",
       "<!-- 50&#45;&gt;51 -->\r\n",
       "<g id=\"edge49\" class=\"edge\">\r\n",
       "<title>50&#45;&gt;51</title>\r\n",
       "<path fill=\"none\" stroke=\"black\" d=\"M1379.28,-621.08C1379.15,-607.23 1378.97,-589.08 1378.81,-573.67\"/>\r\n",
       "<polygon fill=\"black\" stroke=\"black\" points=\"1382.31,-573.49 1378.71,-563.53 1375.31,-573.56 1382.31,-573.49\"/>\r\n",
       "<g id=\"a_edge49&#45;label\"><a xlink:title=\"146.0\">\r\n",
       "<text text-anchor=\"middle\" x=\"1399\" y=\"-588.8\" font-family=\"Times New Roman,serif\" font-size=\"14.00\">≤146.0</text>\r\n",
       "</a>\r\n",
       "</g>\r\n",
       "</g>\r\n",
       "<!-- 54 -->\r\n",
       "<g id=\"node54\" class=\"node\">\r\n",
       "<title>54</title>\r\n",
       "<polygon fill=\"none\" stroke=\"black\" points=\"1464.5,-518.5 1464.5,-563.5 1566.5,-563.5 1566.5,-518.5 1464.5,-518.5\"/>\r\n",
       "<text text-anchor=\"start\" x=\"1504.5\" y=\"-551\" font-family=\"Times New Roman,serif\" font-size=\"10.00\" fill=\"dimgrey\">[5, 3]</text>\r\n",
       "<text text-anchor=\"start\" x=\"1472.5\" y=\"-536.8\" font-family=\"Times New Roman,serif\" font-size=\"14.00\">years smoking?</text>\r\n",
       "<text text-anchor=\"start\" x=\"1534.5\" y=\"-525\" font-family=\"Times New Roman,serif\" font-size=\"10.00\" fill=\"dimgrey\">Nr.54</text>\r\n",
       "</g>\r\n",
       "<!-- 50&#45;&gt;54 -->\r\n",
       "<g id=\"edge54\" class=\"edge\">\r\n",
       "<title>50&#45;&gt;54</title>\r\n",
       "<path fill=\"none\" stroke=\"black\" d=\"M1408.68,-621.33C1429.02,-606.22 1456.34,-585.93 1478.26,-569.65\"/>\r\n",
       "<polygon fill=\"black\" stroke=\"black\" points=\"1480.43,-572.4 1486.37,-563.63 1476.26,-566.78 1480.43,-572.4\"/>\r\n",
       "<g id=\"a_edge54&#45;label\"><a xlink:title=\"146.0\">\r\n",
       "<text text-anchor=\"middle\" x=\"1476.5\" y=\"-588.8\" font-family=\"Times New Roman,serif\" font-size=\"14.00\">&gt;146.0</text>\r\n",
       "</a>\r\n",
       "</g>\r\n",
       "</g>\r\n",
       "<!-- 52 -->\r\n",
       "<g id=\"node52\" class=\"node\">\r\n",
       "<title>52</title>\r\n",
       "<polygon fill=\"yellow\" stroke=\"yellow\" points=\"1320.5,-412.5 1320.5,-463.5 1374.5,-463.5 1374.5,-412.5 1320.5,-412.5\"/>\r\n",
       "<text text-anchor=\"start\" x=\"1337\" y=\"-450\" font-family=\"Times New Roman,serif\" font-size=\"10.00\" fill=\"dimgrey\">[1, 0]</text>\r\n",
       "<text text-anchor=\"start\" x=\"1333.5\" y=\"-433.8\" font-family=\"Times New Roman,serif\" font-size=\"14.00\">False</text>\r\n",
       "<text text-anchor=\"start\" x=\"1338.5\" y=\"-420\" font-family=\"Times New Roman,serif\" font-size=\"10.00\" fill=\"dimgrey\">Nr.52</text>\r\n",
       "</g>\r\n",
       "<!-- 51&#45;&gt;52 -->\r\n",
       "<g id=\"edge47\" class=\"edge\">\r\n",
       "<title>51&#45;&gt;52</title>\r\n",
       "<path fill=\"none\" stroke=\"black\" d=\"M1371.77,-518.08C1367.78,-505.07 1362.63,-488.29 1358.1,-473.53\"/>\r\n",
       "<polygon fill=\"black\" stroke=\"black\" points=\"1361.36,-472.24 1355.08,-463.71 1354.67,-474.3 1361.36,-472.24\"/>\r\n",
       "<g id=\"a_edge47&#45;label\"><a xlink:title=\"76.0\">\r\n",
       "<text text-anchor=\"middle\" x=\"1381.5\" y=\"-485.8\" font-family=\"Times New Roman,serif\" font-size=\"14.00\">≤76.0</text>\r\n",
       "</a>\r\n",
       "</g>\r\n",
       "</g>\r\n",
       "<!-- 53 -->\r\n",
       "<g id=\"node53\" class=\"node\">\r\n",
       "<title>53</title>\r\n",
       "<polygon fill=\"yellow\" stroke=\"yellow\" points=\"1392.5,-412.5 1392.5,-463.5 1446.5,-463.5 1446.5,-412.5 1392.5,-412.5\"/>\r\n",
       "<text text-anchor=\"start\" x=\"1406.5\" y=\"-450\" font-family=\"Times New Roman,serif\" font-size=\"10.00\" fill=\"dimgrey\">[0, 11]</text>\r\n",
       "<text text-anchor=\"start\" x=\"1406.5\" y=\"-433.8\" font-family=\"Times New Roman,serif\" font-size=\"14.00\">True</text>\r\n",
       "<text text-anchor=\"start\" x=\"1408.5\" y=\"-420\" font-family=\"Times New Roman,serif\" font-size=\"10.00\" fill=\"dimgrey\">Nr.53</text>\r\n",
       "</g>\r\n",
       "<!-- 51&#45;&gt;53 -->\r\n",
       "<g id=\"edge48\" class=\"edge\">\r\n",
       "<title>51&#45;&gt;53</title>\r\n",
       "<path fill=\"none\" stroke=\"black\" d=\"M1388.39,-518.22C1391.39,-511.45 1394.65,-503.95 1397.5,-497 1400.63,-489.36 1403.86,-481.1 1406.85,-473.27\"/>\r\n",
       "<polygon fill=\"black\" stroke=\"black\" points=\"1410.22,-474.26 1410.48,-463.67 1403.67,-471.79 1410.22,-474.26\"/>\r\n",
       "<g id=\"a_edge48&#45;label\"><a xlink:title=\"76.0\">\r\n",
       "<text text-anchor=\"middle\" x=\"1420\" y=\"-485.8\" font-family=\"Times New Roman,serif\" font-size=\"14.00\">&gt;76.0</text>\r\n",
       "</a>\r\n",
       "</g>\r\n",
       "</g>\r\n",
       "<!-- 55 -->\r\n",
       "<g id=\"node55\" class=\"node\">\r\n",
       "<title>55</title>\r\n",
       "<polygon fill=\"yellow\" stroke=\"yellow\" points=\"1464.5,-412.5 1464.5,-463.5 1518.5,-463.5 1518.5,-412.5 1464.5,-412.5\"/>\r\n",
       "<text text-anchor=\"start\" x=\"1481\" y=\"-450\" font-family=\"Times New Roman,serif\" font-size=\"10.00\" fill=\"dimgrey\">[4, 0]</text>\r\n",
       "<text text-anchor=\"start\" x=\"1477.5\" y=\"-433.8\" font-family=\"Times New Roman,serif\" font-size=\"14.00\">False</text>\r\n",
       "<text text-anchor=\"start\" x=\"1482.5\" y=\"-420\" font-family=\"Times New Roman,serif\" font-size=\"10.00\" fill=\"dimgrey\">Nr.55</text>\r\n",
       "</g>\r\n",
       "<!-- 54&#45;&gt;55 -->\r\n",
       "<g id=\"edge50\" class=\"edge\">\r\n",
       "<title>54&#45;&gt;55</title>\r\n",
       "<path fill=\"none\" stroke=\"black\" d=\"M1510.29,-518.08C1507.2,-505.07 1503.21,-488.29 1499.71,-473.53\"/>\r\n",
       "<polygon fill=\"black\" stroke=\"black\" points=\"1503.09,-472.63 1497.37,-463.71 1496.28,-474.25 1503.09,-472.63\"/>\r\n",
       "<g id=\"a_edge50&#45;label\"><a xlink:title=\"15.0\">\r\n",
       "<text text-anchor=\"middle\" x=\"1521.5\" y=\"-485.8\" font-family=\"Times New Roman,serif\" font-size=\"14.00\">≤15.0</text>\r\n",
       "</a>\r\n",
       "</g>\r\n",
       "</g>\r\n",
       "<!-- 56 -->\r\n",
       "<g id=\"node56\" class=\"node\">\r\n",
       "<title>56</title>\r\n",
       "<polygon fill=\"none\" stroke=\"black\" points=\"1536.5,-415.5 1536.5,-460.5 1724.5,-460.5 1724.5,-415.5 1536.5,-415.5\"/>\r\n",
       "<text text-anchor=\"start\" x=\"1619.5\" y=\"-448\" font-family=\"Times New Roman,serif\" font-size=\"10.00\" fill=\"dimgrey\">[1, 3]</text>\r\n",
       "<text text-anchor=\"start\" x=\"1544.5\" y=\"-433.8\" font-family=\"Times New Roman,serif\" font-size=\"14.00\">peak exercise blood pressure s?</text>\r\n",
       "<text text-anchor=\"start\" x=\"1692.5\" y=\"-422\" font-family=\"Times New Roman,serif\" font-size=\"10.00\" fill=\"dimgrey\">Nr.56</text>\r\n",
       "</g>\r\n",
       "<!-- 54&#45;&gt;56 -->\r\n",
       "<g id=\"edge53\" class=\"edge\">\r\n",
       "<title>54&#45;&gt;56</title>\r\n",
       "<path fill=\"none\" stroke=\"black\" d=\"M1540.17,-518.33C1557.15,-503.42 1579.87,-483.47 1598.28,-467.3\"/>\r\n",
       "<polygon fill=\"black\" stroke=\"black\" points=\"1600.67,-469.86 1605.87,-460.63 1596.05,-464.6 1600.67,-469.86\"/>\r\n",
       "<g id=\"a_edge53&#45;label\"><a xlink:title=\"15.0\">\r\n",
       "<text text-anchor=\"middle\" x=\"1597\" y=\"-485.8\" font-family=\"Times New Roman,serif\" font-size=\"14.00\">&gt;15.0</text>\r\n",
       "</a>\r\n",
       "</g>\r\n",
       "</g>\r\n",
       "<!-- 57 -->\r\n",
       "<g id=\"node57\" class=\"node\">\r\n",
       "<title>57</title>\r\n",
       "<polygon fill=\"yellow\" stroke=\"yellow\" points=\"1567.5,-309.5 1567.5,-360.5 1621.5,-360.5 1621.5,-309.5 1567.5,-309.5\"/>\r\n",
       "<text text-anchor=\"start\" x=\"1584\" y=\"-347\" font-family=\"Times New Roman,serif\" font-size=\"10.00\" fill=\"dimgrey\">[1, 0]</text>\r\n",
       "<text text-anchor=\"start\" x=\"1580.5\" y=\"-330.8\" font-family=\"Times New Roman,serif\" font-size=\"14.00\">False</text>\r\n",
       "<text text-anchor=\"start\" x=\"1585.5\" y=\"-317\" font-family=\"Times New Roman,serif\" font-size=\"10.00\" fill=\"dimgrey\">Nr.57</text>\r\n",
       "</g>\r\n",
       "<!-- 56&#45;&gt;57 -->\r\n",
       "<g id=\"edge51\" class=\"edge\">\r\n",
       "<title>56&#45;&gt;57</title>\r\n",
       "<path fill=\"none\" stroke=\"black\" d=\"M1622.69,-415.08C1618.05,-402.07 1612.07,-385.29 1606.81,-370.53\"/>\r\n",
       "<polygon fill=\"black\" stroke=\"black\" points=\"1609.96,-368.96 1603.31,-360.71 1603.37,-371.31 1609.96,-368.96\"/>\r\n",
       "<g id=\"a_edge51&#45;label\"><a xlink:title=\"150\">\r\n",
       "<text text-anchor=\"middle\" x=\"1629.5\" y=\"-382.8\" font-family=\"Times New Roman,serif\" font-size=\"14.00\">≤150</text>\r\n",
       "</a>\r\n",
       "</g>\r\n",
       "</g>\r\n",
       "<!-- 58 -->\r\n",
       "<g id=\"node58\" class=\"node\">\r\n",
       "<title>58</title>\r\n",
       "<polygon fill=\"yellow\" stroke=\"yellow\" points=\"1639.5,-309.5 1639.5,-360.5 1693.5,-360.5 1693.5,-309.5 1639.5,-309.5\"/>\r\n",
       "<text text-anchor=\"start\" x=\"1655.5\" y=\"-347\" font-family=\"Times New Roman,serif\" font-size=\"10.00\" fill=\"dimgrey\">[0, 3]</text>\r\n",
       "<text text-anchor=\"start\" x=\"1653.5\" y=\"-330.8\" font-family=\"Times New Roman,serif\" font-size=\"14.00\">True</text>\r\n",
       "<text text-anchor=\"start\" x=\"1655.5\" y=\"-317\" font-family=\"Times New Roman,serif\" font-size=\"10.00\" fill=\"dimgrey\">Nr.58</text>\r\n",
       "</g>\r\n",
       "<!-- 56&#45;&gt;58 -->\r\n",
       "<g id=\"edge52\" class=\"edge\">\r\n",
       "<title>56&#45;&gt;58</title>\r\n",
       "<path fill=\"none\" stroke=\"black\" d=\"M1638.31,-415.08C1642.95,-402.07 1648.93,-385.29 1654.19,-370.53\"/>\r\n",
       "<polygon fill=\"black\" stroke=\"black\" points=\"1657.63,-371.31 1657.69,-360.71 1651.04,-368.96 1657.63,-371.31\"/>\r\n",
       "<g id=\"a_edge52&#45;label\"><a xlink:title=\"150\">\r\n",
       "<text text-anchor=\"middle\" x=\"1666\" y=\"-382.8\" font-family=\"Times New Roman,serif\" font-size=\"14.00\">&gt;150</text>\r\n",
       "</a>\r\n",
       "</g>\r\n",
       "</g>\r\n",
       "<!-- 60 -->\r\n",
       "<g id=\"node60\" class=\"node\">\r\n",
       "<title>60</title>\r\n",
       "<polygon fill=\"yellow\" stroke=\"yellow\" points=\"1480.5,-618.5 1480.5,-669.5 1534.5,-669.5 1534.5,-618.5 1480.5,-618.5\"/>\r\n",
       "<text text-anchor=\"start\" x=\"1497\" y=\"-656\" font-family=\"Times New Roman,serif\" font-size=\"10.00\" fill=\"dimgrey\">[1, 0]</text>\r\n",
       "<text text-anchor=\"start\" x=\"1493.5\" y=\"-639.8\" font-family=\"Times New Roman,serif\" font-size=\"14.00\">False</text>\r\n",
       "<text text-anchor=\"start\" x=\"1498.5\" y=\"-626\" font-family=\"Times New Roman,serif\" font-size=\"10.00\" fill=\"dimgrey\">Nr.60</text>\r\n",
       "</g>\r\n",
       "<!-- 59&#45;&gt;60 -->\r\n",
       "<g id=\"edge57\" class=\"edge\">\r\n",
       "<title>59&#45;&gt;60</title>\r\n",
       "<path fill=\"none\" stroke=\"black\" d=\"M1507.5,-721.25C1507.5,-709.12 1507.5,-693.72 1507.5,-679.94\"/>\r\n",
       "<polygon fill=\"black\" stroke=\"black\" points=\"1511,-679.8 1507.5,-669.8 1504,-679.8 1511,-679.8\"/>\r\n",
       "<g id=\"a_edge57&#45;label\"><a xlink:title=\"60.0\">\r\n",
       "<text text-anchor=\"middle\" x=\"1523.5\" y=\"-691.8\" font-family=\"Times New Roman,serif\" font-size=\"14.00\">≤60.0</text>\r\n",
       "</a>\r\n",
       "</g>\r\n",
       "</g>\r\n",
       "<!-- 61 -->\r\n",
       "<g id=\"node61\" class=\"node\">\r\n",
       "<title>61</title>\r\n",
       "<polygon fill=\"none\" stroke=\"black\" points=\"1585.5,-621.5 1585.5,-666.5 1667.5,-666.5 1667.5,-621.5 1585.5,-621.5\"/>\r\n",
       "<text text-anchor=\"start\" x=\"1613\" y=\"-654\" font-family=\"Times New Roman,serif\" font-size=\"10.00\" fill=\"dimgrey\">[1, 47]</text>\r\n",
       "<text text-anchor=\"start\" x=\"1593.5\" y=\"-639.8\" font-family=\"Times New Roman,serif\" font-size=\"14.00\">cholesterol?</text>\r\n",
       "<text text-anchor=\"start\" x=\"1635.5\" y=\"-628\" font-family=\"Times New Roman,serif\" font-size=\"10.00\" fill=\"dimgrey\">Nr.61</text>\r\n",
       "</g>\r\n",
       "<!-- 59&#45;&gt;61 -->\r\n",
       "<g id=\"edge64\" class=\"edge\">\r\n",
       "<title>59&#45;&gt;61</title>\r\n",
       "<path fill=\"none\" stroke=\"black\" d=\"M1533.62,-721.49C1550.86,-707.29 1573.63,-688.54 1592.31,-673.16\"/>\r\n",
       "<polygon fill=\"black\" stroke=\"black\" points=\"1594.54,-675.85 1600.03,-666.8 1590.09,-670.45 1594.54,-675.85\"/>\r\n",
       "<g id=\"a_edge64&#45;label\"><a xlink:title=\"60.0\">\r\n",
       "<text text-anchor=\"middle\" x=\"1591\" y=\"-691.8\" font-family=\"Times New Roman,serif\" font-size=\"14.00\">&gt;60.0</text>\r\n",
       "</a>\r\n",
       "</g>\r\n",
       "</g>\r\n",
       "<!-- 62 -->\r\n",
       "<g id=\"node62\" class=\"node\">\r\n",
       "<title>62</title>\r\n",
       "<polygon fill=\"yellow\" stroke=\"yellow\" points=\"1599.5,-515.5 1599.5,-566.5 1653.5,-566.5 1653.5,-515.5 1599.5,-515.5\"/>\r\n",
       "<text text-anchor=\"start\" x=\"1613.5\" y=\"-553\" font-family=\"Times New Roman,serif\" font-size=\"10.00\" fill=\"dimgrey\">[0, 41]</text>\r\n",
       "<text text-anchor=\"start\" x=\"1614\" y=\"-536.8\" font-family=\"Times New Roman,serif\" font-size=\"14.00\">True</text>\r\n",
       "<text text-anchor=\"start\" x=\"1616.5\" y=\"-523\" font-family=\"Times New Roman,serif\" font-size=\"10.00\" fill=\"dimgrey\">Nr.62</text>\r\n",
       "</g>\r\n",
       "<!-- 61&#45;&gt;62 -->\r\n",
       "<g id=\"edge58\" class=\"edge\">\r\n",
       "<title>61&#45;&gt;62</title>\r\n",
       "<path fill=\"none\" stroke=\"black\" d=\"M1626.5,-621.08C1626.5,-608.2 1626.5,-591.61 1626.5,-576.96\"/>\r\n",
       "<polygon fill=\"black\" stroke=\"black\" points=\"1630,-576.71 1626.5,-566.71 1623,-576.71 1630,-576.71\"/>\r\n",
       "<g id=\"a_edge58&#45;label\"><a xlink:title=\"300\">\r\n",
       "<text text-anchor=\"middle\" x=\"1640.5\" y=\"-588.8\" font-family=\"Times New Roman,serif\" font-size=\"14.00\">≤300</text>\r\n",
       "</a>\r\n",
       "</g>\r\n",
       "</g>\r\n",
       "<!-- 63 -->\r\n",
       "<g id=\"node63\" class=\"node\">\r\n",
       "<title>63</title>\r\n",
       "<polygon fill=\"none\" stroke=\"black\" points=\"1675.5,-518.5 1675.5,-563.5 1863.5,-563.5 1863.5,-518.5 1675.5,-518.5\"/>\r\n",
       "<text text-anchor=\"start\" x=\"1758.5\" y=\"-551\" font-family=\"Times New Roman,serif\" font-size=\"10.00\" fill=\"dimgrey\">[1, 6]</text>\r\n",
       "<text text-anchor=\"start\" x=\"1683.5\" y=\"-536.8\" font-family=\"Times New Roman,serif\" font-size=\"14.00\">peak exercise blood pressure s?</text>\r\n",
       "<text text-anchor=\"start\" x=\"1831.5\" y=\"-525\" font-family=\"Times New Roman,serif\" font-size=\"10.00\" fill=\"dimgrey\">Nr.63</text>\r\n",
       "</g>\r\n",
       "<!-- 61&#45;&gt;63 -->\r\n",
       "<g id=\"edge63\" class=\"edge\">\r\n",
       "<title>61&#45;&gt;63</title>\r\n",
       "<path fill=\"none\" stroke=\"black\" d=\"M1657.18,-621.33C1678.67,-606.16 1707.55,-585.75 1730.65,-569.44\"/>\r\n",
       "<polygon fill=\"black\" stroke=\"black\" points=\"1732.72,-572.26 1738.87,-563.63 1728.69,-566.54 1732.72,-572.26\"/>\r\n",
       "<g id=\"a_edge63&#45;label\"><a xlink:title=\"300\">\r\n",
       "<text text-anchor=\"middle\" x=\"1722\" y=\"-588.8\" font-family=\"Times New Roman,serif\" font-size=\"14.00\">&gt;300</text>\r\n",
       "</a>\r\n",
       "</g>\r\n",
       "</g>\r\n",
       "<!-- 64 -->\r\n",
       "<g id=\"node64\" class=\"node\">\r\n",
       "<title>64</title>\r\n",
       "<polygon fill=\"yellow\" stroke=\"yellow\" points=\"1742.5,-412.5 1742.5,-463.5 1796.5,-463.5 1796.5,-412.5 1742.5,-412.5\"/>\r\n",
       "<text text-anchor=\"start\" x=\"1758.5\" y=\"-450\" font-family=\"Times New Roman,serif\" font-size=\"10.00\" fill=\"dimgrey\">[0, 5]</text>\r\n",
       "<text text-anchor=\"start\" x=\"1756.5\" y=\"-433.8\" font-family=\"Times New Roman,serif\" font-size=\"14.00\">True</text>\r\n",
       "<text text-anchor=\"start\" x=\"1758.5\" y=\"-420\" font-family=\"Times New Roman,serif\" font-size=\"10.00\" fill=\"dimgrey\">Nr.64</text>\r\n",
       "</g>\r\n",
       "<!-- 63&#45;&gt;64 -->\r\n",
       "<g id=\"edge59\" class=\"edge\">\r\n",
       "<title>63&#45;&gt;64</title>\r\n",
       "<path fill=\"none\" stroke=\"black\" d=\"M1769.5,-518.08C1769.5,-505.2 1769.5,-488.61 1769.5,-473.96\"/>\r\n",
       "<polygon fill=\"black\" stroke=\"black\" points=\"1773,-473.71 1769.5,-463.71 1766,-473.71 1773,-473.71\"/>\r\n",
       "<g id=\"a_edge59&#45;label\"><a xlink:title=\"165\">\r\n",
       "<text text-anchor=\"middle\" x=\"1783.5\" y=\"-485.8\" font-family=\"Times New Roman,serif\" font-size=\"14.00\">≤165</text>\r\n",
       "</a>\r\n",
       "</g>\r\n",
       "</g>\r\n",
       "<!-- 65 -->\r\n",
       "<g id=\"node65\" class=\"node\">\r\n",
       "<title>65</title>\r\n",
       "<polygon fill=\"none\" stroke=\"black\" points=\"1815,-415.5 1815,-460.5 1922,-460.5 1922,-415.5 1815,-415.5\"/>\r\n",
       "<text text-anchor=\"start\" x=\"1858\" y=\"-448\" font-family=\"Times New Roman,serif\" font-size=\"10.00\" fill=\"dimgrey\">[1, 1]</text>\r\n",
       "<text text-anchor=\"start\" x=\"1823.5\" y=\"-433.8\" font-family=\"Times New Roman,serif\" font-size=\"14.00\">exercise angina?</text>\r\n",
       "<text text-anchor=\"start\" x=\"1890.5\" y=\"-422\" font-family=\"Times New Roman,serif\" font-size=\"10.00\" fill=\"dimgrey\">Nr.65</text>\r\n",
       "</g>\r\n",
       "<!-- 63&#45;&gt;65 -->\r\n",
       "<g id=\"edge62\" class=\"edge\">\r\n",
       "<title>63&#45;&gt;65</title>\r\n",
       "<path fill=\"none\" stroke=\"black\" d=\"M1790.98,-518.08C1805.35,-503.43 1824.41,-483.98 1840.04,-468.03\"/>\r\n",
       "<polygon fill=\"black\" stroke=\"black\" points=\"1842.9,-470.12 1847.4,-460.53 1837.9,-465.22 1842.9,-470.12\"/>\r\n",
       "<g id=\"a_edge62&#45;label\"><a xlink:title=\"165\">\r\n",
       "<text text-anchor=\"middle\" x=\"1840\" y=\"-485.8\" font-family=\"Times New Roman,serif\" font-size=\"14.00\">&gt;165</text>\r\n",
       "</a>\r\n",
       "</g>\r\n",
       "</g>\r\n",
       "<!-- 66 -->\r\n",
       "<g id=\"node66\" class=\"node\">\r\n",
       "<title>66</title>\r\n",
       "<polygon fill=\"yellow\" stroke=\"yellow\" points=\"1805.5,-309.5 1805.5,-360.5 1859.5,-360.5 1859.5,-309.5 1805.5,-309.5\"/>\r\n",
       "<text text-anchor=\"start\" x=\"1822\" y=\"-347\" font-family=\"Times New Roman,serif\" font-size=\"10.00\" fill=\"dimgrey\">[1, 0]</text>\r\n",
       "<text text-anchor=\"start\" x=\"1818.5\" y=\"-330.8\" font-family=\"Times New Roman,serif\" font-size=\"14.00\">False</text>\r\n",
       "<text text-anchor=\"start\" x=\"1823.5\" y=\"-317\" font-family=\"Times New Roman,serif\" font-size=\"10.00\" fill=\"dimgrey\">Nr.66</text>\r\n",
       "</g>\r\n",
       "<!-- 65&#45;&gt;66 -->\r\n",
       "<g id=\"edge60\" class=\"edge\">\r\n",
       "<title>65&#45;&gt;66</title>\r\n",
       "<path fill=\"none\" stroke=\"black\" d=\"M1860.69,-415.08C1856.05,-402.07 1850.07,-385.29 1844.81,-370.53\"/>\r\n",
       "<polygon fill=\"black\" stroke=\"black\" points=\"1847.96,-368.96 1841.31,-360.71 1841.37,-371.31 1847.96,-368.96\"/>\r\n",
       "<g id=\"a_edge60&#45;label\"><a xlink:title=\"0.0\">\r\n",
       "<text text-anchor=\"middle\" x=\"1866\" y=\"-382.8\" font-family=\"Times New Roman,serif\" font-size=\"14.00\">≤0.0</text>\r\n",
       "</a>\r\n",
       "</g>\r\n",
       "</g>\r\n",
       "<!-- 67 -->\r\n",
       "<g id=\"node67\" class=\"node\">\r\n",
       "<title>67</title>\r\n",
       "<polygon fill=\"yellow\" stroke=\"yellow\" points=\"1877.5,-309.5 1877.5,-360.5 1931.5,-360.5 1931.5,-309.5 1877.5,-309.5\"/>\r\n",
       "<text text-anchor=\"start\" x=\"1893.5\" y=\"-347\" font-family=\"Times New Roman,serif\" font-size=\"10.00\" fill=\"dimgrey\">[0, 1]</text>\r\n",
       "<text text-anchor=\"start\" x=\"1891.5\" y=\"-330.8\" font-family=\"Times New Roman,serif\" font-size=\"14.00\">True</text>\r\n",
       "<text text-anchor=\"start\" x=\"1893.5\" y=\"-317\" font-family=\"Times New Roman,serif\" font-size=\"10.00\" fill=\"dimgrey\">Nr.67</text>\r\n",
       "</g>\r\n",
       "<!-- 65&#45;&gt;67 -->\r\n",
       "<g id=\"edge61\" class=\"edge\">\r\n",
       "<title>65&#45;&gt;67</title>\r\n",
       "<path fill=\"none\" stroke=\"black\" d=\"M1876.31,-415.08C1880.95,-402.07 1886.93,-385.29 1892.19,-370.53\"/>\r\n",
       "<polygon fill=\"black\" stroke=\"black\" points=\"1895.63,-371.31 1895.69,-360.71 1889.04,-368.96 1895.63,-371.31\"/>\r\n",
       "<g id=\"a_edge61&#45;label\"><a xlink:title=\"0.0\">\r\n",
       "<text text-anchor=\"middle\" x=\"1901.5\" y=\"-382.8\" font-family=\"Times New Roman,serif\" font-size=\"14.00\">&gt;0.0</text>\r\n",
       "</a>\r\n",
       "</g>\r\n",
       "</g>\r\n",
       "</g>\r\n",
       "</svg>\r\n"
      ],
      "text/plain": [
       "<graphviz.dot.Digraph at 0x252aaf05748>"
      ]
     },
     "execution_count": 65,
     "metadata": {},
     "output_type": "execute_result"
    }
   ],
   "source": [
    "tree5 = ct.DecisionTree(data=df_pr_cleve_red2[:200],target='heart disease')\n",
    "tree5.grow_tree()\n",
    "tree5.print_tree()"
   ]
  },
  {
   "cell_type": "code",
   "execution_count": 66,
   "metadata": {},
   "outputs": [
    {
     "data": {
      "text/plain": [
       "0.995"
      ]
     },
     "execution_count": 66,
     "metadata": {},
     "output_type": "execute_result"
    }
   ],
   "source": [
    "tree5.prediction_accuracy(df_pr_cleve_red2[:200])"
   ]
  },
  {
   "cell_type": "code",
   "execution_count": 67,
   "metadata": {},
   "outputs": [
    {
     "data": {
      "text/plain": [
       "0.7317073170731707"
      ]
     },
     "execution_count": 67,
     "metadata": {},
     "output_type": "execute_result"
    }
   ],
   "source": [
    "tree5.prediction_accuracy(df_pr_cleve_red2[200:])"
   ]
  },
  {
   "cell_type": "code",
   "execution_count": 68,
   "metadata": {
    "scrolled": false
   },
   "outputs": [
    {
     "data": {
      "application/vnd.plotly.v1+json": {
       "config": {
        "linkText": "Export to plot.ly",
        "plotlyServerURL": "https://plot.ly",
        "showLink": true
       },
       "data": [
        {
         "line": {
          "color": "rgba(255, 153, 51, 1.0)",
          "dash": "solid",
          "shape": "linear",
          "width": 1.3
         },
         "mode": "lines",
         "name": "Train Data",
         "text": "",
         "type": "scatter",
         "x": [
          1,
          2,
          3,
          4,
          5,
          6,
          7,
          8,
          9,
          10
         ],
         "y": [
          0.545,
          0.765,
          0.775,
          0.835,
          0.885,
          0.905,
          0.955,
          0.975,
          0.99,
          0.995
         ]
        },
        {
         "line": {
          "color": "rgba(55, 128, 191, 1.0)",
          "dash": "solid",
          "shape": "linear",
          "width": 1.3
         },
         "mode": "lines",
         "name": "Test Data",
         "text": "",
         "type": "scatter",
         "x": [
          1,
          2,
          3,
          4,
          5,
          6,
          7,
          8,
          9,
          10
         ],
         "y": [
          0.5853658536585366,
          0.7195121951219512,
          0.7560975609756098,
          0.8048780487804879,
          0.7926829268292683,
          0.7804878048780488,
          0.7195121951219512,
          0.7682926829268293,
          0.7317073170731707,
          0.7317073170731707
         ]
        }
       ],
       "layout": {
        "legend": {
         "bgcolor": "#FFFFFF",
         "font": {
          "color": "#4D5663"
         }
        },
        "paper_bgcolor": "#FFFFFF",
        "plot_bgcolor": "#FFFFFF",
        "template": {
         "data": {
          "bar": [
           {
            "error_x": {
             "color": "#2a3f5f"
            },
            "error_y": {
             "color": "#2a3f5f"
            },
            "marker": {
             "line": {
              "color": "#E5ECF6",
              "width": 0.5
             },
             "pattern": {
              "fillmode": "overlay",
              "size": 10,
              "solidity": 0.2
             }
            },
            "type": "bar"
           }
          ],
          "barpolar": [
           {
            "marker": {
             "line": {
              "color": "#E5ECF6",
              "width": 0.5
             },
             "pattern": {
              "fillmode": "overlay",
              "size": 10,
              "solidity": 0.2
             }
            },
            "type": "barpolar"
           }
          ],
          "carpet": [
           {
            "aaxis": {
             "endlinecolor": "#2a3f5f",
             "gridcolor": "white",
             "linecolor": "white",
             "minorgridcolor": "white",
             "startlinecolor": "#2a3f5f"
            },
            "baxis": {
             "endlinecolor": "#2a3f5f",
             "gridcolor": "white",
             "linecolor": "white",
             "minorgridcolor": "white",
             "startlinecolor": "#2a3f5f"
            },
            "type": "carpet"
           }
          ],
          "choropleth": [
           {
            "colorbar": {
             "outlinewidth": 0,
             "ticks": ""
            },
            "type": "choropleth"
           }
          ],
          "contour": [
           {
            "colorbar": {
             "outlinewidth": 0,
             "ticks": ""
            },
            "colorscale": [
             [
              0,
              "#0d0887"
             ],
             [
              0.1111111111111111,
              "#46039f"
             ],
             [
              0.2222222222222222,
              "#7201a8"
             ],
             [
              0.3333333333333333,
              "#9c179e"
             ],
             [
              0.4444444444444444,
              "#bd3786"
             ],
             [
              0.5555555555555556,
              "#d8576b"
             ],
             [
              0.6666666666666666,
              "#ed7953"
             ],
             [
              0.7777777777777778,
              "#fb9f3a"
             ],
             [
              0.8888888888888888,
              "#fdca26"
             ],
             [
              1,
              "#f0f921"
             ]
            ],
            "type": "contour"
           }
          ],
          "contourcarpet": [
           {
            "colorbar": {
             "outlinewidth": 0,
             "ticks": ""
            },
            "type": "contourcarpet"
           }
          ],
          "heatmap": [
           {
            "colorbar": {
             "outlinewidth": 0,
             "ticks": ""
            },
            "colorscale": [
             [
              0,
              "#0d0887"
             ],
             [
              0.1111111111111111,
              "#46039f"
             ],
             [
              0.2222222222222222,
              "#7201a8"
             ],
             [
              0.3333333333333333,
              "#9c179e"
             ],
             [
              0.4444444444444444,
              "#bd3786"
             ],
             [
              0.5555555555555556,
              "#d8576b"
             ],
             [
              0.6666666666666666,
              "#ed7953"
             ],
             [
              0.7777777777777778,
              "#fb9f3a"
             ],
             [
              0.8888888888888888,
              "#fdca26"
             ],
             [
              1,
              "#f0f921"
             ]
            ],
            "type": "heatmap"
           }
          ],
          "heatmapgl": [
           {
            "colorbar": {
             "outlinewidth": 0,
             "ticks": ""
            },
            "colorscale": [
             [
              0,
              "#0d0887"
             ],
             [
              0.1111111111111111,
              "#46039f"
             ],
             [
              0.2222222222222222,
              "#7201a8"
             ],
             [
              0.3333333333333333,
              "#9c179e"
             ],
             [
              0.4444444444444444,
              "#bd3786"
             ],
             [
              0.5555555555555556,
              "#d8576b"
             ],
             [
              0.6666666666666666,
              "#ed7953"
             ],
             [
              0.7777777777777778,
              "#fb9f3a"
             ],
             [
              0.8888888888888888,
              "#fdca26"
             ],
             [
              1,
              "#f0f921"
             ]
            ],
            "type": "heatmapgl"
           }
          ],
          "histogram": [
           {
            "marker": {
             "pattern": {
              "fillmode": "overlay",
              "size": 10,
              "solidity": 0.2
             }
            },
            "type": "histogram"
           }
          ],
          "histogram2d": [
           {
            "colorbar": {
             "outlinewidth": 0,
             "ticks": ""
            },
            "colorscale": [
             [
              0,
              "#0d0887"
             ],
             [
              0.1111111111111111,
              "#46039f"
             ],
             [
              0.2222222222222222,
              "#7201a8"
             ],
             [
              0.3333333333333333,
              "#9c179e"
             ],
             [
              0.4444444444444444,
              "#bd3786"
             ],
             [
              0.5555555555555556,
              "#d8576b"
             ],
             [
              0.6666666666666666,
              "#ed7953"
             ],
             [
              0.7777777777777778,
              "#fb9f3a"
             ],
             [
              0.8888888888888888,
              "#fdca26"
             ],
             [
              1,
              "#f0f921"
             ]
            ],
            "type": "histogram2d"
           }
          ],
          "histogram2dcontour": [
           {
            "colorbar": {
             "outlinewidth": 0,
             "ticks": ""
            },
            "colorscale": [
             [
              0,
              "#0d0887"
             ],
             [
              0.1111111111111111,
              "#46039f"
             ],
             [
              0.2222222222222222,
              "#7201a8"
             ],
             [
              0.3333333333333333,
              "#9c179e"
             ],
             [
              0.4444444444444444,
              "#bd3786"
             ],
             [
              0.5555555555555556,
              "#d8576b"
             ],
             [
              0.6666666666666666,
              "#ed7953"
             ],
             [
              0.7777777777777778,
              "#fb9f3a"
             ],
             [
              0.8888888888888888,
              "#fdca26"
             ],
             [
              1,
              "#f0f921"
             ]
            ],
            "type": "histogram2dcontour"
           }
          ],
          "mesh3d": [
           {
            "colorbar": {
             "outlinewidth": 0,
             "ticks": ""
            },
            "type": "mesh3d"
           }
          ],
          "parcoords": [
           {
            "line": {
             "colorbar": {
              "outlinewidth": 0,
              "ticks": ""
             }
            },
            "type": "parcoords"
           }
          ],
          "pie": [
           {
            "automargin": true,
            "type": "pie"
           }
          ],
          "scatter": [
           {
            "fillpattern": {
             "fillmode": "overlay",
             "size": 10,
             "solidity": 0.2
            },
            "type": "scatter"
           }
          ],
          "scatter3d": [
           {
            "line": {
             "colorbar": {
              "outlinewidth": 0,
              "ticks": ""
             }
            },
            "marker": {
             "colorbar": {
              "outlinewidth": 0,
              "ticks": ""
             }
            },
            "type": "scatter3d"
           }
          ],
          "scattercarpet": [
           {
            "marker": {
             "colorbar": {
              "outlinewidth": 0,
              "ticks": ""
             }
            },
            "type": "scattercarpet"
           }
          ],
          "scattergeo": [
           {
            "marker": {
             "colorbar": {
              "outlinewidth": 0,
              "ticks": ""
             }
            },
            "type": "scattergeo"
           }
          ],
          "scattergl": [
           {
            "marker": {
             "colorbar": {
              "outlinewidth": 0,
              "ticks": ""
             }
            },
            "type": "scattergl"
           }
          ],
          "scattermapbox": [
           {
            "marker": {
             "colorbar": {
              "outlinewidth": 0,
              "ticks": ""
             }
            },
            "type": "scattermapbox"
           }
          ],
          "scatterpolar": [
           {
            "marker": {
             "colorbar": {
              "outlinewidth": 0,
              "ticks": ""
             }
            },
            "type": "scatterpolar"
           }
          ],
          "scatterpolargl": [
           {
            "marker": {
             "colorbar": {
              "outlinewidth": 0,
              "ticks": ""
             }
            },
            "type": "scatterpolargl"
           }
          ],
          "scatterternary": [
           {
            "marker": {
             "colorbar": {
              "outlinewidth": 0,
              "ticks": ""
             }
            },
            "type": "scatterternary"
           }
          ],
          "surface": [
           {
            "colorbar": {
             "outlinewidth": 0,
             "ticks": ""
            },
            "colorscale": [
             [
              0,
              "#0d0887"
             ],
             [
              0.1111111111111111,
              "#46039f"
             ],
             [
              0.2222222222222222,
              "#7201a8"
             ],
             [
              0.3333333333333333,
              "#9c179e"
             ],
             [
              0.4444444444444444,
              "#bd3786"
             ],
             [
              0.5555555555555556,
              "#d8576b"
             ],
             [
              0.6666666666666666,
              "#ed7953"
             ],
             [
              0.7777777777777778,
              "#fb9f3a"
             ],
             [
              0.8888888888888888,
              "#fdca26"
             ],
             [
              1,
              "#f0f921"
             ]
            ],
            "type": "surface"
           }
          ],
          "table": [
           {
            "cells": {
             "fill": {
              "color": "#EBF0F8"
             },
             "line": {
              "color": "white"
             }
            },
            "header": {
             "fill": {
              "color": "#C8D4E3"
             },
             "line": {
              "color": "white"
             }
            },
            "type": "table"
           }
          ]
         },
         "layout": {
          "annotationdefaults": {
           "arrowcolor": "#2a3f5f",
           "arrowhead": 0,
           "arrowwidth": 1
          },
          "autotypenumbers": "strict",
          "coloraxis": {
           "colorbar": {
            "outlinewidth": 0,
            "ticks": ""
           }
          },
          "colorscale": {
           "diverging": [
            [
             0,
             "#8e0152"
            ],
            [
             0.1,
             "#c51b7d"
            ],
            [
             0.2,
             "#de77ae"
            ],
            [
             0.3,
             "#f1b6da"
            ],
            [
             0.4,
             "#fde0ef"
            ],
            [
             0.5,
             "#f7f7f7"
            ],
            [
             0.6,
             "#e6f5d0"
            ],
            [
             0.7,
             "#b8e186"
            ],
            [
             0.8,
             "#7fbc41"
            ],
            [
             0.9,
             "#4d9221"
            ],
            [
             1,
             "#276419"
            ]
           ],
           "sequential": [
            [
             0,
             "#0d0887"
            ],
            [
             0.1111111111111111,
             "#46039f"
            ],
            [
             0.2222222222222222,
             "#7201a8"
            ],
            [
             0.3333333333333333,
             "#9c179e"
            ],
            [
             0.4444444444444444,
             "#bd3786"
            ],
            [
             0.5555555555555556,
             "#d8576b"
            ],
            [
             0.6666666666666666,
             "#ed7953"
            ],
            [
             0.7777777777777778,
             "#fb9f3a"
            ],
            [
             0.8888888888888888,
             "#fdca26"
            ],
            [
             1,
             "#f0f921"
            ]
           ],
           "sequentialminus": [
            [
             0,
             "#0d0887"
            ],
            [
             0.1111111111111111,
             "#46039f"
            ],
            [
             0.2222222222222222,
             "#7201a8"
            ],
            [
             0.3333333333333333,
             "#9c179e"
            ],
            [
             0.4444444444444444,
             "#bd3786"
            ],
            [
             0.5555555555555556,
             "#d8576b"
            ],
            [
             0.6666666666666666,
             "#ed7953"
            ],
            [
             0.7777777777777778,
             "#fb9f3a"
            ],
            [
             0.8888888888888888,
             "#fdca26"
            ],
            [
             1,
             "#f0f921"
            ]
           ]
          },
          "colorway": [
           "#636efa",
           "#EF553B",
           "#00cc96",
           "#ab63fa",
           "#FFA15A",
           "#19d3f3",
           "#FF6692",
           "#B6E880",
           "#FF97FF",
           "#FECB52"
          ],
          "font": {
           "color": "#2a3f5f"
          },
          "geo": {
           "bgcolor": "white",
           "lakecolor": "white",
           "landcolor": "#E5ECF6",
           "showlakes": true,
           "showland": true,
           "subunitcolor": "white"
          },
          "hoverlabel": {
           "align": "left"
          },
          "hovermode": "closest",
          "mapbox": {
           "style": "light"
          },
          "paper_bgcolor": "white",
          "plot_bgcolor": "#E5ECF6",
          "polar": {
           "angularaxis": {
            "gridcolor": "white",
            "linecolor": "white",
            "ticks": ""
           },
           "bgcolor": "#E5ECF6",
           "radialaxis": {
            "gridcolor": "white",
            "linecolor": "white",
            "ticks": ""
           }
          },
          "scene": {
           "xaxis": {
            "backgroundcolor": "#E5ECF6",
            "gridcolor": "white",
            "gridwidth": 2,
            "linecolor": "white",
            "showbackground": true,
            "ticks": "",
            "zerolinecolor": "white"
           },
           "yaxis": {
            "backgroundcolor": "#E5ECF6",
            "gridcolor": "white",
            "gridwidth": 2,
            "linecolor": "white",
            "showbackground": true,
            "ticks": "",
            "zerolinecolor": "white"
           },
           "zaxis": {
            "backgroundcolor": "#E5ECF6",
            "gridcolor": "white",
            "gridwidth": 2,
            "linecolor": "white",
            "showbackground": true,
            "ticks": "",
            "zerolinecolor": "white"
           }
          },
          "shapedefaults": {
           "line": {
            "color": "#2a3f5f"
           }
          },
          "ternary": {
           "aaxis": {
            "gridcolor": "white",
            "linecolor": "white",
            "ticks": ""
           },
           "baxis": {
            "gridcolor": "white",
            "linecolor": "white",
            "ticks": ""
           },
           "bgcolor": "#E5ECF6",
           "caxis": {
            "gridcolor": "white",
            "linecolor": "white",
            "ticks": ""
           }
          },
          "title": {
           "x": 0.05
          },
          "xaxis": {
           "automargin": true,
           "gridcolor": "white",
           "linecolor": "white",
           "ticks": "",
           "title": {
            "standoff": 15
           },
           "zerolinecolor": "white",
           "zerolinewidth": 2
          },
          "yaxis": {
           "automargin": true,
           "gridcolor": "white",
           "linecolor": "white",
           "ticks": "",
           "title": {
            "standoff": 15
           },
           "zerolinecolor": "white",
           "zerolinewidth": 2
          }
         }
        },
        "title": {
         "font": {
          "color": "#4D5663"
         }
        },
        "xaxis": {
         "gridcolor": "#E1E5ED",
         "showgrid": true,
         "tickfont": {
          "color": "#4D5663"
         },
         "title": {
          "font": {
           "color": "#4D5663"
          },
          "text": "Tiefe des Baums"
         },
         "zerolinecolor": "#E1E5ED"
        },
        "yaxis": {
         "gridcolor": "#E1E5ED",
         "showgrid": true,
         "tickfont": {
          "color": "#4D5663"
         },
         "title": {
          "font": {
           "color": "#4D5663"
          },
          "text": "Rate korrekter Klassifikationen"
         },
         "zerolinecolor": "#E1E5ED"
        }
       }
      },
      "text/html": [
       "<div>                            <div id=\"ae35da9f-9613-4b98-8d68-6dda6bea43c3\" class=\"plotly-graph-div\" style=\"height:525px; width:100%;\"></div>            <script type=\"text/javascript\">                require([\"plotly\"], function(Plotly) {                    window.PLOTLYENV=window.PLOTLYENV || {};\n",
       "                    window.PLOTLYENV.BASE_URL='https://plot.ly';                                    if (document.getElementById(\"ae35da9f-9613-4b98-8d68-6dda6bea43c3\")) {                    Plotly.newPlot(                        \"ae35da9f-9613-4b98-8d68-6dda6bea43c3\",                        [{\"line\":{\"color\":\"rgba(255, 153, 51, 1.0)\",\"dash\":\"solid\",\"shape\":\"linear\",\"width\":1.3},\"mode\":\"lines\",\"name\":\"Train Data\",\"text\":\"\",\"x\":[1,2,3,4,5,6,7,8,9,10],\"y\":[0.545,0.765,0.775,0.835,0.885,0.905,0.955,0.975,0.99,0.995],\"type\":\"scatter\"},{\"line\":{\"color\":\"rgba(55, 128, 191, 1.0)\",\"dash\":\"solid\",\"shape\":\"linear\",\"width\":1.3},\"mode\":\"lines\",\"name\":\"Test Data\",\"text\":\"\",\"x\":[1,2,3,4,5,6,7,8,9,10],\"y\":[0.5853658536585366,0.7195121951219512,0.7560975609756098,0.8048780487804879,0.7926829268292683,0.7804878048780488,0.7195121951219512,0.7682926829268293,0.7317073170731707,0.7317073170731707],\"type\":\"scatter\"}],                        {\"legend\":{\"bgcolor\":\"#FFFFFF\",\"font\":{\"color\":\"#4D5663\"}},\"paper_bgcolor\":\"#FFFFFF\",\"plot_bgcolor\":\"#FFFFFF\",\"template\":{\"data\":{\"barpolar\":[{\"marker\":{\"line\":{\"color\":\"#E5ECF6\",\"width\":0.5},\"pattern\":{\"fillmode\":\"overlay\",\"size\":10,\"solidity\":0.2}},\"type\":\"barpolar\"}],\"bar\":[{\"error_x\":{\"color\":\"#2a3f5f\"},\"error_y\":{\"color\":\"#2a3f5f\"},\"marker\":{\"line\":{\"color\":\"#E5ECF6\",\"width\":0.5},\"pattern\":{\"fillmode\":\"overlay\",\"size\":10,\"solidity\":0.2}},\"type\":\"bar\"}],\"carpet\":[{\"aaxis\":{\"endlinecolor\":\"#2a3f5f\",\"gridcolor\":\"white\",\"linecolor\":\"white\",\"minorgridcolor\":\"white\",\"startlinecolor\":\"#2a3f5f\"},\"baxis\":{\"endlinecolor\":\"#2a3f5f\",\"gridcolor\":\"white\",\"linecolor\":\"white\",\"minorgridcolor\":\"white\",\"startlinecolor\":\"#2a3f5f\"},\"type\":\"carpet\"}],\"choropleth\":[{\"colorbar\":{\"outlinewidth\":0,\"ticks\":\"\"},\"type\":\"choropleth\"}],\"contourcarpet\":[{\"colorbar\":{\"outlinewidth\":0,\"ticks\":\"\"},\"type\":\"contourcarpet\"}],\"contour\":[{\"colorbar\":{\"outlinewidth\":0,\"ticks\":\"\"},\"colorscale\":[[0.0,\"#0d0887\"],[0.1111111111111111,\"#46039f\"],[0.2222222222222222,\"#7201a8\"],[0.3333333333333333,\"#9c179e\"],[0.4444444444444444,\"#bd3786\"],[0.5555555555555556,\"#d8576b\"],[0.6666666666666666,\"#ed7953\"],[0.7777777777777778,\"#fb9f3a\"],[0.8888888888888888,\"#fdca26\"],[1.0,\"#f0f921\"]],\"type\":\"contour\"}],\"heatmapgl\":[{\"colorbar\":{\"outlinewidth\":0,\"ticks\":\"\"},\"colorscale\":[[0.0,\"#0d0887\"],[0.1111111111111111,\"#46039f\"],[0.2222222222222222,\"#7201a8\"],[0.3333333333333333,\"#9c179e\"],[0.4444444444444444,\"#bd3786\"],[0.5555555555555556,\"#d8576b\"],[0.6666666666666666,\"#ed7953\"],[0.7777777777777778,\"#fb9f3a\"],[0.8888888888888888,\"#fdca26\"],[1.0,\"#f0f921\"]],\"type\":\"heatmapgl\"}],\"heatmap\":[{\"colorbar\":{\"outlinewidth\":0,\"ticks\":\"\"},\"colorscale\":[[0.0,\"#0d0887\"],[0.1111111111111111,\"#46039f\"],[0.2222222222222222,\"#7201a8\"],[0.3333333333333333,\"#9c179e\"],[0.4444444444444444,\"#bd3786\"],[0.5555555555555556,\"#d8576b\"],[0.6666666666666666,\"#ed7953\"],[0.7777777777777778,\"#fb9f3a\"],[0.8888888888888888,\"#fdca26\"],[1.0,\"#f0f921\"]],\"type\":\"heatmap\"}],\"histogram2dcontour\":[{\"colorbar\":{\"outlinewidth\":0,\"ticks\":\"\"},\"colorscale\":[[0.0,\"#0d0887\"],[0.1111111111111111,\"#46039f\"],[0.2222222222222222,\"#7201a8\"],[0.3333333333333333,\"#9c179e\"],[0.4444444444444444,\"#bd3786\"],[0.5555555555555556,\"#d8576b\"],[0.6666666666666666,\"#ed7953\"],[0.7777777777777778,\"#fb9f3a\"],[0.8888888888888888,\"#fdca26\"],[1.0,\"#f0f921\"]],\"type\":\"histogram2dcontour\"}],\"histogram2d\":[{\"colorbar\":{\"outlinewidth\":0,\"ticks\":\"\"},\"colorscale\":[[0.0,\"#0d0887\"],[0.1111111111111111,\"#46039f\"],[0.2222222222222222,\"#7201a8\"],[0.3333333333333333,\"#9c179e\"],[0.4444444444444444,\"#bd3786\"],[0.5555555555555556,\"#d8576b\"],[0.6666666666666666,\"#ed7953\"],[0.7777777777777778,\"#fb9f3a\"],[0.8888888888888888,\"#fdca26\"],[1.0,\"#f0f921\"]],\"type\":\"histogram2d\"}],\"histogram\":[{\"marker\":{\"pattern\":{\"fillmode\":\"overlay\",\"size\":10,\"solidity\":0.2}},\"type\":\"histogram\"}],\"mesh3d\":[{\"colorbar\":{\"outlinewidth\":0,\"ticks\":\"\"},\"type\":\"mesh3d\"}],\"parcoords\":[{\"line\":{\"colorbar\":{\"outlinewidth\":0,\"ticks\":\"\"}},\"type\":\"parcoords\"}],\"pie\":[{\"automargin\":true,\"type\":\"pie\"}],\"scatter3d\":[{\"line\":{\"colorbar\":{\"outlinewidth\":0,\"ticks\":\"\"}},\"marker\":{\"colorbar\":{\"outlinewidth\":0,\"ticks\":\"\"}},\"type\":\"scatter3d\"}],\"scattercarpet\":[{\"marker\":{\"colorbar\":{\"outlinewidth\":0,\"ticks\":\"\"}},\"type\":\"scattercarpet\"}],\"scattergeo\":[{\"marker\":{\"colorbar\":{\"outlinewidth\":0,\"ticks\":\"\"}},\"type\":\"scattergeo\"}],\"scattergl\":[{\"marker\":{\"colorbar\":{\"outlinewidth\":0,\"ticks\":\"\"}},\"type\":\"scattergl\"}],\"scattermapbox\":[{\"marker\":{\"colorbar\":{\"outlinewidth\":0,\"ticks\":\"\"}},\"type\":\"scattermapbox\"}],\"scatterpolargl\":[{\"marker\":{\"colorbar\":{\"outlinewidth\":0,\"ticks\":\"\"}},\"type\":\"scatterpolargl\"}],\"scatterpolar\":[{\"marker\":{\"colorbar\":{\"outlinewidth\":0,\"ticks\":\"\"}},\"type\":\"scatterpolar\"}],\"scatter\":[{\"fillpattern\":{\"fillmode\":\"overlay\",\"size\":10,\"solidity\":0.2},\"type\":\"scatter\"}],\"scatterternary\":[{\"marker\":{\"colorbar\":{\"outlinewidth\":0,\"ticks\":\"\"}},\"type\":\"scatterternary\"}],\"surface\":[{\"colorbar\":{\"outlinewidth\":0,\"ticks\":\"\"},\"colorscale\":[[0.0,\"#0d0887\"],[0.1111111111111111,\"#46039f\"],[0.2222222222222222,\"#7201a8\"],[0.3333333333333333,\"#9c179e\"],[0.4444444444444444,\"#bd3786\"],[0.5555555555555556,\"#d8576b\"],[0.6666666666666666,\"#ed7953\"],[0.7777777777777778,\"#fb9f3a\"],[0.8888888888888888,\"#fdca26\"],[1.0,\"#f0f921\"]],\"type\":\"surface\"}],\"table\":[{\"cells\":{\"fill\":{\"color\":\"#EBF0F8\"},\"line\":{\"color\":\"white\"}},\"header\":{\"fill\":{\"color\":\"#C8D4E3\"},\"line\":{\"color\":\"white\"}},\"type\":\"table\"}]},\"layout\":{\"annotationdefaults\":{\"arrowcolor\":\"#2a3f5f\",\"arrowhead\":0,\"arrowwidth\":1},\"autotypenumbers\":\"strict\",\"coloraxis\":{\"colorbar\":{\"outlinewidth\":0,\"ticks\":\"\"}},\"colorscale\":{\"diverging\":[[0,\"#8e0152\"],[0.1,\"#c51b7d\"],[0.2,\"#de77ae\"],[0.3,\"#f1b6da\"],[0.4,\"#fde0ef\"],[0.5,\"#f7f7f7\"],[0.6,\"#e6f5d0\"],[0.7,\"#b8e186\"],[0.8,\"#7fbc41\"],[0.9,\"#4d9221\"],[1,\"#276419\"]],\"sequential\":[[0.0,\"#0d0887\"],[0.1111111111111111,\"#46039f\"],[0.2222222222222222,\"#7201a8\"],[0.3333333333333333,\"#9c179e\"],[0.4444444444444444,\"#bd3786\"],[0.5555555555555556,\"#d8576b\"],[0.6666666666666666,\"#ed7953\"],[0.7777777777777778,\"#fb9f3a\"],[0.8888888888888888,\"#fdca26\"],[1.0,\"#f0f921\"]],\"sequentialminus\":[[0.0,\"#0d0887\"],[0.1111111111111111,\"#46039f\"],[0.2222222222222222,\"#7201a8\"],[0.3333333333333333,\"#9c179e\"],[0.4444444444444444,\"#bd3786\"],[0.5555555555555556,\"#d8576b\"],[0.6666666666666666,\"#ed7953\"],[0.7777777777777778,\"#fb9f3a\"],[0.8888888888888888,\"#fdca26\"],[1.0,\"#f0f921\"]]},\"colorway\":[\"#636efa\",\"#EF553B\",\"#00cc96\",\"#ab63fa\",\"#FFA15A\",\"#19d3f3\",\"#FF6692\",\"#B6E880\",\"#FF97FF\",\"#FECB52\"],\"font\":{\"color\":\"#2a3f5f\"},\"geo\":{\"bgcolor\":\"white\",\"lakecolor\":\"white\",\"landcolor\":\"#E5ECF6\",\"showlakes\":true,\"showland\":true,\"subunitcolor\":\"white\"},\"hoverlabel\":{\"align\":\"left\"},\"hovermode\":\"closest\",\"mapbox\":{\"style\":\"light\"},\"paper_bgcolor\":\"white\",\"plot_bgcolor\":\"#E5ECF6\",\"polar\":{\"angularaxis\":{\"gridcolor\":\"white\",\"linecolor\":\"white\",\"ticks\":\"\"},\"bgcolor\":\"#E5ECF6\",\"radialaxis\":{\"gridcolor\":\"white\",\"linecolor\":\"white\",\"ticks\":\"\"}},\"scene\":{\"xaxis\":{\"backgroundcolor\":\"#E5ECF6\",\"gridcolor\":\"white\",\"gridwidth\":2,\"linecolor\":\"white\",\"showbackground\":true,\"ticks\":\"\",\"zerolinecolor\":\"white\"},\"yaxis\":{\"backgroundcolor\":\"#E5ECF6\",\"gridcolor\":\"white\",\"gridwidth\":2,\"linecolor\":\"white\",\"showbackground\":true,\"ticks\":\"\",\"zerolinecolor\":\"white\"},\"zaxis\":{\"backgroundcolor\":\"#E5ECF6\",\"gridcolor\":\"white\",\"gridwidth\":2,\"linecolor\":\"white\",\"showbackground\":true,\"ticks\":\"\",\"zerolinecolor\":\"white\"}},\"shapedefaults\":{\"line\":{\"color\":\"#2a3f5f\"}},\"ternary\":{\"aaxis\":{\"gridcolor\":\"white\",\"linecolor\":\"white\",\"ticks\":\"\"},\"baxis\":{\"gridcolor\":\"white\",\"linecolor\":\"white\",\"ticks\":\"\"},\"bgcolor\":\"#E5ECF6\",\"caxis\":{\"gridcolor\":\"white\",\"linecolor\":\"white\",\"ticks\":\"\"}},\"title\":{\"x\":0.05},\"xaxis\":{\"automargin\":true,\"gridcolor\":\"white\",\"linecolor\":\"white\",\"ticks\":\"\",\"title\":{\"standoff\":15},\"zerolinecolor\":\"white\",\"zerolinewidth\":2},\"yaxis\":{\"automargin\":true,\"gridcolor\":\"white\",\"linecolor\":\"white\",\"ticks\":\"\",\"title\":{\"standoff\":15},\"zerolinecolor\":\"white\",\"zerolinewidth\":2}}},\"title\":{\"font\":{\"color\":\"#4D5663\"}},\"xaxis\":{\"gridcolor\":\"#E1E5ED\",\"showgrid\":true,\"tickfont\":{\"color\":\"#4D5663\"},\"title\":{\"font\":{\"color\":\"#4D5663\"},\"text\":\"Tiefe des Baums\"},\"zerolinecolor\":\"#E1E5ED\"},\"yaxis\":{\"gridcolor\":\"#E1E5ED\",\"showgrid\":true,\"tickfont\":{\"color\":\"#4D5663\"},\"title\":{\"font\":{\"color\":\"#4D5663\"},\"text\":\"Rate korrekter Klassifikationen\"},\"zerolinecolor\":\"#E1E5ED\"}},                        {\"showLink\": true, \"linkText\": \"Export to plot.ly\", \"plotlyServerURL\": \"https://plot.ly\", \"responsive\": true}                    ).then(function(){\n",
       "                            \n",
       "var gd = document.getElementById('ae35da9f-9613-4b98-8d68-6dda6bea43c3');\n",
       "var x = new MutationObserver(function (mutations, observer) {{\n",
       "        var display = window.getComputedStyle(gd).display;\n",
       "        if (!display || display === 'none') {{\n",
       "            console.log([gd, 'removed!']);\n",
       "            Plotly.purge(gd);\n",
       "            observer.disconnect();\n",
       "        }}\n",
       "}});\n",
       "\n",
       "// Listen for the removal of the full notebook cells\n",
       "var notebookContainer = gd.closest('#notebook-container');\n",
       "if (notebookContainer) {{\n",
       "    x.observe(notebookContainer, {childList: true});\n",
       "}}\n",
       "\n",
       "// Listen for the clearing of the current output cell\n",
       "var outputEl = gd.closest('.output');\n",
       "if (outputEl) {{\n",
       "    x.observe(outputEl, {childList: true});\n",
       "}}\n",
       "\n",
       "                        })                };                });            </script>        </div>"
      ]
     },
     "metadata": {},
     "output_type": "display_data"
    }
   ],
   "source": [
    "tree5.evaluation_depth(df_pr_cleve_red2[:200],df_pr_cleve_red2[200:]).iplot(xTitle='Tiefe des Baums', yTitle='Rate korrekter Klassifikationen')"
   ]
  },
  {
   "cell_type": "code",
   "execution_count": 69,
   "metadata": {},
   "outputs": [
    {
     "name": "stdout",
     "output_type": "stream",
     "text": [
      "Test Node: 10\n",
      "Prune Node: 10\n",
      "Node-Count 65\n",
      "New Test-Score 0.7317073170731707\n",
      "Test Node: 9\n",
      "Test Node: 8\n",
      "Prune Node: 8\n",
      "Node-Count 61\n",
      "New Test-Score 0.7439024390243902\n",
      "Test Node: 15\n",
      "Prune Node: 15\n",
      "Node-Count 59\n",
      "New Test-Score 0.7439024390243902\n",
      "Test Node: 7\n",
      "Prune Node: 7\n",
      "Node-Count 57\n",
      "New Test-Score 0.7439024390243902\n",
      "Test Node: 5\n",
      "Prune Node: 5\n",
      "Node-Count 55\n",
      "New Test-Score 0.7439024390243902\n",
      "Test Node: 3\n",
      "Prune Node: 3\n",
      "Node-Count 53\n",
      "New Test-Score 0.7439024390243902\n",
      "Test Node: 19\n",
      "Prune Node: 19\n",
      "Node-Count 51\n",
      "New Test-Score 0.7560975609756098\n",
      "Test Node: 25\n",
      "Prune Node: 25\n",
      "Node-Count 49\n",
      "New Test-Score 0.7682926829268293\n",
      "Test Node: 24\n",
      "Test Node: 23\n",
      "Test Node: 31\n",
      "Prune Node: 31\n",
      "Node-Count 47\n",
      "New Test-Score 0.7682926829268293\n",
      "Test Node: 30\n",
      "Prune Node: 30\n",
      "Node-Count 45\n",
      "New Test-Score 0.7682926829268293\n",
      "Test Node: 22\n",
      "Test Node: 18\n",
      "Test Node: 2\n",
      "Test Node: 43\n",
      "Prune Node: 43\n",
      "Node-Count 43\n",
      "New Test-Score 0.7682926829268293\n",
      "Test Node: 41\n",
      "Prune Node: 41\n",
      "Node-Count 41\n",
      "New Test-Score 0.8048780487804879\n",
      "Test Node: 40\n",
      "Test Node: 39\n",
      "Prune Node: 39\n",
      "Node-Count 37\n",
      "New Test-Score 0.8170731707317073\n",
      "Test Node: 38\n",
      "Prune Node: 38\n",
      "Node-Count 35\n",
      "New Test-Score 0.8170731707317073\n",
      "Test Node: 37\n",
      "Prune Node: 37\n",
      "Node-Count 33\n",
      "New Test-Score 0.8170731707317073\n",
      "Test Node: 51\n",
      "Prune Node: 51\n",
      "Node-Count 31\n",
      "New Test-Score 0.8170731707317073\n",
      "Test Node: 56\n",
      "Prune Node: 56\n",
      "Node-Count 29\n",
      "New Test-Score 0.8170731707317073\n",
      "Test Node: 54\n",
      "Prune Node: 54\n",
      "Node-Count 27\n",
      "New Test-Score 0.8292682926829268\n",
      "Test Node: 50\n",
      "Prune Node: 50\n",
      "Node-Count 25\n",
      "New Test-Score 0.8292682926829268\n",
      "Test Node: 36\n",
      "Test Node: 65\n",
      "Prune Node: 65\n",
      "Node-Count 23\n",
      "New Test-Score 0.8292682926829268\n",
      "Test Node: 63\n",
      "Test Node: 61\n",
      "Test Node: 59\n",
      "Test Node: 35\n",
      "Test Node: 1\n"
     ]
    }
   ],
   "source": [
    "tree5.validation_pruning(df_pr_cleve_red2[200:])"
   ]
  },
  {
   "cell_type": "code",
   "execution_count": 70,
   "metadata": {},
   "outputs": [
    {
     "data": {
      "image/svg+xml": [
       "<?xml version=\"1.0\" encoding=\"UTF-8\" standalone=\"no\"?>\r\n",
       "<!DOCTYPE svg PUBLIC \"-//W3C//DTD SVG 1.1//EN\"\r\n",
       " \"http://www.w3.org/Graphics/SVG/1.1/DTD/svg11.dtd\">\r\n",
       "<!-- Generated by graphviz version 2.50.0 (0)\r\n",
       " -->\r\n",
       "<!-- Pages: 1 -->\r\n",
       "<svg width=\"875pt\" height=\"718pt\"\r\n",
       " viewBox=\"0.00 0.00 874.50 718.00\" xmlns=\"http://www.w3.org/2000/svg\" xmlns:xlink=\"http://www.w3.org/1999/xlink\">\r\n",
       "<g id=\"graph0\" class=\"graph\" transform=\"scale(1 1) rotate(0) translate(4 714)\">\r\n",
       "<polygon fill=\"white\" stroke=\"transparent\" points=\"-4,4 -4,-714 870.5,-714 870.5,4 -4,4\"/>\r\n",
       "<polygon fill=\"lightblue\" stroke=\"transparent\" points=\"8,-662 8,-706 95,-706 95,-662 8,-662\"/>\r\n",
       "<polygon fill=\"none\" stroke=\"black\" points=\"11.5,-684 11.5,-703 92.5,-703 92.5,-684 11.5,-684\"/>\r\n",
       "<text text-anchor=\"start\" x=\"14.5\" y=\"-690.4\" font-family=\"Times New Roman,serif\" font-size=\"12.00\">heart disease? &#160;&#160;</text>\r\n",
       "<polygon fill=\"none\" stroke=\"black\" points=\"11.5,-665 11.5,-682 92.5,-682 92.5,-665 11.5,-665\"/>\r\n",
       "<text text-anchor=\"start\" x=\"26.5\" y=\"-671\" font-family=\"Times New Roman,serif\" font-size=\"10.00\" fill=\"dimgrey\">[False, True]</text>\r\n",
       "<polygon fill=\"none\" stroke=\"black\" points=\"8,-662 8,-706 95,-706 95,-662 8,-662\"/>\r\n",
       "<!-- 1 -->\r\n",
       "<g id=\"node1\" class=\"node\">\r\n",
       "<title>1</title>\r\n",
       "<polygon fill=\"none\" stroke=\"black\" points=\"362,-612.5 362,-657.5 439,-657.5 439,-612.5 362,-612.5\"/>\r\n",
       "<text text-anchor=\"start\" x=\"382.5\" y=\"-645\" font-family=\"Times New Roman,serif\" font-size=\"10.00\" fill=\"dimgrey\">[109, 91]</text>\r\n",
       "<text text-anchor=\"start\" x=\"370.5\" y=\"-630.8\" font-family=\"Times New Roman,serif\" font-size=\"14.00\">chest pain?</text>\r\n",
       "<text text-anchor=\"start\" x=\"412.5\" y=\"-619\" font-family=\"Times New Roman,serif\" font-size=\"10.00\" fill=\"dimgrey\">Nr.1</text>\r\n",
       "</g>\r\n",
       "<!-- 2 -->\r\n",
       "<g id=\"node2\" class=\"node\">\r\n",
       "<title>2</title>\r\n",
       "<polygon fill=\"none\" stroke=\"black\" points=\"280.5,-515.5 280.5,-560.5 334.5,-560.5 334.5,-515.5 280.5,-515.5\"/>\r\n",
       "<text text-anchor=\"start\" x=\"291.5\" y=\"-548\" font-family=\"Times New Roman,serif\" font-size=\"10.00\" fill=\"dimgrey\">[85, 23]</text>\r\n",
       "<text text-anchor=\"start\" x=\"295\" y=\"-533.8\" font-family=\"Times New Roman,serif\" font-size=\"14.00\">age?</text>\r\n",
       "<text text-anchor=\"start\" x=\"304.5\" y=\"-522\" font-family=\"Times New Roman,serif\" font-size=\"10.00\" fill=\"dimgrey\">Nr.2</text>\r\n",
       "</g>\r\n",
       "<!-- 1&#45;&gt;2 -->\r\n",
       "<g id=\"edge11\" class=\"edge\">\r\n",
       "<title>1&#45;&gt;2</title>\r\n",
       "<path fill=\"none\" stroke=\"black\" d=\"M379.4,-612.44C366.53,-599.3 349.91,-582.33 335.9,-568.01\"/>\r\n",
       "<polygon fill=\"black\" stroke=\"black\" points=\"338.34,-565.5 328.84,-560.8 333.34,-570.39 338.34,-565.5\"/>\r\n",
       "<g id=\"a_edge11&#45;label\"><a xlink:title=\"3\">\r\n",
       "<text text-anchor=\"middle\" x=\"368\" y=\"-582.8\" font-family=\"Times New Roman,serif\" font-size=\"14.00\">≤3</text>\r\n",
       "</a>\r\n",
       "</g>\r\n",
       "</g>\r\n",
       "<!-- 35 -->\r\n",
       "<g id=\"node13\" class=\"node\">\r\n",
       "<title>35</title>\r\n",
       "<polygon fill=\"none\" stroke=\"black\" points=\"353,-515.5 353,-560.5 634,-560.5 634,-515.5 353,-515.5\"/>\r\n",
       "<text text-anchor=\"start\" x=\"478\" y=\"-548\" font-family=\"Times New Roman,serif\" font-size=\"10.00\" fill=\"dimgrey\">[24, 68]</text>\r\n",
       "<text text-anchor=\"start\" x=\"361.5\" y=\"-533.8\" font-family=\"Times New Roman,serif\" font-size=\"14.00\">number of major vessels colored by flourosopy?</text>\r\n",
       "<text text-anchor=\"start\" x=\"602.5\" y=\"-522\" font-family=\"Times New Roman,serif\" font-size=\"10.00\" fill=\"dimgrey\">Nr.35</text>\r\n",
       "</g>\r\n",
       "<!-- 1&#45;&gt;35 -->\r\n",
       "<g id=\"edge22\" class=\"edge\">\r\n",
       "<title>1&#45;&gt;35</title>\r\n",
       "<path fill=\"none\" stroke=\"black\" d=\"M421.6,-612.44C434.47,-599.3 451.09,-582.33 465.1,-568.01\"/>\r\n",
       "<polygon fill=\"black\" stroke=\"black\" points=\"467.66,-570.39 472.16,-560.8 462.66,-565.5 467.66,-570.39\"/>\r\n",
       "<g id=\"a_edge22&#45;label\"><a xlink:title=\"3\">\r\n",
       "<text text-anchor=\"middle\" x=\"461.5\" y=\"-582.8\" font-family=\"Times New Roman,serif\" font-size=\"14.00\">&gt;3</text>\r\n",
       "</a>\r\n",
       "</g>\r\n",
       "</g>\r\n",
       "<!-- 3 -->\r\n",
       "<g id=\"node3\" class=\"node\">\r\n",
       "<title>3</title>\r\n",
       "<polygon fill=\"yellow\" stroke=\"yellow\" points=\"251.5,-412.5 251.5,-463.5 305.5,-463.5 305.5,-412.5 251.5,-412.5\"/>\r\n",
       "<text text-anchor=\"start\" x=\"265.5\" y=\"-450\" font-family=\"Times New Roman,serif\" font-size=\"10.00\" fill=\"dimgrey\">[57, 6]</text>\r\n",
       "<text text-anchor=\"start\" x=\"264.5\" y=\"-433.8\" font-family=\"Times New Roman,serif\" font-size=\"14.00\">False</text>\r\n",
       "<text text-anchor=\"start\" x=\"274.5\" y=\"-420\" font-family=\"Times New Roman,serif\" font-size=\"10.00\" fill=\"dimgrey\">Nr.3</text>\r\n",
       "</g>\r\n",
       "<!-- 2&#45;&gt;3 -->\r\n",
       "<g id=\"edge1\" class=\"edge\">\r\n",
       "<title>2&#45;&gt;3</title>\r\n",
       "<path fill=\"none\" stroke=\"black\" d=\"M300.3,-515.47C298.37,-509.5 296.31,-503.01 294.5,-497 292.22,-489.42 289.89,-481.24 287.74,-473.49\"/>\r\n",
       "<polygon fill=\"black\" stroke=\"black\" points=\"291.05,-472.34 285.03,-463.62 284.3,-474.19 291.05,-472.34\"/>\r\n",
       "<g id=\"a_edge1&#45;label\"><a xlink:title=\"55\">\r\n",
       "<text text-anchor=\"middle\" x=\"305.5\" y=\"-485.8\" font-family=\"Times New Roman,serif\" font-size=\"14.00\">≤55</text>\r\n",
       "</a>\r\n",
       "</g>\r\n",
       "</g>\r\n",
       "<!-- 18 -->\r\n",
       "<g id=\"node4\" class=\"node\">\r\n",
       "<title>18</title>\r\n",
       "<polygon fill=\"none\" stroke=\"black\" points=\"324,-415.5 324,-460.5 383,-460.5 383,-415.5 324,-415.5\"/>\r\n",
       "<text text-anchor=\"start\" x=\"338\" y=\"-448\" font-family=\"Times New Roman,serif\" font-size=\"10.00\" fill=\"dimgrey\">[28, 17]</text>\r\n",
       "<text text-anchor=\"start\" x=\"332.5\" y=\"-433.8\" font-family=\"Times New Roman,serif\" font-size=\"14.00\">gender?</text>\r\n",
       "<text text-anchor=\"start\" x=\"351.5\" y=\"-422\" font-family=\"Times New Roman,serif\" font-size=\"10.00\" fill=\"dimgrey\">Nr.18</text>\r\n",
       "</g>\r\n",
       "<!-- 2&#45;&gt;18 -->\r\n",
       "<g id=\"edge10\" class=\"edge\">\r\n",
       "<title>2&#45;&gt;18</title>\r\n",
       "<path fill=\"none\" stroke=\"black\" d=\"M317.71,-515.25C323.96,-501.93 332.06,-484.67 338.98,-469.94\"/>\r\n",
       "<polygon fill=\"black\" stroke=\"black\" points=\"342.24,-471.23 343.32,-460.69 335.9,-468.25 342.24,-471.23\"/>\r\n",
       "<g id=\"a_edge10&#45;label\"><a xlink:title=\"55\">\r\n",
       "<text text-anchor=\"middle\" x=\"344.5\" y=\"-485.8\" font-family=\"Times New Roman,serif\" font-size=\"14.00\">&gt;55</text>\r\n",
       "</a>\r\n",
       "</g>\r\n",
       "</g>\r\n",
       "<!-- 19 -->\r\n",
       "<g id=\"node5\" class=\"node\">\r\n",
       "<title>19</title>\r\n",
       "<polygon fill=\"yellow\" stroke=\"yellow\" points=\"248.5,-309.5 248.5,-360.5 302.5,-360.5 302.5,-309.5 248.5,-309.5\"/>\r\n",
       "<text text-anchor=\"start\" x=\"262.5\" y=\"-347\" font-family=\"Times New Roman,serif\" font-size=\"10.00\" fill=\"dimgrey\">[15, 1]</text>\r\n",
       "<text text-anchor=\"start\" x=\"261.5\" y=\"-330.8\" font-family=\"Times New Roman,serif\" font-size=\"14.00\">False</text>\r\n",
       "<text text-anchor=\"start\" x=\"266.5\" y=\"-317\" font-family=\"Times New Roman,serif\" font-size=\"10.00\" fill=\"dimgrey\">Nr.19</text>\r\n",
       "</g>\r\n",
       "<!-- 18&#45;&gt;19 -->\r\n",
       "<g id=\"edge2\" class=\"edge\">\r\n",
       "<title>18&#45;&gt;19</title>\r\n",
       "<path fill=\"none\" stroke=\"black\" d=\"M336.58,-415.08C326.14,-401.57 312.56,-383.99 300.86,-368.84\"/>\r\n",
       "<polygon fill=\"black\" stroke=\"black\" points=\"303.47,-366.49 294.58,-360.71 297.93,-370.77 303.47,-366.49\"/>\r\n",
       "<g id=\"a_edge2&#45;label\"><a xlink:title=\"0\">\r\n",
       "<text text-anchor=\"middle\" x=\"327\" y=\"-382.8\" font-family=\"Times New Roman,serif\" font-size=\"14.00\">≤0</text>\r\n",
       "</a>\r\n",
       "</g>\r\n",
       "</g>\r\n",
       "<!-- 22 -->\r\n",
       "<g id=\"node6\" class=\"node\">\r\n",
       "<title>22</title>\r\n",
       "<polygon fill=\"none\" stroke=\"black\" points=\"320.5,-312.5 320.5,-357.5 402.5,-357.5 402.5,-312.5 320.5,-312.5\"/>\r\n",
       "<text text-anchor=\"start\" x=\"345.5\" y=\"-345\" font-family=\"Times New Roman,serif\" font-size=\"10.00\" fill=\"dimgrey\">[13, 16]</text>\r\n",
       "<text text-anchor=\"start\" x=\"328.5\" y=\"-330.8\" font-family=\"Times New Roman,serif\" font-size=\"14.00\">cholesterol?</text>\r\n",
       "<text text-anchor=\"start\" x=\"370.5\" y=\"-319\" font-family=\"Times New Roman,serif\" font-size=\"10.00\" fill=\"dimgrey\">Nr.22</text>\r\n",
       "</g>\r\n",
       "<!-- 18&#45;&gt;22 -->\r\n",
       "<g id=\"edge9\" class=\"edge\">\r\n",
       "<title>18&#45;&gt;22</title>\r\n",
       "<path fill=\"none\" stroke=\"black\" d=\"M355.24,-415.08C356.33,-401.23 357.77,-383.08 358.99,-367.67\"/>\r\n",
       "<polygon fill=\"black\" stroke=\"black\" points=\"362.49,-367.77 359.79,-357.53 355.52,-367.22 362.49,-367.77\"/>\r\n",
       "<g id=\"a_edge9&#45;label\"><a xlink:title=\"0\">\r\n",
       "<text text-anchor=\"middle\" x=\"366.5\" y=\"-382.8\" font-family=\"Times New Roman,serif\" font-size=\"14.00\">&gt;0</text>\r\n",
       "</a>\r\n",
       "</g>\r\n",
       "</g>\r\n",
       "<!-- 23 -->\r\n",
       "<g id=\"node7\" class=\"node\">\r\n",
       "<title>23</title>\r\n",
       "<polygon fill=\"none\" stroke=\"black\" points=\"173.5,-209.5 173.5,-254.5 363.5,-254.5 363.5,-209.5 173.5,-209.5\"/>\r\n",
       "<text text-anchor=\"start\" x=\"255.5\" y=\"-242\" font-family=\"Times New Roman,serif\" font-size=\"10.00\" fill=\"dimgrey\">[11, 4]</text>\r\n",
       "<text text-anchor=\"start\" x=\"181.5\" y=\"-227.8\" font-family=\"Times New Roman,serif\" font-size=\"14.00\">peak exercise blood pressure d?</text>\r\n",
       "<text text-anchor=\"start\" x=\"331.5\" y=\"-216\" font-family=\"Times New Roman,serif\" font-size=\"10.00\" fill=\"dimgrey\">Nr.23</text>\r\n",
       "</g>\r\n",
       "<!-- 22&#45;&gt;23 -->\r\n",
       "<g id=\"edge7\" class=\"edge\">\r\n",
       "<title>22&#45;&gt;23</title>\r\n",
       "<path fill=\"none\" stroke=\"black\" d=\"M341.32,-312.08C327.82,-297.43 309.91,-277.98 295.23,-262.03\"/>\r\n",
       "<polygon fill=\"black\" stroke=\"black\" points=\"297.67,-259.51 288.32,-254.53 292.52,-264.25 297.67,-259.51\"/>\r\n",
       "<g id=\"a_edge7&#45;label\"><a xlink:title=\"243\">\r\n",
       "<text text-anchor=\"middle\" x=\"335.5\" y=\"-279.8\" font-family=\"Times New Roman,serif\" font-size=\"14.00\">≤243</text>\r\n",
       "</a>\r\n",
       "</g>\r\n",
       "</g>\r\n",
       "<!-- 30 -->\r\n",
       "<g id=\"node12\" class=\"node\">\r\n",
       "<title>30</title>\r\n",
       "<polygon fill=\"yellow\" stroke=\"yellow\" points=\"381.5,-206.5 381.5,-257.5 435.5,-257.5 435.5,-206.5 381.5,-206.5\"/>\r\n",
       "<text text-anchor=\"start\" x=\"395.5\" y=\"-244\" font-family=\"Times New Roman,serif\" font-size=\"10.00\" fill=\"dimgrey\">[2, 12]</text>\r\n",
       "<text text-anchor=\"start\" x=\"396\" y=\"-227.8\" font-family=\"Times New Roman,serif\" font-size=\"14.00\">True</text>\r\n",
       "<text text-anchor=\"start\" x=\"398.5\" y=\"-214\" font-family=\"Times New Roman,serif\" font-size=\"10.00\" fill=\"dimgrey\">Nr.30</text>\r\n",
       "</g>\r\n",
       "<!-- 22&#45;&gt;30 -->\r\n",
       "<g id=\"edge8\" class=\"edge\">\r\n",
       "<title>22&#45;&gt;30</title>\r\n",
       "<path fill=\"none\" stroke=\"black\" d=\"M371.7,-312.08C377.81,-298.95 385.71,-281.97 392.63,-267.11\"/>\r\n",
       "<polygon fill=\"black\" stroke=\"black\" points=\"395.95,-268.25 397,-257.71 389.61,-265.3 395.95,-268.25\"/>\r\n",
       "<g id=\"a_edge8&#45;label\"><a xlink:title=\"243\">\r\n",
       "<text text-anchor=\"middle\" x=\"403\" y=\"-279.8\" font-family=\"Times New Roman,serif\" font-size=\"14.00\">&gt;243</text>\r\n",
       "</a>\r\n",
       "</g>\r\n",
       "</g>\r\n",
       "<!-- 24 -->\r\n",
       "<g id=\"node8\" class=\"node\">\r\n",
       "<title>24</title>\r\n",
       "<polygon fill=\"none\" stroke=\"black\" points=\"0,-106.5 0,-151.5 281,-151.5 281,-106.5 0,-106.5\"/>\r\n",
       "<text text-anchor=\"start\" x=\"130\" y=\"-139\" font-family=\"Times New Roman,serif\" font-size=\"10.00\" fill=\"dimgrey\">[3, 4]</text>\r\n",
       "<text text-anchor=\"start\" x=\"8.5\" y=\"-124.8\" font-family=\"Times New Roman,serif\" font-size=\"14.00\">number of major vessels colored by flourosopy?</text>\r\n",
       "<text text-anchor=\"start\" x=\"249.5\" y=\"-113\" font-family=\"Times New Roman,serif\" font-size=\"10.00\" fill=\"dimgrey\">Nr.24</text>\r\n",
       "</g>\r\n",
       "<!-- 23&#45;&gt;24 -->\r\n",
       "<g id=\"edge5\" class=\"edge\">\r\n",
       "<title>23&#45;&gt;24</title>\r\n",
       "<path fill=\"none\" stroke=\"black\" d=\"M241.04,-209.33C221.97,-194.29 196.4,-174.11 175.82,-157.87\"/>\r\n",
       "<polygon fill=\"black\" stroke=\"black\" points=\"177.93,-155.08 167.91,-151.63 173.6,-160.57 177.93,-155.08\"/>\r\n",
       "<g id=\"a_edge5&#45;label\"><a xlink:title=\"78\">\r\n",
       "<text text-anchor=\"middle\" x=\"223.5\" y=\"-176.8\" font-family=\"Times New Roman,serif\" font-size=\"14.00\">≤78</text>\r\n",
       "</a>\r\n",
       "</g>\r\n",
       "</g>\r\n",
       "<!-- 29 -->\r\n",
       "<g id=\"node11\" class=\"node\">\r\n",
       "<title>29</title>\r\n",
       "<polygon fill=\"yellow\" stroke=\"yellow\" points=\"299.5,-103.5 299.5,-154.5 353.5,-154.5 353.5,-103.5 299.5,-103.5\"/>\r\n",
       "<text text-anchor=\"start\" x=\"316\" y=\"-141\" font-family=\"Times New Roman,serif\" font-size=\"10.00\" fill=\"dimgrey\">[8, 0]</text>\r\n",
       "<text text-anchor=\"start\" x=\"312.5\" y=\"-124.8\" font-family=\"Times New Roman,serif\" font-size=\"14.00\">False</text>\r\n",
       "<text text-anchor=\"start\" x=\"317.5\" y=\"-111\" font-family=\"Times New Roman,serif\" font-size=\"10.00\" fill=\"dimgrey\">Nr.29</text>\r\n",
       "</g>\r\n",
       "<!-- 23&#45;&gt;29 -->\r\n",
       "<g id=\"edge6\" class=\"edge\">\r\n",
       "<title>23&#45;&gt;29</title>\r\n",
       "<path fill=\"none\" stroke=\"black\" d=\"M281.09,-209.08C288.7,-195.82 298.57,-178.64 307.16,-163.68\"/>\r\n",
       "<polygon fill=\"black\" stroke=\"black\" points=\"310.36,-165.13 312.31,-154.71 304.29,-161.64 310.36,-165.13\"/>\r\n",
       "<g id=\"a_edge6&#45;label\"><a xlink:title=\"78\">\r\n",
       "<text text-anchor=\"middle\" x=\"312.5\" y=\"-176.8\" font-family=\"Times New Roman,serif\" font-size=\"14.00\">&gt;78</text>\r\n",
       "</a>\r\n",
       "</g>\r\n",
       "</g>\r\n",
       "<!-- 25 -->\r\n",
       "<g id=\"node9\" class=\"node\">\r\n",
       "<title>25</title>\r\n",
       "<polygon fill=\"yellow\" stroke=\"yellow\" points=\"77.5,-0.5 77.5,-51.5 131.5,-51.5 131.5,-0.5 77.5,-0.5\"/>\r\n",
       "<text text-anchor=\"start\" x=\"94\" y=\"-38\" font-family=\"Times New Roman,serif\" font-size=\"10.00\" fill=\"dimgrey\">[3, 1]</text>\r\n",
       "<text text-anchor=\"start\" x=\"90.5\" y=\"-21.8\" font-family=\"Times New Roman,serif\" font-size=\"14.00\">False</text>\r\n",
       "<text text-anchor=\"start\" x=\"95.5\" y=\"-8\" font-family=\"Times New Roman,serif\" font-size=\"10.00\" fill=\"dimgrey\">Nr.25</text>\r\n",
       "</g>\r\n",
       "<!-- 24&#45;&gt;25 -->\r\n",
       "<g id=\"edge3\" class=\"edge\">\r\n",
       "<title>24&#45;&gt;25</title>\r\n",
       "<path fill=\"none\" stroke=\"black\" d=\"M132.69,-106.08C128.05,-93.07 122.07,-76.29 116.81,-61.53\"/>\r\n",
       "<polygon fill=\"black\" stroke=\"black\" points=\"119.96,-59.96 113.31,-51.71 113.37,-62.31 119.96,-59.96\"/>\r\n",
       "<g id=\"a_edge3&#45;label\"><a xlink:title=\"0.0\">\r\n",
       "<text text-anchor=\"middle\" x=\"138\" y=\"-73.8\" font-family=\"Times New Roman,serif\" font-size=\"14.00\">≤0.0</text>\r\n",
       "</a>\r\n",
       "</g>\r\n",
       "</g>\r\n",
       "<!-- 28 -->\r\n",
       "<g id=\"node10\" class=\"node\">\r\n",
       "<title>28</title>\r\n",
       "<polygon fill=\"yellow\" stroke=\"yellow\" points=\"149.5,-0.5 149.5,-51.5 203.5,-51.5 203.5,-0.5 149.5,-0.5\"/>\r\n",
       "<text text-anchor=\"start\" x=\"165.5\" y=\"-38\" font-family=\"Times New Roman,serif\" font-size=\"10.00\" fill=\"dimgrey\">[0, 3]</text>\r\n",
       "<text text-anchor=\"start\" x=\"163.5\" y=\"-21.8\" font-family=\"Times New Roman,serif\" font-size=\"14.00\">True</text>\r\n",
       "<text text-anchor=\"start\" x=\"165.5\" y=\"-8\" font-family=\"Times New Roman,serif\" font-size=\"10.00\" fill=\"dimgrey\">Nr.28</text>\r\n",
       "</g>\r\n",
       "<!-- 24&#45;&gt;28 -->\r\n",
       "<g id=\"edge4\" class=\"edge\">\r\n",
       "<title>24&#45;&gt;28</title>\r\n",
       "<path fill=\"none\" stroke=\"black\" d=\"M148.31,-106.08C152.95,-93.07 158.93,-76.29 164.19,-61.53\"/>\r\n",
       "<polygon fill=\"black\" stroke=\"black\" points=\"167.63,-62.31 167.69,-51.71 161.04,-59.96 167.63,-62.31\"/>\r\n",
       "<g id=\"a_edge4&#45;label\"><a xlink:title=\"0.0\">\r\n",
       "<text text-anchor=\"middle\" x=\"174.5\" y=\"-73.8\" font-family=\"Times New Roman,serif\" font-size=\"14.00\">&gt;0.0</text>\r\n",
       "</a>\r\n",
       "</g>\r\n",
       "</g>\r\n",
       "<!-- 36 -->\r\n",
       "<g id=\"node14\" class=\"node\">\r\n",
       "<title>36</title>\r\n",
       "<polygon fill=\"none\" stroke=\"black\" points=\"406,-415.5 406,-460.5 513,-460.5 513,-415.5 406,-415.5\"/>\r\n",
       "<text text-anchor=\"start\" x=\"444\" y=\"-448\" font-family=\"Times New Roman,serif\" font-size=\"10.00\" fill=\"dimgrey\">[22, 20]</text>\r\n",
       "<text text-anchor=\"start\" x=\"414.5\" y=\"-433.8\" font-family=\"Times New Roman,serif\" font-size=\"14.00\">exercise angina?</text>\r\n",
       "<text text-anchor=\"start\" x=\"481.5\" y=\"-422\" font-family=\"Times New Roman,serif\" font-size=\"10.00\" fill=\"dimgrey\">Nr.36</text>\r\n",
       "</g>\r\n",
       "<!-- 35&#45;&gt;36 -->\r\n",
       "<g id=\"edge14\" class=\"edge\">\r\n",
       "<title>35&#45;&gt;36</title>\r\n",
       "<path fill=\"none\" stroke=\"black\" d=\"M482.28,-515.31C479.51,-509.46 476.7,-503.07 474.5,-497 471.41,-488.5 468.69,-479.08 466.45,-470.35\"/>\r\n",
       "<polygon fill=\"black\" stroke=\"black\" points=\"469.81,-469.39 464.03,-460.51 463.02,-471.05 469.81,-469.39\"/>\r\n",
       "<g id=\"a_edge14&#45;label\"><a xlink:title=\"0.0\">\r\n",
       "<text text-anchor=\"middle\" x=\"487\" y=\"-485.8\" font-family=\"Times New Roman,serif\" font-size=\"14.00\">≤0.0</text>\r\n",
       "</a>\r\n",
       "</g>\r\n",
       "</g>\r\n",
       "<!-- 59 -->\r\n",
       "<g id=\"node17\" class=\"node\">\r\n",
       "<title>59</title>\r\n",
       "<polygon fill=\"none\" stroke=\"black\" points=\"531.5,-415.5 531.5,-460.5 667.5,-460.5 667.5,-415.5 531.5,-415.5\"/>\r\n",
       "<text text-anchor=\"start\" x=\"586\" y=\"-448\" font-family=\"Times New Roman,serif\" font-size=\"10.00\" fill=\"dimgrey\">[2, 47]</text>\r\n",
       "<text text-anchor=\"start\" x=\"539.5\" y=\"-433.8\" font-family=\"Times New Roman,serif\" font-size=\"14.00\">rest blood pressure d?</text>\r\n",
       "<text text-anchor=\"start\" x=\"635.5\" y=\"-422\" font-family=\"Times New Roman,serif\" font-size=\"10.00\" fill=\"dimgrey\">Nr.59</text>\r\n",
       "</g>\r\n",
       "<!-- 35&#45;&gt;59 -->\r\n",
       "<g id=\"edge21\" class=\"edge\">\r\n",
       "<title>35&#45;&gt;59</title>\r\n",
       "<path fill=\"none\" stroke=\"black\" d=\"M516.76,-515.49C531.85,-501.55 551.68,-483.21 568.15,-467.99\"/>\r\n",
       "<polygon fill=\"black\" stroke=\"black\" points=\"570.96,-470.15 575.93,-460.8 566.21,-465.01 570.96,-470.15\"/>\r\n",
       "<g id=\"a_edge21&#45;label\"><a xlink:title=\"0.0\">\r\n",
       "<text text-anchor=\"middle\" x=\"566.5\" y=\"-485.8\" font-family=\"Times New Roman,serif\" font-size=\"14.00\">&gt;0.0</text>\r\n",
       "</a>\r\n",
       "</g>\r\n",
       "</g>\r\n",
       "<!-- 37 -->\r\n",
       "<g id=\"node15\" class=\"node\">\r\n",
       "<title>37</title>\r\n",
       "<polygon fill=\"yellow\" stroke=\"yellow\" points=\"423.5,-309.5 423.5,-360.5 477.5,-360.5 477.5,-309.5 423.5,-309.5\"/>\r\n",
       "<text text-anchor=\"start\" x=\"437.5\" y=\"-347\" font-family=\"Times New Roman,serif\" font-size=\"10.00\" fill=\"dimgrey\">[16, 6]</text>\r\n",
       "<text text-anchor=\"start\" x=\"436.5\" y=\"-330.8\" font-family=\"Times New Roman,serif\" font-size=\"14.00\">False</text>\r\n",
       "<text text-anchor=\"start\" x=\"441.5\" y=\"-317\" font-family=\"Times New Roman,serif\" font-size=\"10.00\" fill=\"dimgrey\">Nr.37</text>\r\n",
       "</g>\r\n",
       "<!-- 36&#45;&gt;37 -->\r\n",
       "<g id=\"edge12\" class=\"edge\">\r\n",
       "<title>36&#45;&gt;37</title>\r\n",
       "<path fill=\"none\" stroke=\"black\" d=\"M457.55,-415.08C456.4,-402.2 454.92,-385.61 453.62,-370.96\"/>\r\n",
       "<polygon fill=\"black\" stroke=\"black\" points=\"457.08,-370.36 452.7,-360.71 450.1,-370.98 457.08,-370.36\"/>\r\n",
       "<g id=\"a_edge12&#45;label\"><a xlink:title=\"0.0\">\r\n",
       "<text text-anchor=\"middle\" x=\"469\" y=\"-382.8\" font-family=\"Times New Roman,serif\" font-size=\"14.00\">≤0.0</text>\r\n",
       "</a>\r\n",
       "</g>\r\n",
       "</g>\r\n",
       "<!-- 50 -->\r\n",
       "<g id=\"node16\" class=\"node\">\r\n",
       "<title>50</title>\r\n",
       "<polygon fill=\"yellow\" stroke=\"yellow\" points=\"495.5,-309.5 495.5,-360.5 549.5,-360.5 549.5,-309.5 495.5,-309.5\"/>\r\n",
       "<text text-anchor=\"start\" x=\"509.5\" y=\"-347\" font-family=\"Times New Roman,serif\" font-size=\"10.00\" fill=\"dimgrey\">[6, 14]</text>\r\n",
       "<text text-anchor=\"start\" x=\"510\" y=\"-330.8\" font-family=\"Times New Roman,serif\" font-size=\"14.00\">True</text>\r\n",
       "<text text-anchor=\"start\" x=\"512.5\" y=\"-317\" font-family=\"Times New Roman,serif\" font-size=\"10.00\" fill=\"dimgrey\">Nr.50</text>\r\n",
       "</g>\r\n",
       "<!-- 36&#45;&gt;50 -->\r\n",
       "<g id=\"edge13\" class=\"edge\">\r\n",
       "<title>36&#45;&gt;50</title>\r\n",
       "<path fill=\"none\" stroke=\"black\" d=\"M473.17,-415.08C481.52,-401.7 492.36,-384.32 501.75,-369.26\"/>\r\n",
       "<polygon fill=\"black\" stroke=\"black\" points=\"504.76,-371.05 507.09,-360.71 498.82,-367.34 504.76,-371.05\"/>\r\n",
       "<g id=\"a_edge13&#45;label\"><a xlink:title=\"0.0\">\r\n",
       "<text text-anchor=\"middle\" x=\"508.5\" y=\"-382.8\" font-family=\"Times New Roman,serif\" font-size=\"14.00\">&gt;0.0</text>\r\n",
       "</a>\r\n",
       "</g>\r\n",
       "</g>\r\n",
       "<!-- 60 -->\r\n",
       "<g id=\"node18\" class=\"node\">\r\n",
       "<title>60</title>\r\n",
       "<polygon fill=\"yellow\" stroke=\"yellow\" points=\"568.5,-309.5 568.5,-360.5 622.5,-360.5 622.5,-309.5 568.5,-309.5\"/>\r\n",
       "<text text-anchor=\"start\" x=\"585\" y=\"-347\" font-family=\"Times New Roman,serif\" font-size=\"10.00\" fill=\"dimgrey\">[1, 0]</text>\r\n",
       "<text text-anchor=\"start\" x=\"581.5\" y=\"-330.8\" font-family=\"Times New Roman,serif\" font-size=\"14.00\">False</text>\r\n",
       "<text text-anchor=\"start\" x=\"586.5\" y=\"-317\" font-family=\"Times New Roman,serif\" font-size=\"10.00\" fill=\"dimgrey\">Nr.60</text>\r\n",
       "</g>\r\n",
       "<!-- 59&#45;&gt;60 -->\r\n",
       "<g id=\"edge15\" class=\"edge\">\r\n",
       "<title>59&#45;&gt;60</title>\r\n",
       "<path fill=\"none\" stroke=\"black\" d=\"M598.63,-415.08C598.12,-402.2 597.46,-385.61 596.88,-370.96\"/>\r\n",
       "<polygon fill=\"black\" stroke=\"black\" points=\"600.37,-370.57 596.48,-360.71 593.38,-370.84 600.37,-370.57\"/>\r\n",
       "<g id=\"a_edge15&#45;label\"><a xlink:title=\"60.0\">\r\n",
       "<text text-anchor=\"middle\" x=\"614.5\" y=\"-382.8\" font-family=\"Times New Roman,serif\" font-size=\"14.00\">≤60.0</text>\r\n",
       "</a>\r\n",
       "</g>\r\n",
       "</g>\r\n",
       "<!-- 61 -->\r\n",
       "<g id=\"node19\" class=\"node\">\r\n",
       "<title>61</title>\r\n",
       "<polygon fill=\"none\" stroke=\"black\" points=\"640.5,-312.5 640.5,-357.5 722.5,-357.5 722.5,-312.5 640.5,-312.5\"/>\r\n",
       "<text text-anchor=\"start\" x=\"668\" y=\"-345\" font-family=\"Times New Roman,serif\" font-size=\"10.00\" fill=\"dimgrey\">[1, 47]</text>\r\n",
       "<text text-anchor=\"start\" x=\"648.5\" y=\"-330.8\" font-family=\"Times New Roman,serif\" font-size=\"14.00\">cholesterol?</text>\r\n",
       "<text text-anchor=\"start\" x=\"690.5\" y=\"-319\" font-family=\"Times New Roman,serif\" font-size=\"10.00\" fill=\"dimgrey\">Nr.61</text>\r\n",
       "</g>\r\n",
       "<!-- 59&#45;&gt;61 -->\r\n",
       "<g id=\"edge20\" class=\"edge\">\r\n",
       "<title>59&#45;&gt;61</title>\r\n",
       "<path fill=\"none\" stroke=\"black\" d=\"M617.31,-415.13C622.83,-408.36 628.92,-400.87 634.5,-394 641.94,-384.83 650.04,-374.85 657.39,-365.78\"/>\r\n",
       "<polygon fill=\"black\" stroke=\"black\" points=\"660.3,-367.74 663.88,-357.77 654.87,-363.33 660.3,-367.74\"/>\r\n",
       "<g id=\"a_edge20&#45;label\"><a xlink:title=\"60.0\">\r\n",
       "<text text-anchor=\"middle\" x=\"663\" y=\"-382.8\" font-family=\"Times New Roman,serif\" font-size=\"14.00\">&gt;60.0</text>\r\n",
       "</a>\r\n",
       "</g>\r\n",
       "</g>\r\n",
       "<!-- 62 -->\r\n",
       "<g id=\"node20\" class=\"node\">\r\n",
       "<title>62</title>\r\n",
       "<polygon fill=\"yellow\" stroke=\"yellow\" points=\"606.5,-206.5 606.5,-257.5 660.5,-257.5 660.5,-206.5 606.5,-206.5\"/>\r\n",
       "<text text-anchor=\"start\" x=\"620.5\" y=\"-244\" font-family=\"Times New Roman,serif\" font-size=\"10.00\" fill=\"dimgrey\">[0, 41]</text>\r\n",
       "<text text-anchor=\"start\" x=\"621\" y=\"-227.8\" font-family=\"Times New Roman,serif\" font-size=\"14.00\">True</text>\r\n",
       "<text text-anchor=\"start\" x=\"623.5\" y=\"-214\" font-family=\"Times New Roman,serif\" font-size=\"10.00\" fill=\"dimgrey\">Nr.62</text>\r\n",
       "</g>\r\n",
       "<!-- 61&#45;&gt;62 -->\r\n",
       "<g id=\"edge16\" class=\"edge\">\r\n",
       "<title>61&#45;&gt;62</title>\r\n",
       "<path fill=\"none\" stroke=\"black\" d=\"M671.08,-312.08C664.84,-298.95 656.77,-281.97 649.71,-267.11\"/>\r\n",
       "<polygon fill=\"black\" stroke=\"black\" points=\"652.7,-265.24 645.24,-257.71 646.38,-268.25 652.7,-265.24\"/>\r\n",
       "<g id=\"a_edge16&#45;label\"><a xlink:title=\"300\">\r\n",
       "<text text-anchor=\"middle\" x=\"674.5\" y=\"-279.8\" font-family=\"Times New Roman,serif\" font-size=\"14.00\">≤300</text>\r\n",
       "</a>\r\n",
       "</g>\r\n",
       "</g>\r\n",
       "<!-- 63 -->\r\n",
       "<g id=\"node21\" class=\"node\">\r\n",
       "<title>63</title>\r\n",
       "<polygon fill=\"none\" stroke=\"black\" points=\"678.5,-209.5 678.5,-254.5 866.5,-254.5 866.5,-209.5 678.5,-209.5\"/>\r\n",
       "<text text-anchor=\"start\" x=\"761.5\" y=\"-242\" font-family=\"Times New Roman,serif\" font-size=\"10.00\" fill=\"dimgrey\">[1, 6]</text>\r\n",
       "<text text-anchor=\"start\" x=\"686.5\" y=\"-227.8\" font-family=\"Times New Roman,serif\" font-size=\"14.00\">peak exercise blood pressure s?</text>\r\n",
       "<text text-anchor=\"start\" x=\"834.5\" y=\"-216\" font-family=\"Times New Roman,serif\" font-size=\"10.00\" fill=\"dimgrey\">Nr.63</text>\r\n",
       "</g>\r\n",
       "<!-- 61&#45;&gt;63 -->\r\n",
       "<g id=\"edge19\" class=\"edge\">\r\n",
       "<title>61&#45;&gt;63</title>\r\n",
       "<path fill=\"none\" stroke=\"black\" d=\"M701.25,-312.08C714.45,-297.43 731.98,-277.98 746.34,-262.03\"/>\r\n",
       "<polygon fill=\"black\" stroke=\"black\" points=\"749.01,-264.3 753.11,-254.53 743.81,-259.61 749.01,-264.3\"/>\r\n",
       "<g id=\"a_edge19&#45;label\"><a xlink:title=\"300\">\r\n",
       "<text text-anchor=\"middle\" x=\"747\" y=\"-279.8\" font-family=\"Times New Roman,serif\" font-size=\"14.00\">&gt;300</text>\r\n",
       "</a>\r\n",
       "</g>\r\n",
       "</g>\r\n",
       "<!-- 64 -->\r\n",
       "<g id=\"node22\" class=\"node\">\r\n",
       "<title>64</title>\r\n",
       "<polygon fill=\"yellow\" stroke=\"yellow\" points=\"709.5,-103.5 709.5,-154.5 763.5,-154.5 763.5,-103.5 709.5,-103.5\"/>\r\n",
       "<text text-anchor=\"start\" x=\"725.5\" y=\"-141\" font-family=\"Times New Roman,serif\" font-size=\"10.00\" fill=\"dimgrey\">[0, 5]</text>\r\n",
       "<text text-anchor=\"start\" x=\"723.5\" y=\"-124.8\" font-family=\"Times New Roman,serif\" font-size=\"14.00\">True</text>\r\n",
       "<text text-anchor=\"start\" x=\"725.5\" y=\"-111\" font-family=\"Times New Roman,serif\" font-size=\"10.00\" fill=\"dimgrey\">Nr.64</text>\r\n",
       "</g>\r\n",
       "<!-- 63&#45;&gt;64 -->\r\n",
       "<g id=\"edge17\" class=\"edge\">\r\n",
       "<title>63&#45;&gt;64</title>\r\n",
       "<path fill=\"none\" stroke=\"black\" d=\"M764.69,-209.08C760.05,-196.07 754.07,-179.29 748.81,-164.53\"/>\r\n",
       "<polygon fill=\"black\" stroke=\"black\" points=\"751.96,-162.96 745.31,-154.71 745.37,-165.31 751.96,-162.96\"/>\r\n",
       "<g id=\"a_edge17&#45;label\"><a xlink:title=\"165\">\r\n",
       "<text text-anchor=\"middle\" x=\"770.5\" y=\"-176.8\" font-family=\"Times New Roman,serif\" font-size=\"14.00\">≤165</text>\r\n",
       "</a>\r\n",
       "</g>\r\n",
       "</g>\r\n",
       "<!-- 65 -->\r\n",
       "<g id=\"node23\" class=\"node\">\r\n",
       "<title>65</title>\r\n",
       "<polygon fill=\"yellow\" stroke=\"yellow\" points=\"781.5,-103.5 781.5,-154.5 835.5,-154.5 835.5,-103.5 781.5,-103.5\"/>\r\n",
       "<text text-anchor=\"start\" x=\"798\" y=\"-141\" font-family=\"Times New Roman,serif\" font-size=\"10.00\" fill=\"dimgrey\">[1, 1]</text>\r\n",
       "<text text-anchor=\"start\" x=\"794.5\" y=\"-124.8\" font-family=\"Times New Roman,serif\" font-size=\"14.00\">False</text>\r\n",
       "<text text-anchor=\"start\" x=\"799.5\" y=\"-111\" font-family=\"Times New Roman,serif\" font-size=\"10.00\" fill=\"dimgrey\">Nr.65</text>\r\n",
       "</g>\r\n",
       "<!-- 63&#45;&gt;65 -->\r\n",
       "<g id=\"edge18\" class=\"edge\">\r\n",
       "<title>63&#45;&gt;65</title>\r\n",
       "<path fill=\"none\" stroke=\"black\" d=\"M780.31,-209.08C784.95,-196.07 790.93,-179.29 796.19,-164.53\"/>\r\n",
       "<polygon fill=\"black\" stroke=\"black\" points=\"799.63,-165.31 799.69,-154.71 793.04,-162.96 799.63,-165.31\"/>\r\n",
       "<g id=\"a_edge18&#45;label\"><a xlink:title=\"165\">\r\n",
       "<text text-anchor=\"middle\" x=\"807\" y=\"-176.8\" font-family=\"Times New Roman,serif\" font-size=\"14.00\">&gt;165</text>\r\n",
       "</a>\r\n",
       "</g>\r\n",
       "</g>\r\n",
       "</g>\r\n",
       "</svg>\r\n"
      ],
      "text/plain": [
       "<graphviz.dot.Digraph at 0x252a9c05688>"
      ]
     },
     "execution_count": 70,
     "metadata": {},
     "output_type": "execute_result"
    }
   ],
   "source": [
    "tree5.print_tree()"
   ]
  },
  {
   "cell_type": "code",
   "execution_count": 71,
   "metadata": {},
   "outputs": [
    {
     "data": {
      "text/html": [
       "<div>\n",
       "<style scoped>\n",
       "    .dataframe tbody tr th:only-of-type {\n",
       "        vertical-align: middle;\n",
       "    }\n",
       "\n",
       "    .dataframe tbody tr th {\n",
       "        vertical-align: top;\n",
       "    }\n",
       "\n",
       "    .dataframe thead th {\n",
       "        text-align: right;\n",
       "    }\n",
       "</style>\n",
       "<table border=\"1\" class=\"dataframe\">\n",
       "  <thead>\n",
       "    <tr style=\"text-align: right;\">\n",
       "      <th></th>\n",
       "      <th></th>\n",
       "      <th>age</th>\n",
       "      <th>gender</th>\n",
       "      <th>rest blood pressure s</th>\n",
       "      <th>cholesterol</th>\n",
       "      <th>smoke</th>\n",
       "      <th>cigs a day</th>\n",
       "      <th>years smoking</th>\n",
       "      <th>fasting blood sugar</th>\n",
       "      <th>family history</th>\n",
       "      <th>resting ECG results</th>\n",
       "      <th>max heart rate</th>\n",
       "      <th>rest heart rate</th>\n",
       "      <th>peak exercise blood pressure s</th>\n",
       "      <th>peak exercise blood pressure d</th>\n",
       "      <th>rest blood pressure d</th>\n",
       "      <th>exercise angina</th>\n",
       "      <th>number of major vessels colored by flourosopy</th>\n",
       "    </tr>\n",
       "    <tr>\n",
       "      <th>heart disease</th>\n",
       "      <th>chest pain</th>\n",
       "      <th></th>\n",
       "      <th></th>\n",
       "      <th></th>\n",
       "      <th></th>\n",
       "      <th></th>\n",
       "      <th></th>\n",
       "      <th></th>\n",
       "      <th></th>\n",
       "      <th></th>\n",
       "      <th></th>\n",
       "      <th></th>\n",
       "      <th></th>\n",
       "      <th></th>\n",
       "      <th></th>\n",
       "      <th></th>\n",
       "      <th></th>\n",
       "      <th></th>\n",
       "    </tr>\n",
       "  </thead>\n",
       "  <tbody>\n",
       "    <tr>\n",
       "      <th rowspan=\"4\" valign=\"top\">False</th>\n",
       "      <th>1</th>\n",
       "      <td>16</td>\n",
       "      <td>16</td>\n",
       "      <td>16</td>\n",
       "      <td>16</td>\n",
       "      <td>16</td>\n",
       "      <td>14</td>\n",
       "      <td>15</td>\n",
       "      <td>16</td>\n",
       "      <td>16</td>\n",
       "      <td>16</td>\n",
       "      <td>16</td>\n",
       "      <td>16</td>\n",
       "      <td>16</td>\n",
       "      <td>16</td>\n",
       "      <td>16</td>\n",
       "      <td>16</td>\n",
       "      <td>16</td>\n",
       "    </tr>\n",
       "    <tr>\n",
       "      <th>2</th>\n",
       "      <td>35</td>\n",
       "      <td>35</td>\n",
       "      <td>35</td>\n",
       "      <td>35</td>\n",
       "      <td>35</td>\n",
       "      <td>35</td>\n",
       "      <td>35</td>\n",
       "      <td>35</td>\n",
       "      <td>35</td>\n",
       "      <td>35</td>\n",
       "      <td>35</td>\n",
       "      <td>35</td>\n",
       "      <td>35</td>\n",
       "      <td>35</td>\n",
       "      <td>35</td>\n",
       "      <td>35</td>\n",
       "      <td>35</td>\n",
       "    </tr>\n",
       "    <tr>\n",
       "      <th>3</th>\n",
       "      <td>67</td>\n",
       "      <td>67</td>\n",
       "      <td>67</td>\n",
       "      <td>67</td>\n",
       "      <td>67</td>\n",
       "      <td>67</td>\n",
       "      <td>66</td>\n",
       "      <td>67</td>\n",
       "      <td>67</td>\n",
       "      <td>67</td>\n",
       "      <td>67</td>\n",
       "      <td>67</td>\n",
       "      <td>67</td>\n",
       "      <td>67</td>\n",
       "      <td>67</td>\n",
       "      <td>67</td>\n",
       "      <td>66</td>\n",
       "    </tr>\n",
       "    <tr>\n",
       "      <th>4</th>\n",
       "      <td>39</td>\n",
       "      <td>39</td>\n",
       "      <td>39</td>\n",
       "      <td>39</td>\n",
       "      <td>39</td>\n",
       "      <td>38</td>\n",
       "      <td>38</td>\n",
       "      <td>39</td>\n",
       "      <td>39</td>\n",
       "      <td>39</td>\n",
       "      <td>39</td>\n",
       "      <td>39</td>\n",
       "      <td>39</td>\n",
       "      <td>39</td>\n",
       "      <td>39</td>\n",
       "      <td>39</td>\n",
       "      <td>39</td>\n",
       "    </tr>\n",
       "    <tr>\n",
       "      <th rowspan=\"4\" valign=\"top\">True</th>\n",
       "      <th>1</th>\n",
       "      <td>6</td>\n",
       "      <td>6</td>\n",
       "      <td>6</td>\n",
       "      <td>6</td>\n",
       "      <td>6</td>\n",
       "      <td>6</td>\n",
       "      <td>6</td>\n",
       "      <td>6</td>\n",
       "      <td>6</td>\n",
       "      <td>6</td>\n",
       "      <td>6</td>\n",
       "      <td>6</td>\n",
       "      <td>6</td>\n",
       "      <td>6</td>\n",
       "      <td>6</td>\n",
       "      <td>6</td>\n",
       "      <td>6</td>\n",
       "    </tr>\n",
       "    <tr>\n",
       "      <th>2</th>\n",
       "      <td>8</td>\n",
       "      <td>8</td>\n",
       "      <td>8</td>\n",
       "      <td>8</td>\n",
       "      <td>8</td>\n",
       "      <td>8</td>\n",
       "      <td>8</td>\n",
       "      <td>8</td>\n",
       "      <td>8</td>\n",
       "      <td>8</td>\n",
       "      <td>8</td>\n",
       "      <td>8</td>\n",
       "      <td>8</td>\n",
       "      <td>8</td>\n",
       "      <td>8</td>\n",
       "      <td>8</td>\n",
       "      <td>8</td>\n",
       "    </tr>\n",
       "    <tr>\n",
       "      <th>3</th>\n",
       "      <td>17</td>\n",
       "      <td>17</td>\n",
       "      <td>17</td>\n",
       "      <td>17</td>\n",
       "      <td>17</td>\n",
       "      <td>16</td>\n",
       "      <td>16</td>\n",
       "      <td>17</td>\n",
       "      <td>17</td>\n",
       "      <td>17</td>\n",
       "      <td>17</td>\n",
       "      <td>17</td>\n",
       "      <td>17</td>\n",
       "      <td>17</td>\n",
       "      <td>17</td>\n",
       "      <td>17</td>\n",
       "      <td>17</td>\n",
       "    </tr>\n",
       "    <tr>\n",
       "      <th>4</th>\n",
       "      <td>94</td>\n",
       "      <td>94</td>\n",
       "      <td>94</td>\n",
       "      <td>94</td>\n",
       "      <td>94</td>\n",
       "      <td>93</td>\n",
       "      <td>93</td>\n",
       "      <td>94</td>\n",
       "      <td>94</td>\n",
       "      <td>94</td>\n",
       "      <td>94</td>\n",
       "      <td>94</td>\n",
       "      <td>94</td>\n",
       "      <td>94</td>\n",
       "      <td>94</td>\n",
       "      <td>94</td>\n",
       "      <td>93</td>\n",
       "    </tr>\n",
       "  </tbody>\n",
       "</table>\n",
       "</div>"
      ],
      "text/plain": [
       "                          age  gender  rest blood pressure s  cholesterol  \\\n",
       "heart disease chest pain                                                    \n",
       "False         1            16      16                     16           16   \n",
       "              2            35      35                     35           35   \n",
       "              3            67      67                     67           67   \n",
       "              4            39      39                     39           39   \n",
       "True          1             6       6                      6            6   \n",
       "              2             8       8                      8            8   \n",
       "              3            17      17                     17           17   \n",
       "              4            94      94                     94           94   \n",
       "\n",
       "                          smoke  cigs a day  years smoking  \\\n",
       "heart disease chest pain                                     \n",
       "False         1              16          14             15   \n",
       "              2              35          35             35   \n",
       "              3              67          67             66   \n",
       "              4              39          38             38   \n",
       "True          1               6           6              6   \n",
       "              2               8           8              8   \n",
       "              3              17          16             16   \n",
       "              4              94          93             93   \n",
       "\n",
       "                          fasting blood sugar  family history  \\\n",
       "heart disease chest pain                                        \n",
       "False         1                            16              16   \n",
       "              2                            35              35   \n",
       "              3                            67              67   \n",
       "              4                            39              39   \n",
       "True          1                             6               6   \n",
       "              2                             8               8   \n",
       "              3                            17              17   \n",
       "              4                            94              94   \n",
       "\n",
       "                          resting ECG results  max heart rate  \\\n",
       "heart disease chest pain                                        \n",
       "False         1                            16              16   \n",
       "              2                            35              35   \n",
       "              3                            67              67   \n",
       "              4                            39              39   \n",
       "True          1                             6               6   \n",
       "              2                             8               8   \n",
       "              3                            17              17   \n",
       "              4                            94              94   \n",
       "\n",
       "                          rest heart rate  peak exercise blood pressure s  \\\n",
       "heart disease chest pain                                                    \n",
       "False         1                        16                              16   \n",
       "              2                        35                              35   \n",
       "              3                        67                              67   \n",
       "              4                        39                              39   \n",
       "True          1                         6                               6   \n",
       "              2                         8                               8   \n",
       "              3                        17                              17   \n",
       "              4                        94                              94   \n",
       "\n",
       "                          peak exercise blood pressure d  \\\n",
       "heart disease chest pain                                   \n",
       "False         1                                       16   \n",
       "              2                                       35   \n",
       "              3                                       67   \n",
       "              4                                       39   \n",
       "True          1                                        6   \n",
       "              2                                        8   \n",
       "              3                                       17   \n",
       "              4                                       94   \n",
       "\n",
       "                          rest blood pressure d  exercise angina  \\\n",
       "heart disease chest pain                                           \n",
       "False         1                              16               16   \n",
       "              2                              35               35   \n",
       "              3                              67               67   \n",
       "              4                              39               39   \n",
       "True          1                               6                6   \n",
       "              2                               8                8   \n",
       "              3                              17               17   \n",
       "              4                              94               94   \n",
       "\n",
       "                          number of major vessels colored by flourosopy  \n",
       "heart disease chest pain                                                 \n",
       "False         1                                                      16  \n",
       "              2                                                      35  \n",
       "              3                                                      66  \n",
       "              4                                                      39  \n",
       "True          1                                                       6  \n",
       "              2                                                       8  \n",
       "              3                                                      17  \n",
       "              4                                                      93  "
      ]
     },
     "execution_count": 71,
     "metadata": {},
     "output_type": "execute_result"
    }
   ],
   "source": [
    "df_pr_cleve_red2.groupby(['heart disease','chest pain'], axis=0).count()"
   ]
  },
  {
   "cell_type": "code",
   "execution_count": 74,
   "metadata": {},
   "outputs": [
    {
     "data": {
      "text/plain": [
       "'Tree_heart disease.pdf'"
      ]
     },
     "execution_count": 74,
     "metadata": {},
     "output_type": "execute_result"
    }
   ],
   "source": [
    "tree5.tree_graph.view()"
   ]
  },
  {
   "cell_type": "code",
   "execution_count": 76,
   "metadata": {},
   "outputs": [
    {
     "data": {
      "text/plain": [
       "0.885"
      ]
     },
     "execution_count": 76,
     "metadata": {},
     "output_type": "execute_result"
    }
   ],
   "source": [
    "tree5.prediction_accuracy(df_pr_cleve_red2[:200])"
   ]
  },
  {
   "cell_type": "code",
   "execution_count": 79,
   "metadata": {},
   "outputs": [
    {
     "data": {
      "text/plain": [
       "0.845679012345679"
      ]
     },
     "execution_count": 79,
     "metadata": {},
     "output_type": "execute_result"
    }
   ],
   "source": [
    "tree5.prediction_accuracy(df_pr_cleve_red2[120:])"
   ]
  },
  {
   "cell_type": "code",
   "execution_count": 80,
   "metadata": {},
   "outputs": [
    {
     "name": "stdout",
     "output_type": "stream",
     "text": [
      "Test Node: 24\n",
      "Test Node: 23\n",
      "Test Node: 22\n",
      "Test Node: 18\n",
      "Test Node: 2\n",
      "Test Node: 36\n",
      "Test Node: 63\n",
      "Test Node: 61\n",
      "Test Node: 59\n",
      "Test Node: 35\n",
      "Test Node: 1\n"
     ]
    }
   ],
   "source": [
    "tree5.validation_pruning(df_pr_cleve_red2[200:])"
   ]
  },
  {
   "cell_type": "code",
   "execution_count": null,
   "metadata": {},
   "outputs": [],
   "source": []
  }
 ],
 "metadata": {
  "kernelspec": {
   "display_name": "Python 3 (ipykernel)",
   "language": "python",
   "name": "python3"
  },
  "language_info": {
   "codemirror_mode": {
    "name": "ipython",
    "version": 3
   },
   "file_extension": ".py",
   "mimetype": "text/x-python",
   "name": "python",
   "nbconvert_exporter": "python",
   "pygments_lexer": "ipython3",
   "version": "3.7.13"
  },
  "toc": {
   "base_numbering": 1,
   "nav_menu": {},
   "number_sections": true,
   "sideBar": true,
   "skip_h1_title": false,
   "title_cell": "Table of Contents",
   "title_sidebar": "Contents",
   "toc_cell": false,
   "toc_position": {
    "height": "calc(100% - 180px)",
    "left": "10px",
    "top": "150px",
    "width": "165px"
   },
   "toc_section_display": true,
   "toc_window_display": true
  }
 },
 "nbformat": 4,
 "nbformat_minor": 4
}
